{
 "cells": [
  {
   "cell_type": "markdown",
   "id": "ad80ec84",
   "metadata": {
    "id": "ad80ec84"
   },
   "source": [
    "# DRED Dataset EDA and Preprocessing\n",
    "\n",
    "## EDA\n",
    "\n",
    "Let's perform some EDA to get an idea of this dataset."
   ]
  },
  {
   "cell_type": "code",
   "execution_count": null,
   "id": "aea9f296",
   "metadata": {
    "id": "aea9f296"
   },
   "outputs": [],
   "source": [
    "import numpy as np\n",
    "import pandas as pd\n",
    "import datetime\n",
    "import seaborn as sns\n",
    "import matplotlib.pyplot as plt\n",
    "import torch"
   ]
  },
  {
   "cell_type": "code",
   "execution_count": null,
   "id": "a4cc551c",
   "metadata": {
    "id": "a4cc551c"
   },
   "outputs": [],
   "source": [
    "#TODO: change this back to normal files\n",
    "dataset_folder = \"/content/drive/MyDrive/dred/\"\n",
    "output_folder = \"/content/drive/MyDrive/dred/\"\n",
    "dred_file = \"DRED_Aggregated_data.csv\"\n",
    "dred_appliance_file = \"DRED_Appliance_data.csv\""
   ]
  },
  {
   "cell_type": "code",
   "execution_count": null,
   "id": "XpBJm8uGwp2C",
   "metadata": {
    "colab": {
     "base_uri": "https://localhost:8080/"
    },
    "id": "XpBJm8uGwp2C",
    "outputId": "5590c080-948d-4f31-d011-55be366f4410"
   },
   "outputs": [
    {
     "name": "stdout",
     "output_type": "stream",
     "text": [
      "Mounted at /content/drive\n"
     ]
    }
   ],
   "source": [
    "from google.colab import drive\n",
    "drive.mount('/content/drive')"
   ]
  },
  {
   "cell_type": "markdown",
   "id": "2X_BYxOuxgIB",
   "metadata": {
    "id": "2X_BYxOuxgIB"
   },
   "source": [
    "### Appliance"
   ]
  },
  {
   "cell_type": "code",
   "execution_count": null,
   "id": "-Ks35HNXxh5p",
   "metadata": {
    "id": "-Ks35HNXxh5p"
   },
   "outputs": [],
   "source": [
    "df_app_orig = pd.read_csv(dataset_folder + dred_appliance_file, skiprows = 1)\n",
    "df_app_orig['timestamp'] = df_app_orig['Unnamed: 0'].str.slice(stop=-6)\n",
    "df_app_orig['timestamp'] = pd.to_datetime(df_app_orig['timestamp'], format=\"%Y/%m/%d %H:%M:%S\")\n",
    "df_app_orig = df_app_orig.drop(columns=['Unnamed: 0'])"
   ]
  },
  {
   "cell_type": "code",
   "execution_count": null,
   "id": "jcWxGxEh-xCy",
   "metadata": {
    "colab": {
     "base_uri": "https://localhost:8080/"
    },
    "id": "jcWxGxEh-xCy",
    "outputId": "64d2fa08-2142-466d-b7c6-9ca3fdc3fd3e"
   },
   "outputs": [
    {
     "data": {
      "text/plain": [
       "Index(['television', 'fan', 'fridge', 'laptop computer',\n",
       "       'electric heating element', 'oven', 'unknown', 'washing machine',\n",
       "       'microwave', 'toaster', 'sockets', 'cooker', 'timestamp'],\n",
       "      dtype='object')"
      ]
     },
     "execution_count": 53,
     "metadata": {},
     "output_type": "execute_result"
    }
   ],
   "source": [
    "df_app_orig.columns"
   ]
  },
  {
   "cell_type": "code",
   "execution_count": null,
   "id": "6faxFyB2_YLR",
   "metadata": {
    "id": "6faxFyB2_YLR"
   },
   "outputs": [],
   "source": [
    "target_column = 'microwave'"
   ]
  },
  {
   "cell_type": "code",
   "execution_count": null,
   "id": "JU8OX5CsQMLK",
   "metadata": {
    "id": "JU8OX5CsQMLK"
   },
   "outputs": [],
   "source": [
    "df_app = df_app_orig"
   ]
  },
  {
   "cell_type": "code",
   "execution_count": null,
   "id": "45CAh6Yw2WLn",
   "metadata": {
    "id": "45CAh6Yw2WLn"
   },
   "outputs": [],
   "source": [
    "train_range = pd.date_range(start = '2015-07-05', end = '2015-08-08', freq = '1D')\n",
    "test_range = pd.date_range(start = '2015-08-09', end = '2015-08-18', freq = '1D')\n",
    "total_range_1 = pd.date_range(start = '2015-09-01', end = '2015-09-30', freq = '1D')\n",
    "total_range_2 = pd.date_range(start = '2015-07-05', end = '2015-08-18', freq = '1D')\n",
    "df_app['date']= df_app.timestamp.dt.normalize()\n",
    "\n",
    "df_app1 = df_app[df_app.date.isin(total_range_1)]\n",
    "df_app2 = df_app[df_app.date.isin(total_range_2)]"
   ]
  },
  {
   "cell_type": "code",
   "execution_count": null,
   "id": "WcEhm7_Z-aWp",
   "metadata": {
    "id": "WcEhm7_Z-aWp"
   },
   "outputs": [],
   "source": [
    "df_app1 = df_app1[[target_column, 'date', 'timestamp']]\n",
    "df_app2 = df_app2[[target_column, 'date', 'timestamp']]"
   ]
  },
  {
   "cell_type": "code",
   "execution_count": null,
   "id": "enF0l9kAKobP",
   "metadata": {
    "id": "enF0l9kAKobP"
   },
   "outputs": [],
   "source": [
    "df_app1 = df_app1.set_index('timestamp').resample('1s', origin='start').asfreq().reset_index()\n",
    "df_app2 = df_app2.set_index('timestamp').resample('1s', origin='start').asfreq().reset_index()"
   ]
  },
  {
   "cell_type": "code",
   "execution_count": null,
   "id": "VYdMzbMRRtkd",
   "metadata": {
    "id": "VYdMzbMRRtkd"
   },
   "outputs": [],
   "source": [
    "df_app = pd.concat([df_app1, df_app2])"
   ]
  },
  {
   "cell_type": "code",
   "execution_count": null,
   "id": "X5GrvaObCUNz",
   "metadata": {
    "colab": {
     "base_uri": "https://localhost:8080/"
    },
    "id": "X5GrvaObCUNz",
    "outputId": "9f673bc7-f7f5-430b-d17f-0824477b4a4b"
   },
   "outputs": [
    {
     "data": {
      "text/plain": [
       "1.24       5678819\n",
       "0.98        505102\n",
       "1.51        172910\n",
       "25.23        37157\n",
       "2.04          8783\n",
       "19.90         3577\n",
       "25.77         2763\n",
       "19.37         2337\n",
       "25.50         1997\n",
       "26.03         1947\n",
       "20.17         1621\n",
       "2.31          1386\n",
       "19.64         1326\n",
       "19.63         1075\n",
       "19.10         1015\n",
       "25.76          847\n",
       "20.43          609\n",
       "43.62          592\n",
       "43.89          558\n",
       "44.69          542\n",
       "44.16          212\n",
       "18.84          210\n",
       "43.36          196\n",
       "44.42          190\n",
       "64.68          176\n",
       "43.09          148\n",
       "64.41          144\n",
       "20.44          142\n",
       "38.29          113\n",
       "1.78           100\n",
       "42.82           97\n",
       "64.14           81\n",
       "44.96           79\n",
       "44.95           65\n",
       "1423.85         53\n",
       "64.94           49\n",
       "1425.97         38\n",
       "1440.89         36\n",
       "1428.64         35\n",
       "1378.60         35\n",
       "1421.43         34\n",
       "1437.92         34\n",
       "1442.75         33\n",
       "1429.97         33\n",
       "1384.96         32\n",
       "1383.13         32\n",
       "1416.39         31\n",
       "1439.00         24\n",
       "1420.65         21\n",
       "1420.89         21\n",
       "Name: microwave, dtype: int64"
      ]
     },
     "execution_count": 98,
     "metadata": {},
     "output_type": "execute_result"
    }
   ],
   "source": [
    "df_app.microwave.value_counts().iloc[:50]"
   ]
  },
  {
   "cell_type": "code",
   "execution_count": null,
   "id": "hnSvm3tXD1mC",
   "metadata": {
    "colab": {
     "base_uri": "https://localhost:8080/"
    },
    "id": "hnSvm3tXD1mC",
    "outputId": "a57def4a-dfc9-4c0d-d78e-889cf34579e5"
   },
   "outputs": [
    {
     "data": {
      "text/plain": [
       "timestamp     0\n",
       "microwave    22\n",
       "date          0\n",
       "dtype: int64"
      ]
     },
     "execution_count": 99,
     "metadata": {},
     "output_type": "execute_result"
    }
   ],
   "source": [
    "df_app.isna().sum()"
   ]
  },
  {
   "cell_type": "code",
   "execution_count": null,
   "id": "5xDhcT8ICqyl",
   "metadata": {
    "colab": {
     "base_uri": "https://localhost:8080/"
    },
    "id": "5xDhcT8ICqyl",
    "outputId": "b5052132-c08f-4164-8ca9-3c9f5f0b5e07"
   },
   "outputs": [
    {
     "name": "stderr",
     "output_type": "stream",
     "text": [
      "/usr/local/lib/python3.7/dist-packages/ipykernel_launcher.py:2: SettingWithCopyWarning: \n",
      "A value is trying to be set on a copy of a slice from a DataFrame\n",
      "\n",
      "See the caveats in the documentation: https://pandas.pydata.org/pandas-docs/stable/user_guide/indexing.html#returning-a-view-versus-a-copy\n",
      "  \n"
     ]
    }
   ],
   "source": [
    "# Fill nas\n",
    "df_app[target_column][df_app[target_column].isna()] = 1.24"
   ]
  },
  {
   "cell_type": "code",
   "execution_count": null,
   "id": "Krs2kv512XhU",
   "metadata": {
    "colab": {
     "base_uri": "https://localhost:8080/",
     "height": 295
    },
    "id": "Krs2kv512XhU",
    "outputId": "7667353e-be0b-4329-f347-a52779b52a17"
   },
   "outputs": [
    {
     "data": {
      "text/plain": [
       "<matplotlib.axes._subplots.AxesSubplot at 0x7f66367b83d0>"
      ]
     },
     "execution_count": 101,
     "metadata": {},
     "output_type": "execute_result"
    },
    {
     "data": {
      "image/png": "[encoded data removed]",
      "text/plain": [
       "<Figure size 432x288 with 1 Axes>"
      ]
     },
     "metadata": {
      "needs_background": "light"
     },
     "output_type": "display_data"
    }
   ],
   "source": [
    "df_app[target_column].plot()"
   ]
  },
  {
   "cell_type": "code",
   "execution_count": null,
   "id": "B32te8P35pNs",
   "metadata": {
    "colab": {
     "base_uri": "https://localhost:8080/",
     "height": 295
    },
    "id": "B32te8P35pNs",
    "outputId": "82eadc9b-edff-4de8-a8ec-87f5b4b2e748"
   },
   "outputs": [
    {
     "data": {
      "text/plain": [
       "<matplotlib.axes._subplots.AxesSubplot at 0x7f66367ad910>"
      ]
     },
     "execution_count": 102,
     "metadata": {},
     "output_type": "execute_result"
    },
    {
     "data": {
      "image/png": "[encoded data removed]",
      "text/plain": [
       "<Figure size 432x288 with 1 Axes>"
      ]
     },
     "metadata": {
      "needs_background": "light"
     },
     "output_type": "display_data"
    }
   ],
   "source": [
    "df_app[target_column].plot()"
   ]
  },
  {
   "cell_type": "markdown",
   "id": "kelA34TJCuo-",
   "metadata": {
    "id": "kelA34TJCuo-"
   },
   "source": [
    "Microwave is generally over 1000 watts. We use that to determine target column.\n",
    "\n",
    "Let's directly just use $60 \\times 60$ blocks of CNN."
   ]
  },
  {
   "cell_type": "code",
   "execution_count": null,
   "id": "WyvjOPsiG4Ba",
   "metadata": {
    "id": "WyvjOPsiG4Ba"
   },
   "outputs": [],
   "source": [
    "df_app = df_app.set_index('timestamp')"
   ]
  },
  {
   "cell_type": "code",
   "execution_count": null,
   "id": "mFZWoocPHwk1",
   "metadata": {
    "colab": {
     "base_uri": "https://localhost:8080/",
     "height": 455
    },
    "id": "mFZWoocPHwk1",
    "outputId": "26735e49-834c-4200-c95a-495b45c4de6d"
   },
   "outputs": [
    {
     "data": {
      "text/html": [
       "\n",
       "  <div id=\"df-3de7e4eb-02e9-4bf3-abc7-32ca908e9056\">\n",
       "    <div class=\"colab-df-container\">\n",
       "      <div>\n",
       "<style scoped>\n",
       "    .dataframe tbody tr th:only-of-type {\n",
       "        vertical-align: middle;\n",
       "    }\n",
       "\n",
       "    .dataframe tbody tr th {\n",
       "        vertical-align: top;\n",
       "    }\n",
       "\n",
       "    .dataframe thead th {\n",
       "        text-align: right;\n",
       "    }\n",
       "</style>\n",
       "<table border=\"1\" class=\"dataframe\">\n",
       "  <thead>\n",
       "    <tr style=\"text-align: right;\">\n",
       "      <th></th>\n",
       "      <th>microwave</th>\n",
       "      <th>date</th>\n",
       "    </tr>\n",
       "    <tr>\n",
       "      <th>timestamp</th>\n",
       "      <th></th>\n",
       "      <th></th>\n",
       "    </tr>\n",
       "  </thead>\n",
       "  <tbody>\n",
       "    <tr>\n",
       "      <th>2015-09-01 00:00:00</th>\n",
       "      <td>1.24</td>\n",
       "      <td>2015-09-01</td>\n",
       "    </tr>\n",
       "    <tr>\n",
       "      <th>2015-09-01 00:00:01</th>\n",
       "      <td>1.24</td>\n",
       "      <td>2015-09-01</td>\n",
       "    </tr>\n",
       "    <tr>\n",
       "      <th>2015-09-01 00:00:02</th>\n",
       "      <td>1.24</td>\n",
       "      <td>2015-09-01</td>\n",
       "    </tr>\n",
       "    <tr>\n",
       "      <th>2015-09-01 00:00:03</th>\n",
       "      <td>1.24</td>\n",
       "      <td>2015-09-01</td>\n",
       "    </tr>\n",
       "    <tr>\n",
       "      <th>2015-09-01 00:00:04</th>\n",
       "      <td>1.24</td>\n",
       "      <td>2015-09-01</td>\n",
       "    </tr>\n",
       "    <tr>\n",
       "      <th>...</th>\n",
       "      <td>...</td>\n",
       "      <td>...</td>\n",
       "    </tr>\n",
       "    <tr>\n",
       "      <th>2015-08-18 23:59:55</th>\n",
       "      <td>1.24</td>\n",
       "      <td>2015-08-18</td>\n",
       "    </tr>\n",
       "    <tr>\n",
       "      <th>2015-08-18 23:59:56</th>\n",
       "      <td>1.24</td>\n",
       "      <td>2015-08-18</td>\n",
       "    </tr>\n",
       "    <tr>\n",
       "      <th>2015-08-18 23:59:57</th>\n",
       "      <td>1.24</td>\n",
       "      <td>2015-08-18</td>\n",
       "    </tr>\n",
       "    <tr>\n",
       "      <th>2015-08-18 23:59:58</th>\n",
       "      <td>1.24</td>\n",
       "      <td>2015-08-18</td>\n",
       "    </tr>\n",
       "    <tr>\n",
       "      <th>2015-08-18 23:59:59</th>\n",
       "      <td>1.24</td>\n",
       "      <td>2015-08-18</td>\n",
       "    </tr>\n",
       "  </tbody>\n",
       "</table>\n",
       "<p>6480000 rows × 2 columns</p>\n",
       "</div>\n",
       "      <button class=\"colab-df-convert\" onclick=\"convertToInteractive('df-3de7e4eb-02e9-4bf3-abc7-32ca908e9056')\"\n",
       "              title=\"Convert this dataframe to an interactive table.\"\n",
       "              style=\"display:none;\">\n",
       "        \n",
       "  <svg xmlns=\"http://www.w3.org/2000/svg\" height=\"24px\"viewBox=\"0 0 24 24\"\n",
       "       width=\"24px\">\n",
       "    <path d=\"M0 0h24v24H0V0z\" fill=\"none\"/>\n",
       "    <path d=\"M18.56 5.44l.94 2.06.94-2.06 2.06-.94-2.06-.94-.94-2.06-.94 2.06-2.06.94zm-11 1L8.5 8.5l.94-2.06 2.06-.94-2.06-.94L8.5 2.5l-.94 2.06-2.06.94zm10 10l.94 2.06.94-2.06 2.06-.94-2.06-.94-.94-2.06-.94 2.06-2.06.94z\"/><path d=\"M17.41 7.96l-1.37-1.37c-.4-.4-.92-.59-1.43-.59-.52 0-1.04.2-1.43.59L10.3 9.45l-7.72 7.72c-.78.78-.78 2.05 0 2.83L4 21.41c.39.39.9.59 1.41.59.51 0 1.02-.2 1.41-.59l7.78-7.78 2.81-2.81c.8-.78.8-2.07 0-2.86zM5.41 20L4 18.59l7.72-7.72 1.47 1.35L5.41 20z\"/>\n",
       "  </svg>\n",
       "      </button>\n",
       "      \n",
       "  <style>\n",
       "    .colab-df-container {\n",
       "      display:flex;\n",
       "      flex-wrap:wrap;\n",
       "      gap: 12px;\n",
       "    }\n",
       "\n",
       "    .colab-df-convert {\n",
       "      background-color: #E8F0FE;\n",
       "      border: none;\n",
       "      border-radius: 50%;\n",
       "      cursor: pointer;\n",
       "      display: none;\n",
       "      fill: #1967D2;\n",
       "      height: 32px;\n",
       "      padding: 0 0 0 0;\n",
       "      width: 32px;\n",
       "    }\n",
       "\n",
       "    .colab-df-convert:hover {\n",
       "      background-color: #E2EBFA;\n",
       "      box-shadow: 0px 1px 2px rgba(60, 64, 67, 0.3), 0px 1px 3px 1px rgba(60, 64, 67, 0.15);\n",
       "      fill: #174EA6;\n",
       "    }\n",
       "\n",
       "    [theme=dark] .colab-df-convert {\n",
       "      background-color: #3B4455;\n",
       "      fill: #D2E3FC;\n",
       "    }\n",
       "\n",
       "    [theme=dark] .colab-df-convert:hover {\n",
       "      background-color: #434B5C;\n",
       "      box-shadow: 0px 1px 3px 1px rgba(0, 0, 0, 0.15);\n",
       "      filter: drop-shadow(0px 1px 2px rgba(0, 0, 0, 0.3));\n",
       "      fill: #FFFFFF;\n",
       "    }\n",
       "  </style>\n",
       "\n",
       "      <script>\n",
       "        const buttonEl =\n",
       "          document.querySelector('#df-3de7e4eb-02e9-4bf3-abc7-32ca908e9056 button.colab-df-convert');\n",
       "        buttonEl.style.display =\n",
       "          google.colab.kernel.accessAllowed ? 'block' : 'none';\n",
       "\n",
       "        async function convertToInteractive(key) {\n",
       "          const element = document.querySelector('#df-3de7e4eb-02e9-4bf3-abc7-32ca908e9056');\n",
       "          const dataTable =\n",
       "            await google.colab.kernel.invokeFunction('convertToInteractive',\n",
       "                                                     [key], {});\n",
       "          if (!dataTable) return;\n",
       "\n",
       "          const docLinkHtml = 'Like what you see? Visit the ' +\n",
       "            '<a target=\"_blank\" href=https://colab.research.google.com/notebooks/data_table.ipynb>data table notebook</a>'\n",
       "            + ' to learn more about interactive tables.';\n",
       "          element.innerHTML = '';\n",
       "          dataTable['output_type'] = 'display_data';\n",
       "          await google.colab.output.renderOutput(dataTable, element);\n",
       "          const docLink = document.createElement('div');\n",
       "          docLink.innerHTML = docLinkHtml;\n",
       "          element.appendChild(docLink);\n",
       "        }\n",
       "      </script>\n",
       "    </div>\n",
       "  </div>\n",
       "  "
      ],
      "text/plain": [
       "                     microwave       date\n",
       "timestamp                                \n",
       "2015-09-01 00:00:00       1.24 2015-09-01\n",
       "2015-09-01 00:00:01       1.24 2015-09-01\n",
       "2015-09-01 00:00:02       1.24 2015-09-01\n",
       "2015-09-01 00:00:03       1.24 2015-09-01\n",
       "2015-09-01 00:00:04       1.24 2015-09-01\n",
       "...                        ...        ...\n",
       "2015-08-18 23:59:55       1.24 2015-08-18\n",
       "2015-08-18 23:59:56       1.24 2015-08-18\n",
       "2015-08-18 23:59:57       1.24 2015-08-18\n",
       "2015-08-18 23:59:58       1.24 2015-08-18\n",
       "2015-08-18 23:59:59       1.24 2015-08-18\n",
       "\n",
       "[6480000 rows x 2 columns]"
      ]
     },
     "execution_count": 104,
     "metadata": {},
     "output_type": "execute_result"
    }
   ],
   "source": [
    "df_app"
   ]
  },
  {
   "cell_type": "code",
   "execution_count": null,
   "id": "Qf5oofMfHLXn",
   "metadata": {
    "id": "Qf5oofMfHLXn"
   },
   "outputs": [],
   "source": [
    "microwave_counts_ = df_app.resample('3600S', origin='start').apply(lambda x: sum(x['microwave'] > 1000)) "
   ]
  },
  {
   "cell_type": "code",
   "execution_count": null,
   "id": "hrQa-I5-IFLP",
   "metadata": {
    "colab": {
     "base_uri": "https://localhost:8080/"
    },
    "id": "hrQa-I5-IFLP",
    "outputId": "abcd2ab4-980e-40f0-eeab-c2bed5d7173e"
   },
   "outputs": [
    {
     "data": {
      "text/plain": [
       "timestamp\n",
       "2015-07-05 08:00:00     58\n",
       "2015-07-05 21:00:00     23\n",
       "2015-07-05 22:00:00     64\n",
       "2015-07-06 08:00:00    110\n",
       "2015-07-06 10:00:00     57\n",
       "                      ... \n",
       "2015-09-27 21:00:00     18\n",
       "2015-09-28 07:00:00    126\n",
       "2015-09-28 08:00:00     36\n",
       "2015-09-29 13:00:00     16\n",
       "2015-09-30 09:00:00     45\n",
       "Length: 170, dtype: int64"
      ]
     },
     "execution_count": 106,
     "metadata": {},
     "output_type": "execute_result"
    }
   ],
   "source": [
    "microwave_counts_[microwave_counts_ > 10] # more than 10 seconds of microwave being on"
   ]
  },
  {
   "cell_type": "code",
   "execution_count": null,
   "id": "kwOiP07ZOm5M",
   "metadata": {
    "id": "kwOiP07ZOm5M"
   },
   "outputs": [],
   "source": [
    "target = torch.tensor(np.where(microwave_counts_>= 10, 1, 0))"
   ]
  },
  {
   "cell_type": "markdown",
   "id": "rwQTPUVxKJ-2",
   "metadata": {
    "id": "rwQTPUVxKJ-2"
   },
   "source": [
    "### Time to Get Actual Dataset"
   ]
  },
  {
   "cell_type": "code",
   "execution_count": null,
   "id": "8o-yDixbKI-z",
   "metadata": {
    "colab": {
     "base_uri": "https://localhost:8080/"
    },
    "id": "8o-yDixbKI-z",
    "outputId": "fbc05e5b-152d-4ca3-b2dc-fe2e82a8d482"
   },
   "outputs": [
    {
     "name": "stderr",
     "output_type": "stream",
     "text": [
      "/usr/local/lib/python3.7/dist-packages/IPython/core/interactiveshell.py:3326: DtypeWarning: Columns (1) have mixed types.Specify dtype option on import or set low_memory=False.\n",
      "  exec(code_obj, self.user_global_ns, self.user_ns)\n"
     ]
    }
   ],
   "source": [
    "df_dred = pd.read_csv(dataset_folder + dred_file)\n",
    "df_dred = df_dred[2:]\n",
    "df_dred.columns = ['timestamp', 'Mains']\n",
    "df_dred.timestamp = df_dred.timestamp.str.slice(stop=-6)\n",
    "df_dred['timestamp'] = pd.to_datetime(df_dred['timestamp'], format=\"%Y/%m/%d %H:%M:%S\")"
   ]
  },
  {
   "cell_type": "code",
   "execution_count": null,
   "id": "jJZx-M_nKMgD",
   "metadata": {
    "id": "jJZx-M_nKMgD"
   },
   "outputs": [],
   "source": [
    "df_dred = df_dred.set_index('timestamp').resample('1s', origin='start').asfreq().reset_index()"
   ]
  },
  {
   "cell_type": "code",
   "execution_count": null,
   "id": "KACE8bscK7bw",
   "metadata": {
    "id": "KACE8bscK7bw"
   },
   "outputs": [],
   "source": [
    "df_dred['date']= df_dred.timestamp.dt.normalize()\n",
    "df_dred = df_dred[df_dred.date.isin(total_range_1) | df_dred.date.isin(total_range_2)]"
   ]
  },
  {
   "cell_type": "code",
   "execution_count": null,
   "id": "4440801e",
   "metadata": {
    "id": "4440801e"
   },
   "outputs": [],
   "source": [
    "df_dred['kwh'] = pd.to_numeric(df_dred.Mains) / 1000\n",
    "df_dred = df_dred.drop(columns='Mains')"
   ]
  },
  {
   "cell_type": "code",
   "execution_count": null,
   "id": "dNl4c4coLkMk",
   "metadata": {
    "colab": {
     "base_uri": "https://localhost:8080/",
     "height": 423
    },
    "id": "dNl4c4coLkMk",
    "outputId": "057c59ff-a02f-482a-9146-d076a858499a"
   },
   "outputs": [
    {
     "data": {
      "text/html": [
       "\n",
       "  <div id=\"df-f0a71c5d-a9da-405c-81e1-15ff0f6035da\">\n",
       "    <div class=\"colab-df-container\">\n",
       "      <div>\n",
       "<style scoped>\n",
       "    .dataframe tbody tr th:only-of-type {\n",
       "        vertical-align: middle;\n",
       "    }\n",
       "\n",
       "    .dataframe tbody tr th {\n",
       "        vertical-align: top;\n",
       "    }\n",
       "\n",
       "    .dataframe thead th {\n",
       "        text-align: right;\n",
       "    }\n",
       "</style>\n",
       "<table border=\"1\" class=\"dataframe\">\n",
       "  <thead>\n",
       "    <tr style=\"text-align: right;\">\n",
       "      <th></th>\n",
       "      <th>timestamp</th>\n",
       "      <th>date</th>\n",
       "      <th>kwh</th>\n",
       "    </tr>\n",
       "  </thead>\n",
       "  <tbody>\n",
       "    <tr>\n",
       "      <th>0</th>\n",
       "      <td>2015-07-05 00:00:00</td>\n",
       "      <td>2015-07-05</td>\n",
       "      <td>NaN</td>\n",
       "    </tr>\n",
       "    <tr>\n",
       "      <th>1</th>\n",
       "      <td>2015-07-05 00:00:01</td>\n",
       "      <td>2015-07-05</td>\n",
       "      <td>NaN</td>\n",
       "    </tr>\n",
       "    <tr>\n",
       "      <th>2</th>\n",
       "      <td>2015-07-05 00:00:02</td>\n",
       "      <td>2015-07-05</td>\n",
       "      <td>NaN</td>\n",
       "    </tr>\n",
       "    <tr>\n",
       "      <th>3</th>\n",
       "      <td>2015-07-05 00:00:03</td>\n",
       "      <td>2015-07-05</td>\n",
       "      <td>NaN</td>\n",
       "    </tr>\n",
       "    <tr>\n",
       "      <th>4</th>\n",
       "      <td>2015-07-05 00:00:04</td>\n",
       "      <td>2015-07-05</td>\n",
       "      <td>NaN</td>\n",
       "    </tr>\n",
       "    <tr>\n",
       "      <th>...</th>\n",
       "      <td>...</td>\n",
       "      <td>...</td>\n",
       "      <td>...</td>\n",
       "    </tr>\n",
       "    <tr>\n",
       "      <th>7603195</th>\n",
       "      <td>2015-09-30 23:59:55</td>\n",
       "      <td>2015-09-30</td>\n",
       "      <td>0.1244</td>\n",
       "    </tr>\n",
       "    <tr>\n",
       "      <th>7603196</th>\n",
       "      <td>2015-09-30 23:59:56</td>\n",
       "      <td>2015-09-30</td>\n",
       "      <td>0.1247</td>\n",
       "    </tr>\n",
       "    <tr>\n",
       "      <th>7603197</th>\n",
       "      <td>2015-09-30 23:59:57</td>\n",
       "      <td>2015-09-30</td>\n",
       "      <td>0.1250</td>\n",
       "    </tr>\n",
       "    <tr>\n",
       "      <th>7603198</th>\n",
       "      <td>2015-09-30 23:59:58</td>\n",
       "      <td>2015-09-30</td>\n",
       "      <td>0.1251</td>\n",
       "    </tr>\n",
       "    <tr>\n",
       "      <th>7603199</th>\n",
       "      <td>2015-09-30 23:59:59</td>\n",
       "      <td>2015-09-30</td>\n",
       "      <td>0.1252</td>\n",
       "    </tr>\n",
       "  </tbody>\n",
       "</table>\n",
       "<p>6480000 rows × 3 columns</p>\n",
       "</div>\n",
       "      <button class=\"colab-df-convert\" onclick=\"convertToInteractive('df-f0a71c5d-a9da-405c-81e1-15ff0f6035da')\"\n",
       "              title=\"Convert this dataframe to an interactive table.\"\n",
       "              style=\"display:none;\">\n",
       "        \n",
       "  <svg xmlns=\"http://www.w3.org/2000/svg\" height=\"24px\"viewBox=\"0 0 24 24\"\n",
       "       width=\"24px\">\n",
       "    <path d=\"M0 0h24v24H0V0z\" fill=\"none\"/>\n",
       "    <path d=\"M18.56 5.44l.94 2.06.94-2.06 2.06-.94-2.06-.94-.94-2.06-.94 2.06-2.06.94zm-11 1L8.5 8.5l.94-2.06 2.06-.94-2.06-.94L8.5 2.5l-.94 2.06-2.06.94zm10 10l.94 2.06.94-2.06 2.06-.94-2.06-.94-.94-2.06-.94 2.06-2.06.94z\"/><path d=\"M17.41 7.96l-1.37-1.37c-.4-.4-.92-.59-1.43-.59-.52 0-1.04.2-1.43.59L10.3 9.45l-7.72 7.72c-.78.78-.78 2.05 0 2.83L4 21.41c.39.39.9.59 1.41.59.51 0 1.02-.2 1.41-.59l7.78-7.78 2.81-2.81c.8-.78.8-2.07 0-2.86zM5.41 20L4 18.59l7.72-7.72 1.47 1.35L5.41 20z\"/>\n",
       "  </svg>\n",
       "      </button>\n",
       "      \n",
       "  <style>\n",
       "    .colab-df-container {\n",
       "      display:flex;\n",
       "      flex-wrap:wrap;\n",
       "      gap: 12px;\n",
       "    }\n",
       "\n",
       "    .colab-df-convert {\n",
       "      background-color: #E8F0FE;\n",
       "      border: none;\n",
       "      border-radius: 50%;\n",
       "      cursor: pointer;\n",
       "      display: none;\n",
       "      fill: #1967D2;\n",
       "      height: 32px;\n",
       "      padding: 0 0 0 0;\n",
       "      width: 32px;\n",
       "    }\n",
       "\n",
       "    .colab-df-convert:hover {\n",
       "      background-color: #E2EBFA;\n",
       "      box-shadow: 0px 1px 2px rgba(60, 64, 67, 0.3), 0px 1px 3px 1px rgba(60, 64, 67, 0.15);\n",
       "      fill: #174EA6;\n",
       "    }\n",
       "\n",
       "    [theme=dark] .colab-df-convert {\n",
       "      background-color: #3B4455;\n",
       "      fill: #D2E3FC;\n",
       "    }\n",
       "\n",
       "    [theme=dark] .colab-df-convert:hover {\n",
       "      background-color: #434B5C;\n",
       "      box-shadow: 0px 1px 3px 1px rgba(0, 0, 0, 0.15);\n",
       "      filter: drop-shadow(0px 1px 2px rgba(0, 0, 0, 0.3));\n",
       "      fill: #FFFFFF;\n",
       "    }\n",
       "  </style>\n",
       "\n",
       "      <script>\n",
       "        const buttonEl =\n",
       "          document.querySelector('#df-f0a71c5d-a9da-405c-81e1-15ff0f6035da button.colab-df-convert');\n",
       "        buttonEl.style.display =\n",
       "          google.colab.kernel.accessAllowed ? 'block' : 'none';\n",
       "\n",
       "        async function convertToInteractive(key) {\n",
       "          const element = document.querySelector('#df-f0a71c5d-a9da-405c-81e1-15ff0f6035da');\n",
       "          const dataTable =\n",
       "            await google.colab.kernel.invokeFunction('convertToInteractive',\n",
       "                                                     [key], {});\n",
       "          if (!dataTable) return;\n",
       "\n",
       "          const docLinkHtml = 'Like what you see? Visit the ' +\n",
       "            '<a target=\"_blank\" href=https://colab.research.google.com/notebooks/data_table.ipynb>data table notebook</a>'\n",
       "            + ' to learn more about interactive tables.';\n",
       "          element.innerHTML = '';\n",
       "          dataTable['output_type'] = 'display_data';\n",
       "          await google.colab.output.renderOutput(dataTable, element);\n",
       "          const docLink = document.createElement('div');\n",
       "          docLink.innerHTML = docLinkHtml;\n",
       "          element.appendChild(docLink);\n",
       "        }\n",
       "      </script>\n",
       "    </div>\n",
       "  </div>\n",
       "  "
      ],
      "text/plain": [
       "                  timestamp       date     kwh\n",
       "0       2015-07-05 00:00:00 2015-07-05     NaN\n",
       "1       2015-07-05 00:00:01 2015-07-05     NaN\n",
       "2       2015-07-05 00:00:02 2015-07-05     NaN\n",
       "3       2015-07-05 00:00:03 2015-07-05     NaN\n",
       "4       2015-07-05 00:00:04 2015-07-05     NaN\n",
       "...                     ...        ...     ...\n",
       "7603195 2015-09-30 23:59:55 2015-09-30  0.1244\n",
       "7603196 2015-09-30 23:59:56 2015-09-30  0.1247\n",
       "7603197 2015-09-30 23:59:57 2015-09-30  0.1250\n",
       "7603198 2015-09-30 23:59:58 2015-09-30  0.1251\n",
       "7603199 2015-09-30 23:59:59 2015-09-30  0.1252\n",
       "\n",
       "[6480000 rows x 3 columns]"
      ]
     },
     "execution_count": 112,
     "metadata": {},
     "output_type": "execute_result"
    }
   ],
   "source": [
    "df_dred"
   ]
  },
  {
   "cell_type": "code",
   "execution_count": null,
   "id": "t_Swv0_eTkvW",
   "metadata": {
    "colab": {
     "base_uri": "https://localhost:8080/"
    },
    "id": "t_Swv0_eTkvW",
    "outputId": "ac1850f8-5124-4083-b09f-2095e0f06e66"
   },
   "outputs": [
    {
     "data": {
      "text/plain": [
       "Series([], Freq: 60T, dtype: bool)"
      ]
     },
     "execution_count": 113,
     "metadata": {},
     "output_type": "execute_result"
    }
   ],
   "source": [
    "minmax_error_checker = df_dred.set_index('timestamp').resample('60T').apply(lambda x: len(x.kwh.unique()) == 1)\n",
    "minmax_error_checker[minmax_error_checker == True]"
   ]
  },
  {
   "cell_type": "code",
   "execution_count": null,
   "id": "k-FCcclgUAQ1",
   "metadata": {
    "colab": {
     "base_uri": "https://localhost:8080/",
     "height": 302
    },
    "id": "k-FCcclgUAQ1",
    "outputId": "e594ac15-a7ca-4753-96b1-cca36eacde3e"
   },
   "outputs": [
    {
     "data": {
      "text/plain": [
       "<matplotlib.axes._subplots.AxesSubplot at 0x7f66366ab410>"
      ]
     },
     "execution_count": 114,
     "metadata": {},
     "output_type": "execute_result"
    },
    {
     "data": {
      "image/png": "[encoded data removed]",
      "text/plain": [
       "<Figure size 432x288 with 1 Axes>"
      ]
     },
     "metadata": {
      "needs_background": "light"
     },
     "output_type": "display_data"
    }
   ],
   "source": [
    "df_dred.set_index('timestamp').kwh.plot()"
   ]
  },
  {
   "cell_type": "code",
   "execution_count": null,
   "id": "jhebPOMGLIDe",
   "metadata": {
    "id": "jhebPOMGLIDe"
   },
   "outputs": [],
   "source": [
    "df_dred.loc[df_dred.kwh.isna(), 'kwh'] = df_dred.kwh.mode().values[0] # set kwh to mode"
   ]
  },
  {
   "cell_type": "code",
   "execution_count": null,
   "id": "PuE0qslsLIin",
   "metadata": {
    "id": "PuE0qslsLIin"
   },
   "outputs": [],
   "source": [
    "df_dred_tensor = torch.tensor(df_dred.kwh.to_numpy())\n",
    "df_dred_tensor = df_dred_tensor.reshape(-1, 60, 60)"
   ]
  },
  {
   "cell_type": "code",
   "execution_count": null,
   "id": "kATiBINLMgeb",
   "metadata": {
    "colab": {
     "base_uri": "https://localhost:8080/"
    },
    "id": "kATiBINLMgeb",
    "outputId": "36d766c8-060f-409f-e4eb-6c48b28ad97a"
   },
   "outputs": [
    {
     "data": {
      "text/plain": [
       "torch.Size([1800, 60, 60])"
      ]
     },
     "execution_count": 117,
     "metadata": {},
     "output_type": "execute_result"
    }
   ],
   "source": [
    "df_dred_tensor.shape"
   ]
  },
  {
   "cell_type": "markdown",
   "id": "OZjTHTWtRqlN",
   "metadata": {
    "id": "OZjTHTWtRqlN"
   },
   "source": [
    "Remember to **normalize**"
   ]
  },
  {
   "cell_type": "code",
   "execution_count": null,
   "id": "7ta6jUy5Rp1M",
   "metadata": {
    "id": "7ta6jUy5Rp1M"
   },
   "outputs": [],
   "source": [
    "min_meter = torch.amin(df_dred_tensor, dim = (1, 2), keepdim=True)\n",
    "max_meter = torch.amax(df_dred_tensor, dim = (1, 2), keepdim=True)\n",
    "df_dred_tensor = (df_dred_tensor - min_meter) / (max_meter - min_meter)"
   ]
  },
  {
   "cell_type": "code",
   "execution_count": null,
   "id": "Kf7uUq1lSkjg",
   "metadata": {
    "colab": {
     "base_uri": "https://localhost:8080/"
    },
    "id": "Kf7uUq1lSkjg",
    "outputId": "2e8e7283-7cc8-4e16-ba84-139f20bfa2cd"
   },
   "outputs": [
    {
     "data": {
      "text/plain": [
       "tensor(0)"
      ]
     },
     "execution_count": 119,
     "metadata": {},
     "output_type": "execute_result"
    }
   ],
   "source": [
    "df_dred_tensor.isnan().sum()"
   ]
  },
  {
   "cell_type": "markdown",
   "id": "g34flRmFMn4g",
   "metadata": {
    "id": "g34flRmFMn4g"
   },
   "source": [
    "## CREATE COMBINED TENSORS"
   ]
  },
  {
   "cell_type": "code",
   "execution_count": null,
   "id": "8_hifUSzPBzY",
   "metadata": {
    "id": "8_hifUSzPBzY"
   },
   "outputs": [],
   "source": [
    "test_index = np.random.choice(df_dred_tensor.shape[0], int(df_dred_tensor.shape[0]*.25), replace=False)\n",
    "train_index = np.setdiff1d(np.arange(df_dred_tensor.shape[0]), test_index)"
   ]
  },
  {
   "cell_type": "code",
   "execution_count": null,
   "id": "ksQBjUtoPXDj",
   "metadata": {
    "colab": {
     "base_uri": "https://localhost:8080/"
    },
    "id": "ksQBjUtoPXDj",
    "outputId": "8d68ab83-7f38-4ddd-bfc6-2e0dd1de5bf9"
   },
   "outputs": [
    {
     "data": {
      "text/plain": [
       "array([   0,    1,    2, ..., 1796, 1797, 1799])"
      ]
     },
     "execution_count": 126,
     "metadata": {},
     "output_type": "execute_result"
    }
   ],
   "source": [
    "train_index"
   ]
  },
  {
   "cell_type": "code",
   "execution_count": null,
   "id": "d408A-u2Sc4N",
   "metadata": {
    "colab": {
     "base_uri": "https://localhost:8080/"
    },
    "id": "d408A-u2Sc4N",
    "outputId": "8c95133c-8819-4b7f-84ad-26f13cb5b52a"
   },
   "outputs": [
    {
     "data": {
      "text/plain": [
       "tensor(107)"
      ]
     },
     "execution_count": 127,
     "metadata": {},
     "output_type": "execute_result"
    }
   ],
   "source": [
    "target[train_index].sum()"
   ]
  },
  {
   "cell_type": "code",
   "execution_count": null,
   "id": "si_xgfHKPyZ4",
   "metadata": {
    "colab": {
     "base_uri": "https://localhost:8080/"
    },
    "id": "si_xgfHKPyZ4",
    "outputId": "ddca0a92-36fa-4073-cbfb-2da1f7425e70"
   },
   "outputs": [
    {
     "data": {
      "text/plain": [
       "tensor(39)"
      ]
     },
     "execution_count": 128,
     "metadata": {},
     "output_type": "execute_result"
    }
   ],
   "source": [
    "target[test_index].sum()"
   ]
  },
  {
   "cell_type": "code",
   "execution_count": null,
   "id": "T5rxCVTaP4ES",
   "metadata": {
    "id": "T5rxCVTaP4ES"
   },
   "outputs": [],
   "source": [
    "train_combined = [df_dred_tensor[train_index], target[train_index]]\n",
    "test_combined = [df_dred_tensor[test_index], target[test_index]]"
   ]
  },
  {
   "cell_type": "code",
   "execution_count": null,
   "id": "CHshq7vhQNu9",
   "metadata": {
    "id": "CHshq7vhQNu9"
   },
   "outputs": [],
   "source": [
    "torch.save(train_combined, output_folder + 'dred_model_train.pt')\n",
    "torch.save(test_combined, output_folder + 'dred_model_test.pt')"
   ]
  },
  {
   "cell_type": "code",
   "execution_count": null,
   "id": "8JJUodEIQqr7",
   "metadata": {
    "id": "8JJUodEIQqr7"
   },
   "outputs": [],
   "source": []
  }
 ],
 "metadata": {
  "colab": {
   "machine_shape": "hm",
   "provenance": []
  },
  "kernelspec": {
   "display_name": "Python 3 (ipykernel)",
   "language": "python",
   "name": "python3"
  },
  "language_info": {
   "codemirror_mode": {
    "name": "ipython",
    "version": 3
   },
   "file_extension": ".py",
   "mimetype": "text/x-python",
   "name": "python",
   "nbconvert_exporter": "python",
   "pygments_lexer": "ipython3",
   "version": "3.9.12"
  }
 },
 "nbformat": 4,
 "nbformat_minor": 5
}
