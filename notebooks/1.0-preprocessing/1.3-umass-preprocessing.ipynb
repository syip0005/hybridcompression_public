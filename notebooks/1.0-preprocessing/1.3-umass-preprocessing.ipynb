{
 "cells": [
  {
   "cell_type": "markdown",
   "id": "5a04a776",
   "metadata": {},
   "source": [
    "# EDA and Preprocessing, UMASS\n",
    "\n",
    "Author: Scott Yip \\\n",
    "Date: 28 June 2022\n",
    "\n",
    "The abstract and information for this dataset can be accessed [here](https://traces.cs.umass.edu/index.php/smart/smart). In particular, we use teh apartment dataset which contains the energy consumption data for 114 single-family apartments in the period 2014-2016.\n",
    "\n",
    "A dated paper by Barker et al. (2012) explains the original purpose and the method for obtaining such data. The paper can be accessed [here](https://lass.cs.umass.edu/papers/pdf/sustkdd12-smart.pdf). However, the paper does not detail the information regarding the apartment data, rather only the original house data (which we do not utilise).\n",
    "\n",
    "It is worth noting that the power data collected is in Watts (not Kilowatts).\n",
    "\n",
    "\n",
    "## 1. Intro and baseline processing\n",
    "\n",
    "Let's perform some very quick EDA to get an idea of this dataset.\n",
    "\n",
    "Nb: we use the `dask` library instead of `pandas` as we want to avoid out-of-memory computations. `dask` will allow us to perform on-disk processing for larger-than-memory computations (which may occur)."
   ]
  },
  {
   "cell_type": "code",
   "execution_count": 1,
   "id": "7ca9ab52",
   "metadata": {},
   "outputs": [],
   "source": [
    "# Import libraries\n",
    "import numpy as np\n",
    "import pandas as pd\n",
    "import datetime\n",
    "import seaborn as sns\n",
    "import matplotlib.pyplot as plt\n",
    "import os\n",
    "import dask.dataframe as dd"
   ]
  },
  {
   "cell_type": "code",
   "execution_count": 2,
   "id": "bbbff1a0",
   "metadata": {},
   "outputs": [],
   "source": [
    "# Set folder parameters\n",
    "dataset_folder = \"../../dataset/raw/UMASS_apartment/\"\n",
    "output_folder = \"../../dataset/interim/\""
   ]
  },
  {
   "cell_type": "code",
   "execution_count": 3,
   "id": "984da375",
   "metadata": {},
   "outputs": [
    {
     "name": "stdout",
     "output_type": "stream",
     "text": [
      "Number of csv files: 100\n"
     ]
    }
   ],
   "source": [
    "names = [i for i in os.listdir(dataset_folder) if i[-3:] == 'csv']\n",
    "all_files = [dataset_folder + i for i in os.listdir(dataset_folder) if i[-3:] == 'csv']\n",
    "\n",
    "print('Number of csv files: {}'.format(len(all_files)))"
   ]
  },
  {
   "cell_type": "code",
   "execution_count": 4,
   "id": "7370d32b",
   "metadata": {},
   "outputs": [],
   "source": [
    "df = pd.DataFrame()\n",
    "\n",
    "for f, n in zip(all_files, names):\n",
    "    \n",
    "    df_ = pd.read_csv(f, header=None, names=['timestamp', 'kwh'])\n",
    "    df_['house'] = n\n",
    "    \n",
    "    df = pd.concat([df, df_])\n",
    "    "
   ]
  },
  {
   "cell_type": "code",
   "execution_count": 5,
   "id": "75ad4941",
   "metadata": {},
   "outputs": [],
   "source": [
    "df.timestamp = pd.to_datetime(df.timestamp, format = '%Y-%m-%d %H:%M:%S')"
   ]
  },
  {
   "cell_type": "markdown",
   "id": "74993e05",
   "metadata": {},
   "source": [
    "Missing"
   ]
  },
  {
   "cell_type": "code",
   "execution_count": 6,
   "id": "0d23785d",
   "metadata": {},
   "outputs": [
    {
     "data": {
      "text/plain": [
       "0"
      ]
     },
     "execution_count": 6,
     "metadata": {},
     "output_type": "execute_result"
    }
   ],
   "source": [
    "df.kwh.isna().sum()"
   ]
  },
  {
   "cell_type": "markdown",
   "id": "36557996",
   "metadata": {},
   "source": [
    "Check frequency"
   ]
  },
  {
   "cell_type": "code",
   "execution_count": 7,
   "id": "26e0d5b5",
   "metadata": {},
   "outputs": [],
   "source": [
    "# df.groupby('house').diff(periods = 1).timestamp.value_counts()"
   ]
  },
  {
   "cell_type": "markdown",
   "id": "3231539c",
   "metadata": {},
   "source": [
    "Mean duplicates"
   ]
  },
  {
   "cell_type": "code",
   "execution_count": 8,
   "id": "8774689e",
   "metadata": {},
   "outputs": [],
   "source": [
    "df = df.groupby(['timestamp', 'house']).mean().reset_index()"
   ]
  },
  {
   "cell_type": "code",
   "execution_count": 9,
   "id": "4a4d112b",
   "metadata": {},
   "outputs": [],
   "source": [
    "# df.groupby('house').diff(periods = 1).timestamp.value_counts()"
   ]
  },
  {
   "cell_type": "markdown",
   "id": "e41c3f7c",
   "metadata": {},
   "source": [
    "Find freq change:"
   ]
  },
  {
   "cell_type": "code",
   "execution_count": 10,
   "id": "91cabf0e",
   "metadata": {},
   "outputs": [],
   "source": [
    "# change_indexer = df.diff(periods = 1).timestamp == df.diff(periods = 1).timestamp.value_counts().index[-1]\n",
    "# change_indexer = change_indexer[change_indexer].index.values[0]"
   ]
  },
  {
   "cell_type": "code",
   "execution_count": 11,
   "id": "8b4e0547",
   "metadata": {},
   "outputs": [],
   "source": [
    "# df.loc[(change_indexer - 3):(change_indexer + 3)]"
   ]
  },
  {
   "cell_type": "markdown",
   "id": "ddae4c1e",
   "metadata": {},
   "source": [
    "Looks like change is on December 15. Ok. Use Sep 1 to Oct 30."
   ]
  },
  {
   "cell_type": "code",
   "execution_count": 12,
   "id": "ff463349",
   "metadata": {},
   "outputs": [],
   "source": [
    "df['date'] = df.timestamp.dt.normalize()"
   ]
  },
  {
   "cell_type": "code",
   "execution_count": 13,
   "id": "f9c4ed18",
   "metadata": {},
   "outputs": [],
   "source": [
    "keep_date_range = pd.date_range(start = '2015-09-01', end = '2015-10-30', freq = '1D')"
   ]
  },
  {
   "cell_type": "code",
   "execution_count": 14,
   "id": "0a5deb71",
   "metadata": {},
   "outputs": [],
   "source": [
    "def check_all_dates_in_range(subset_df):\n",
    "    return all(keep_date_range.isin(subset_df.date))"
   ]
  },
  {
   "cell_type": "code",
   "execution_count": 15,
   "id": "44e5702c",
   "metadata": {},
   "outputs": [],
   "source": [
    "# check to ensure all dates present as required\n",
    "all_date_consec_checker = df.groupby('house').apply(check_all_dates_in_range)"
   ]
  },
  {
   "cell_type": "code",
   "execution_count": 16,
   "id": "48df3a89",
   "metadata": {},
   "outputs": [
    {
     "data": {
      "text/plain": [
       "100"
      ]
     },
     "execution_count": 16,
     "metadata": {},
     "output_type": "execute_result"
    }
   ],
   "source": [
    "all_date_consec_checker.sum()"
   ]
  },
  {
   "cell_type": "code",
   "execution_count": 17,
   "id": "56ec01ee",
   "metadata": {},
   "outputs": [
    {
     "data": {
      "text/plain": [
       "100"
      ]
     },
     "execution_count": 17,
     "metadata": {},
     "output_type": "execute_result"
    }
   ],
   "source": [
    "len(all_date_consec_checker)"
   ]
  },
  {
   "cell_type": "code",
   "execution_count": 18,
   "id": "1da03e65",
   "metadata": {},
   "outputs": [],
   "source": [
    "# pull dates\n",
    "df = df[(df.date.isin(keep_date_range))]"
   ]
  },
  {
   "cell_type": "markdown",
   "id": "6fdc0195",
   "metadata": {},
   "source": [
    "Resample to ensure none missing"
   ]
  },
  {
   "cell_type": "code",
   "execution_count": 19,
   "id": "5bb321d3",
   "metadata": {},
   "outputs": [],
   "source": [
    "df = df.set_index('timestamp').groupby('house').\\\n",
    "    resample('15T', origin='start').asfreq().reset_index('timestamp').reset_index(drop=True)"
   ]
  },
  {
   "cell_type": "code",
   "execution_count": 20,
   "id": "0998f47f",
   "metadata": {},
   "outputs": [
    {
     "data": {
      "text/plain": [
       "0"
      ]
     },
     "execution_count": 20,
     "metadata": {},
     "output_type": "execute_result"
    }
   ],
   "source": [
    "df.kwh.isna().sum()"
   ]
  },
  {
   "cell_type": "markdown",
   "id": "4865f020",
   "metadata": {},
   "source": [
    "Normalize:\n",
    "\n",
    "**IF YOU DECIDE TO NORMALISE HERE, PLEASE SAVE AS `umass_train` and `umass_test` OTHERWISE IF YOU DO NOT, APPEND AN ADDITIONAL `_unnormal`**"
   ]
  },
  {
   "cell_type": "code",
   "execution_count": 21,
   "id": "185226f3",
   "metadata": {},
   "outputs": [],
   "source": [
    "# def normalize_daily_load_profiles(subset_df):\n",
    "    \n",
    "#     subset_df.kwh = (subset_df.kwh - subset_df.kwh.min()) / (subset_df.kwh.max() - subset_df.kwh.min())\n",
    "    \n",
    "#     return subset_df"
   ]
  },
  {
   "cell_type": "code",
   "execution_count": 22,
   "id": "5c5e14ff",
   "metadata": {},
   "outputs": [],
   "source": [
    "# df = df.groupby(['house', 'date']).apply(normalize_daily_load_profiles)"
   ]
  },
  {
   "cell_type": "markdown",
   "id": "e2ed5fbe",
   "metadata": {},
   "source": [
    "Drop superfluous rows:"
   ]
  },
  {
   "cell_type": "code",
   "execution_count": 23,
   "id": "7ef86216",
   "metadata": {},
   "outputs": [],
   "source": [
    "df = df.drop('date', axis = 1)"
   ]
  },
  {
   "cell_type": "markdown",
   "id": "52be78a9",
   "metadata": {},
   "source": [
    "Pull out 10% of houses for train"
   ]
  },
  {
   "cell_type": "code",
   "execution_count": 24,
   "id": "bed7c0b7",
   "metadata": {},
   "outputs": [],
   "source": [
    "train_k = int(len(all_files) * .9)\n",
    "houses_train = np.random.choice(df.house.unique(), train_k, replace = False)\n",
    "houses_test = np.setdiff1d(df.house.unique(), houses_train)"
   ]
  },
  {
   "cell_type": "code",
   "execution_count": 25,
   "id": "99562bd9",
   "metadata": {},
   "outputs": [
    {
     "data": {
      "text/plain": [
       "array(['Apt12_2015.csv', 'Apt14_2015.csv', 'Apt29_2015.csv',\n",
       "       'Apt2_2015.csv', 'Apt34_2015.csv', 'Apt49_2015.csv',\n",
       "       'Apt65_2015.csv', 'Apt74_2015.csv', 'Apt89_2015.csv',\n",
       "       'Apt8_2015.csv'], dtype=object)"
      ]
     },
     "execution_count": 25,
     "metadata": {},
     "output_type": "execute_result"
    }
   ],
   "source": [
    "houses_test"
   ]
  },
  {
   "cell_type": "markdown",
   "id": "b6e1b347",
   "metadata": {},
   "source": [
    "Save"
   ]
  },
  {
   "cell_type": "code",
   "execution_count": 26,
   "id": "7d3a5978",
   "metadata": {},
   "outputs": [],
   "source": [
    "df_train = df[df.house.isin(houses_train)]\n",
    "df_test = df[df.house.isin(houses_test)]"
   ]
  },
  {
   "cell_type": "code",
   "execution_count": 27,
   "id": "8b02ccd8",
   "metadata": {},
   "outputs": [],
   "source": [
    "df_train.to_csv(output_folder + 'umass_train_unnormal.csv', index=False)\n",
    "df_test.to_csv(output_folder + 'umass_test_unnormal.csv', index=False)"
   ]
  }
 ],
 "metadata": {
  "kernelspec": {
   "display_name": "Python 3 (ipykernel)",
   "language": "python",
   "name": "python3"
  },
  "language_info": {
   "codemirror_mode": {
    "name": "ipython",
    "version": 3
   },
   "file_extension": ".py",
   "mimetype": "text/x-python",
   "name": "python",
   "nbconvert_exporter": "python",
   "pygments_lexer": "ipython3",
   "version": "3.9.12"
  }
 },
 "nbformat": 4,
 "nbformat_minor": 5
}
