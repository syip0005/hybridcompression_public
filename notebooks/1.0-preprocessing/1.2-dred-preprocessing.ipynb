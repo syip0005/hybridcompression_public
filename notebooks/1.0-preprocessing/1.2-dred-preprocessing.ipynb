{
 "cells": [
  {
   "cell_type": "markdown",
   "id": "ad80ec84",
   "metadata": {},
   "source": [
    "# DRED Dataset EDA and Preprocessing\n",
    "\n",
    "## EDA\n",
    "\n",
    "Let's perform some EDA to get an idea of this dataset."
   ]
  },
  {
   "cell_type": "code",
   "execution_count": 1,
   "id": "aea9f296",
   "metadata": {},
   "outputs": [],
   "source": [
    "import numpy as np\n",
    "import pandas as pd\n",
    "import datetime\n",
    "import seaborn as sns\n",
    "import matplotlib.pyplot as plt"
   ]
  },
  {
   "cell_type": "code",
   "execution_count": 3,
   "id": "a4cc551c",
   "metadata": {},
   "outputs": [],
   "source": [
    "dataset_folder = \"../../dataset/raw/DRED/\"\n",
    "output_folder = \"../../dataset/interim/\"\n",
    "dred_file = \"DRED_Aggregated_data.csv\"\n",
    "dred_appliance_file = \"DRED_Appliance_data.csv\""
   ]
  },
  {
   "cell_type": "markdown",
   "id": "a6f161e6-902a-4f3d-bb02-6fa8e4f3a5f3",
   "metadata": {},
   "source": [
    "# Actua"
   ]
  },
  {
   "cell_type": "code",
   "execution_count": 3,
   "id": "d1ce433a",
   "metadata": {},
   "outputs": [
    {
     "name": "stderr",
     "output_type": "stream",
     "text": [
      "/home/scott/anaconda3/envs/dlearn/lib/python3.7/site-packages/IPython/core/interactiveshell.py:3444: DtypeWarning: Columns (1) have mixed types.Specify dtype option on import or set low_memory=False.\n",
      "  exec(code_obj, self.user_global_ns, self.user_ns)\n"
     ]
    }
   ],
   "source": [
    "df_dred = pd.read_csv(dataset_folder + dred_file)"
   ]
  },
  {
   "cell_type": "code",
   "execution_count": 4,
   "id": "a4f09c28",
   "metadata": {},
   "outputs": [
    {
     "data": {
      "text/html": [
       "<div>\n",
       "<style scoped>\n",
       "    .dataframe tbody tr th:only-of-type {\n",
       "        vertical-align: middle;\n",
       "    }\n",
       "\n",
       "    .dataframe tbody tr th {\n",
       "        vertical-align: top;\n",
       "    }\n",
       "\n",
       "    .dataframe thead th {\n",
       "        text-align: right;\n",
       "    }\n",
       "</style>\n",
       "<table border=\"1\" class=\"dataframe\">\n",
       "  <thead>\n",
       "    <tr style=\"text-align: right;\">\n",
       "      <th></th>\n",
       "      <th>Unnamed: 0</th>\n",
       "      <th>1</th>\n",
       "    </tr>\n",
       "  </thead>\n",
       "  <tbody>\n",
       "    <tr>\n",
       "      <th>0</th>\n",
       "      <td>NaN</td>\n",
       "      <td>mains</td>\n",
       "    </tr>\n",
       "    <tr>\n",
       "      <th>1</th>\n",
       "      <td>NaN</td>\n",
       "      <td>NaN</td>\n",
       "    </tr>\n",
       "    <tr>\n",
       "      <th>2</th>\n",
       "      <td>2015-07-05 00:00:00+02:00</td>\n",
       "      <td>NaN</td>\n",
       "    </tr>\n",
       "    <tr>\n",
       "      <th>3</th>\n",
       "      <td>2015-07-05 00:00:01+02:00</td>\n",
       "      <td>NaN</td>\n",
       "    </tr>\n",
       "  </tbody>\n",
       "</table>\n",
       "</div>"
      ],
      "text/plain": [
       "                  Unnamed: 0      1\n",
       "0                        NaN  mains\n",
       "1                        NaN    NaN\n",
       "2  2015-07-05 00:00:00+02:00    NaN\n",
       "3  2015-07-05 00:00:01+02:00    NaN"
      ]
     },
     "execution_count": 4,
     "metadata": {},
     "output_type": "execute_result"
    }
   ],
   "source": [
    "df_dred.head(4)"
   ]
  },
  {
   "cell_type": "code",
   "execution_count": 5,
   "id": "650e29bf",
   "metadata": {},
   "outputs": [
    {
     "data": {
      "text/plain": [
       "(13302001, 2)"
      ]
     },
     "execution_count": 5,
     "metadata": {},
     "output_type": "execute_result"
    }
   ],
   "source": [
    "df_dred.shape"
   ]
  },
  {
   "cell_type": "code",
   "execution_count": 6,
   "id": "cb1b085d",
   "metadata": {},
   "outputs": [
    {
     "data": {
      "text/plain": [
       "Unnamed: 0    object\n",
       "1             object\n",
       "dtype: object"
      ]
     },
     "execution_count": 6,
     "metadata": {},
     "output_type": "execute_result"
    }
   ],
   "source": [
    "df_dred.dtypes"
   ]
  },
  {
   "cell_type": "markdown",
   "id": "4484884e",
   "metadata": {},
   "source": [
    "Let's do a quick clean up of columns and column names, and convert `dtype` to some sort of datetime format. Datetime format per `strftime()` and per review of head above."
   ]
  },
  {
   "cell_type": "code",
   "execution_count": 7,
   "id": "bea95115",
   "metadata": {},
   "outputs": [],
   "source": [
    "df_dred = df_dred[2:]"
   ]
  },
  {
   "cell_type": "code",
   "execution_count": 8,
   "id": "f991defa",
   "metadata": {},
   "outputs": [],
   "source": [
    "df_dred.columns = ['timestamp', 'Mains']"
   ]
  },
  {
   "cell_type": "code",
   "execution_count": 9,
   "id": "345b2976",
   "metadata": {},
   "outputs": [],
   "source": [
    "df_dred.timestamp = df_dred.timestamp.str.slice(stop=-6)"
   ]
  },
  {
   "cell_type": "code",
   "execution_count": 10,
   "id": "7d230aa4",
   "metadata": {},
   "outputs": [
    {
     "data": {
      "text/html": [
       "<div>\n",
       "<style scoped>\n",
       "    .dataframe tbody tr th:only-of-type {\n",
       "        vertical-align: middle;\n",
       "    }\n",
       "\n",
       "    .dataframe tbody tr th {\n",
       "        vertical-align: top;\n",
       "    }\n",
       "\n",
       "    .dataframe thead th {\n",
       "        text-align: right;\n",
       "    }\n",
       "</style>\n",
       "<table border=\"1\" class=\"dataframe\">\n",
       "  <thead>\n",
       "    <tr style=\"text-align: right;\">\n",
       "      <th></th>\n",
       "      <th>timestamp</th>\n",
       "      <th>Mains</th>\n",
       "    </tr>\n",
       "  </thead>\n",
       "  <tbody>\n",
       "    <tr>\n",
       "      <th>2</th>\n",
       "      <td>2015-07-05 00:00:00</td>\n",
       "      <td>NaN</td>\n",
       "    </tr>\n",
       "    <tr>\n",
       "      <th>3</th>\n",
       "      <td>2015-07-05 00:00:01</td>\n",
       "      <td>NaN</td>\n",
       "    </tr>\n",
       "    <tr>\n",
       "      <th>4</th>\n",
       "      <td>2015-07-05 00:00:02</td>\n",
       "      <td>NaN</td>\n",
       "    </tr>\n",
       "    <tr>\n",
       "      <th>5</th>\n",
       "      <td>2015-07-05 00:00:03</td>\n",
       "      <td>NaN</td>\n",
       "    </tr>\n",
       "  </tbody>\n",
       "</table>\n",
       "</div>"
      ],
      "text/plain": [
       "             timestamp Mains\n",
       "2  2015-07-05 00:00:00   NaN\n",
       "3  2015-07-05 00:00:01   NaN\n",
       "4  2015-07-05 00:00:02   NaN\n",
       "5  2015-07-05 00:00:03   NaN"
      ]
     },
     "execution_count": 10,
     "metadata": {},
     "output_type": "execute_result"
    }
   ],
   "source": [
    "df_dred.head(4)"
   ]
  },
  {
   "cell_type": "code",
   "execution_count": 11,
   "id": "29816b82",
   "metadata": {},
   "outputs": [],
   "source": [
    "df_dred['timestamp'] = pd.to_datetime(df_dred['timestamp'], format=\"%Y/%m/%d %H:%M:%S\")"
   ]
  },
  {
   "cell_type": "code",
   "execution_count": 12,
   "id": "ed03e82e",
   "metadata": {},
   "outputs": [
    {
     "data": {
      "text/plain": [
       "Timestamp('2015-07-05 00:00:00')"
      ]
     },
     "execution_count": 12,
     "metadata": {},
     "output_type": "execute_result"
    }
   ],
   "source": [
    "df_dred.timestamp.min()"
   ]
  },
  {
   "cell_type": "code",
   "execution_count": 13,
   "id": "3a1f7528",
   "metadata": {},
   "outputs": [
    {
     "data": {
      "text/plain": [
       "Timestamp('2015-12-05 22:59:58')"
      ]
     },
     "execution_count": 13,
     "metadata": {},
     "output_type": "execute_result"
    }
   ],
   "source": [
    "df_dred.timestamp.max()"
   ]
  },
  {
   "cell_type": "markdown",
   "id": "ac9ab8bb",
   "metadata": {},
   "source": [
    "##### Missing Data\n",
    "\n",
    "Check the missing data percentage"
   ]
  },
  {
   "cell_type": "code",
   "execution_count": 14,
   "id": "a1dfd006",
   "metadata": {},
   "outputs": [
    {
     "data": {
      "text/plain": [
       "timestamp        0\n",
       "Mains        39605\n",
       "dtype: int64"
      ]
     },
     "execution_count": 14,
     "metadata": {},
     "output_type": "execute_result"
    }
   ],
   "source": [
    "df_dred.isna().sum()"
   ]
  },
  {
   "cell_type": "code",
   "execution_count": 15,
   "id": "db6219a9",
   "metadata": {},
   "outputs": [
    {
     "data": {
      "text/plain": [
       "timestamp    0.000000\n",
       "Mains        0.297737\n",
       "dtype: float64"
      ]
     },
     "execution_count": 15,
     "metadata": {},
     "output_type": "execute_result"
    }
   ],
   "source": [
    "(df_dred.isna().sum() / df_dred.isna().count()) * 100"
   ]
  },
  {
   "cell_type": "markdown",
   "id": "afc848fd",
   "metadata": {},
   "source": [
    "Great it's just a tiny amount missing. Let's see what the `.diff()` is. If the difference is just 1 second, and one other sample, then this indicates that this is just 2 different parts missing. We also observed before, that this is right at the start of the dataset and the end of the dataset."
   ]
  },
  {
   "cell_type": "code",
   "execution_count": 16,
   "id": "aed856cc",
   "metadata": {
    "scrolled": true
   },
   "outputs": [
    {
     "data": {
      "text/plain": [
       "0 days 00:00:01      39603\n",
       "153 days 11:59:55        1\n",
       "Name: timestamp, dtype: int64"
      ]
     },
     "execution_count": 16,
     "metadata": {},
     "output_type": "execute_result"
    }
   ],
   "source": [
    "df_dred.timestamp[df_dred.Mains.isna() == True].diff().value_counts()"
   ]
  },
  {
   "cell_type": "code",
   "execution_count": 17,
   "id": "5209313f",
   "metadata": {},
   "outputs": [],
   "source": [
    "check_na = df_dred.set_index('timestamp').isna()"
   ]
  },
  {
   "cell_type": "code",
   "execution_count": 18,
   "id": "26e125c2",
   "metadata": {},
   "outputs": [],
   "source": [
    "check_na.Mains = check_na.Mains.apply(lambda x: 1 if x == True else 0)"
   ]
  },
  {
   "cell_type": "code",
   "execution_count": 19,
   "id": "7505dc7d",
   "metadata": {},
   "outputs": [],
   "source": [
    "# check_na.plot()"
   ]
  },
  {
   "cell_type": "markdown",
   "id": "a9ed98cc",
   "metadata": {},
   "source": [
    "Great. Let's just remove them as they don't exist in the middle of the dataset."
   ]
  },
  {
   "cell_type": "code",
   "execution_count": 20,
   "id": "058de773",
   "metadata": {},
   "outputs": [],
   "source": [
    "df_dred = df_dred.dropna().reset_index(drop=True)"
   ]
  },
  {
   "cell_type": "code",
   "execution_count": 21,
   "id": "f90e3397",
   "metadata": {},
   "outputs": [
    {
     "data": {
      "text/plain": [
       "13262394"
      ]
     },
     "execution_count": 21,
     "metadata": {},
     "output_type": "execute_result"
    }
   ],
   "source": [
    "len(df_dred)"
   ]
  },
  {
   "cell_type": "markdown",
   "id": "630d74a6",
   "metadata": {},
   "source": [
    "##### Average and Resample"
   ]
  },
  {
   "cell_type": "code",
   "execution_count": 22,
   "id": "34783536",
   "metadata": {},
   "outputs": [],
   "source": [
    "df_dred = df_dred.set_index('timestamp').resample('1s', origin='start').asfreq().reset_index()"
   ]
  },
  {
   "cell_type": "code",
   "execution_count": 23,
   "id": "228eb3d4",
   "metadata": {},
   "outputs": [
    {
     "data": {
      "text/plain": [
       "13262394"
      ]
     },
     "execution_count": 23,
     "metadata": {},
     "output_type": "execute_result"
    }
   ],
   "source": [
    "len(df_dred)"
   ]
  },
  {
   "cell_type": "markdown",
   "id": "c6d3719b",
   "metadata": {},
   "source": [
    "#### Convert to kwh"
   ]
  },
  {
   "cell_type": "code",
   "execution_count": 24,
   "id": "2374f18c",
   "metadata": {},
   "outputs": [
    {
     "data": {
      "text/plain": [
       "timestamp    datetime64[ns]\n",
       "Mains                object\n",
       "dtype: object"
      ]
     },
     "execution_count": 24,
     "metadata": {},
     "output_type": "execute_result"
    }
   ],
   "source": [
    "df_dred.dtypes"
   ]
  },
  {
   "cell_type": "code",
   "execution_count": 25,
   "id": "4440801e",
   "metadata": {},
   "outputs": [],
   "source": [
    "df_dred['kwh'] = pd.to_numeric(df_dred.Mains) / 1000\n",
    "df_dred = df_dred.drop(columns='Mains')"
   ]
  },
  {
   "cell_type": "markdown",
   "id": "e237ba57",
   "metadata": {},
   "source": [
    "##### Pull date range"
   ]
  },
  {
   "cell_type": "code",
   "execution_count": 26,
   "id": "dddb1d44",
   "metadata": {},
   "outputs": [],
   "source": [
    "train_range = pd.date_range(start = '2015-09-01', end = '2015-10-30', freq = '1D')\n",
    "test_range = pd.date_range(start = '2015-10-31', end = '2015-11-05', freq = '1D')\n",
    "total_range = pd.date_range(start = '2015-09-01', end = '2015-11-05', freq = '1D')"
   ]
  },
  {
   "cell_type": "code",
   "execution_count": 27,
   "id": "dd3e02e4",
   "metadata": {},
   "outputs": [],
   "source": [
    "df_dred['date']= df_dred.timestamp.dt.normalize()"
   ]
  },
  {
   "cell_type": "code",
   "execution_count": 28,
   "id": "0b6169a2",
   "metadata": {},
   "outputs": [
    {
     "data": {
      "text/plain": [
       "5184000"
      ]
     },
     "execution_count": 28,
     "metadata": {},
     "output_type": "execute_result"
    }
   ],
   "source": [
    "len(df_dred[df_dred.date.isin(train_range)])"
   ]
  },
  {
   "cell_type": "code",
   "execution_count": 29,
   "id": "7f539d5a",
   "metadata": {},
   "outputs": [
    {
     "data": {
      "text/plain": [
       "518400"
      ]
     },
     "execution_count": 29,
     "metadata": {},
     "output_type": "execute_result"
    }
   ],
   "source": [
    "len(df_dred[df_dred.date.isin(test_range)])"
   ]
  },
  {
   "cell_type": "code",
   "execution_count": 30,
   "id": "2b962dee",
   "metadata": {},
   "outputs": [],
   "source": [
    "df_dred = df_dred[df_dred.date.isin(total_range)]"
   ]
  },
  {
   "cell_type": "markdown",
   "id": "24bebc6d",
   "metadata": {},
   "source": [
    "Coincidentally, this is also the same amount of lines as our `cern_train_v2`. So we can use this.\n",
    "\n",
    "At this point we need to work out `wide_freq`. I say we just build a couple and see how we feel?\n",
    "* 1 minute wide = 60 wide\n",
    "* 15 minute wide = 15 * 60 = 900 wide\n",
    "* 30 minute wide = 30 * 60 = 1800 wide\n",
    "* 60 minute wide = 60 * 60 = 3600 wide\n",
    "\n",
    "##### Save"
   ]
  },
  {
   "cell_type": "code",
   "execution_count": 33,
   "id": "432b6a3b",
   "metadata": {},
   "outputs": [],
   "source": [
    "df_train_ = df_dred[df_dred.date.isin(train_range)]\n",
    "df_test_ = df_dred[df_dred.date.isin(test_range)]\n",
    "\n",
    "df_train_ = df_train_.drop(columns='date')\n",
    "df_test_ = df_test_.drop(columns='date')\n",
    "\n",
    "# df_train_.to_csv(output_folder + 'dred_train_.csv', index = False)\n",
    "# df_test_.to_csv(output_folder + 'dred_test_.csv', index = False)"
   ]
  }
 ],
 "metadata": {
  "kernelspec": {
   "display_name": "Python 3 (ipykernel)",
   "language": "python",
   "name": "python3"
  },
  "language_info": {
   "codemirror_mode": {
    "name": "ipython",
    "version": 3
   },
   "file_extension": ".py",
   "mimetype": "text/x-python",
   "name": "python",
   "nbconvert_exporter": "python",
   "pygments_lexer": "ipython3",
   "version": "3.9.12"
  }
 },
 "nbformat": 4,
 "nbformat_minor": 5
}
