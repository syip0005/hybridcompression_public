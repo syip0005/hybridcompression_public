{
 "cells": [
  {
   "cell_type": "markdown",
   "id": "5a04a776",
   "metadata": {},
   "source": [
    "# EDA and Preprocessing, CER\n",
    "\n",
    "Author: Scott Yip \\\n",
    "Date: 28 June 2022\n",
    "\n",
    "The abstract and information for this dataset can be accessed [here](https://www.ucd.ie/issda/data/commissionforenergyregulationcer/). In particular, we use Study Number (SN): 0012-00 - this has become a staple dataset for EED compression.\n",
    "\n",
    "Additional information about the dataset is located in the manifest file labelled `Manifest - Smart Meter Electricity Trial Data v1.0.1.docx`.\n",
    "\n",
    "The relevant smart meter read data is that\n",
    "\n",
    "```\n",
    "6 zipped files named File1.txt.zip to File6.txt.zip each containing 1 text file\n",
    "Format of each data file: 3 columns corresponding to  \n",
    "\t\tMeter ID\n",
    "\t\tFive digit code:  \n",
    "\t\t\tDay code: digits 1-3 (day 1 = 1st January 2009)\n",
    "\t\t\tTime code: digits 4-5 (1-48 for each 30 minutes with 1= 00:00:00 – 00:29:59)\n",
    "\t\tElectricity consumed during 30 minute interval (in kWh)\n",
    "\n",
    "```\n",
    "\n",
    "The notable minimal preprocessing changes we'll have to make are:\n",
    "* conversion of five digit code to timedate format.\n",
    "\n",
    "We further note that we work with $30$ minute intervals.\n",
    "\n",
    "## 1. Intro and baseline processing\n",
    "\n",
    "### 1A. Intro\n",
    "\n",
    "Let's perform some very quick EDA to get an idea of this dataset.\n",
    "\n",
    "Nb: we use the `dask` library instead of `pandas` as we want to avoid out-of-memory computations. `dask` will allow us to perform on-disk processing for larger-than-memory computations (which may occur)."
   ]
  },
  {
   "cell_type": "code",
   "execution_count": 118,
   "id": "7ca9ab52",
   "metadata": {},
   "outputs": [],
   "source": [
    "# Import libraries\n",
    "import numpy as np\n",
    "import pandas as pd\n",
    "import datetime\n",
    "import seaborn as sns\n",
    "import matplotlib.pyplot as plt\n",
    "import os\n",
    "import dask.dataframe as dd"
   ]
  },
  {
   "cell_type": "code",
   "execution_count": 119,
   "id": "ed643b5b-528a-480c-a837-527594e3c9dc",
   "metadata": {},
   "outputs": [],
   "source": [
    "# Set folder parameters\n",
    "dataset_folder = \"../../dataset/raw/CERN/\""
   ]
  },
  {
   "cell_type": "code",
   "execution_count": 120,
   "id": "c8232df9-477e-440b-be89-9c7cc002785d",
   "metadata": {},
   "outputs": [],
   "source": [
    "pd.set_option('display.max_rows', 500)\n",
    "%matplotlib inline"
   ]
  },
  {
   "cell_type": "markdown",
   "id": "1671fd0a",
   "metadata": {},
   "source": [
    "As the files are all separate, we'd like to use `dask` to read all the files.\n",
    "\n",
    "Let's use `os.listdir()` to check all files (non recursively)."
   ]
  },
  {
   "cell_type": "code",
   "execution_count": 121,
   "id": "20e7d44e-0b0e-4cdf-87d0-8dd290b9ea26",
   "metadata": {
    "tags": []
   },
   "outputs": [
    {
     "name": "stdout",
     "output_type": "stream",
     "text": [
      "Number of txt files: 6\n"
     ]
    }
   ],
   "source": [
    "# use os.listdir() and not os.walk() as no recursive movement required\n",
    "all_files = [dataset_folder + file for file in os.listdir(dataset_folder) if file[-3:] == 'txt']\n",
    "\n",
    "print('Number of txt files: {}'.format(len(all_files)))"
   ]
  },
  {
   "cell_type": "markdown",
   "id": "afffdc12-425c-4533-84c7-3887ffff2740",
   "metadata": {},
   "source": [
    "Let's read all these into using `dask`:"
   ]
  },
  {
   "cell_type": "code",
   "execution_count": 122,
   "id": "f31195e7-c97a-49ea-a4c2-2b2abd1fa5d9",
   "metadata": {},
   "outputs": [],
   "source": [
    "df = dd.read_csv(all_files, names=['metre_id', 'timecode', 'kwh'], sep=' ',\n",
    "                dtype={'metre_id': 'int64', 'timecode': 'object', 'kwh': 'float64'})"
   ]
  },
  {
   "cell_type": "code",
   "execution_count": 123,
   "id": "9cfa76cb-c39b-4d9f-b07b-97229d78db66",
   "metadata": {},
   "outputs": [
    {
     "data": {
      "text/html": [
       "<div>\n",
       "<style scoped>\n",
       "    .dataframe tbody tr th:only-of-type {\n",
       "        vertical-align: middle;\n",
       "    }\n",
       "\n",
       "    .dataframe tbody tr th {\n",
       "        vertical-align: top;\n",
       "    }\n",
       "\n",
       "    .dataframe thead th {\n",
       "        text-align: right;\n",
       "    }\n",
       "</style>\n",
       "<table border=\"1\" class=\"dataframe\">\n",
       "  <thead>\n",
       "    <tr style=\"text-align: right;\">\n",
       "      <th></th>\n",
       "      <th>metre_id</th>\n",
       "      <th>timecode</th>\n",
       "      <th>kwh</th>\n",
       "    </tr>\n",
       "  </thead>\n",
       "  <tbody>\n",
       "    <tr>\n",
       "      <th>0</th>\n",
       "      <td>4597</td>\n",
       "      <td>19711</td>\n",
       "      <td>0.144</td>\n",
       "    </tr>\n",
       "    <tr>\n",
       "      <th>1</th>\n",
       "      <td>4597</td>\n",
       "      <td>19712</td>\n",
       "      <td>0.144</td>\n",
       "    </tr>\n",
       "    <tr>\n",
       "      <th>2</th>\n",
       "      <td>4597</td>\n",
       "      <td>19501</td>\n",
       "      <td>0.208</td>\n",
       "    </tr>\n",
       "  </tbody>\n",
       "</table>\n",
       "</div>"
      ],
      "text/plain": [
       "   metre_id timecode    kwh\n",
       "0      4597    19711  0.144\n",
       "1      4597    19712  0.144\n",
       "2      4597    19501  0.208"
      ]
     },
     "execution_count": 123,
     "metadata": {},
     "output_type": "execute_result"
    }
   ],
   "source": [
    "df.head(3)"
   ]
  },
  {
   "cell_type": "markdown",
   "id": "7278db6d-c194-41e4-8aa6-0cd5a7d65f9c",
   "metadata": {},
   "source": [
    "Great, now let's do the timecode conversion to a `datetime` format using the rules in the manifest:"
   ]
  },
  {
   "cell_type": "code",
   "execution_count": 124,
   "id": "83a280dc-780e-451a-a579-7baf2504b745",
   "metadata": {},
   "outputs": [],
   "source": [
    "def time_conversion(df, timecode='timecode'):\n",
    "    \n",
    "    \"\"\"\n",
    "    Auxiliary function to convert timecodes to date codes\n",
    "    \"\"\"\n",
    "    \n",
    "    # Implement the intial date (1/1/19)\n",
    "    init_date = datetime.datetime(2009, 1, 1)\n",
    "    \n",
    "    # Split out the timecodes to day codes and minute codes\n",
    "    day_code = df[timecode].str.slice(stop=3).astype('int64')\n",
    "    minute_code = df[timecode].str.slice(start=3).astype('int64')\n",
    "    \n",
    "    # Note: dd.to_timedelta() does not seem to work with dd.map_partitions()\n",
    "    # resorting to using pd.to_timedelta() though I believe this is slower\n",
    "    \n",
    "    # Add day code\n",
    "    temp_date = init_date + pd.to_timedelta(day_code-1, unit='day')\n",
    "    # Add minute code\n",
    "    temp_date = temp_date + pd.to_timedelta(minute_code*30, unit='minute')\n",
    "    # Reduce by one second to keep within same day\n",
    "    temp_date = temp_date - pd.to_timedelta(1, unit='seconds')\n",
    "    \n",
    "    return temp_date"
   ]
  },
  {
   "cell_type": "code",
   "execution_count": 125,
   "id": "30996dd8-ea13-465c-93a1-0b581442920b",
   "metadata": {},
   "outputs": [],
   "source": [
    "# Create timestamp column\n",
    "df['timestamp'] = df.map_partitions(time_conversion, 'timecode', meta=(None, 'datetime64[ns]'))"
   ]
  },
  {
   "cell_type": "code",
   "execution_count": 126,
   "id": "8faac266-c9dc-41f0-9177-694eed6ce92a",
   "metadata": {},
   "outputs": [],
   "source": [
    "# Drop timecode\n",
    "# df = df.drop(labels='timecode', axis=1)"
   ]
  },
  {
   "cell_type": "code",
   "execution_count": 127,
   "id": "e949d83e-d005-4831-a748-9f38977f7f82",
   "metadata": {},
   "outputs": [],
   "source": [
    "# Push into memory if available\n",
    "df_memory = df.compute()"
   ]
  },
  {
   "cell_type": "code",
   "execution_count": 128,
   "id": "c29e407b-3043-4b72-857a-14aa5d4f0e44",
   "metadata": {},
   "outputs": [
    {
     "data": {
      "text/plain": [
       "157992996"
      ]
     },
     "execution_count": 128,
     "metadata": {},
     "output_type": "execute_result"
    }
   ],
   "source": [
    "len(df_memory)"
   ]
  },
  {
   "cell_type": "markdown",
   "id": "f6a0f800-1b4a-4ad0-b03d-7da2c6a57e93",
   "metadata": {},
   "source": [
    "### 1B. Check readings per metre\n",
    "\n",
    "It is understood from [Wang et al. (2020)](https://www.sciencedirect.com/science/article/pii/S0142061519318502) that there are issues with the Irish CER dataset. They used:\n",
    "\n",
    "> Due to communication problems in data transmission, some data in Irish smart meter dataset have serious missing and error problems, we have screened 20,000 complete data records in the data set (each record contains 48 data points of the day), and used these 20,000 records as the historical data of the power company for compression.\n",
    "\n",
    "As such, the authors above decided not to deal with the missing data - instead only choosing those meters for which all data points were complete. Let's screen ourselves to check how many of these that exist.\n",
    "\n",
    "Let's check readings per meter:"
   ]
  },
  {
   "cell_type": "code",
   "execution_count": 129,
   "id": "24333752-d079-4a94-90ba-e39cd35ea550",
   "metadata": {},
   "outputs": [],
   "source": [
    "readings_per_metre = df_memory.metre_id.value_counts()"
   ]
  },
  {
   "cell_type": "code",
   "execution_count": 130,
   "id": "b07542b6-4435-4ecd-b6dd-3485810de109",
   "metadata": {},
   "outputs": [
    {
     "data": {
      "text/plain": [
       "<AxesSubplot:ylabel='Frequency'>"
      ]
     },
     "execution_count": 130,
     "metadata": {},
     "output_type": "execute_result"
    },
    {
     "data": {
      "image/png": "[encoded data removed]",
      "text/plain": [
       "<Figure size 432x288 with 1 Axes>"
      ]
     },
     "metadata": {
      "needs_background": "light"
     },
     "output_type": "display_data"
    }
   ],
   "source": [
    "readings_per_metre.plot(kind='hist')"
   ]
  },
  {
   "cell_type": "markdown",
   "id": "cfdccbaa-02fd-4e93-991e-ab9bc6676db9",
   "metadata": {},
   "source": [
    "Okay - so many meters have fewer readings. Before holistically removing these, let's check the details of consecutive readings.\n",
    "\n",
    "We leverage this [SO](https://stackoverflow.com/questions/52901387/find-group-of-consecutive-dates-in-pandas-dataframe?noredirect=1&lq=1)."
   ]
  },
  {
   "cell_type": "code",
   "execution_count": 131,
   "id": "e5076688-db59-4d35-a18c-c370b835cb77",
   "metadata": {},
   "outputs": [],
   "source": [
    "def calculate_consecutive_intervals(df):\n",
    "    \n",
    "    \"\"\"\n",
    "    Calculate largest consecutive interval length, as well as start and end dates.\n",
    "    \"\"\"\n",
    "    \n",
    "    # Calculate consecutive counter\n",
    "    df = df.sort_values(by='timestamp', ascending=True)\n",
    "    df = df.reset_index(drop=True)\n",
    "    df_a = (df.timestamp.shift(-1) - df.timestamp) == pd.to_timedelta(30, 'minutes')\n",
    "    df_b = df_a.cumsum()\n",
    "    df['cumcount'] = df_b.sub(df_b.mask(df_a).ffill().fillna(0).astype(int))\n",
    "    \n",
    "    # Calculate start and end date\n",
    "    end = df.loc[df['cumcount'].idxmax(),'timestamp']\n",
    "    start = df.loc[df['cumcount'].idxmax() - df['cumcount'].max() + 1,'timestamp']\n",
    "    \n",
    "    return pd.Series({'total_count': len(df), 'max_consec': df.cumcount.max() + 1, 'start': start,'end': end})"
   ]
  },
  {
   "cell_type": "code",
   "execution_count": 132,
   "id": "2542f0d8-8389-4f95-bc6a-acff6f401470",
   "metadata": {},
   "outputs": [],
   "source": [
    "consec_counts = df_memory.groupby('metre_id').apply(calculate_consecutive_intervals)"
   ]
  },
  {
   "cell_type": "code",
   "execution_count": 133,
   "id": "83495a6d-4659-4e8e-b070-d7673aabf415",
   "metadata": {},
   "outputs": [
    {
     "data": {
      "text/plain": [
       "<AxesSubplot:xlabel='max_consec', ylabel='Count'>"
      ]
     },
     "execution_count": 133,
     "metadata": {},
     "output_type": "execute_result"
    },
    {
     "data": {
      "image/png": "[encoded data removed]",
      "text/plain": [
       "<Figure size 432x288 with 1 Axes>"
      ]
     },
     "metadata": {
      "needs_background": "light"
     },
     "output_type": "display_data"
    }
   ],
   "source": [
    "sns.histplot(data=consec_counts, x='max_consec')"
   ]
  },
  {
   "cell_type": "code",
   "execution_count": 134,
   "id": "1eeddb7d-0afd-4ec1-9895-90927866c80b",
   "metadata": {},
   "outputs": [
    {
     "data": {
      "text/html": [
       "<div>\n",
       "<style scoped>\n",
       "    .dataframe tbody tr th:only-of-type {\n",
       "        vertical-align: middle;\n",
       "    }\n",
       "\n",
       "    .dataframe tbody tr th {\n",
       "        vertical-align: top;\n",
       "    }\n",
       "\n",
       "    .dataframe thead th {\n",
       "        text-align: right;\n",
       "    }\n",
       "</style>\n",
       "<table border=\"1\" class=\"dataframe\">\n",
       "  <thead>\n",
       "    <tr style=\"text-align: right;\">\n",
       "      <th></th>\n",
       "      <th>total_count</th>\n",
       "      <th>max_consec</th>\n",
       "      <th>start</th>\n",
       "      <th>end</th>\n",
       "    </tr>\n",
       "    <tr>\n",
       "      <th>metre_id</th>\n",
       "      <th></th>\n",
       "      <th></th>\n",
       "      <th></th>\n",
       "      <th></th>\n",
       "    </tr>\n",
       "  </thead>\n",
       "  <tbody>\n",
       "    <tr>\n",
       "      <th>7074</th>\n",
       "      <td>22802</td>\n",
       "      <td>10463</td>\n",
       "      <td>2010-03-28 01:59:59</td>\n",
       "      <td>2010-11-01 00:29:59</td>\n",
       "    </tr>\n",
       "    <tr>\n",
       "      <th>3936</th>\n",
       "      <td>22802</td>\n",
       "      <td>10463</td>\n",
       "      <td>2010-03-28 01:59:59</td>\n",
       "      <td>2010-11-01 00:29:59</td>\n",
       "    </tr>\n",
       "    <tr>\n",
       "      <th>1000</th>\n",
       "      <td>25730</td>\n",
       "      <td>10462</td>\n",
       "      <td>2010-03-28 01:59:59</td>\n",
       "      <td>2010-10-31 23:59:59</td>\n",
       "    </tr>\n",
       "    <tr>\n",
       "      <th>5112</th>\n",
       "      <td>25730</td>\n",
       "      <td>10462</td>\n",
       "      <td>2010-03-28 01:59:59</td>\n",
       "      <td>2010-10-31 23:59:59</td>\n",
       "    </tr>\n",
       "    <tr>\n",
       "      <th>5122</th>\n",
       "      <td>25730</td>\n",
       "      <td>10462</td>\n",
       "      <td>2010-03-28 01:59:59</td>\n",
       "      <td>2010-10-31 23:59:59</td>\n",
       "    </tr>\n",
       "    <tr>\n",
       "      <th>...</th>\n",
       "      <td>...</td>\n",
       "      <td>...</td>\n",
       "      <td>...</td>\n",
       "      <td>...</td>\n",
       "    </tr>\n",
       "    <tr>\n",
       "      <th>7426</th>\n",
       "      <td>48</td>\n",
       "      <td>48</td>\n",
       "      <td>2010-03-15 00:29:59</td>\n",
       "      <td>2010-03-15 23:29:59</td>\n",
       "    </tr>\n",
       "    <tr>\n",
       "      <th>5252</th>\n",
       "      <td>48</td>\n",
       "      <td>48</td>\n",
       "      <td>2010-01-31 00:29:59</td>\n",
       "      <td>2010-01-31 23:29:59</td>\n",
       "    </tr>\n",
       "    <tr>\n",
       "      <th>1396</th>\n",
       "      <td>48</td>\n",
       "      <td>48</td>\n",
       "      <td>2010-01-31 00:29:59</td>\n",
       "      <td>2010-01-31 23:29:59</td>\n",
       "    </tr>\n",
       "    <tr>\n",
       "      <th>2326</th>\n",
       "      <td>48</td>\n",
       "      <td>48</td>\n",
       "      <td>2010-01-31 00:29:59</td>\n",
       "      <td>2010-01-31 23:29:59</td>\n",
       "    </tr>\n",
       "    <tr>\n",
       "      <th>2155</th>\n",
       "      <td>48</td>\n",
       "      <td>48</td>\n",
       "      <td>2010-12-03 00:29:59</td>\n",
       "      <td>2010-12-03 23:29:59</td>\n",
       "    </tr>\n",
       "  </tbody>\n",
       "</table>\n",
       "<p>6435 rows × 4 columns</p>\n",
       "</div>"
      ],
      "text/plain": [
       "          total_count  max_consec               start                 end\n",
       "metre_id                                                                 \n",
       "7074            22802       10463 2010-03-28 01:59:59 2010-11-01 00:29:59\n",
       "3936            22802       10463 2010-03-28 01:59:59 2010-11-01 00:29:59\n",
       "1000            25730       10462 2010-03-28 01:59:59 2010-10-31 23:59:59\n",
       "5112            25730       10462 2010-03-28 01:59:59 2010-10-31 23:59:59\n",
       "5122            25730       10462 2010-03-28 01:59:59 2010-10-31 23:59:59\n",
       "...               ...         ...                 ...                 ...\n",
       "7426               48          48 2010-03-15 00:29:59 2010-03-15 23:29:59\n",
       "5252               48          48 2010-01-31 00:29:59 2010-01-31 23:29:59\n",
       "1396               48          48 2010-01-31 00:29:59 2010-01-31 23:29:59\n",
       "2326               48          48 2010-01-31 00:29:59 2010-01-31 23:29:59\n",
       "2155               48          48 2010-12-03 00:29:59 2010-12-03 23:29:59\n",
       "\n",
       "[6435 rows x 4 columns]"
      ]
     },
     "execution_count": 134,
     "metadata": {},
     "output_type": "execute_result"
    }
   ],
   "source": [
    "consec_counts.sort_values(by='max_consec', ascending=False)"
   ]
  },
  {
   "cell_type": "code",
   "execution_count": 135,
   "id": "a7f9d431-fb9b-4b9a-a31d-836c91aa20ee",
   "metadata": {},
   "outputs": [
    {
     "data": {
      "text/plain": [
       "10462    5410\n",
       "7344      683\n",
       "4993       70\n",
       "48          9\n",
       "10317       6\n",
       "Name: max_consec, dtype: int64"
      ]
     },
     "execution_count": 135,
     "metadata": {},
     "output_type": "execute_result"
    }
   ],
   "source": [
    "consec_counts.max_consec.value_counts()[:5]"
   ]
  },
  {
   "cell_type": "code",
   "execution_count": 136,
   "id": "6d7ed49a-80ae-4895-aad8-87547dec5f7e",
   "metadata": {},
   "outputs": [
    {
     "data": {
      "text/plain": [
       "113"
      ]
     },
     "execution_count": 136,
     "metadata": {},
     "output_type": "execute_result"
    }
   ],
   "source": [
    "(consec_counts['total_count'] == consec_counts['max_consec']).sum()"
   ]
  },
  {
   "cell_type": "markdown",
   "id": "5341455b-67e9-413f-b058-78def915e6cb",
   "metadata": {},
   "source": [
    "These results above are abnormal. Given that there are approximately 25k recordings for each metre, shouldn't we be seeing substantially more than 10k consecutively. Furthermore, only 113 metres have fully consecutive recordings...\n",
    "\n",
    "### 1C. Investigate break points\n",
    "\n",
    "Let's investigate whether there is a recurring issue within the dataset by investigating several specific instances of the cutoffs. We write a function to print the transactions subsequent to our break points:"
   ]
  },
  {
   "cell_type": "code",
   "execution_count": 137,
   "id": "dc167d2b-c1c0-4a85-8e3a-59a2884a4edc",
   "metadata": {},
   "outputs": [],
   "source": [
    "def return_surrounding_rows(indicies, padding=5):\n",
    "    \n",
    "    \"\"\"\n",
    "    Aux function to add row padding for investigation\n",
    "    \"\"\"\n",
    "    \n",
    "    return [x for x in [list(range(i-padding, i+padding+1)) for i in indicies] for x in x]\n",
    "\n",
    "def investigate_breaks(metre_id, df, padding=5):\n",
    "    \n",
    "    \"\"\"\n",
    "    Print consecutive break points\n",
    "    \"\"\"\n",
    "    \n",
    "    # Run additional diagnostic columns (cumulative checks)\n",
    "    test_single = df[df['metre_id'] == metre_id]\n",
    "    test_single = test_single.sort_values('timestamp', ascending=True)\n",
    "    test_single.reset_index(inplace=True, drop=True)\n",
    "    test_single2 = (test_single.timestamp.shift(-1) - test_single.timestamp) == pd.to_timedelta(30, 'minutes')\n",
    "    test_single3 = test_single2.cumsum()\n",
    "    test_single['cumdiff'] =  (test_single.timestamp.shift(-1) - test_single.timestamp)\n",
    "    test_single['cumcheck'] = test_single2\n",
    "    test_single['cumulativecount'] = test_single3.sub(test_single3.mask(test_single2).ffill().fillna(0).astype(int))\n",
    "    \n",
    "    # Get padded indicies \n",
    "    indicies = return_surrounding_rows(test_single[test_single['cumulativecount'] == 0].index[:-1], padding) # Ignore last one as always OOB\n",
    "    indicies = [i for i in indicies if i in test_single.index] # Ensure all indicies are in index (no out of bound error)\n",
    "    \n",
    "    return test_single.loc[indicies]"
   ]
  },
  {
   "cell_type": "code",
   "execution_count": 138,
   "id": "934bfe13-187e-4119-9139-24d3d9dcd321",
   "metadata": {},
   "outputs": [
    {
     "data": {
      "text/html": [
       "<div>\n",
       "<style scoped>\n",
       "    .dataframe tbody tr th:only-of-type {\n",
       "        vertical-align: middle;\n",
       "    }\n",
       "\n",
       "    .dataframe tbody tr th {\n",
       "        vertical-align: top;\n",
       "    }\n",
       "\n",
       "    .dataframe thead th {\n",
       "        text-align: right;\n",
       "    }\n",
       "</style>\n",
       "<table border=\"1\" class=\"dataframe\">\n",
       "  <thead>\n",
       "    <tr style=\"text-align: right;\">\n",
       "      <th></th>\n",
       "      <th>metre_id</th>\n",
       "      <th>timecode</th>\n",
       "      <th>kwh</th>\n",
       "      <th>timestamp</th>\n",
       "      <th>cumdiff</th>\n",
       "      <th>cumcheck</th>\n",
       "      <th>cumulativecount</th>\n",
       "    </tr>\n",
       "  </thead>\n",
       "  <tbody>\n",
       "    <tr>\n",
       "      <th>4991</th>\n",
       "      <td>7074</td>\n",
       "      <td>29848</td>\n",
       "      <td>2.157</td>\n",
       "      <td>2009-10-25 23:59:59</td>\n",
       "      <td>0 days 00:30:00</td>\n",
       "      <td>True</td>\n",
       "      <td>4992</td>\n",
       "    </tr>\n",
       "    <tr>\n",
       "      <th>4992</th>\n",
       "      <td>7074</td>\n",
       "      <td>29901</td>\n",
       "      <td>1.591</td>\n",
       "      <td>2009-10-26 00:29:59</td>\n",
       "      <td>0 days 00:00:00</td>\n",
       "      <td>False</td>\n",
       "      <td>0</td>\n",
       "    </tr>\n",
       "    <tr>\n",
       "      <th>4993</th>\n",
       "      <td>7074</td>\n",
       "      <td>29849</td>\n",
       "      <td>0.708</td>\n",
       "      <td>2009-10-26 00:29:59</td>\n",
       "      <td>0 days 00:30:00</td>\n",
       "      <td>True</td>\n",
       "      <td>1</td>\n",
       "    </tr>\n",
       "    <tr>\n",
       "      <th>4993</th>\n",
       "      <td>7074</td>\n",
       "      <td>29849</td>\n",
       "      <td>0.708</td>\n",
       "      <td>2009-10-26 00:29:59</td>\n",
       "      <td>0 days 00:30:00</td>\n",
       "      <td>True</td>\n",
       "      <td>1</td>\n",
       "    </tr>\n",
       "    <tr>\n",
       "      <th>4994</th>\n",
       "      <td>7074</td>\n",
       "      <td>29902</td>\n",
       "      <td>0.755</td>\n",
       "      <td>2009-10-26 00:59:59</td>\n",
       "      <td>0 days 00:00:00</td>\n",
       "      <td>False</td>\n",
       "      <td>0</td>\n",
       "    </tr>\n",
       "    <tr>\n",
       "      <th>4995</th>\n",
       "      <td>7074</td>\n",
       "      <td>29850</td>\n",
       "      <td>0.621</td>\n",
       "      <td>2009-10-26 00:59:59</td>\n",
       "      <td>0 days 00:30:00</td>\n",
       "      <td>True</td>\n",
       "      <td>1</td>\n",
       "    </tr>\n",
       "    <tr>\n",
       "      <th>12337</th>\n",
       "      <td>7074</td>\n",
       "      <td>45148</td>\n",
       "      <td>0.664</td>\n",
       "      <td>2010-03-27 23:59:59</td>\n",
       "      <td>0 days 00:30:00</td>\n",
       "      <td>True</td>\n",
       "      <td>7343</td>\n",
       "    </tr>\n",
       "    <tr>\n",
       "      <th>12338</th>\n",
       "      <td>7074</td>\n",
       "      <td>45201</td>\n",
       "      <td>0.766</td>\n",
       "      <td>2010-03-28 00:29:59</td>\n",
       "      <td>0 days 01:30:00</td>\n",
       "      <td>False</td>\n",
       "      <td>0</td>\n",
       "    </tr>\n",
       "    <tr>\n",
       "      <th>12339</th>\n",
       "      <td>7074</td>\n",
       "      <td>45204</td>\n",
       "      <td>0.656</td>\n",
       "      <td>2010-03-28 01:59:59</td>\n",
       "      <td>0 days 00:30:00</td>\n",
       "      <td>True</td>\n",
       "      <td>1</td>\n",
       "    </tr>\n",
       "  </tbody>\n",
       "</table>\n",
       "</div>"
      ],
      "text/plain": [
       "       metre_id timecode    kwh           timestamp         cumdiff  cumcheck  \\\n",
       "4991       7074    29848  2.157 2009-10-25 23:59:59 0 days 00:30:00      True   \n",
       "4992       7074    29901  1.591 2009-10-26 00:29:59 0 days 00:00:00     False   \n",
       "4993       7074    29849  0.708 2009-10-26 00:29:59 0 days 00:30:00      True   \n",
       "4993       7074    29849  0.708 2009-10-26 00:29:59 0 days 00:30:00      True   \n",
       "4994       7074    29902  0.755 2009-10-26 00:59:59 0 days 00:00:00     False   \n",
       "4995       7074    29850  0.621 2009-10-26 00:59:59 0 days 00:30:00      True   \n",
       "12337      7074    45148  0.664 2010-03-27 23:59:59 0 days 00:30:00      True   \n",
       "12338      7074    45201  0.766 2010-03-28 00:29:59 0 days 01:30:00     False   \n",
       "12339      7074    45204  0.656 2010-03-28 01:59:59 0 days 00:30:00      True   \n",
       "\n",
       "       cumulativecount  \n",
       "4991              4992  \n",
       "4992                 0  \n",
       "4993                 1  \n",
       "4993                 1  \n",
       "4994                 0  \n",
       "4995                 1  \n",
       "12337             7343  \n",
       "12338                0  \n",
       "12339                1  "
      ]
     },
     "execution_count": 138,
     "metadata": {},
     "output_type": "execute_result"
    }
   ],
   "source": [
    "investigate_breaks(7074, df_memory, padding=1)"
   ]
  },
  {
   "cell_type": "code",
   "execution_count": 139,
   "id": "d379a530-c1cc-482c-b0ed-da33d3ddaed9",
   "metadata": {},
   "outputs": [
    {
     "data": {
      "text/html": [
       "<div>\n",
       "<style scoped>\n",
       "    .dataframe tbody tr th:only-of-type {\n",
       "        vertical-align: middle;\n",
       "    }\n",
       "\n",
       "    .dataframe tbody tr th {\n",
       "        vertical-align: top;\n",
       "    }\n",
       "\n",
       "    .dataframe thead th {\n",
       "        text-align: right;\n",
       "    }\n",
       "</style>\n",
       "<table border=\"1\" class=\"dataframe\">\n",
       "  <thead>\n",
       "    <tr style=\"text-align: right;\">\n",
       "      <th></th>\n",
       "      <th>metre_id</th>\n",
       "      <th>timecode</th>\n",
       "      <th>kwh</th>\n",
       "      <th>timestamp</th>\n",
       "      <th>cumdiff</th>\n",
       "      <th>cumcheck</th>\n",
       "      <th>cumulativecount</th>\n",
       "    </tr>\n",
       "  </thead>\n",
       "  <tbody>\n",
       "    <tr>\n",
       "      <th>4991</th>\n",
       "      <td>3936</td>\n",
       "      <td>29848</td>\n",
       "      <td>0.549</td>\n",
       "      <td>2009-10-25 23:59:59</td>\n",
       "      <td>0 days 00:30:00</td>\n",
       "      <td>True</td>\n",
       "      <td>4992</td>\n",
       "    </tr>\n",
       "    <tr>\n",
       "      <th>4992</th>\n",
       "      <td>3936</td>\n",
       "      <td>29849</td>\n",
       "      <td>0.464</td>\n",
       "      <td>2009-10-26 00:29:59</td>\n",
       "      <td>0 days 00:00:00</td>\n",
       "      <td>False</td>\n",
       "      <td>0</td>\n",
       "    </tr>\n",
       "    <tr>\n",
       "      <th>4993</th>\n",
       "      <td>3936</td>\n",
       "      <td>29901</td>\n",
       "      <td>0.622</td>\n",
       "      <td>2009-10-26 00:29:59</td>\n",
       "      <td>0 days 00:30:00</td>\n",
       "      <td>True</td>\n",
       "      <td>1</td>\n",
       "    </tr>\n",
       "    <tr>\n",
       "      <th>4993</th>\n",
       "      <td>3936</td>\n",
       "      <td>29901</td>\n",
       "      <td>0.622</td>\n",
       "      <td>2009-10-26 00:29:59</td>\n",
       "      <td>0 days 00:30:00</td>\n",
       "      <td>True</td>\n",
       "      <td>1</td>\n",
       "    </tr>\n",
       "    <tr>\n",
       "      <th>4994</th>\n",
       "      <td>3936</td>\n",
       "      <td>29850</td>\n",
       "      <td>0.465</td>\n",
       "      <td>2009-10-26 00:59:59</td>\n",
       "      <td>0 days 00:00:00</td>\n",
       "      <td>False</td>\n",
       "      <td>0</td>\n",
       "    </tr>\n",
       "    <tr>\n",
       "      <th>4995</th>\n",
       "      <td>3936</td>\n",
       "      <td>29902</td>\n",
       "      <td>0.631</td>\n",
       "      <td>2009-10-26 00:59:59</td>\n",
       "      <td>0 days 00:30:00</td>\n",
       "      <td>True</td>\n",
       "      <td>1</td>\n",
       "    </tr>\n",
       "    <tr>\n",
       "      <th>12337</th>\n",
       "      <td>3936</td>\n",
       "      <td>45148</td>\n",
       "      <td>0.000</td>\n",
       "      <td>2010-03-27 23:59:59</td>\n",
       "      <td>0 days 00:30:00</td>\n",
       "      <td>True</td>\n",
       "      <td>7343</td>\n",
       "    </tr>\n",
       "    <tr>\n",
       "      <th>12338</th>\n",
       "      <td>3936</td>\n",
       "      <td>45201</td>\n",
       "      <td>0.000</td>\n",
       "      <td>2010-03-28 00:29:59</td>\n",
       "      <td>0 days 01:30:00</td>\n",
       "      <td>False</td>\n",
       "      <td>0</td>\n",
       "    </tr>\n",
       "    <tr>\n",
       "      <th>12339</th>\n",
       "      <td>3936</td>\n",
       "      <td>45204</td>\n",
       "      <td>0.000</td>\n",
       "      <td>2010-03-28 01:59:59</td>\n",
       "      <td>0 days 00:30:00</td>\n",
       "      <td>True</td>\n",
       "      <td>1</td>\n",
       "    </tr>\n",
       "  </tbody>\n",
       "</table>\n",
       "</div>"
      ],
      "text/plain": [
       "       metre_id timecode    kwh           timestamp         cumdiff  cumcheck  \\\n",
       "4991       3936    29848  0.549 2009-10-25 23:59:59 0 days 00:30:00      True   \n",
       "4992       3936    29849  0.464 2009-10-26 00:29:59 0 days 00:00:00     False   \n",
       "4993       3936    29901  0.622 2009-10-26 00:29:59 0 days 00:30:00      True   \n",
       "4993       3936    29901  0.622 2009-10-26 00:29:59 0 days 00:30:00      True   \n",
       "4994       3936    29850  0.465 2009-10-26 00:59:59 0 days 00:00:00     False   \n",
       "4995       3936    29902  0.631 2009-10-26 00:59:59 0 days 00:30:00      True   \n",
       "12337      3936    45148  0.000 2010-03-27 23:59:59 0 days 00:30:00      True   \n",
       "12338      3936    45201  0.000 2010-03-28 00:29:59 0 days 01:30:00     False   \n",
       "12339      3936    45204  0.000 2010-03-28 01:59:59 0 days 00:30:00      True   \n",
       "\n",
       "       cumulativecount  \n",
       "4991              4992  \n",
       "4992                 0  \n",
       "4993                 1  \n",
       "4993                 1  \n",
       "4994                 0  \n",
       "4995                 1  \n",
       "12337             7343  \n",
       "12338                0  \n",
       "12339                1  "
      ]
     },
     "execution_count": 139,
     "metadata": {},
     "output_type": "execute_result"
    }
   ],
   "source": [
    "investigate_breaks(3936, df_memory, padding=1)"
   ]
  },
  {
   "cell_type": "code",
   "execution_count": 140,
   "id": "ee56abb0-09bd-4288-b08a-1e18b35f92ce",
   "metadata": {},
   "outputs": [
    {
     "data": {
      "text/html": [
       "<div>\n",
       "<style scoped>\n",
       "    .dataframe tbody tr th:only-of-type {\n",
       "        vertical-align: middle;\n",
       "    }\n",
       "\n",
       "    .dataframe tbody tr th {\n",
       "        vertical-align: top;\n",
       "    }\n",
       "\n",
       "    .dataframe thead th {\n",
       "        text-align: right;\n",
       "    }\n",
       "</style>\n",
       "<table border=\"1\" class=\"dataframe\">\n",
       "  <thead>\n",
       "    <tr style=\"text-align: right;\">\n",
       "      <th></th>\n",
       "      <th>metre_id</th>\n",
       "      <th>timecode</th>\n",
       "      <th>kwh</th>\n",
       "      <th>timestamp</th>\n",
       "      <th>cumdiff</th>\n",
       "      <th>cumcheck</th>\n",
       "      <th>cumulativecount</th>\n",
       "    </tr>\n",
       "  </thead>\n",
       "  <tbody>\n",
       "    <tr>\n",
       "      <th>4991</th>\n",
       "      <td>1000</td>\n",
       "      <td>29848</td>\n",
       "      <td>0.222</td>\n",
       "      <td>2009-10-25 23:59:59</td>\n",
       "      <td>0 days 00:30:00</td>\n",
       "      <td>True</td>\n",
       "      <td>4992</td>\n",
       "    </tr>\n",
       "    <tr>\n",
       "      <th>4992</th>\n",
       "      <td>1000</td>\n",
       "      <td>29901</td>\n",
       "      <td>0.063</td>\n",
       "      <td>2009-10-26 00:29:59</td>\n",
       "      <td>0 days 00:00:00</td>\n",
       "      <td>False</td>\n",
       "      <td>0</td>\n",
       "    </tr>\n",
       "    <tr>\n",
       "      <th>4993</th>\n",
       "      <td>1000</td>\n",
       "      <td>29849</td>\n",
       "      <td>0.047</td>\n",
       "      <td>2009-10-26 00:29:59</td>\n",
       "      <td>0 days 00:30:00</td>\n",
       "      <td>True</td>\n",
       "      <td>1</td>\n",
       "    </tr>\n",
       "    <tr>\n",
       "      <th>4993</th>\n",
       "      <td>1000</td>\n",
       "      <td>29849</td>\n",
       "      <td>0.047</td>\n",
       "      <td>2009-10-26 00:29:59</td>\n",
       "      <td>0 days 00:30:00</td>\n",
       "      <td>True</td>\n",
       "      <td>1</td>\n",
       "    </tr>\n",
       "    <tr>\n",
       "      <th>4994</th>\n",
       "      <td>1000</td>\n",
       "      <td>29902</td>\n",
       "      <td>0.037</td>\n",
       "      <td>2009-10-26 00:59:59</td>\n",
       "      <td>0 days 00:00:00</td>\n",
       "      <td>False</td>\n",
       "      <td>0</td>\n",
       "    </tr>\n",
       "    <tr>\n",
       "      <th>4995</th>\n",
       "      <td>1000</td>\n",
       "      <td>29850</td>\n",
       "      <td>0.027</td>\n",
       "      <td>2009-10-26 00:59:59</td>\n",
       "      <td>0 days 00:30:00</td>\n",
       "      <td>True</td>\n",
       "      <td>1</td>\n",
       "    </tr>\n",
       "    <tr>\n",
       "      <th>12337</th>\n",
       "      <td>1000</td>\n",
       "      <td>45148</td>\n",
       "      <td>0.107</td>\n",
       "      <td>2010-03-27 23:59:59</td>\n",
       "      <td>0 days 00:30:00</td>\n",
       "      <td>True</td>\n",
       "      <td>7343</td>\n",
       "    </tr>\n",
       "    <tr>\n",
       "      <th>12338</th>\n",
       "      <td>1000</td>\n",
       "      <td>45201</td>\n",
       "      <td>0.024</td>\n",
       "      <td>2010-03-28 00:29:59</td>\n",
       "      <td>0 days 01:30:00</td>\n",
       "      <td>False</td>\n",
       "      <td>0</td>\n",
       "    </tr>\n",
       "    <tr>\n",
       "      <th>12339</th>\n",
       "      <td>1000</td>\n",
       "      <td>45204</td>\n",
       "      <td>0.024</td>\n",
       "      <td>2010-03-28 01:59:59</td>\n",
       "      <td>0 days 00:30:00</td>\n",
       "      <td>True</td>\n",
       "      <td>1</td>\n",
       "    </tr>\n",
       "    <tr>\n",
       "      <th>22799</th>\n",
       "      <td>1000</td>\n",
       "      <td>66948</td>\n",
       "      <td>0.057</td>\n",
       "      <td>2010-10-31 23:59:59</td>\n",
       "      <td>0 days 00:30:00</td>\n",
       "      <td>True</td>\n",
       "      <td>10461</td>\n",
       "    </tr>\n",
       "    <tr>\n",
       "      <th>22800</th>\n",
       "      <td>1000</td>\n",
       "      <td>66949</td>\n",
       "      <td>0.020</td>\n",
       "      <td>2010-11-01 00:29:59</td>\n",
       "      <td>0 days 00:00:00</td>\n",
       "      <td>False</td>\n",
       "      <td>0</td>\n",
       "    </tr>\n",
       "    <tr>\n",
       "      <th>22801</th>\n",
       "      <td>1000</td>\n",
       "      <td>67001</td>\n",
       "      <td>0.100</td>\n",
       "      <td>2010-11-01 00:29:59</td>\n",
       "      <td>0 days 00:30:00</td>\n",
       "      <td>True</td>\n",
       "      <td>1</td>\n",
       "    </tr>\n",
       "    <tr>\n",
       "      <th>22801</th>\n",
       "      <td>1000</td>\n",
       "      <td>67001</td>\n",
       "      <td>0.100</td>\n",
       "      <td>2010-11-01 00:29:59</td>\n",
       "      <td>0 days 00:30:00</td>\n",
       "      <td>True</td>\n",
       "      <td>1</td>\n",
       "    </tr>\n",
       "    <tr>\n",
       "      <th>22802</th>\n",
       "      <td>1000</td>\n",
       "      <td>67002</td>\n",
       "      <td>0.020</td>\n",
       "      <td>2010-11-01 00:59:59</td>\n",
       "      <td>0 days 00:00:00</td>\n",
       "      <td>False</td>\n",
       "      <td>0</td>\n",
       "    </tr>\n",
       "    <tr>\n",
       "      <th>22803</th>\n",
       "      <td>1000</td>\n",
       "      <td>66950</td>\n",
       "      <td>0.020</td>\n",
       "      <td>2010-11-01 00:59:59</td>\n",
       "      <td>0 days 00:30:00</td>\n",
       "      <td>True</td>\n",
       "      <td>1</td>\n",
       "    </tr>\n",
       "  </tbody>\n",
       "</table>\n",
       "</div>"
      ],
      "text/plain": [
       "       metre_id timecode    kwh           timestamp         cumdiff  cumcheck  \\\n",
       "4991       1000    29848  0.222 2009-10-25 23:59:59 0 days 00:30:00      True   \n",
       "4992       1000    29901  0.063 2009-10-26 00:29:59 0 days 00:00:00     False   \n",
       "4993       1000    29849  0.047 2009-10-26 00:29:59 0 days 00:30:00      True   \n",
       "4993       1000    29849  0.047 2009-10-26 00:29:59 0 days 00:30:00      True   \n",
       "4994       1000    29902  0.037 2009-10-26 00:59:59 0 days 00:00:00     False   \n",
       "4995       1000    29850  0.027 2009-10-26 00:59:59 0 days 00:30:00      True   \n",
       "12337      1000    45148  0.107 2010-03-27 23:59:59 0 days 00:30:00      True   \n",
       "12338      1000    45201  0.024 2010-03-28 00:29:59 0 days 01:30:00     False   \n",
       "12339      1000    45204  0.024 2010-03-28 01:59:59 0 days 00:30:00      True   \n",
       "22799      1000    66948  0.057 2010-10-31 23:59:59 0 days 00:30:00      True   \n",
       "22800      1000    66949  0.020 2010-11-01 00:29:59 0 days 00:00:00     False   \n",
       "22801      1000    67001  0.100 2010-11-01 00:29:59 0 days 00:30:00      True   \n",
       "22801      1000    67001  0.100 2010-11-01 00:29:59 0 days 00:30:00      True   \n",
       "22802      1000    67002  0.020 2010-11-01 00:59:59 0 days 00:00:00     False   \n",
       "22803      1000    66950  0.020 2010-11-01 00:59:59 0 days 00:30:00      True   \n",
       "\n",
       "       cumulativecount  \n",
       "4991              4992  \n",
       "4992                 0  \n",
       "4993                 1  \n",
       "4993                 1  \n",
       "4994                 0  \n",
       "4995                 1  \n",
       "12337             7343  \n",
       "12338                0  \n",
       "12339                1  \n",
       "22799            10461  \n",
       "22800                0  \n",
       "22801                1  \n",
       "22801                1  \n",
       "22802                0  \n",
       "22803                1  "
      ]
     },
     "execution_count": 140,
     "metadata": {},
     "output_type": "execute_result"
    }
   ],
   "source": [
    "investigate_breaks(1000, df_memory, padding=1)"
   ]
  },
  {
   "cell_type": "code",
   "execution_count": 141,
   "id": "1398a869-b586-438c-b7e6-12e3691588b8",
   "metadata": {},
   "outputs": [
    {
     "data": {
      "text/html": [
       "<div>\n",
       "<style scoped>\n",
       "    .dataframe tbody tr th:only-of-type {\n",
       "        vertical-align: middle;\n",
       "    }\n",
       "\n",
       "    .dataframe tbody tr th {\n",
       "        vertical-align: top;\n",
       "    }\n",
       "\n",
       "    .dataframe thead th {\n",
       "        text-align: right;\n",
       "    }\n",
       "</style>\n",
       "<table border=\"1\" class=\"dataframe\">\n",
       "  <thead>\n",
       "    <tr style=\"text-align: right;\">\n",
       "      <th></th>\n",
       "      <th>metre_id</th>\n",
       "      <th>timecode</th>\n",
       "      <th>kwh</th>\n",
       "      <th>timestamp</th>\n",
       "      <th>cumdiff</th>\n",
       "      <th>cumcheck</th>\n",
       "      <th>cumulativecount</th>\n",
       "    </tr>\n",
       "  </thead>\n",
       "  <tbody>\n",
       "    <tr>\n",
       "      <th>4991</th>\n",
       "      <td>5122</td>\n",
       "      <td>29848</td>\n",
       "      <td>0.050</td>\n",
       "      <td>2009-10-25 23:59:59</td>\n",
       "      <td>0 days 00:30:00</td>\n",
       "      <td>True</td>\n",
       "      <td>4992</td>\n",
       "    </tr>\n",
       "    <tr>\n",
       "      <th>4992</th>\n",
       "      <td>5122</td>\n",
       "      <td>29849</td>\n",
       "      <td>0.115</td>\n",
       "      <td>2009-10-26 00:29:59</td>\n",
       "      <td>0 days 00:00:00</td>\n",
       "      <td>False</td>\n",
       "      <td>0</td>\n",
       "    </tr>\n",
       "    <tr>\n",
       "      <th>4993</th>\n",
       "      <td>5122</td>\n",
       "      <td>29901</td>\n",
       "      <td>0.056</td>\n",
       "      <td>2009-10-26 00:29:59</td>\n",
       "      <td>0 days 00:30:00</td>\n",
       "      <td>True</td>\n",
       "      <td>1</td>\n",
       "    </tr>\n",
       "    <tr>\n",
       "      <th>4993</th>\n",
       "      <td>5122</td>\n",
       "      <td>29901</td>\n",
       "      <td>0.056</td>\n",
       "      <td>2009-10-26 00:29:59</td>\n",
       "      <td>0 days 00:30:00</td>\n",
       "      <td>True</td>\n",
       "      <td>1</td>\n",
       "    </tr>\n",
       "    <tr>\n",
       "      <th>4994</th>\n",
       "      <td>5122</td>\n",
       "      <td>29850</td>\n",
       "      <td>0.071</td>\n",
       "      <td>2009-10-26 00:59:59</td>\n",
       "      <td>0 days 00:00:00</td>\n",
       "      <td>False</td>\n",
       "      <td>0</td>\n",
       "    </tr>\n",
       "    <tr>\n",
       "      <th>4995</th>\n",
       "      <td>5122</td>\n",
       "      <td>29902</td>\n",
       "      <td>0.116</td>\n",
       "      <td>2009-10-26 00:59:59</td>\n",
       "      <td>0 days 00:30:00</td>\n",
       "      <td>True</td>\n",
       "      <td>1</td>\n",
       "    </tr>\n",
       "    <tr>\n",
       "      <th>12337</th>\n",
       "      <td>5122</td>\n",
       "      <td>45148</td>\n",
       "      <td>0.120</td>\n",
       "      <td>2010-03-27 23:59:59</td>\n",
       "      <td>0 days 00:30:00</td>\n",
       "      <td>True</td>\n",
       "      <td>7343</td>\n",
       "    </tr>\n",
       "    <tr>\n",
       "      <th>12338</th>\n",
       "      <td>5122</td>\n",
       "      <td>45201</td>\n",
       "      <td>0.106</td>\n",
       "      <td>2010-03-28 00:29:59</td>\n",
       "      <td>0 days 01:30:00</td>\n",
       "      <td>False</td>\n",
       "      <td>0</td>\n",
       "    </tr>\n",
       "    <tr>\n",
       "      <th>12339</th>\n",
       "      <td>5122</td>\n",
       "      <td>45204</td>\n",
       "      <td>0.058</td>\n",
       "      <td>2010-03-28 01:59:59</td>\n",
       "      <td>0 days 00:30:00</td>\n",
       "      <td>True</td>\n",
       "      <td>1</td>\n",
       "    </tr>\n",
       "    <tr>\n",
       "      <th>22799</th>\n",
       "      <td>5122</td>\n",
       "      <td>66948</td>\n",
       "      <td>0.090</td>\n",
       "      <td>2010-10-31 23:59:59</td>\n",
       "      <td>0 days 00:30:00</td>\n",
       "      <td>True</td>\n",
       "      <td>10461</td>\n",
       "    </tr>\n",
       "    <tr>\n",
       "      <th>22800</th>\n",
       "      <td>5122</td>\n",
       "      <td>66949</td>\n",
       "      <td>0.092</td>\n",
       "      <td>2010-11-01 00:29:59</td>\n",
       "      <td>0 days 00:00:00</td>\n",
       "      <td>False</td>\n",
       "      <td>0</td>\n",
       "    </tr>\n",
       "    <tr>\n",
       "      <th>22801</th>\n",
       "      <td>5122</td>\n",
       "      <td>67001</td>\n",
       "      <td>0.062</td>\n",
       "      <td>2010-11-01 00:29:59</td>\n",
       "      <td>0 days 00:30:00</td>\n",
       "      <td>True</td>\n",
       "      <td>1</td>\n",
       "    </tr>\n",
       "    <tr>\n",
       "      <th>22801</th>\n",
       "      <td>5122</td>\n",
       "      <td>67001</td>\n",
       "      <td>0.062</td>\n",
       "      <td>2010-11-01 00:29:59</td>\n",
       "      <td>0 days 00:30:00</td>\n",
       "      <td>True</td>\n",
       "      <td>1</td>\n",
       "    </tr>\n",
       "    <tr>\n",
       "      <th>22802</th>\n",
       "      <td>5122</td>\n",
       "      <td>66950</td>\n",
       "      <td>0.068</td>\n",
       "      <td>2010-11-01 00:59:59</td>\n",
       "      <td>0 days 00:00:00</td>\n",
       "      <td>False</td>\n",
       "      <td>0</td>\n",
       "    </tr>\n",
       "    <tr>\n",
       "      <th>22803</th>\n",
       "      <td>5122</td>\n",
       "      <td>67002</td>\n",
       "      <td>0.062</td>\n",
       "      <td>2010-11-01 00:59:59</td>\n",
       "      <td>0 days 00:30:00</td>\n",
       "      <td>True</td>\n",
       "      <td>1</td>\n",
       "    </tr>\n",
       "  </tbody>\n",
       "</table>\n",
       "</div>"
      ],
      "text/plain": [
       "       metre_id timecode    kwh           timestamp         cumdiff  cumcheck  \\\n",
       "4991       5122    29848  0.050 2009-10-25 23:59:59 0 days 00:30:00      True   \n",
       "4992       5122    29849  0.115 2009-10-26 00:29:59 0 days 00:00:00     False   \n",
       "4993       5122    29901  0.056 2009-10-26 00:29:59 0 days 00:30:00      True   \n",
       "4993       5122    29901  0.056 2009-10-26 00:29:59 0 days 00:30:00      True   \n",
       "4994       5122    29850  0.071 2009-10-26 00:59:59 0 days 00:00:00     False   \n",
       "4995       5122    29902  0.116 2009-10-26 00:59:59 0 days 00:30:00      True   \n",
       "12337      5122    45148  0.120 2010-03-27 23:59:59 0 days 00:30:00      True   \n",
       "12338      5122    45201  0.106 2010-03-28 00:29:59 0 days 01:30:00     False   \n",
       "12339      5122    45204  0.058 2010-03-28 01:59:59 0 days 00:30:00      True   \n",
       "22799      5122    66948  0.090 2010-10-31 23:59:59 0 days 00:30:00      True   \n",
       "22800      5122    66949  0.092 2010-11-01 00:29:59 0 days 00:00:00     False   \n",
       "22801      5122    67001  0.062 2010-11-01 00:29:59 0 days 00:30:00      True   \n",
       "22801      5122    67001  0.062 2010-11-01 00:29:59 0 days 00:30:00      True   \n",
       "22802      5122    66950  0.068 2010-11-01 00:59:59 0 days 00:00:00     False   \n",
       "22803      5122    67002  0.062 2010-11-01 00:59:59 0 days 00:30:00      True   \n",
       "\n",
       "       cumulativecount  \n",
       "4991              4992  \n",
       "4992                 0  \n",
       "4993                 1  \n",
       "4993                 1  \n",
       "4994                 0  \n",
       "4995                 1  \n",
       "12337             7343  \n",
       "12338                0  \n",
       "12339                1  \n",
       "22799            10461  \n",
       "22800                0  \n",
       "22801                1  \n",
       "22801                1  \n",
       "22802                0  \n",
       "22803                1  "
      ]
     },
     "execution_count": 141,
     "metadata": {},
     "output_type": "execute_result"
    }
   ],
   "source": [
    "investigate_breaks(5122, df_memory, padding=1)"
   ]
  },
  {
   "cell_type": "markdown",
   "id": "be7cfad4-fd73-42e8-92a7-973de8461b4f",
   "metadata": {},
   "source": [
    "Okay - so the above is looking promising.\n",
    "\n",
    "In all of our top examples (where maximum consecutive 15 minute intervals are $10463$), it appears that there are the same break points, i.e.:\n",
    "* 4991, 12337, 22799\n",
    "\n",
    "Based on the above, we can review and comment for the following break points:\n",
    "* **4991**: timecode 29901 goes into timecode 29849. These are effectively the same timecode (as we are not meant to go above 48 for the last two digits) and therefore this is why it's breaking. \n",
    "* **12337**: timecode 45201 goes to timecode 45204. Missing 3 time code recordings.\n",
    "* **22799**: timecode 66949 goes to 67001. Once again, same as 4991, these are the same time codes.\n",
    "\n",
    "### 1D. Fix break points\n",
    "\n",
    "Given that there's only a few break points (4 for each of the above) for the meters which have $10462$ and $10463$ consecutive transactions, let's just fix them:\n",
    "* Overlap errors: take the average; and\n",
    "* Missing errors: propogate last known value.\n",
    "\n",
    "While these fixes are basic and do not leverage other more advanced imputation techniques (i.e., regression imputation, KNN, etc.), given the few break points these should be sufficient. As such, when implementing our fixes, we should also check to ensure that not too many break points are being fixed (i.e., if we have 500 break points, these fixes are not appropriate).\n",
    "\n",
    "Furthermore, this should result in at least $5410$ meters worth of data with approx 25k rows each. As we will have achieved sufficient quantum (~135 million recordings), we will not use the remaining data."
   ]
  },
  {
   "cell_type": "markdown",
   "id": "b4b53f34-8603-4068-9187-aa2207054199",
   "metadata": {},
   "source": [
    "pseudo  code:\n",
    "\n",
    "if cumdiff = 0:00: change current row to average of this row and next row, remove following row \\\n",
    "elif cumdiff > 0:15: create all frequencies between this nad next row, let timecode = 'created', kwh = 'last known'"
   ]
  },
  {
   "cell_type": "markdown",
   "id": "7ef22a64-94bc-440a-a7da-a8fdee270068",
   "metadata": {},
   "source": [
    "Firstly, let's create the subset of `df_memory` with the 5142 records with 10,462 consecutive values."
   ]
  },
  {
   "cell_type": "code",
   "execution_count": 142,
   "id": "46e03600-7049-433c-a160-fd01a8245c10",
   "metadata": {},
   "outputs": [],
   "source": [
    "df_memory = df_memory.astype({'metre_id': 'object'})"
   ]
  },
  {
   "cell_type": "code",
   "execution_count": 143,
   "id": "5e2d5b69-9cd0-466a-a38c-52f3b58b77ab",
   "metadata": {},
   "outputs": [],
   "source": [
    "meters_to_keep = consec_counts[consec_counts['max_consec'] == 10462].index"
   ]
  },
  {
   "cell_type": "code",
   "execution_count": 144,
   "id": "430d7942-f0ce-45c9-ae84-4bd9720d6296",
   "metadata": {},
   "outputs": [],
   "source": [
    "df_truncated_memory = df_memory[df_memory['metre_id'].isin(meters_to_keep)]"
   ]
  },
  {
   "cell_type": "code",
   "execution_count": 145,
   "id": "57be2789-789d-4080-b1ea-894a84e7a622",
   "metadata": {},
   "outputs": [
    {
     "data": {
      "text/html": [
       "<div>\n",
       "<style scoped>\n",
       "    .dataframe tbody tr th:only-of-type {\n",
       "        vertical-align: middle;\n",
       "    }\n",
       "\n",
       "    .dataframe tbody tr th {\n",
       "        vertical-align: top;\n",
       "    }\n",
       "\n",
       "    .dataframe thead th {\n",
       "        text-align: right;\n",
       "    }\n",
       "</style>\n",
       "<table border=\"1\" class=\"dataframe\">\n",
       "  <thead>\n",
       "    <tr style=\"text-align: right;\">\n",
       "      <th></th>\n",
       "      <th>total_count</th>\n",
       "      <th>max_consec</th>\n",
       "      <th>start</th>\n",
       "      <th>end</th>\n",
       "    </tr>\n",
       "    <tr>\n",
       "      <th>metre_id</th>\n",
       "      <th></th>\n",
       "      <th></th>\n",
       "      <th></th>\n",
       "      <th></th>\n",
       "    </tr>\n",
       "  </thead>\n",
       "  <tbody>\n",
       "    <tr>\n",
       "      <th>1000</th>\n",
       "      <td>25730</td>\n",
       "      <td>10462</td>\n",
       "      <td>2010-03-28 01:59:59</td>\n",
       "      <td>2010-10-31 23:59:59</td>\n",
       "    </tr>\n",
       "    <tr>\n",
       "      <th>1001</th>\n",
       "      <td>25730</td>\n",
       "      <td>10462</td>\n",
       "      <td>2010-03-28 01:59:59</td>\n",
       "      <td>2010-10-31 23:59:59</td>\n",
       "    </tr>\n",
       "    <tr>\n",
       "      <th>1002</th>\n",
       "      <td>25730</td>\n",
       "      <td>10462</td>\n",
       "      <td>2010-03-28 01:59:59</td>\n",
       "      <td>2010-10-31 23:59:59</td>\n",
       "    </tr>\n",
       "    <tr>\n",
       "      <th>1003</th>\n",
       "      <td>25730</td>\n",
       "      <td>10462</td>\n",
       "      <td>2010-03-28 01:59:59</td>\n",
       "      <td>2010-10-31 23:59:59</td>\n",
       "    </tr>\n",
       "    <tr>\n",
       "      <th>1004</th>\n",
       "      <td>25730</td>\n",
       "      <td>10462</td>\n",
       "      <td>2010-03-28 01:59:59</td>\n",
       "      <td>2010-10-31 23:59:59</td>\n",
       "    </tr>\n",
       "    <tr>\n",
       "      <th>...</th>\n",
       "      <td>...</td>\n",
       "      <td>...</td>\n",
       "      <td>...</td>\n",
       "      <td>...</td>\n",
       "    </tr>\n",
       "    <tr>\n",
       "      <th>7438</th>\n",
       "      <td>25730</td>\n",
       "      <td>10462</td>\n",
       "      <td>2010-03-28 01:59:59</td>\n",
       "      <td>2010-10-31 23:59:59</td>\n",
       "    </tr>\n",
       "    <tr>\n",
       "      <th>7439</th>\n",
       "      <td>25634</td>\n",
       "      <td>10462</td>\n",
       "      <td>2010-03-28 01:59:59</td>\n",
       "      <td>2010-10-31 23:59:59</td>\n",
       "    </tr>\n",
       "    <tr>\n",
       "      <th>7441</th>\n",
       "      <td>25730</td>\n",
       "      <td>10462</td>\n",
       "      <td>2010-03-28 01:59:59</td>\n",
       "      <td>2010-10-31 23:59:59</td>\n",
       "    </tr>\n",
       "    <tr>\n",
       "      <th>7442</th>\n",
       "      <td>25730</td>\n",
       "      <td>10462</td>\n",
       "      <td>2010-03-28 01:59:59</td>\n",
       "      <td>2010-10-31 23:59:59</td>\n",
       "    </tr>\n",
       "    <tr>\n",
       "      <th>7443</th>\n",
       "      <td>25730</td>\n",
       "      <td>10462</td>\n",
       "      <td>2010-03-28 01:59:59</td>\n",
       "      <td>2010-10-31 23:59:59</td>\n",
       "    </tr>\n",
       "  </tbody>\n",
       "</table>\n",
       "<p>5410 rows × 4 columns</p>\n",
       "</div>"
      ],
      "text/plain": [
       "          total_count  max_consec               start                 end\n",
       "metre_id                                                                 \n",
       "1000            25730       10462 2010-03-28 01:59:59 2010-10-31 23:59:59\n",
       "1001            25730       10462 2010-03-28 01:59:59 2010-10-31 23:59:59\n",
       "1002            25730       10462 2010-03-28 01:59:59 2010-10-31 23:59:59\n",
       "1003            25730       10462 2010-03-28 01:59:59 2010-10-31 23:59:59\n",
       "1004            25730       10462 2010-03-28 01:59:59 2010-10-31 23:59:59\n",
       "...               ...         ...                 ...                 ...\n",
       "7438            25730       10462 2010-03-28 01:59:59 2010-10-31 23:59:59\n",
       "7439            25634       10462 2010-03-28 01:59:59 2010-10-31 23:59:59\n",
       "7441            25730       10462 2010-03-28 01:59:59 2010-10-31 23:59:59\n",
       "7442            25730       10462 2010-03-28 01:59:59 2010-10-31 23:59:59\n",
       "7443            25730       10462 2010-03-28 01:59:59 2010-10-31 23:59:59\n",
       "\n",
       "[5410 rows x 4 columns]"
      ]
     },
     "execution_count": 145,
     "metadata": {},
     "output_type": "execute_result"
    }
   ],
   "source": [
    "df_truncated_memory.groupby('metre_id').apply(calculate_consecutive_intervals)"
   ]
  },
  {
   "cell_type": "markdown",
   "id": "99bdf582-e97e-4c3a-927b-46cb6dadffda",
   "metadata": {},
   "source": [
    "Apply averaging for same rows"
   ]
  },
  {
   "cell_type": "code",
   "execution_count": 146,
   "id": "68462b98-cc21-45ae-83c6-e38aa81d6654",
   "metadata": {},
   "outputs": [],
   "source": [
    "def get_all_breaks(df):\n",
    "    \n",
    "    \"\"\"\n",
    "    Print break points for all records in the dataframe\n",
    "    \"\"\"\n",
    "    \n",
    "    for i, meter in enumerate(df.metre_id.unique()):\n",
    "        \n",
    "        test_single = df[df['metre_id'] == meter]\n",
    "        test_single = test_single.sort_values('timestamp', ascending=True)\n",
    "        test_single.reset_index(inplace=True, drop=True)\n",
    "        test_single2 = (test_single.timestamp.shift(-1) - test_single.timestamp) == pd.to_timedelta(30, 'minutes')\n",
    "        test_single3 = test_single2.cumsum()\n",
    "        test_single['cumdiff'] =  (test_single.timestamp.shift(-1) - test_single.timestamp)\n",
    "        test_single['cumcheck'] = test_single2\n",
    "        test_single['cumulativecount'] = test_single3.sub(test_single3.mask(test_single2).ffill().fillna(0).astype(int))\n",
    "        \n",
    "        # Get indicies \n",
    "        indicies = test_single[test_single['cumulativecount'] == 0].index[:-1]\n",
    "        \n",
    "        test_single = test_single.loc[indicies]\n",
    "        \n",
    "        # Check if first\n",
    "        if i != 0:\n",
    "            test_multiple = pd.concat([test_multiple,test_single])\n",
    "        elif i == 0:\n",
    "            test_multiple = test_single\n",
    "    \n",
    "    return test_multiple"
   ]
  },
  {
   "cell_type": "code",
   "execution_count": 147,
   "id": "c4baeac9-e2fd-43ed-af60-c268b1eef842",
   "metadata": {},
   "outputs": [],
   "source": [
    "def fix_duplicate_using_avg(df):\n",
    "    \n",
    "    return df.groupby(['timestamp', 'metre_id']).mean().reset_index()"
   ]
  },
  {
   "cell_type": "code",
   "execution_count": 148,
   "id": "decca65e-30ef-4bdd-ab9d-d7033347437b",
   "metadata": {},
   "outputs": [],
   "source": [
    "df_truncated_memory = df_truncated_memory.groupby(['timestamp', 'metre_id']).mean().reset_index()"
   ]
  },
  {
   "cell_type": "code",
   "execution_count": 149,
   "id": "a95e4eea-03e4-4fb3-a33a-5265b560afb3",
   "metadata": {},
   "outputs": [
    {
     "data": {
      "text/html": [
       "<div>\n",
       "<style scoped>\n",
       "    .dataframe tbody tr th:only-of-type {\n",
       "        vertical-align: middle;\n",
       "    }\n",
       "\n",
       "    .dataframe tbody tr th {\n",
       "        vertical-align: top;\n",
       "    }\n",
       "\n",
       "    .dataframe thead th {\n",
       "        text-align: right;\n",
       "    }\n",
       "</style>\n",
       "<table border=\"1\" class=\"dataframe\">\n",
       "  <thead>\n",
       "    <tr style=\"text-align: right;\">\n",
       "      <th></th>\n",
       "      <th>total_count</th>\n",
       "      <th>max_consec</th>\n",
       "      <th>start</th>\n",
       "      <th>end</th>\n",
       "    </tr>\n",
       "    <tr>\n",
       "      <th>metre_id</th>\n",
       "      <th></th>\n",
       "      <th></th>\n",
       "      <th></th>\n",
       "      <th></th>\n",
       "    </tr>\n",
       "  </thead>\n",
       "  <tbody>\n",
       "    <tr>\n",
       "      <th>1000</th>\n",
       "      <td>25726</td>\n",
       "      <td>13389</td>\n",
       "      <td>2010-03-28 01:59:59</td>\n",
       "      <td>2010-12-31 23:29:59</td>\n",
       "    </tr>\n",
       "    <tr>\n",
       "      <th>1001</th>\n",
       "      <td>25726</td>\n",
       "      <td>13389</td>\n",
       "      <td>2010-03-28 01:59:59</td>\n",
       "      <td>2010-12-31 23:29:59</td>\n",
       "    </tr>\n",
       "    <tr>\n",
       "      <th>1002</th>\n",
       "      <td>25726</td>\n",
       "      <td>13389</td>\n",
       "      <td>2010-03-28 01:59:59</td>\n",
       "      <td>2010-12-31 23:29:59</td>\n",
       "    </tr>\n",
       "    <tr>\n",
       "      <th>1003</th>\n",
       "      <td>25726</td>\n",
       "      <td>13389</td>\n",
       "      <td>2010-03-28 01:59:59</td>\n",
       "      <td>2010-12-31 23:29:59</td>\n",
       "    </tr>\n",
       "    <tr>\n",
       "      <th>1004</th>\n",
       "      <td>25726</td>\n",
       "      <td>13389</td>\n",
       "      <td>2010-03-28 01:59:59</td>\n",
       "      <td>2010-12-31 23:29:59</td>\n",
       "    </tr>\n",
       "    <tr>\n",
       "      <th>...</th>\n",
       "      <td>...</td>\n",
       "      <td>...</td>\n",
       "      <td>...</td>\n",
       "      <td>...</td>\n",
       "    </tr>\n",
       "    <tr>\n",
       "      <th>7438</th>\n",
       "      <td>25726</td>\n",
       "      <td>13389</td>\n",
       "      <td>2010-03-28 01:59:59</td>\n",
       "      <td>2010-12-31 23:29:59</td>\n",
       "    </tr>\n",
       "    <tr>\n",
       "      <th>7439</th>\n",
       "      <td>25630</td>\n",
       "      <td>12337</td>\n",
       "      <td>2009-07-14 00:29:59</td>\n",
       "      <td>2010-03-27 23:59:59</td>\n",
       "    </tr>\n",
       "    <tr>\n",
       "      <th>7441</th>\n",
       "      <td>25726</td>\n",
       "      <td>13389</td>\n",
       "      <td>2010-03-28 01:59:59</td>\n",
       "      <td>2010-12-31 23:29:59</td>\n",
       "    </tr>\n",
       "    <tr>\n",
       "      <th>7442</th>\n",
       "      <td>25726</td>\n",
       "      <td>13389</td>\n",
       "      <td>2010-03-28 01:59:59</td>\n",
       "      <td>2010-12-31 23:29:59</td>\n",
       "    </tr>\n",
       "    <tr>\n",
       "      <th>7443</th>\n",
       "      <td>25726</td>\n",
       "      <td>13389</td>\n",
       "      <td>2010-03-28 01:59:59</td>\n",
       "      <td>2010-12-31 23:29:59</td>\n",
       "    </tr>\n",
       "  </tbody>\n",
       "</table>\n",
       "<p>5410 rows × 4 columns</p>\n",
       "</div>"
      ],
      "text/plain": [
       "          total_count  max_consec               start                 end\n",
       "metre_id                                                                 \n",
       "1000            25726       13389 2010-03-28 01:59:59 2010-12-31 23:29:59\n",
       "1001            25726       13389 2010-03-28 01:59:59 2010-12-31 23:29:59\n",
       "1002            25726       13389 2010-03-28 01:59:59 2010-12-31 23:29:59\n",
       "1003            25726       13389 2010-03-28 01:59:59 2010-12-31 23:29:59\n",
       "1004            25726       13389 2010-03-28 01:59:59 2010-12-31 23:29:59\n",
       "...               ...         ...                 ...                 ...\n",
       "7438            25726       13389 2010-03-28 01:59:59 2010-12-31 23:29:59\n",
       "7439            25630       12337 2009-07-14 00:29:59 2010-03-27 23:59:59\n",
       "7441            25726       13389 2010-03-28 01:59:59 2010-12-31 23:29:59\n",
       "7442            25726       13389 2010-03-28 01:59:59 2010-12-31 23:29:59\n",
       "7443            25726       13389 2010-03-28 01:59:59 2010-12-31 23:29:59\n",
       "\n",
       "[5410 rows x 4 columns]"
      ]
     },
     "execution_count": 149,
     "metadata": {},
     "output_type": "execute_result"
    }
   ],
   "source": [
    "df_truncated_memory.groupby('metre_id').apply(calculate_consecutive_intervals)"
   ]
  },
  {
   "cell_type": "markdown",
   "id": "551440ec-00e2-4233-981c-b44ab076a84a",
   "metadata": {},
   "source": [
    "duplicate fixing"
   ]
  },
  {
   "cell_type": "code",
   "execution_count": 150,
   "id": "7d51c58f-6226-43ee-a585-91bef416d254",
   "metadata": {},
   "outputs": [],
   "source": [
    "def reindex_by_date(subset_df):\n",
    "    \n",
    "    \"\"\"\n",
    "    Reindex to every 30 minutes (fills empties) - function to be used\n",
    "    WITHIN the groupby operation.\n",
    "    \"\"\"\n",
    "    \n",
    "    subset_df = subset_df.set_index('timestamp')\n",
    "    dates = pd.date_range(subset_df.index.min(), subset_df.index.max(), freq='30min')\n",
    "    return subset_df.reindex(dates, method='ffill', limit=48) # one day max forward prop...TODO: investigate this\n",
    "\n",
    "def fix_missing_dates(df):\n",
    "    \n",
    "    df = df.groupby('metre_id').apply(reindex_by_date).reset_index(level=1).reset_index(drop=True)\n",
    "    \n",
    "    df = df.rename({'level_1': 'timestamp'}, axis=1)\n",
    "    \n",
    "    return df"
   ]
  },
  {
   "cell_type": "code",
   "execution_count": 151,
   "id": "19397ec8-1a41-4d7f-8643-1ded733b596f",
   "metadata": {},
   "outputs": [],
   "source": [
    "df_truncated_memory2 = fix_missing_dates(df_truncated_memory)"
   ]
  },
  {
   "cell_type": "code",
   "execution_count": 152,
   "id": "faaf48f0-67c6-4e07-abb0-965ba6ea30dc",
   "metadata": {},
   "outputs": [
    {
     "data": {
      "text/html": [
       "<div>\n",
       "<style scoped>\n",
       "    .dataframe tbody tr th:only-of-type {\n",
       "        vertical-align: middle;\n",
       "    }\n",
       "\n",
       "    .dataframe tbody tr th {\n",
       "        vertical-align: top;\n",
       "    }\n",
       "\n",
       "    .dataframe thead th {\n",
       "        text-align: right;\n",
       "    }\n",
       "</style>\n",
       "<table border=\"1\" class=\"dataframe\">\n",
       "  <thead>\n",
       "    <tr style=\"text-align: right;\">\n",
       "      <th></th>\n",
       "      <th>total_count</th>\n",
       "      <th>max_consec</th>\n",
       "      <th>start</th>\n",
       "      <th>end</th>\n",
       "    </tr>\n",
       "    <tr>\n",
       "      <th>metre_id</th>\n",
       "      <th></th>\n",
       "      <th></th>\n",
       "      <th></th>\n",
       "      <th></th>\n",
       "    </tr>\n",
       "  </thead>\n",
       "  <tbody>\n",
       "    <tr>\n",
       "      <th>1000.0</th>\n",
       "      <td>25728</td>\n",
       "      <td>25728</td>\n",
       "      <td>2009-07-14 00:29:59</td>\n",
       "      <td>2010-12-31 23:29:59</td>\n",
       "    </tr>\n",
       "    <tr>\n",
       "      <th>1001.0</th>\n",
       "      <td>25728</td>\n",
       "      <td>25728</td>\n",
       "      <td>2009-07-14 00:29:59</td>\n",
       "      <td>2010-12-31 23:29:59</td>\n",
       "    </tr>\n",
       "    <tr>\n",
       "      <th>1002.0</th>\n",
       "      <td>25728</td>\n",
       "      <td>25728</td>\n",
       "      <td>2009-07-14 00:29:59</td>\n",
       "      <td>2010-12-31 23:29:59</td>\n",
       "    </tr>\n",
       "    <tr>\n",
       "      <th>1003.0</th>\n",
       "      <td>25728</td>\n",
       "      <td>25728</td>\n",
       "      <td>2009-07-14 00:29:59</td>\n",
       "      <td>2010-12-31 23:29:59</td>\n",
       "    </tr>\n",
       "    <tr>\n",
       "      <th>1004.0</th>\n",
       "      <td>25728</td>\n",
       "      <td>25728</td>\n",
       "      <td>2009-07-14 00:29:59</td>\n",
       "      <td>2010-12-31 23:29:59</td>\n",
       "    </tr>\n",
       "    <tr>\n",
       "      <th>...</th>\n",
       "      <td>...</td>\n",
       "      <td>...</td>\n",
       "      <td>...</td>\n",
       "      <td>...</td>\n",
       "    </tr>\n",
       "    <tr>\n",
       "      <th>7438.0</th>\n",
       "      <td>25728</td>\n",
       "      <td>25728</td>\n",
       "      <td>2009-07-14 00:29:59</td>\n",
       "      <td>2010-12-31 23:29:59</td>\n",
       "    </tr>\n",
       "    <tr>\n",
       "      <th>7439.0</th>\n",
       "      <td>25680</td>\n",
       "      <td>24432</td>\n",
       "      <td>2009-07-14 00:29:59</td>\n",
       "      <td>2010-12-04 23:29:59</td>\n",
       "    </tr>\n",
       "    <tr>\n",
       "      <th>7441.0</th>\n",
       "      <td>25728</td>\n",
       "      <td>25728</td>\n",
       "      <td>2009-07-14 00:29:59</td>\n",
       "      <td>2010-12-31 23:29:59</td>\n",
       "    </tr>\n",
       "    <tr>\n",
       "      <th>7442.0</th>\n",
       "      <td>25728</td>\n",
       "      <td>25728</td>\n",
       "      <td>2009-07-14 00:29:59</td>\n",
       "      <td>2010-12-31 23:29:59</td>\n",
       "    </tr>\n",
       "    <tr>\n",
       "      <th>7443.0</th>\n",
       "      <td>25728</td>\n",
       "      <td>25728</td>\n",
       "      <td>2009-07-14 00:29:59</td>\n",
       "      <td>2010-12-31 23:29:59</td>\n",
       "    </tr>\n",
       "  </tbody>\n",
       "</table>\n",
       "<p>5410 rows × 4 columns</p>\n",
       "</div>"
      ],
      "text/plain": [
       "          total_count  max_consec               start                 end\n",
       "metre_id                                                                 \n",
       "1000.0          25728       25728 2009-07-14 00:29:59 2010-12-31 23:29:59\n",
       "1001.0          25728       25728 2009-07-14 00:29:59 2010-12-31 23:29:59\n",
       "1002.0          25728       25728 2009-07-14 00:29:59 2010-12-31 23:29:59\n",
       "1003.0          25728       25728 2009-07-14 00:29:59 2010-12-31 23:29:59\n",
       "1004.0          25728       25728 2009-07-14 00:29:59 2010-12-31 23:29:59\n",
       "...               ...         ...                 ...                 ...\n",
       "7438.0          25728       25728 2009-07-14 00:29:59 2010-12-31 23:29:59\n",
       "7439.0          25680       24432 2009-07-14 00:29:59 2010-12-04 23:29:59\n",
       "7441.0          25728       25728 2009-07-14 00:29:59 2010-12-31 23:29:59\n",
       "7442.0          25728       25728 2009-07-14 00:29:59 2010-12-31 23:29:59\n",
       "7443.0          25728       25728 2009-07-14 00:29:59 2010-12-31 23:29:59\n",
       "\n",
       "[5410 rows x 4 columns]"
      ]
     },
     "execution_count": 152,
     "metadata": {},
     "output_type": "execute_result"
    }
   ],
   "source": [
    "df_truncated_memory2.groupby('metre_id').apply(calculate_consecutive_intervals)"
   ]
  },
  {
   "cell_type": "code",
   "execution_count": 153,
   "id": "1934e158-d5b6-4af2-ad8a-7c203fd919e7",
   "metadata": {},
   "outputs": [
    {
     "data": {
      "text/plain": [
       "(138801524, 3)"
      ]
     },
     "execution_count": 153,
     "metadata": {},
     "output_type": "execute_result"
    }
   ],
   "source": [
    "df_truncated_memory2.shape"
   ]
  },
  {
   "cell_type": "markdown",
   "id": "242e7056-fb8a-4491-a95e-f59e5efabd13",
   "metadata": {},
   "source": [
    "Quickly check consec intervals"
   ]
  },
  {
   "cell_type": "code",
   "execution_count": 154,
   "id": "58211f73-93da-4ab2-baf0-250f7d34c904",
   "metadata": {},
   "outputs": [
    {
     "data": {
      "text/plain": [
       "218"
      ]
     },
     "execution_count": 154,
     "metadata": {},
     "output_type": "execute_result"
    }
   ],
   "source": [
    "final_consec_intervals = df_truncated_memory2.groupby('metre_id').apply(calculate_consecutive_intervals)\n",
    "\n",
    "sum(final_consec_intervals['total_count'] != final_consec_intervals['max_consec'])"
   ]
  },
  {
   "cell_type": "markdown",
   "id": "43d92149-efb1-4ee0-b57e-63de9b731b09",
   "metadata": {},
   "source": [
    "No point in fixing these now given quantum of data anyway, so let's remove."
   ]
  },
  {
   "cell_type": "code",
   "execution_count": 155,
   "id": "64a8473e-f3d6-4c5e-bca4-f1bf9e1098c9",
   "metadata": {},
   "outputs": [],
   "source": [
    "df_truncated_memory2 = df_truncated_memory2[~df_truncated_memory2['metre_id'].isin(final_consec_intervals[final_consec_intervals['total_count'] != final_consec_intervals['max_consec']].index)]"
   ]
  },
  {
   "cell_type": "markdown",
   "id": "adffb49f-735c-4376-b4bd-5d195294fb4b",
   "metadata": {},
   "source": [
    "Check after fix"
   ]
  },
  {
   "cell_type": "code",
   "execution_count": 156,
   "id": "f7c7715b-3549-495f-a451-7d3e02005fd8",
   "metadata": {},
   "outputs": [
    {
     "data": {
      "text/html": [
       "<div>\n",
       "<style scoped>\n",
       "    .dataframe tbody tr th:only-of-type {\n",
       "        vertical-align: middle;\n",
       "    }\n",
       "\n",
       "    .dataframe tbody tr th {\n",
       "        vertical-align: top;\n",
       "    }\n",
       "\n",
       "    .dataframe thead th {\n",
       "        text-align: right;\n",
       "    }\n",
       "</style>\n",
       "<table border=\"1\" class=\"dataframe\">\n",
       "  <thead>\n",
       "    <tr style=\"text-align: right;\">\n",
       "      <th></th>\n",
       "      <th>total_count</th>\n",
       "      <th>max_consec</th>\n",
       "      <th>start</th>\n",
       "      <th>end</th>\n",
       "    </tr>\n",
       "    <tr>\n",
       "      <th>metre_id</th>\n",
       "      <th></th>\n",
       "      <th></th>\n",
       "      <th></th>\n",
       "      <th></th>\n",
       "    </tr>\n",
       "  </thead>\n",
       "  <tbody>\n",
       "  </tbody>\n",
       "</table>\n",
       "</div>"
      ],
      "text/plain": [
       "Empty DataFrame\n",
       "Columns: [total_count, max_consec, start, end]\n",
       "Index: []"
      ]
     },
     "execution_count": 156,
     "metadata": {},
     "output_type": "execute_result"
    }
   ],
   "source": [
    "final_consec_intervals = df_truncated_memory2.groupby('metre_id').apply(calculate_consecutive_intervals)\n",
    "\n",
    "final_consec_intervals[final_consec_intervals['total_count'] != final_consec_intervals['max_consec']]"
   ]
  },
  {
   "cell_type": "markdown",
   "id": "aa469bed-df85-457d-84b5-afc2b2ffd633",
   "metadata": {},
   "source": [
    "FINALLY, we evaluate that all points start at 00:29 and end at 23:59 - that way we have exactly 48 points a day FOR ALL DAYS AND ALL METERS."
   ]
  },
  {
   "cell_type": "markdown",
   "id": "b5e9b7fd-033f-4024-ae60-83ab04b574ce",
   "metadata": {},
   "source": [
    "Last thing, ensure that all points start at 12am effectively for all meters"
   ]
  },
  {
   "cell_type": "code",
   "execution_count": 157,
   "id": "e65b6828-7f83-41b8-8838-675275316958",
   "metadata": {},
   "outputs": [
    {
     "data": {
      "text/plain": [
       "Timestamp('2009-07-14 00:29:59')"
      ]
     },
     "execution_count": 157,
     "metadata": {},
     "output_type": "execute_result"
    }
   ],
   "source": [
    "# Evaluate the general starting point\n",
    "\n",
    "starting_time = df_truncated_memory2.groupby('metre_id').timestamp.min()[1000]\n",
    "\n",
    "starting_time"
   ]
  },
  {
   "cell_type": "code",
   "execution_count": 158,
   "id": "92c9436f-cb06-448b-b9e5-292164a70413",
   "metadata": {},
   "outputs": [
    {
     "data": {
      "text/plain": [
       "12"
      ]
     },
     "execution_count": 158,
     "metadata": {},
     "output_type": "execute_result"
    }
   ],
   "source": [
    "sum(df_truncated_memory2.groupby('metre_id').timestamp.min() != starting_time) # Number of meters not starting at the starting point identified above"
   ]
  },
  {
   "cell_type": "markdown",
   "id": "0ff9929c-941c-45c4-9bdd-03c1793a7b95",
   "metadata": {},
   "source": [
    "Okay so there are 118 metres which don't start at the right point, let's quickly check them and reset them just to start at the closest day"
   ]
  },
  {
   "cell_type": "code",
   "execution_count": 159,
   "id": "cfb83a64-c02f-42b8-88d1-f47c2bb18a9e",
   "metadata": {},
   "outputs": [
    {
     "data": {
      "text/plain": [
       "metre_id\n",
       "1924.0   2009-10-21 00:29:59\n",
       "2557.0   2009-08-24 00:29:59\n",
       "2657.0   2009-08-06 00:29:59\n",
       "2783.0   2010-03-03 00:29:59\n",
       "2845.0   2009-07-15 00:29:59\n",
       "4277.0   2009-07-28 14:29:59\n",
       "5320.0   2009-11-20 00:29:59\n",
       "6521.0   2009-07-15 00:29:59\n",
       "6650.0   2009-07-25 00:29:59\n",
       "6971.0   2009-07-25 00:29:59\n",
       "7174.0   2009-12-16 00:29:59\n",
       "7212.0   2009-09-24 00:29:59\n",
       "Name: timestamp, dtype: datetime64[ns]"
      ]
     },
     "execution_count": 159,
     "metadata": {},
     "output_type": "execute_result"
    }
   ],
   "source": [
    "df_truncated_memory2.groupby('metre_id').timestamp.min()[df_truncated_memory2.groupby('metre_id').timestamp.min() != starting_time]"
   ]
  },
  {
   "cell_type": "markdown",
   "id": "68c85afd-5188-4528-bfd9-df01b0db7fbc",
   "metadata": {},
   "source": [
    "Great, even if they don't start on that date we noted before, at least the 118 meters still do start at midnight except for meter 4277. We will fix this.\n",
    "\n",
    "Let's see how the end looks (this should be cleaner as we split on this for the train/test split).\n",
    "\n",
    "For this one, we take learnings from the above checking, and just really need to check if they end at midnight."
   ]
  },
  {
   "cell_type": "code",
   "execution_count": 160,
   "id": "7e390b21-46ec-4579-a835-93ac9ebc24d3",
   "metadata": {},
   "outputs": [
    {
     "data": {
      "text/plain": [
       "0"
      ]
     },
     "execution_count": 160,
     "metadata": {},
     "output_type": "execute_result"
    }
   ],
   "source": [
    "sum(df_truncated_memory2.groupby('metre_id').timestamp.max().dt.time != datetime.time(23, 59, 59))"
   ]
  },
  {
   "cell_type": "markdown",
   "id": "d8b6e2fb-2b9a-4deb-8686-f6440a5a2bca",
   "metadata": {},
   "source": [
    "0 dastardly meters! Let's write a function which will fix both!"
   ]
  },
  {
   "cell_type": "code",
   "execution_count": 161,
   "id": "9ce15207-79b2-4d9a-90a8-d3ee02e29016",
   "metadata": {},
   "outputs": [
    {
     "data": {
      "text/plain": [
       "Series([], Name: timestamp, dtype: datetime64[ns])"
      ]
     },
     "execution_count": 161,
     "metadata": {},
     "output_type": "execute_result"
    }
   ],
   "source": [
    "df_truncated_memory2.groupby('metre_id').timestamp.max()[df_truncated_memory2.groupby('metre_id').timestamp.max().dt.time != datetime.time(23, 59, 59)]"
   ]
  },
  {
   "cell_type": "code",
   "execution_count": 162,
   "id": "b1f14a69-8a0c-45d3-896b-6df573502243",
   "metadata": {},
   "outputs": [],
   "source": [
    "def retractend_protractstart_midnight(group_df):\n",
    "    \n",
    "    \"\"\"\n",
    "    GROUPBY function: Retracts all meters to most recent midnights\n",
    "    \"\"\"\n",
    "    \n",
    "    # Check if we even need to make modifications\n",
    "    if group_df.timestamp.max().time() == datetime.time(23, 59, 59) and group_df.timestamp.min().time() == datetime.time(0, 29, 59):\n",
    "        return group_df\n",
    "    \n",
    "    #################################################################################################################################\n",
    "    ##### FIX FIRST DAY\n",
    "    \n",
    "    if group_df.timestamp.min().time() != datetime.time(0, 29, 59):\n",
    "    \n",
    "        # Grab the latest day\n",
    "        first_day = group_df.timestamp.min().date()\n",
    "\n",
    "        # Evaluate from above, what to filter on (i.e., midnight before last day)\n",
    "        filter_date_start = pd.to_datetime(first_day) + pd.to_timedelta('1 day') + pd.to_timedelta('0 hours 29 minutes 59 seconds')\n",
    "\n",
    "        group_df = group_df[group_df['timestamp'] >= filter_date_start]\n",
    "    \n",
    "    #################################################################################################################################\n",
    "    ##### FIX LAST DAY\n",
    "    \n",
    "    if group_df.timestamp.max().time() != datetime.time(23, 59, 59):\n",
    "    \n",
    "        # Grab the latest day\n",
    "        last_day = group_df.timestamp.max().date()\n",
    "\n",
    "        # Evaluate from above, what to filter on (i.e., midnight before last day)\n",
    "        filter_date_end = pd.to_datetime(last_day) - pd.to_timedelta('1 day') + pd.to_timedelta('23 hours 59 minutes 59 seconds')\n",
    "\n",
    "        group_df = group_df[group_df['timestamp'] <= filter_date_end]\n",
    "    \n",
    "    return group_df"
   ]
  },
  {
   "cell_type": "code",
   "execution_count": 163,
   "id": "fb52016c-3e16-4f14-8449-586962fa392e",
   "metadata": {},
   "outputs": [],
   "source": [
    "df_truncated_memory2 = df_truncated_memory2.groupby('metre_id').apply(retractend_protractstart_midnight).reset_index(level = 1).drop(['level_1', 'metre_id'], axis=1).reset_index()"
   ]
  },
  {
   "cell_type": "markdown",
   "id": "dd1d730e-cecf-4429-a8c0-3385942dd217",
   "metadata": {},
   "source": [
    "So sense check it, we should mod 48 exactly."
   ]
  },
  {
   "cell_type": "code",
   "execution_count": 164,
   "id": "47184219-7d76-4b93-a031-249af95f95b4",
   "metadata": {},
   "outputs": [
    {
     "data": {
      "text/plain": [
       "metre_id\n",
       "1000.0    True\n",
       "1001.0    True\n",
       "1002.0    True\n",
       "1003.0    True\n",
       "1004.0    True\n",
       "          ... \n",
       "7437.0    True\n",
       "7438.0    True\n",
       "7441.0    True\n",
       "7442.0    True\n",
       "7443.0    True\n",
       "Length: 5192, dtype: bool"
      ]
     },
     "execution_count": 164,
     "metadata": {},
     "output_type": "execute_result"
    }
   ],
   "source": [
    "def check_mod_48(group_df):\n",
    "    \n",
    "    days = (group_df.timestamp.max().date() - group_df.timestamp.min().date()).days + 1\n",
    "    no_records = len(group_df)\n",
    "    expected_records = days * 48\n",
    "    \n",
    "    return no_records == expected_records\n",
    "    \n",
    "\n",
    "df_truncated_memory2.groupby('metre_id').apply(func=check_mod_48)"
   ]
  },
  {
   "cell_type": "code",
   "execution_count": 165,
   "id": "6dcb4b41-1cfe-4fc3-a7ad-8426665170df",
   "metadata": {},
   "outputs": [
    {
     "data": {
      "text/plain": [
       "5192"
      ]
     },
     "execution_count": 165,
     "metadata": {},
     "output_type": "execute_result"
    }
   ],
   "source": [
    "sum(df_truncated_memory2.groupby('metre_id').apply(func=check_mod_48))"
   ]
  },
  {
   "cell_type": "markdown",
   "id": "1e2d680d-f591-49ab-825d-e3ca3084e6d2",
   "metadata": {},
   "source": [
    "Nice. Now we have a very pretty dataset with 5192 meters!"
   ]
  },
  {
   "cell_type": "markdown",
   "id": "96ce168a-1f02-4923-81b3-31566381ea1d",
   "metadata": {},
   "source": [
    "### Zero Checking"
   ]
  },
  {
   "cell_type": "code",
   "execution_count": 166,
   "id": "19ee195e-cd67-4e64-b436-bc10e7c9823f",
   "metadata": {},
   "outputs": [
    {
     "name": "stdout",
     "output_type": "stream",
     "text": [
      "Percentage of 0s: 0.95%\n"
     ]
    }
   ],
   "source": [
    "print('Percentage of 0s: {:.2f}%'.format(sum(df_truncated_memory2.kwh == 0) / len(df_truncated_memory2)* 100))"
   ]
  },
  {
   "cell_type": "markdown",
   "id": "e8920bb4-f6c7-4395-9100-aa62e1daa671",
   "metadata": {},
   "source": [
    "Ok so quite a few, let's see if they pertain to certain IDs (i.e., certain meters broken), as we can filter out the IDs instead of filtering out just solo days."
   ]
  },
  {
   "cell_type": "code",
   "execution_count": 167,
   "id": "9ed175be-0193-4282-b2a6-0a038811f310",
   "metadata": {},
   "outputs": [],
   "source": [
    "def count_zeroes(subset_df):\n",
    "    \n",
    "    \"\"\"Counts zeroes per groupby subset\"\"\"\n",
    "    \n",
    "    return pd.Series((sum(subset_df.kwh == 0), len(subset_df),\n",
    "                        sum(subset_df.kwh == 0) / len(subset_df) * 100),\n",
    "                        index = ['zeroes', 'records', 'pct'])\n",
    "\n",
    "df_zeroes = df_truncated_memory2.groupby('metre_id').apply(count_zeroes)"
   ]
  },
  {
   "cell_type": "code",
   "execution_count": 168,
   "id": "b0c209b6-7a4a-4994-af18-5d94c7185048",
   "metadata": {},
   "outputs": [
    {
     "data": {
      "text/plain": [
       "<AxesSubplot:xlabel='pct', ylabel='Density'>"
      ]
     },
     "execution_count": 168,
     "metadata": {},
     "output_type": "execute_result"
    },
    {
     "data": {
      "image/png": "[encoded data removed]",
      "text/plain": [
       "<Figure size 432x288 with 1 Axes>"
      ]
     },
     "metadata": {
      "needs_background": "light"
     },
     "output_type": "display_data"
    }
   ],
   "source": [
    "sns.kdeplot(data=df_zeroes, x='pct')"
   ]
  },
  {
   "cell_type": "markdown",
   "id": "4fe264dc-1ece-4fa1-a925-d280d3238ea5",
   "metadata": {},
   "source": [
    "Let's get an exact idea of the numbers"
   ]
  },
  {
   "cell_type": "code",
   "execution_count": 169,
   "id": "9e560adb-7524-4b3b-bd43-79f2830f69f9",
   "metadata": {},
   "outputs": [
    {
     "name": "stdout",
     "output_type": "stream",
     "text": [
      "Total number of meters:\t\t 5192\n",
      "-------------------------------------\n",
      "\n",
      "# greater than 0.10% zeroes:\t 775\n",
      "Records to be removed:\t\t 19917984\n",
      "Pct Records to be removed:\t 0.15%\n",
      "\n",
      "# greater than 0.50% zeroes:\t 266\n",
      "Records to be removed:\t\t 6835152\n",
      "Pct Records to be removed:\t 0.05%\n",
      "\n",
      "# greater than 1.00% zeroes:\t 228\n",
      "Records to be removed:\t\t 5857488\n",
      "Pct Records to be removed:\t 0.04%\n",
      "\n",
      "# greater than 2.00% zeroes:\t 196\n",
      "Records to be removed:\t\t 5034912\n",
      "Pct Records to be removed:\t 0.04%\n",
      "\n",
      "# greater than 5.00% zeroes:\t 149\n",
      "Records to be removed:\t\t 3825696\n",
      "Pct Records to be removed:\t 0.03%\n",
      "\n",
      "# greater than 10.00% zeroes:\t 113\n",
      "Records to be removed:\t\t 2899488\n",
      "Pct Records to be removed:\t 0.02%\n",
      "\n"
     ]
    }
   ],
   "source": [
    "pct_range = [0.1, 0.5, 1, 2, 5, 10]\n",
    "total_records = sum(df_zeroes.records)\n",
    "\n",
    "print('Total number of meters:\\t\\t {}'.format(len(df_zeroes)))\n",
    "print('-------------------------------------\\n')\n",
    "\n",
    "for i in pct_range:\n",
    "    \n",
    "    print('# greater than {:.2f}% zeroes:\\t {}'.format(i, len(df_zeroes[df_zeroes.pct > i])))\n",
    "    print('Records to be removed:\\t\\t {}'.format(int(sum(df_zeroes[df_zeroes.pct > i].records))))\n",
    "    print('Pct Records to be removed:\\t {:.2f}%\\n'.format(sum(df_zeroes[df_zeroes.pct > i].records) / total_records))"
   ]
  },
  {
   "cell_type": "markdown",
   "id": "920c53a0-f424-4d01-b135-e646eb63fdb4",
   "metadata": {},
   "source": [
    "Based on the above, if we remove all meters with with greater than 0.5% zeroes, then we will only lose 0.05% of total data which would appear to be a reasonable trade-off.\n",
    "\n",
    "Let's do that."
   ]
  },
  {
   "cell_type": "code",
   "execution_count": 170,
   "id": "ad1461c1-8638-4b79-bcab-05bbf50757f7",
   "metadata": {},
   "outputs": [],
   "source": [
    "zero_meters_to_be_removed = df_zeroes[df_zeroes.pct > 0.5].index"
   ]
  },
  {
   "cell_type": "code",
   "execution_count": 171,
   "id": "add27edd-cfc0-48f8-a312-33c63f79d3e7",
   "metadata": {},
   "outputs": [],
   "source": [
    "# Remove of meters with too many zeroes\n",
    "df_truncated_memory2 = df_truncated_memory2[~df_truncated_memory2.metre_id.isin(zero_meters_to_be_removed)]"
   ]
  },
  {
   "cell_type": "markdown",
   "id": "cb7c6fa3-1635-4eb4-8836-4c7de94b7c11",
   "metadata": {},
   "source": [
    "TRAIN TEST SPLIT"
   ]
  },
  {
   "cell_type": "markdown",
   "id": "593afb40-778a-408d-8271-8f0950eaf27d",
   "metadata": {},
   "source": [
    "Let's also train test split it now. 95%, 5% based on timeline (as meters doesn't really make sense, unless if we're talking about from geographic aggregation at the DCU level? Possible, but this is simpler)."
   ]
  },
  {
   "cell_type": "code",
   "execution_count": 173,
   "id": "b3c8fa1b",
   "metadata": {},
   "outputs": [
    {
     "data": {
      "text/plain": [
       "Timedelta('535 days 23:30:00')"
      ]
     },
     "execution_count": 173,
     "metadata": {},
     "output_type": "execute_result"
    }
   ],
   "source": [
    "timespan = df_truncated_memory2['timestamp'].max() - df_truncated_memory2['timestamp'].min()\n",
    "timespan"
   ]
  },
  {
   "cell_type": "markdown",
   "id": "6decec7d-de55-4efe-a0b7-f0a2e716925d",
   "metadata": {},
   "source": [
    "Okay, in total there are 535 days. A 95/5 split would result in: 508 days in train and 27 days in split.\n",
    "\n",
    "As a result let's work out that day to split on:"
   ]
  },
  {
   "cell_type": "code",
   "execution_count": 178,
   "id": "185c5489-fd05-4f9c-b43c-12cdb309a695",
   "metadata": {},
   "outputs": [
    {
     "data": {
      "text/plain": [
       "509"
      ]
     },
     "execution_count": 178,
     "metadata": {},
     "output_type": "execute_result"
    }
   ],
   "source": [
    "(timespan * .95).days"
   ]
  },
  {
   "cell_type": "code",
   "execution_count": 181,
   "id": "7969e419",
   "metadata": {},
   "outputs": [
    {
     "data": {
      "text/plain": [
       "Timestamp('2010-12-05 00:29:59')"
      ]
     },
     "execution_count": 181,
     "metadata": {},
     "output_type": "execute_result"
    }
   ],
   "source": [
    "df_truncated_memory2['timestamp'].min() + pd.to_timedelta('{} days'.format((timespan * .95).days))"
   ]
  },
  {
   "cell_type": "markdown",
   "id": "8af646f0-fe23-4f22-b0e4-edc4f770875a",
   "metadata": {},
   "source": [
    "Of course, let's split exactly on 12am to make it simpler, even if we don't end up using that as the cut-off in the future."
   ]
  },
  {
   "cell_type": "code",
   "execution_count": 111,
   "id": "8d6c6951",
   "metadata": {},
   "outputs": [],
   "source": [
    "df_train = df_truncated_memory2[df_truncated_memory2['timestamp'] < pd.to_datetime('2010-12-04 00:00:01')]\n",
    "df_test = df_truncated_memory2[df_truncated_memory2['timestamp'] >= pd.to_datetime('2010-12-04 00:00:01')]"
   ]
  },
  {
   "cell_type": "code",
   "execution_count": 112,
   "id": "745d8280",
   "metadata": {},
   "outputs": [
    {
     "data": {
      "text/plain": [
       "120039888"
      ]
     },
     "execution_count": 112,
     "metadata": {},
     "output_type": "execute_result"
    }
   ],
   "source": [
    "len(df_train)"
   ]
  },
  {
   "cell_type": "code",
   "execution_count": 113,
   "id": "6e3000d0",
   "metadata": {},
   "outputs": [
    {
     "data": {
      "text/plain": [
       "6521904"
      ]
     },
     "execution_count": 113,
     "metadata": {},
     "output_type": "execute_result"
    }
   ],
   "source": [
    "len(df_test)"
   ]
  },
  {
   "cell_type": "code",
   "execution_count": 114,
   "id": "073727da",
   "metadata": {},
   "outputs": [
    {
     "data": {
      "text/plain": [
       "0.054331140328954655"
      ]
     },
     "execution_count": 114,
     "metadata": {},
     "output_type": "execute_result"
    }
   ],
   "source": [
    "len(df_test) / len(df_train)"
   ]
  },
  {
   "cell_type": "markdown",
   "id": "b275e128-3ea6-4152-8ab0-800f56a7bac2",
   "metadata": {},
   "source": [
    "Most importantly check if mod 48:"
   ]
  },
  {
   "cell_type": "code",
   "execution_count": 115,
   "id": "952fefda-09a1-498b-b21c-6cb18831c2e7",
   "metadata": {},
   "outputs": [
    {
     "data": {
      "text/plain": [
       "0"
      ]
     },
     "execution_count": 115,
     "metadata": {},
     "output_type": "execute_result"
    }
   ],
   "source": [
    "len(df_train) % 48"
   ]
  },
  {
   "cell_type": "code",
   "execution_count": 116,
   "id": "650636a0-23c3-44e2-a2f8-d529f145f596",
   "metadata": {},
   "outputs": [
    {
     "data": {
      "text/plain": [
       "0"
      ]
     },
     "execution_count": 116,
     "metadata": {},
     "output_type": "execute_result"
    }
   ],
   "source": [
    "len(df_test) % 48"
   ]
  },
  {
   "cell_type": "markdown",
   "id": "7f3d5ae8-e8e2-40dc-a40f-9d99af1dffd3",
   "metadata": {},
   "source": [
    "NICE!\n",
    "\n",
    "Time to finally export and save this."
   ]
  },
  {
   "cell_type": "code",
   "execution_count": 117,
   "id": "59d72711",
   "metadata": {},
   "outputs": [],
   "source": [
    "df_train.to_csv('../../dataset/interim/cern_train.csv', index=False)\n",
    "df_test.to_csv('../../dataset/interim/cern_test.csv', index=False)"
   ]
  },
  {
   "cell_type": "markdown",
   "id": "382eb1ce-c594-4593-9081-89e7a6bbed65",
   "metadata": {},
   "source": [
    "Nb: The results from this dataset are incredibly poor indicating some error with the data. We revisit `1.5.-cern-preprocessing-revisit.ipynb`."
   ]
  }
 ],
 "metadata": {
  "kernelspec": {
   "display_name": "Python 3 (ipykernel)",
   "language": "python",
   "name": "python3"
  },
  "language_info": {
   "codemirror_mode": {
    "name": "ipython",
    "version": 3
   },
   "file_extension": ".py",
   "mimetype": "text/x-python",
   "name": "python",
   "nbconvert_exporter": "python",
   "pygments_lexer": "ipython3",
   "version": "3.9.12"
  }
 },
 "nbformat": 4,
 "nbformat_minor": 5
}
