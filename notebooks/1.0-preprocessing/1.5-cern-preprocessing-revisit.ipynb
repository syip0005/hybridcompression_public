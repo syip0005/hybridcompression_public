{
 "cells": [
  {
   "cell_type": "markdown",
   "id": "5a04a776",
   "metadata": {},
   "source": [
    "# EDA and Preprocessing, CER\n",
    "\n",
    "Author: Scott Yip \\\n",
    "Date: 28 June 2022\n",
    "\n",
    "**PLEASE NOTE THAT THIS IS AN UPDATE OF 1.1 AS IT WAS DISCOVERED THAT 1.1 DID NOT PRODUCE OPTIMAL RESULTS DUE TO THE METHOD OF PREPROCESSING FOR THE DAILY NORMALIZATION.**\n",
    "\n",
    "The abstract and information for this dataset can be accessed [here](https://www.ucd.ie/issda/data/commissionforenergyregulationcer/). In particular, we use Study Number (SN): 0012-00 - this has become a staple dataset for EED compression.\n",
    "\n",
    "Additional information about the dataset is located in the manifest file labelled `Manifest - Smart Meter Electricity Trial Data v1.0.1.docx`.\n",
    "\n",
    "The relevant smart meter read data is that\n",
    "\n",
    "```\n",
    "6 zipped files named File1.txt.zip to File6.txt.zip each containing 1 text file\n",
    "Format of each data file: 3 columns corresponding to  \n",
    "\t\tMeter ID\n",
    "\t\tFive digit code:  \n",
    "\t\t\tDay code: digits 1-3 (day 1 = 1st January 2009)\n",
    "\t\t\tTime code: digits 4-5 (1-48 for each 30 minutes with 1= 00:00:00 – 00:29:59)\n",
    "\t\tElectricity consumed during 30 minute interval (in kWh)\n",
    "\n",
    "```\n",
    "\n",
    "The notable minimal preprocessing changes we'll have to make are:\n",
    "* conversion of five digit code to timedate format.\n",
    "\n",
    "We further note that we work with $30$ minute intervals.\n",
    "\n",
    "## 1. Intro and baseline processing\n",
    "\n",
    "### 1A. Intro\n",
    "\n",
    "Let's perform some very quick EDA to get an idea of this dataset.\n",
    "\n",
    "Nb: we use the `dask` library instead of `pandas` as we want to avoid out-of-memory computations. `dask` will allow us to perform on-disk processing for larger-than-memory computations (which may occur)."
   ]
  },
  {
   "cell_type": "code",
   "execution_count": 1,
   "id": "7ca9ab52",
   "metadata": {},
   "outputs": [],
   "source": [
    "# Import libraries\n",
    "import numpy as np\n",
    "import pandas as pd\n",
    "import datetime\n",
    "import seaborn as sns\n",
    "import matplotlib.pyplot as plt\n",
    "import os\n",
    "import dask.dataframe as dd\n",
    "import tqdm\n",
    "import random"
   ]
  },
  {
   "cell_type": "code",
   "execution_count": 2,
   "id": "ed643b5b-528a-480c-a837-527594e3c9dc",
   "metadata": {},
   "outputs": [],
   "source": [
    "# Set folder parameters\n",
    "dataset_folder = \"../../dataset/raw/CERN/\"\n",
    "output_folder = \"../../dataset/interim/\""
   ]
  },
  {
   "cell_type": "code",
   "execution_count": 3,
   "id": "c8232df9-477e-440b-be89-9c7cc002785d",
   "metadata": {},
   "outputs": [],
   "source": [
    "pd.set_option('display.max_rows', 500)\n",
    "%matplotlib inline"
   ]
  },
  {
   "cell_type": "markdown",
   "id": "1671fd0a",
   "metadata": {},
   "source": [
    "As the files are all separate, we'd like to use `dask` to read all the files.\n",
    "\n",
    "Let's use `os.listdir()` to check all files (non recursively)."
   ]
  },
  {
   "cell_type": "code",
   "execution_count": 4,
   "id": "20e7d44e-0b0e-4cdf-87d0-8dd290b9ea26",
   "metadata": {
    "tags": []
   },
   "outputs": [
    {
     "name": "stdout",
     "output_type": "stream",
     "text": [
      "Number of txt files: 6\n"
     ]
    }
   ],
   "source": [
    "# use os.listdir() and not os.walk() as no recursive movement required\n",
    "all_files = [dataset_folder + file for file in os.listdir(dataset_folder) if file[-3:] == 'txt']\n",
    "\n",
    "print('Number of txt files: {}'.format(len(all_files)))"
   ]
  },
  {
   "cell_type": "markdown",
   "id": "2d265e7a-9c26-40e5-a298-f4d7e879cb90",
   "metadata": {},
   "source": [
    "We use `pandas` directly this time as we can."
   ]
  },
  {
   "cell_type": "code",
   "execution_count": 5,
   "id": "ba257402-9f8c-4956-8370-1feb6c83a67e",
   "metadata": {},
   "outputs": [
    {
     "name": "stderr",
     "output_type": "stream",
     "text": [
      "100%|██████████| 6/6 [00:42<00:00,  7.03s/it]\n"
     ]
    }
   ],
   "source": [
    "df = pd.DataFrame()\n",
    "\n",
    "for f in tqdm.tqdm(all_files):\n",
    "    \n",
    "    temp_ = pd.read_csv(f, names=['metre_id', 'timecode', 'kwh'], sep=' ',\n",
    "                dtype={'metre_id': 'int64', 'timecode': 'object', 'kwh': 'float64'})\n",
    "    \n",
    "    df = pd.concat([df, temp_])"
   ]
  },
  {
   "cell_type": "code",
   "execution_count": 6,
   "id": "9cfa76cb-c39b-4d9f-b07b-97229d78db66",
   "metadata": {},
   "outputs": [
    {
     "data": {
      "text/html": [
       "<div>\n",
       "<style scoped>\n",
       "    .dataframe tbody tr th:only-of-type {\n",
       "        vertical-align: middle;\n",
       "    }\n",
       "\n",
       "    .dataframe tbody tr th {\n",
       "        vertical-align: top;\n",
       "    }\n",
       "\n",
       "    .dataframe thead th {\n",
       "        text-align: right;\n",
       "    }\n",
       "</style>\n",
       "<table border=\"1\" class=\"dataframe\">\n",
       "  <thead>\n",
       "    <tr style=\"text-align: right;\">\n",
       "      <th></th>\n",
       "      <th>metre_id</th>\n",
       "      <th>timecode</th>\n",
       "      <th>kwh</th>\n",
       "    </tr>\n",
       "  </thead>\n",
       "  <tbody>\n",
       "    <tr>\n",
       "      <th>0</th>\n",
       "      <td>4597</td>\n",
       "      <td>19711</td>\n",
       "      <td>0.144</td>\n",
       "    </tr>\n",
       "    <tr>\n",
       "      <th>1</th>\n",
       "      <td>4597</td>\n",
       "      <td>19712</td>\n",
       "      <td>0.144</td>\n",
       "    </tr>\n",
       "    <tr>\n",
       "      <th>2</th>\n",
       "      <td>4597</td>\n",
       "      <td>19501</td>\n",
       "      <td>0.208</td>\n",
       "    </tr>\n",
       "  </tbody>\n",
       "</table>\n",
       "</div>"
      ],
      "text/plain": [
       "   metre_id timecode    kwh\n",
       "0      4597    19711  0.144\n",
       "1      4597    19712  0.144\n",
       "2      4597    19501  0.208"
      ]
     },
     "execution_count": 6,
     "metadata": {},
     "output_type": "execute_result"
    }
   ],
   "source": [
    "df.head(3)"
   ]
  },
  {
   "cell_type": "markdown",
   "id": "7278db6d-c194-41e4-8aa6-0cd5a7d65f9c",
   "metadata": {},
   "source": [
    "Timecode conversion:"
   ]
  },
  {
   "cell_type": "code",
   "execution_count": 7,
   "id": "83a280dc-780e-451a-a579-7baf2504b745",
   "metadata": {},
   "outputs": [],
   "source": [
    "def time_conversion(df, timecode='timecode'):\n",
    "    \n",
    "    \"\"\"\n",
    "    Auxiliary function to convert timecodes to date codes\n",
    "    \"\"\"\n",
    "    \n",
    "    # Implement the intial date (1/1/19)\n",
    "    init_date = datetime.datetime(2009, 1, 1)\n",
    "    \n",
    "    # Split out the timecodes to day codes and minute codes\n",
    "    day_code = df[timecode].str.slice(stop=3).astype('int64')\n",
    "    minute_code = df[timecode].str.slice(start=3).astype('int64')\n",
    "    \n",
    "    # Note: dd.to_timedelta() does not seem to work with dd.map_partitions()\n",
    "    # resorting to using pd.to_timedelta() though I believe this is slower\n",
    "    \n",
    "    # Add day code\n",
    "    temp_date = init_date + pd.to_timedelta(day_code-1, unit='day')\n",
    "    # Add minute code\n",
    "    temp_date = temp_date + pd.to_timedelta(minute_code*30, unit='minute')\n",
    "    # Reduce by one second to keep within same day\n",
    "    temp_date = temp_date - pd.to_timedelta(1, unit='seconds')\n",
    "    \n",
    "    return temp_date"
   ]
  },
  {
   "cell_type": "code",
   "execution_count": 8,
   "id": "30996dd8-ea13-465c-93a1-0b581442920b",
   "metadata": {},
   "outputs": [],
   "source": [
    "# Create timestamp column\n",
    "df['timestamp'] = time_conversion(df)"
   ]
  },
  {
   "cell_type": "code",
   "execution_count": 9,
   "id": "c29e407b-3043-4b72-857a-14aa5d4f0e44",
   "metadata": {},
   "outputs": [],
   "source": [
    "df_memory = df"
   ]
  },
  {
   "cell_type": "code",
   "execution_count": 10,
   "id": "8bbceaea-de2b-46b1-aa48-ceab8b09739d",
   "metadata": {},
   "outputs": [
    {
     "data": {
      "text/plain": [
       "157992996"
      ]
     },
     "execution_count": 10,
     "metadata": {},
     "output_type": "execute_result"
    }
   ],
   "source": [
    "len(df)"
   ]
  },
  {
   "cell_type": "code",
   "execution_count": 11,
   "id": "bda1b005-c912-4a58-8d99-eaea5272c713",
   "metadata": {},
   "outputs": [
    {
     "data": {
      "text/plain": [
       "157992996"
      ]
     },
     "execution_count": 11,
     "metadata": {},
     "output_type": "execute_result"
    }
   ],
   "source": [
    "len(df_memory)"
   ]
  },
  {
   "cell_type": "markdown",
   "id": "b2de4987-cdab-4a38-80de-6f88fbe9878c",
   "metadata": {},
   "source": [
    "#### Save Start"
   ]
  },
  {
   "cell_type": "code",
   "execution_count": 12,
   "id": "cb0ede59-043e-461b-b87a-ebb26a662804",
   "metadata": {},
   "outputs": [],
   "source": [
    "df_memory = df"
   ]
  },
  {
   "cell_type": "markdown",
   "id": "b462d45e-9934-4c21-8780-762c53605bea",
   "metadata": {},
   "source": [
    "#### Average duplicates:"
   ]
  },
  {
   "cell_type": "code",
   "execution_count": 13,
   "id": "67cb6dc6-689d-4d57-8159-eee2671fe737",
   "metadata": {},
   "outputs": [],
   "source": [
    "df_memory = df_memory.groupby(['metre_id', 'timestamp']).mean().reset_index()"
   ]
  },
  {
   "cell_type": "code",
   "execution_count": 14,
   "id": "cf8fc5fa-481d-4a67-ac37-2ed3a605f22f",
   "metadata": {},
   "outputs": [
    {
     "data": {
      "text/plain": [
       "157967988"
      ]
     },
     "execution_count": 14,
     "metadata": {},
     "output_type": "execute_result"
    }
   ],
   "source": [
    "len(df_memory)"
   ]
  },
  {
   "cell_type": "markdown",
   "id": "7d8798dd-c076-49ff-9f38-0667d4e2610d",
   "metadata": {},
   "source": [
    "#### Make Test"
   ]
  },
  {
   "cell_type": "code",
   "execution_count": 15,
   "id": "65ecb233-b2ad-4b31-a2d1-f6afa6025326",
   "metadata": {},
   "outputs": [],
   "source": [
    "df_mini = df_memory[:500000]"
   ]
  },
  {
   "cell_type": "markdown",
   "id": "c81e3f92-c4e4-4c03-978d-8b1416dee668",
   "metadata": {},
   "source": [
    "#### Resample and find missing."
   ]
  },
  {
   "cell_type": "code",
   "execution_count": 16,
   "id": "2dec0081-1af3-4dd4-8341-8957ebafa7b9",
   "metadata": {},
   "outputs": [],
   "source": [
    "df_memory = df_memory.set_index('timestamp').groupby('metre_id').resample('30T', origin='start').ffill(limit=5)"
   ]
  },
  {
   "cell_type": "markdown",
   "id": "9eaefe0d-4825-41b6-8dc2-42042ccf7839",
   "metadata": {},
   "source": [
    "#### Check NA per Meter"
   ]
  },
  {
   "cell_type": "code",
   "execution_count": 17,
   "id": "4ba4d595-1df3-42df-9020-6fefe57b0aa7",
   "metadata": {},
   "outputs": [],
   "source": [
    "check_na = df_memory.metre_id.isna().groupby(level=0).sum()"
   ]
  },
  {
   "cell_type": "code",
   "execution_count": 18,
   "id": "80e4f063-8308-43be-8d67-be256dfd39b1",
   "metadata": {},
   "outputs": [],
   "source": [
    "no_nils = check_na[check_na == 0].index"
   ]
  },
  {
   "cell_type": "code",
   "execution_count": 19,
   "id": "08e14a3c-9e07-4afa-a499-44541ca34033",
   "metadata": {},
   "outputs": [
    {
     "data": {
      "text/plain": [
       "Int64Index([1000, 1001, 1002, 1003, 1004, 1005, 1006, 1009, 1010, 1011,\n",
       "            ...\n",
       "            7433, 7434, 7435, 7436, 7437, 7438, 7441, 7442, 7443, 7444],\n",
       "           dtype='int64', name='metre_id', length=5202)"
      ]
     },
     "execution_count": 19,
     "metadata": {},
     "output_type": "execute_result"
    }
   ],
   "source": [
    "no_nils"
   ]
  },
  {
   "cell_type": "markdown",
   "id": "7992af8b-d31d-491a-8d9a-515bb1d95ef9",
   "metadata": {},
   "source": [
    "#### Remove"
   ]
  },
  {
   "cell_type": "markdown",
   "id": "a57b0a97-96e5-46c1-afee-ded68d01cfc3",
   "metadata": {},
   "source": [
    "Only keep full records per meter."
   ]
  },
  {
   "cell_type": "code",
   "execution_count": 20,
   "id": "03a3a061-2789-4947-ae33-2133c56455ff",
   "metadata": {},
   "outputs": [],
   "source": [
    "df_memory = df_memory[df_memory.index.isin(no_nils, level = 0)]"
   ]
  },
  {
   "cell_type": "code",
   "execution_count": 21,
   "id": "f460572c-ffd3-44c7-8b76-0281bbbde1f9",
   "metadata": {},
   "outputs": [
    {
     "data": {
      "text/plain": [
       "127161962"
      ]
     },
     "execution_count": 21,
     "metadata": {},
     "output_type": "execute_result"
    }
   ],
   "source": [
    "len(df_memory)"
   ]
  },
  {
   "cell_type": "markdown",
   "id": "e792a2d8-e6ee-48ce-92ba-82f49851b3ae",
   "metadata": {},
   "source": [
    "#### Cut off at Midnight"
   ]
  },
  {
   "cell_type": "code",
   "execution_count": 22,
   "id": "d25f282c-ca10-47ad-816d-967d9a088126",
   "metadata": {},
   "outputs": [],
   "source": [
    "# Push timestamp back into columns\n",
    "df_memory = df_memory.reset_index(level = 1)"
   ]
  },
  {
   "cell_type": "code",
   "execution_count": 23,
   "id": "f0233dd6-6ca4-4d6a-8c64-8c5ac94c1db2",
   "metadata": {},
   "outputs": [],
   "source": [
    "def cut_off_midnights(subset_df):\n",
    "\n",
    "    if subset_df.timestamp.min().time() != datetime.time(0, 29, 59):\n",
    "        first_day = subset_df.timestamp.min().date()\n",
    "        filter_date_start = pd.to_datetime(first_day) + pd.to_timedelta('1 day') + pd.to_timedelta('0 hours 29 minutes 59 seconds')\n",
    "        subset_df = subset_df[subset_df['timestamp'] >= filter_date_start]\n",
    "        \n",
    "    if subset_df.timestamp.max().time() != datetime.time(23, 59, 59):\n",
    "        last_day = subset_df.timestamp.max().date()\n",
    "        filter_date_last = pd.to_datetime(last_day) - pd.to_timedelta('1 day') + pd.to_timedelta('23 hours 59 minutes 59 seconds')\n",
    "        subset_df = subset_df[subset_df['timestamp'] <= filter_date_last]\n",
    "        \n",
    "    return subset_df.reset_index(drop=True)"
   ]
  },
  {
   "cell_type": "code",
   "execution_count": 24,
   "id": "75624638-9afa-49b5-86e5-bcac7405dab3",
   "metadata": {},
   "outputs": [],
   "source": [
    "df_memory = df_memory.groupby(level = 0).apply(cut_off_midnights).reset_index(drop=True, level = 1)"
   ]
  },
  {
   "cell_type": "code",
   "execution_count": 25,
   "id": "864234df-74b9-4f17-b631-2b97ef9d5e3a",
   "metadata": {},
   "outputs": [
    {
     "data": {
      "text/plain": [
       "127161936"
      ]
     },
     "execution_count": 25,
     "metadata": {},
     "output_type": "execute_result"
    }
   ],
   "source": [
    "len(df_memory)"
   ]
  },
  {
   "cell_type": "markdown",
   "id": "caf12ed1-2462-49e9-90c0-574dce754740",
   "metadata": {},
   "source": [
    "#### Average Again"
   ]
  },
  {
   "cell_type": "code",
   "execution_count": 26,
   "id": "174d74d8-e697-4b79-88df-141fc4a64b2d",
   "metadata": {},
   "outputs": [],
   "source": [
    "df_memory = df_memory.reset_index(drop = True)"
   ]
  },
  {
   "cell_type": "code",
   "execution_count": 27,
   "id": "56b0d2cf-95ba-4178-a728-b6111389f350",
   "metadata": {},
   "outputs": [],
   "source": [
    "# Average duplicates again\n",
    "df_memory = df_memory.groupby(['metre_id', 'timestamp']).mean().reset_index()"
   ]
  },
  {
   "cell_type": "code",
   "execution_count": 28,
   "id": "6aeb6082-3295-4dee-8a42-3287ed7b2ed0",
   "metadata": {},
   "outputs": [
    {
     "data": {
      "text/plain": [
       "127161936"
      ]
     },
     "execution_count": 28,
     "metadata": {},
     "output_type": "execute_result"
    }
   ],
   "source": [
    "len(df_memory)"
   ]
  },
  {
   "cell_type": "markdown",
   "id": "376b77f1-b08d-40fe-a5ec-e67cd5cc3d16",
   "metadata": {},
   "source": [
    "#### Find Which Day is the most Popular"
   ]
  },
  {
   "cell_type": "code",
   "execution_count": 29,
   "id": "f6150254-0629-4a2f-adce-17fc9696a31e",
   "metadata": {},
   "outputs": [],
   "source": [
    "df_memory['date'] = df_memory.timestamp.dt.date"
   ]
  },
  {
   "cell_type": "code",
   "execution_count": 30,
   "id": "4498b98f-dd4b-4a55-9572-b49d707ebb6e",
   "metadata": {},
   "outputs": [],
   "source": [
    "check_day_popularity = df_memory.drop_duplicates(['metre_id', 'date']).groupby('date').kwh.count()"
   ]
  },
  {
   "cell_type": "code",
   "execution_count": 31,
   "id": "6cd7ad2f-9d04-42c5-92f4-474d561e3ddd",
   "metadata": {},
   "outputs": [
    {
     "data": {
      "text/plain": [
       "date\n",
       "2009-07-14    5169\n",
       "2009-07-15    5171\n",
       "2009-07-16    5172\n",
       "2009-07-17    5171\n",
       "2009-07-18    5171\n",
       "2009-07-19    5171\n",
       "2009-07-20    5170\n",
       "2009-07-21    5169\n",
       "2009-07-22    5167\n",
       "2009-07-23    5165\n",
       "2009-07-24    5163\n",
       "2009-07-25    5164\n",
       "2009-07-26    5164\n",
       "2009-07-27    5164\n",
       "2009-07-28    5160\n",
       "2009-07-29    5160\n",
       "2009-07-30    5159\n",
       "2009-07-31    5157\n",
       "2009-08-01    5157\n",
       "2009-08-02    5157\n",
       "2009-08-03    5158\n",
       "2009-08-04    5158\n",
       "2009-08-05    5157\n",
       "2009-08-06    5156\n",
       "2009-08-07    5155\n",
       "2009-08-08    5155\n",
       "2009-08-09    5155\n",
       "2009-08-10    5151\n",
       "2009-08-11    5151\n",
       "2009-08-12    5149\n",
       "2009-08-13    5148\n",
       "2009-08-14    5147\n",
       "2009-08-15    5147\n",
       "2009-08-16    5148\n",
       "2009-08-17    5148\n",
       "2009-08-18    5146\n",
       "2009-08-19    5145\n",
       "2009-08-20    5142\n",
       "2009-08-21    5141\n",
       "2009-08-22    5141\n",
       "2009-08-23    5141\n",
       "2009-08-24    5140\n",
       "2009-08-25    5139\n",
       "2009-08-26    5135\n",
       "2009-08-27    5135\n",
       "2009-08-28    5134\n",
       "2009-08-29    5134\n",
       "2009-08-30    5134\n",
       "2009-08-31    5133\n",
       "2009-09-01    5132\n",
       "Name: kwh, dtype: int64"
      ]
     },
     "execution_count": 31,
     "metadata": {},
     "output_type": "execute_result"
    }
   ],
   "source": [
    "check_day_popularity[:50]"
   ]
  },
  {
   "cell_type": "markdown",
   "id": "a1bf74f2-d7a0-4a8b-9dba-888680d40a9b",
   "metadata": {},
   "source": [
    "Check for all zeroes OR all same (errors I ran into)"
   ]
  },
  {
   "cell_type": "code",
   "execution_count": 32,
   "id": "f6df7acc-d803-4f62-bb41-b797ea3edd74",
   "metadata": {},
   "outputs": [],
   "source": [
    "def all_zero_or_same_checker(subset_df):\n",
    "\n",
    "    # return all(subset_df.kwh == 0) or (len(subset_df.kwh.unique()) <= 1)\n",
    "\n",
    "    all_zero_ = all(subset_df.kwh == 0)\n",
    "    uniques_ = len(subset_df.kwh.unique())\n",
    "\n",
    "    temp_ = pd.Series([all_zero_, uniques_])\n",
    "\n",
    "    return temp_ "
   ]
  },
  {
   "cell_type": "code",
   "execution_count": 33,
   "id": "68884a19-5261-46fd-935e-80934f728e64",
   "metadata": {},
   "outputs": [],
   "source": [
    "all_zero_checker = df_memory.groupby(['metre_id', 'date']).sum()"
   ]
  },
  {
   "cell_type": "code",
   "execution_count": 34,
   "id": "ac478b15-7ddd-4f2b-99df-54019cdbac49",
   "metadata": {},
   "outputs": [],
   "source": [
    "all_unique_checker = df_memory.groupby(['metre_id', 'date']).kwh.nunique()"
   ]
  },
  {
   "cell_type": "code",
   "execution_count": 35,
   "id": "1eb7e1f0-af81-4fb1-814b-d9f62a45e5c8",
   "metadata": {},
   "outputs": [],
   "source": [
    "both_checker = all_zero_checker.reset_index()[(all_unique_checker.reset_index().kwh <= 1) |\\\n",
    "                               (all_zero_checker.reset_index().kwh == 0)][['metre_id', 'date']].itertuples(index=False, name=None)"
   ]
  },
  {
   "cell_type": "code",
   "execution_count": 36,
   "id": "c07ae890-856f-4aa9-b660-f04540b8d9b2",
   "metadata": {},
   "outputs": [],
   "source": [
    "zero_indexer = df_memory.set_index(['metre_id', 'date']).index.isin(both_checker)"
   ]
  },
  {
   "cell_type": "code",
   "execution_count": 37,
   "id": "2380cf04-98e2-4f23-a4d9-d4d4b1cfe7b5",
   "metadata": {},
   "outputs": [],
   "source": [
    "df_memory = df_memory[~zero_indexer]"
   ]
  },
  {
   "cell_type": "code",
   "execution_count": 38,
   "id": "42b6a82c-931b-45c9-bd58-954d77ecc80e",
   "metadata": {},
   "outputs": [
    {
     "data": {
      "text/plain": [
       "126483072"
      ]
     },
     "execution_count": 38,
     "metadata": {},
     "output_type": "execute_result"
    }
   ],
   "source": [
    "len(df_memory)"
   ]
  },
  {
   "cell_type": "markdown",
   "id": "e0040028-cf6a-4828-bf71-ad93240926c1",
   "metadata": {},
   "source": [
    "Use 100 households for 35 days. Let's say from Sep 1 to Oct 30."
   ]
  },
  {
   "cell_type": "code",
   "execution_count": 39,
   "id": "40984966-bedd-48be-95da-1ebf4fe10015",
   "metadata": {},
   "outputs": [],
   "source": [
    "keep_date_range = pd.date_range(start = '2009-09-01', end = '2009-10-30', freq = '1D')"
   ]
  },
  {
   "cell_type": "code",
   "execution_count": 40,
   "id": "a2e52d9c-bdd1-4791-a7e8-da16def9d725",
   "metadata": {},
   "outputs": [],
   "source": [
    "def check_all_dates_in_range(subset_df):\n",
    "    \n",
    "    return all(keep_date_range.isin(subset_df.date))"
   ]
  },
  {
   "cell_type": "code",
   "execution_count": 41,
   "id": "a23a5fba-982c-4c14-9569-c2703e7cb041",
   "metadata": {},
   "outputs": [],
   "source": [
    "all_date_consec_checker = df_memory.groupby('metre_id').apply(check_all_dates_in_range)"
   ]
  },
  {
   "cell_type": "code",
   "execution_count": 42,
   "id": "49e1ad43-081c-4fe6-8a49-499766cf8f47",
   "metadata": {},
   "outputs": [
    {
     "data": {
      "text/plain": [
       "metre_id\n",
       "1000.0     True\n",
       "1001.0     True\n",
       "1002.0     True\n",
       "1003.0     True\n",
       "1004.0     True\n",
       "          ...  \n",
       "7438.0    False\n",
       "7441.0     True\n",
       "7442.0     True\n",
       "7443.0     True\n",
       "7444.0     True\n",
       "Length: 5202, dtype: bool"
      ]
     },
     "execution_count": 42,
     "metadata": {},
     "output_type": "execute_result"
    }
   ],
   "source": [
    "all_date_consec_checker"
   ]
  },
  {
   "cell_type": "code",
   "execution_count": 43,
   "id": "39cd859c-a08b-4d89-ac51-eff15c884cdb",
   "metadata": {},
   "outputs": [
    {
     "data": {
      "text/plain": [
       "5001"
      ]
     },
     "execution_count": 43,
     "metadata": {},
     "output_type": "execute_result"
    }
   ],
   "source": [
    "sum(all_date_consec_checker)"
   ]
  },
  {
   "cell_type": "code",
   "execution_count": 44,
   "id": "fcc6cee0-85c6-4a52-b3f5-a575f3cb7ae8",
   "metadata": {},
   "outputs": [],
   "source": [
    "k = 5000\n",
    "# houses_selected = np.random.choice(all_date_consec_checker[all_date_consec_checker == True].index, k, replace = False) # random\n",
    "houses_selected = all_date_consec_checker[all_date_consec_checker == True].index[:k].values # first k"
   ]
  },
  {
   "cell_type": "markdown",
   "id": "1479fa10-bfaf-46d2-8152-0774f720dd10",
   "metadata": {},
   "source": [
    "#### Pull Selected Houses"
   ]
  },
  {
   "cell_type": "code",
   "execution_count": 45,
   "id": "43658741-ae5e-4d1c-bff4-abeeb79c4f40",
   "metadata": {},
   "outputs": [
    {
     "data": {
      "text/html": [
       "<div>\n",
       "<style scoped>\n",
       "    .dataframe tbody tr th:only-of-type {\n",
       "        vertical-align: middle;\n",
       "    }\n",
       "\n",
       "    .dataframe tbody tr th {\n",
       "        vertical-align: top;\n",
       "    }\n",
       "\n",
       "    .dataframe thead th {\n",
       "        text-align: right;\n",
       "    }\n",
       "</style>\n",
       "<table border=\"1\" class=\"dataframe\">\n",
       "  <thead>\n",
       "    <tr style=\"text-align: right;\">\n",
       "      <th></th>\n",
       "      <th>metre_id</th>\n",
       "      <th>timestamp</th>\n",
       "      <th>kwh</th>\n",
       "      <th>date</th>\n",
       "    </tr>\n",
       "  </thead>\n",
       "  <tbody>\n",
       "    <tr>\n",
       "      <th>0</th>\n",
       "      <td>1000.0</td>\n",
       "      <td>2009-07-14 00:29:59</td>\n",
       "      <td>0.117</td>\n",
       "      <td>2009-07-14</td>\n",
       "    </tr>\n",
       "    <tr>\n",
       "      <th>1</th>\n",
       "      <td>1000.0</td>\n",
       "      <td>2009-07-14 00:59:59</td>\n",
       "      <td>0.050</td>\n",
       "      <td>2009-07-14</td>\n",
       "    </tr>\n",
       "    <tr>\n",
       "      <th>2</th>\n",
       "      <td>1000.0</td>\n",
       "      <td>2009-07-14 01:29:59</td>\n",
       "      <td>0.025</td>\n",
       "      <td>2009-07-14</td>\n",
       "    </tr>\n",
       "    <tr>\n",
       "      <th>3</th>\n",
       "      <td>1000.0</td>\n",
       "      <td>2009-07-14 01:59:59</td>\n",
       "      <td>0.025</td>\n",
       "      <td>2009-07-14</td>\n",
       "    </tr>\n",
       "    <tr>\n",
       "      <th>4</th>\n",
       "      <td>1000.0</td>\n",
       "      <td>2009-07-14 02:29:59</td>\n",
       "      <td>0.049</td>\n",
       "      <td>2009-07-14</td>\n",
       "    </tr>\n",
       "  </tbody>\n",
       "</table>\n",
       "</div>"
      ],
      "text/plain": [
       "   metre_id           timestamp    kwh        date\n",
       "0    1000.0 2009-07-14 00:29:59  0.117  2009-07-14\n",
       "1    1000.0 2009-07-14 00:59:59  0.050  2009-07-14\n",
       "2    1000.0 2009-07-14 01:29:59  0.025  2009-07-14\n",
       "3    1000.0 2009-07-14 01:59:59  0.025  2009-07-14\n",
       "4    1000.0 2009-07-14 02:29:59  0.049  2009-07-14"
      ]
     },
     "execution_count": 45,
     "metadata": {},
     "output_type": "execute_result"
    }
   ],
   "source": [
    "df_memory.head()"
   ]
  },
  {
   "cell_type": "code",
   "execution_count": 46,
   "id": "989461fe-4608-42d6-b2eb-66d8ea37075f",
   "metadata": {},
   "outputs": [],
   "source": [
    "df_processed = df_memory[(df_memory.timestamp.dt.normalize().isin(keep_date_range)) & (df_memory.metre_id.isin(houses_selected))]"
   ]
  },
  {
   "cell_type": "markdown",
   "id": "86dc6345-8f2f-4710-b481-0e33c84e6d96",
   "metadata": {},
   "source": [
    "Okay, so here we expected the $\\text{num houses} \\times \\text{date range} \\times 48$ so:"
   ]
  },
  {
   "cell_type": "code",
   "execution_count": 47,
   "id": "9db5832f-5b21-4aba-b084-f1eae7c65086",
   "metadata": {},
   "outputs": [
    {
     "data": {
      "text/plain": [
       "60"
      ]
     },
     "execution_count": 47,
     "metadata": {},
     "output_type": "execute_result"
    }
   ],
   "source": [
    "len(keep_date_range)"
   ]
  },
  {
   "cell_type": "code",
   "execution_count": 48,
   "id": "f587ed46-0cad-45c0-9834-0110a2ba78e5",
   "metadata": {},
   "outputs": [
    {
     "data": {
      "text/plain": [
       "14400000"
      ]
     },
     "execution_count": 48,
     "metadata": {},
     "output_type": "execute_result"
    }
   ],
   "source": [
    "k * len(keep_date_range) * 48"
   ]
  },
  {
   "cell_type": "code",
   "execution_count": 49,
   "id": "7cf8083b-ebc0-4fb5-a414-52f9a7cfcc34",
   "metadata": {},
   "outputs": [
    {
     "data": {
      "text/plain": [
       "14400000"
      ]
     },
     "execution_count": 49,
     "metadata": {},
     "output_type": "execute_result"
    }
   ],
   "source": [
    "len(df_processed)"
   ]
  },
  {
   "cell_type": "markdown",
   "id": "7f85ede6-e949-4ef2-bf61-1a41d51a46de",
   "metadata": {},
   "source": [
    "Great."
   ]
  },
  {
   "cell_type": "markdown",
   "id": "10cedbe5-b615-475f-9df5-886a30fbd558",
   "metadata": {},
   "source": [
    "#### Normalize\n",
    "\n",
    "**DO NOT USE** for UNNORMAL.\n",
    "PREPROCESSING DONE IN DATASET LOADER."
   ]
  },
  {
   "cell_type": "code",
   "execution_count": 50,
   "id": "5b0f43bb-a150-402f-b692-ed15f1fc11c6",
   "metadata": {},
   "outputs": [],
   "source": [
    "# def normalize_daily_load_profiles(subset_df):\n",
    "    \n",
    "#     subset_df.kwh = (subset_df.kwh - subset_df.kwh.min()) / (subset_df.kwh.max() - subset_df.kwh.min())\n",
    "    \n",
    "#     return subset_df"
   ]
  },
  {
   "cell_type": "code",
   "execution_count": 51,
   "id": "a19f9811-6707-4bd7-a27c-ee4701fcb3ae",
   "metadata": {},
   "outputs": [],
   "source": [
    "# df_processed = df_processed.groupby(['metre_id', 'date']).apply(normalize_daily_load_profiles)"
   ]
  },
  {
   "cell_type": "markdown",
   "id": "6774192b-faa1-443b-ace3-1f0e917ea7a1",
   "metadata": {},
   "source": [
    "#### TT Split"
   ]
  },
  {
   "cell_type": "code",
   "execution_count": 52,
   "id": "fb37e7ef-e777-46d4-ae71-dcfe71ac3998",
   "metadata": {},
   "outputs": [],
   "source": [
    "train_k = int(k*.9)\n",
    "\n",
    "### Random\n",
    "# houses_train = np.random.choice(houses_selected, train_k, replace = False)\n",
    "# houses_test = np.setdiff1d(houses_selected, houses_train) \n",
    "\n",
    "### Deterministic\n",
    "houses_train = houses_selected[:train_k]\n",
    "houses_test = houses_selected[train_k:]"
   ]
  },
  {
   "cell_type": "code",
   "execution_count": 53,
   "id": "14493709-72ac-4876-a10e-a2c4329a7a83",
   "metadata": {},
   "outputs": [],
   "source": [
    "df_final = df_processed.drop('date', axis = 1)"
   ]
  },
  {
   "cell_type": "code",
   "execution_count": 54,
   "id": "e9c741df-ff8b-4760-9b6f-24d1be00a90e",
   "metadata": {},
   "outputs": [],
   "source": [
    "df_train = df_final[df_final.metre_id.isin(houses_train)]\n",
    "df_test = df_final[df_final.metre_id.isin(houses_test)]"
   ]
  },
  {
   "cell_type": "code",
   "execution_count": 55,
   "id": "950aa2fc-cfc7-46ca-9c0e-c3f07ef509af",
   "metadata": {},
   "outputs": [
    {
     "data": {
      "text/plain": [
       "12960000"
      ]
     },
     "execution_count": 55,
     "metadata": {},
     "output_type": "execute_result"
    }
   ],
   "source": [
    "len(df_train)"
   ]
  },
  {
   "cell_type": "code",
   "execution_count": 56,
   "id": "5c13ab12-f9c5-4bea-a112-b41565c8e960",
   "metadata": {},
   "outputs": [
    {
     "data": {
      "text/plain": [
       "1440000"
      ]
     },
     "execution_count": 56,
     "metadata": {},
     "output_type": "execute_result"
    }
   ],
   "source": [
    "len(df_test)"
   ]
  },
  {
   "cell_type": "markdown",
   "id": "b517b3bf-a6a5-416d-ba2d-c563cb68c8e7",
   "metadata": {},
   "source": [
    "#### Save"
   ]
  },
  {
   "cell_type": "code",
   "execution_count": 251,
   "id": "b5123889-8879-499c-9b38-1b715e9e54b2",
   "metadata": {},
   "outputs": [],
   "source": [
    "# df_train.to_csv(output_folder + 'cern_train_large_unnormal.csv', index=False)\n",
    "# df_test.to_csv(output_folder + 'cern_test_large_unnormal.csv', index=False)"
   ]
  },
  {
   "cell_type": "markdown",
   "id": "8d89a383-7434-4c9d-9fd3-d28229bb9cdd",
   "metadata": {},
   "source": [
    "***"
   ]
  }
 ],
 "metadata": {
  "kernelspec": {
   "display_name": "Python 3 (ipykernel)",
   "language": "python",
   "name": "python3"
  },
  "language_info": {
   "codemirror_mode": {
    "name": "ipython",
    "version": 3
   },
   "file_extension": ".py",
   "mimetype": "text/x-python",
   "name": "python",
   "nbconvert_exporter": "python",
   "pygments_lexer": "ipython3",
   "version": "3.9.12"
  }
 },
 "nbformat": 4,
 "nbformat_minor": 5
}
