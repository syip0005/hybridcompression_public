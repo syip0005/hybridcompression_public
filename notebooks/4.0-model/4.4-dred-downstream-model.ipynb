{
 "cells": [
  {
   "cell_type": "code",
   "execution_count": 1,
   "id": "528f8ae8-0185-4bcb-9bc6-954964a43021",
   "metadata": {},
   "outputs": [],
   "source": [
    "from __future__ import absolute_import\n",
    "from __future__ import division\n",
    "from __future__ import print_function\n",
    "\n",
    "import os.path as osp\n",
    "import sys\n",
    "\n",
    "\n",
    "def add_path(path):\n",
    "    if path not in sys.path:\n",
    "        sys.path.insert(0, path)\n",
    "\n",
    "\n",
    "this_dir = osp.dirname('../../train.py')\n",
    "\n",
    "lib_path = osp.join(this_dir, 'lib')\n",
    "add_path(lib_path)"
   ]
  },
  {
   "cell_type": "code",
   "execution_count": 2,
   "id": "c8530e0e-0010-40c8-9d8f-b49b36c21e35",
   "metadata": {},
   "outputs": [],
   "source": [
    "from torch.utils.data import DataLoader, Dataset\n",
    "import matplotlib.pyplot as plt\n",
    "from models.models import AE, SCSAE, HAE_V2"
   ]
  },
  {
   "cell_type": "code",
   "execution_count": 3,
   "id": "05676932-7d2d-4a4f-ac05-8ff58eb9c7f6",
   "metadata": {},
   "outputs": [],
   "source": [
    "import torch\n",
    "import numpy as np\n",
    "import pandas as pd\n",
    "from torch import nn, optim\n",
    "import tqdm\n",
    "import seaborn as sns\n",
    "\n",
    "from sklearn.linear_model import LogisticRegression\n",
    "from sklearn.ensemble import RandomForestClassifier\n",
    "from sklearn import metrics\n",
    "from sklearn.naive_bayes import GaussianNB\n",
    "from sklearn.linear_model import LogisticRegressionCV, LogisticRegression\n",
    "from sklearn.tree import DecisionTreeClassifier\n",
    "from sklearn.svm import SVC"
   ]
  },
  {
   "cell_type": "code",
   "execution_count": 4,
   "id": "12cda95d-1d60-43e6-835f-2590f862f094",
   "metadata": {},
   "outputs": [],
   "source": [
    "dred_down_train = '../../dataset/interim/dred_model_train.pt'\n",
    "dred_down_test = '../../dataset/interim/dred_model_test.pt'"
   ]
  },
  {
   "cell_type": "code",
   "execution_count": 5,
   "id": "7b11c6f3-f986-4d11-8e10-a38a1e2e76e7",
   "metadata": {},
   "outputs": [],
   "source": [
    "scsae_params = \"../../model_param/state_4128850.pt\"\n",
    "hae2_params = \"../../model_param/state_7437386.pt\"\n",
    "ae_params = \"../../model_param/state_8894118.pt\""
   ]
  },
  {
   "cell_type": "code",
   "execution_count": 6,
   "id": "872fca4b-c10b-4c27-81ce-f13af0fe5a0d",
   "metadata": {},
   "outputs": [],
   "source": [
    "train_x, train_y = torch.load(dred_down_train)\n",
    "test_x, test_y = torch.load(dred_down_test)"
   ]
  },
  {
   "cell_type": "code",
   "execution_count": 7,
   "id": "65c102ed-f35a-4178-8cfe-fb66a2bb0830",
   "metadata": {},
   "outputs": [
    {
     "data": {
      "text/plain": [
       "AE(\n",
       "  (encoder): AE_Encoder(\n",
       "    (fc1): Linear(in_features=3600, out_features=96, bias=True)\n",
       "    (fc2): Linear(in_features=96, out_features=48, bias=True)\n",
       "    (fc3): Linear(in_features=48, out_features=24, bias=True)\n",
       "    (fc4): Linear(in_features=24, out_features=300, bias=True)\n",
       "    (dropout): Dropout(p=0.1, inplace=False)\n",
       "  )\n",
       "  (decoder): AE_Decoder(\n",
       "    (fc5): Linear(in_features=300, out_features=24, bias=True)\n",
       "    (fc6): Linear(in_features=24, out_features=48, bias=True)\n",
       "    (fc7): Linear(in_features=48, out_features=96, bias=True)\n",
       "    (fc8): Linear(in_features=96, out_features=3600, bias=True)\n",
       "    (dropout): Dropout(p=0.1, inplace=False)\n",
       "    (sigmoid): Sigmoid()\n",
       "  )\n",
       ")"
      ]
     },
     "execution_count": 7,
     "metadata": {},
     "output_type": "execute_result"
    }
   ],
   "source": [
    "scsae_ = SCSAE(latent_n = 300, input_days = 60, wide_freq = 60, reshape_factor = 1)\n",
    "hae_ = HAE_V2(latent_n = 300, input_days = 60, wide_freq = 60, reshape_factor = 1, device = 'cpu')\n",
    "ae_ = AE(latent_n = 300, input_days = 60, wide_freq = 60)\n",
    "\n",
    "scsae_.load_state_dict(torch.load(scsae_params)['state_dict'])\n",
    "hae_.load_state_dict(torch.load(hae2_params)['state_dict'])\n",
    "ae_.load_state_dict(torch.load(ae_params)['state_dict'])\n",
    "\n",
    "scsae_.eval()\n",
    "hae_.eval()\n",
    "ae_.eval()"
   ]
  },
  {
   "cell_type": "markdown",
   "id": "b89d05ab-2400-480e-b507-2fb9974a1fd7",
   "metadata": {},
   "source": [
    "### Encode the Features"
   ]
  },
  {
   "cell_type": "code",
   "execution_count": 8,
   "id": "b033bf30-3111-40f7-8222-0237d2925642",
   "metadata": {},
   "outputs": [],
   "source": [
    "train_dataloader = DataLoader(train_x, batch_size = 512)\n",
    "test_dataloader = DataLoader(test_x, batch_size = 512)"
   ]
  },
  {
   "cell_type": "code",
   "execution_count": 9,
   "id": "93aaa930-559e-4fc8-b206-0c30e80f6a41",
   "metadata": {},
   "outputs": [],
   "source": [
    "train_encoded = torch.zeros(1, 300)\n",
    "\n",
    "for feat in train_dataloader:\n",
    "    feat = feat.unsqueeze(1)\n",
    "    out = scsae_.encoder(feat.float())\n",
    "    train_encoded = torch.cat([train_encoded, out])\n",
    "    \n",
    "train_encoded = train_encoded[1:] # remove initial zeroes\n",
    "\n",
    "test_encoded = torch.zeros(1, 300)\n",
    "\n",
    "for feat in test_dataloader:\n",
    "    feat = feat.unsqueeze(1)\n",
    "    out = scsae_.encoder(feat.float())\n",
    "    test_encoded = torch.cat([test_encoded, out])\n",
    "    \n",
    "test_encoded = test_encoded[1:] # remove initial zeroes\n",
    "\n",
    "scsae_train_encoded = train_encoded.detach()\n",
    "scsae_test_encoded = test_encoded.detach()"
   ]
  },
  {
   "cell_type": "code",
   "execution_count": 10,
   "id": "99b4afdb-905c-46a1-ba9d-9326cafdb012",
   "metadata": {},
   "outputs": [],
   "source": [
    "train_encoded = torch.zeros(1, 300)\n",
    "\n",
    "for feat in train_dataloader:\n",
    "    feat = feat.unsqueeze(1)\n",
    "    out = hae_.encoder(feat.float())\n",
    "    train_encoded = torch.cat([train_encoded, out])\n",
    "    \n",
    "train_encoded = train_encoded[1:] # remove initial zeroes\n",
    "\n",
    "test_encoded = torch.zeros(1, 300)\n",
    "\n",
    "for feat in test_dataloader:\n",
    "    feat = feat.unsqueeze(1)\n",
    "    out = hae_.encoder(feat.float())\n",
    "    test_encoded = torch.cat([test_encoded, out])\n",
    "    \n",
    "test_encoded = test_encoded[1:] # remove initial zeroes\n",
    "\n",
    "hae_train_encoded = train_encoded.detach()\n",
    "hae_test_encoded = test_encoded.detach()"
   ]
  },
  {
   "cell_type": "code",
   "execution_count": 11,
   "id": "60929d99-2716-4f07-b910-61b1a2bb9620",
   "metadata": {},
   "outputs": [
    {
     "data": {
      "text/plain": [
       "torch.Size([450, 1, 60, 60])"
      ]
     },
     "execution_count": 11,
     "metadata": {},
     "output_type": "execute_result"
    }
   ],
   "source": [
    "feat.shape"
   ]
  },
  {
   "cell_type": "code",
   "execution_count": 12,
   "id": "b97bcab0-c295-4900-a953-0ead8df022c9",
   "metadata": {},
   "outputs": [],
   "source": [
    "train_encoded = torch.zeros(1, 300)\n",
    "\n",
    "for feat in train_dataloader:\n",
    "    feat = feat.reshape(-1, 60*60)\n",
    "    out = ae_.encoder(feat.float())\n",
    "    train_encoded = torch.cat([train_encoded, out])\n",
    "    \n",
    "train_encoded = train_encoded[1:] # remove initial zeroes\n",
    "\n",
    "test_encoded = torch.zeros(1, 300)\n",
    "\n",
    "for feat in test_dataloader:\n",
    "    feat = feat.reshape(-1, 60*60)\n",
    "    out = ae_.encoder(feat.float())\n",
    "    test_encoded = torch.cat([test_encoded, out])\n",
    "    \n",
    "test_encoded = test_encoded[1:] # remove initial zeroes\n",
    "\n",
    "ae_train_encoded = train_encoded.detach()\n",
    "ae_test_encoded = test_encoded.detach()"
   ]
  },
  {
   "cell_type": "code",
   "execution_count": null,
   "id": "a6f83174-a004-4980-967c-c435d79692e7",
   "metadata": {},
   "outputs": [],
   "source": []
  },
  {
   "cell_type": "code",
   "execution_count": 13,
   "id": "2dabc49f-6118-48c7-a67b-60c7130f0891",
   "metadata": {},
   "outputs": [],
   "source": [
    "class EncodedDRED(Dataset):\n",
    "    def __init__(self, train=True, encoder='ae'):\n",
    "        if encoder == 'ae':\n",
    "            if train is True:\n",
    "                self.data = ae_train_encoded\n",
    "                self.target = train_y\n",
    "            else:\n",
    "                self.data = ae_test_encoded\n",
    "                self.target = test_y\n",
    "        elif encoder == 'scsae':\n",
    "            if train is True:\n",
    "                self.data = scsae_train_encoded\n",
    "                self.target = train_y\n",
    "            else:\n",
    "                self.data = scsae_test_encoded\n",
    "                self.target = test_y\n",
    "        elif encoder == 'hae':\n",
    "            if train is True:\n",
    "                self.data = hae_train_encoded\n",
    "                self.target = train_y\n",
    "            else:\n",
    "                self.data = hae_test_encoded\n",
    "                self.target = test_y\n",
    "                \n",
    "    def __len__(self):\n",
    "        return len(self.data)\n",
    "\n",
    "    def __getitem__(self, idx):\n",
    "        return self.data[idx], self.target[idx]"
   ]
  },
  {
   "cell_type": "markdown",
   "id": "873a5b6c-8e4d-45e9-b35a-918ba7fe0765",
   "metadata": {},
   "source": [
    "### Basic NN"
   ]
  },
  {
   "cell_type": "code",
   "execution_count": 14,
   "id": "9e3e3d2d-d6d6-41b3-9a80-9dc51adc9019",
   "metadata": {},
   "outputs": [],
   "source": [
    "# class Net(nn.Module):\n",
    "#     def __init__(self):\n",
    "#         super().__init__()\n",
    "#         self.model = nn.Sequential(nn.Linear(300, 128), nn.ReLU(), nn.Dropout(p=0.1),\n",
    "#                                    nn.Linear(128, 32), nn.ReLU(), nn.Dropout(p=0.1), \n",
    "#                                    nn.Linear(32, 1),\n",
    "#                                    nn.Sigmoid())\n",
    "\n",
    "#     def forward(self, x):\n",
    "#         x = self.model(x)\n",
    "#         return x"
   ]
  },
  {
   "cell_type": "code",
   "execution_count": 15,
   "id": "0debc52d-88ee-418b-b425-7fe7c26117ba",
   "metadata": {},
   "outputs": [],
   "source": [
    "# def build_and_get_model(dset, debug = False):\n",
    "    \n",
    "#     net = Net()\n",
    "\n",
    "#     encoded_dset_train = EncodedDRED(train=True, encoder = dset)\n",
    "#     encoded_dset_test = EncodedDRED(train=False, encoder=dset)\n",
    "#     encoded_dloader_train = DataLoader(encoded_dset_train, batch_size = 32)\n",
    "#     encoded_dloader_test = DataLoader(encoded_dset_test, batch_size = 32)\n",
    "\n",
    "#     criterion = nn.BCELoss()\n",
    "#     optimizer = optim.AdamW(net.parameters(), 1e-4, weight_decay = 1e-7)\n",
    "\n",
    "#     for epoch in range(50):\n",
    "\n",
    "#         net.train()\n",
    "#         epoch_train_loss_avg = 0\n",
    "\n",
    "#         for inputs, labels in (encoded_dloader_train):\n",
    "\n",
    "#             labels = labels.unsqueeze(1).float()\n",
    "\n",
    "#             out = net(inputs)\n",
    "#             loss = criterion(out, labels)\n",
    "\n",
    "#             with torch.no_grad():\n",
    "#                 epoch_train_loss_avg += loss.item()\n",
    "\n",
    "#             optimizer.zero_grad()\n",
    "#             loss.backward()\n",
    "#             optimizer.step()\n",
    "\n",
    "#         epoch_train_loss_avg /= len(encoded_dloader_train)\n",
    "\n",
    "#         ### VALIDATE\n",
    "\n",
    "#         net.eval()\n",
    "#         epoch_val_loss_avg = 0\n",
    "#         epoch_acc = 0\n",
    "\n",
    "#         for inputs, labels in (encoded_dloader_test):\n",
    "\n",
    "#             labels = labels.unsqueeze(1).float()\n",
    "#             out = net(inputs)\n",
    "#             loss = criterion(out, labels)\n",
    "\n",
    "#             with torch.no_grad():\n",
    "#                 epoch_val_loss_avg += loss.item()\n",
    "\n",
    "#         epoch_val_loss_avg /= len(encoded_dloader_test)\n",
    "\n",
    "#         if debug: print(f'Epoch: {epoch + 1} | Train Loss: {epoch_train_loss_avg: .3f} | Val Loss: {epoch_val_loss_avg: .3f}')\n",
    "        \n",
    "#     return net"
   ]
  },
  {
   "cell_type": "code",
   "execution_count": 16,
   "id": "936c4650-45d3-4194-b654-efc0b93aec24",
   "metadata": {},
   "outputs": [],
   "source": [
    "# results = {'ae': {'accuracy': [], 'precision': [], 'recall': []},\n",
    "#            'scsae':  {'accuracy': [], 'precision': [], 'recall': []},\n",
    "#            'hae':  {'accuracy': [], 'precision': [], 'recall': []}}\n",
    "\n",
    "# for i in range(10):\n",
    "\n",
    "#     for dset_name in ['ae', 'scsae', 'hae']:\n",
    "\n",
    "#         model = build_and_get_model(dset_name, False)\n",
    "\n",
    "#         model.eval()\n",
    "#         encoded_dset_test = EncodedDRED(train=False, encoder=dset_name)\n",
    "#         encoded_dloader_test = DataLoader(encoded_dset_test, batch_size = 500)\n",
    "\n",
    "#         for inputs, labels in encoded_dloader_test:\n",
    "\n",
    "#             out = model(inputs)\n",
    "#             out = out.reshape(-1).detach().numpy()\n",
    "#             labels = labels.numpy()\n",
    "\n",
    "#             thresh = 0.5\n",
    "#             pred = np.where(out > thresh, 1, 0)\n",
    "\n",
    "#             results[dset_name]['accuracy'].append(metrics.accuracy_score(labels, pred))\n",
    "#             results[dset_name]['precision'].append(metrics.precision_score(labels, pred))\n",
    "#             results[dset_name]['recall'].append(metrics.recall_score(labels, pred))\n",
    "\n",
    "# df_results_nn = pd.DataFrame(results).apply(pd.Series.explode).reset_index()"
   ]
  },
  {
   "cell_type": "code",
   "execution_count": 17,
   "id": "e53f9fe1-812e-43d2-9a4e-187148fe8b11",
   "metadata": {},
   "outputs": [],
   "source": [
    "# df_results_nn = pd.DataFrame.from_dict(results, orient = 'index').apply(pd.Series.explode).reset_index()"
   ]
  },
  {
   "cell_type": "code",
   "execution_count": 18,
   "id": "0ba3de0c-b77b-4ad6-8abd-7cae8ad3c906",
   "metadata": {},
   "outputs": [],
   "source": [
    "# df_results_nn.groupby('index').mean()"
   ]
  },
  {
   "cell_type": "markdown",
   "id": "c4594833-102c-4771-adaf-388eb35ef540",
   "metadata": {},
   "source": [
    "### Basic Classifier (Random Forest)"
   ]
  },
  {
   "cell_type": "code",
   "execution_count": 35,
   "id": "4662d9e3-7095-4e82-8017-994c95785999",
   "metadata": {},
   "outputs": [],
   "source": [
    "MODEL = \"RandomForestClassifier()\""
   ]
  },
  {
   "cell_type": "code",
   "execution_count": 36,
   "id": "3a0aae62-92df-45ca-aa39-59ddd0b79089",
   "metadata": {},
   "outputs": [
    {
     "name": "stderr",
     "output_type": "stream",
     "text": [
      " 92%|█████████▏| 23/25 [00:26<00:02,  1.13s/it]"
     ]
    }
   ],
   "source": [
    "scsae_metrics = {'accuracy': [], 'precision': [], 'recall': []}\n",
    "\n",
    "for i in tqdm.tqdm(range(25)):\n",
    "    \n",
    "    \n",
    "    model = eval(MODEL)\n",
    "    model.fit(scsae_train_encoded.numpy(), train_y.numpy())\n",
    "    predictions = model.predict(scsae_test_encoded.numpy())\n",
    "    # score = metrics.classification_report(test_y.numpy(), predictions)\n",
    "    # print(\"SCSAE\\n\")\n",
    "    # print(score)\n",
    "    scsae_metrics['accuracy'].append(metrics.accuracy_score(test_y.numpy(), predictions))\n",
    "    scsae_metrics['precision'].append(metrics.precision_score(test_y.numpy(), predictions))\n",
    "    scsae_metrics['recall'].append(metrics.recall_score(test_y.numpy(), predictions))"
   ]
  },
  {
   "cell_type": "code",
   "execution_count": null,
   "id": "ec667834-2e33-4daa-a912-3c4d89fe0842",
   "metadata": {},
   "outputs": [
    {
     "name": "stderr",
     "output_type": "stream",
     "text": [
      "100%|██████████| 100/100 [00:49<00:00,  2.01it/s]\n"
     ]
    }
   ],
   "source": [
    "hae_metrics = {'accuracy': [], 'precision': [], 'recall': []}\n",
    "\n",
    "for i in tqdm.tqdm(range(25)):\n",
    "    \n",
    "    model = eval(MODEL)\n",
    "    model.fit(hae_train_encoded.numpy(), train_y.numpy())\n",
    "    predictions = model.predict(hae_test_encoded.numpy())\n",
    "    # score = metrics.classification_report(test_y.numpy(), predictions)\n",
    "    # print(\"SCSAE\\n\")\n",
    "    # print(score)\n",
    "    hae_metrics['accuracy'].append(metrics.accuracy_score(test_y.numpy(), predictions))\n",
    "    hae_metrics['precision'].append(metrics.precision_score(test_y.numpy(), predictions))\n",
    "    hae_metrics['recall'].append(metrics.recall_score(test_y.numpy(), predictions))"
   ]
  },
  {
   "cell_type": "code",
   "execution_count": null,
   "id": "4934fc25-8e55-4e16-9867-70dc0c447b4d",
   "metadata": {},
   "outputs": [
    {
     "name": "stderr",
     "output_type": "stream",
     "text": [
      "100%|██████████| 100/100 [00:11<00:00,  8.47it/s]\n"
     ]
    }
   ],
   "source": [
    "ae_metrics = {'accuracy': [], 'precision': [], 'recall': []}\n",
    "\n",
    "for i in tqdm.tqdm(range(25)):\n",
    "    \n",
    "    model = eval(MODEL)\n",
    "    model.fit(ae_train_encoded.numpy(), train_y.numpy())\n",
    "    predictions = model.predict(ae_test_encoded.numpy())\n",
    "    # score = metrics.classification_report(test_y.numpy(), predictions)\n",
    "    # print(\"SCSAE\\n\")\n",
    "    # print(score)\n",
    "    ae_metrics['accuracy'].append(metrics.accuracy_score(test_y.numpy(), predictions))\n",
    "    ae_metrics['precision'].append(metrics.precision_score(test_y.numpy(), predictions))\n",
    "    ae_metrics['recall'].append(metrics.recall_score(test_y.numpy(), predictions))"
   ]
  },
  {
   "cell_type": "markdown",
   "id": "1740fe95-ee05-48e8-9524-ba37a6771f22",
   "metadata": {},
   "source": [
    "### Metrics"
   ]
  },
  {
   "cell_type": "code",
   "execution_count": null,
   "id": "a0e6cc43-44ad-4464-b622-160f6eae7718",
   "metadata": {},
   "outputs": [],
   "source": [
    "df_scsae = pd.DataFrame(scsae_metrics)\n",
    "df_scsae['model'] = 'scsae'\n",
    "df_hae = pd.DataFrame(hae_metrics)\n",
    "df_hae['model'] = 'hae'\n",
    "df_ae = pd.DataFrame(ae_metrics)\n",
    "df_ae['model'] = 'ae'\n",
    "df_both = pd.concat([df_hae, df_scsae, df_ae])"
   ]
  },
  {
   "cell_type": "code",
   "execution_count": null,
   "id": "6060e813-38a5-494c-9cd5-db0eae12002e",
   "metadata": {},
   "outputs": [
    {
     "data": {
      "text/html": [
       "<div>\n",
       "<style scoped>\n",
       "    .dataframe tbody tr th:only-of-type {\n",
       "        vertical-align: middle;\n",
       "    }\n",
       "\n",
       "    .dataframe tbody tr th {\n",
       "        vertical-align: top;\n",
       "    }\n",
       "\n",
       "    .dataframe thead th {\n",
       "        text-align: right;\n",
       "    }\n",
       "</style>\n",
       "<table border=\"1\" class=\"dataframe\">\n",
       "  <thead>\n",
       "    <tr style=\"text-align: right;\">\n",
       "      <th></th>\n",
       "      <th>accuracy</th>\n",
       "      <th>precision</th>\n",
       "      <th>recall</th>\n",
       "    </tr>\n",
       "    <tr>\n",
       "      <th>model</th>\n",
       "      <th></th>\n",
       "      <th></th>\n",
       "      <th></th>\n",
       "    </tr>\n",
       "  </thead>\n",
       "  <tbody>\n",
       "    <tr>\n",
       "      <th>ae</th>\n",
       "      <td>0.854978</td>\n",
       "      <td>0.233727</td>\n",
       "      <td>0.292564</td>\n",
       "    </tr>\n",
       "    <tr>\n",
       "      <th>hae</th>\n",
       "      <td>0.864622</td>\n",
       "      <td>0.242673</td>\n",
       "      <td>0.261795</td>\n",
       "    </tr>\n",
       "    <tr>\n",
       "      <th>scsae</th>\n",
       "      <td>0.884933</td>\n",
       "      <td>0.357064</td>\n",
       "      <td>0.406667</td>\n",
       "    </tr>\n",
       "  </tbody>\n",
       "</table>\n",
       "</div>"
      ],
      "text/plain": [
       "       accuracy  precision    recall\n",
       "model                               \n",
       "ae     0.854978   0.233727  0.292564\n",
       "hae    0.864622   0.242673  0.261795\n",
       "scsae  0.884933   0.357064  0.406667"
      ]
     },
     "execution_count": 26,
     "metadata": {},
     "output_type": "execute_result"
    }
   ],
   "source": [
    "df_both.groupby('model').mean()"
   ]
  },
  {
   "cell_type": "code",
   "execution_count": null,
   "id": "78bd2e71-4c65-4f6f-bf76-a7dc3dacb432",
   "metadata": {},
   "outputs": [
    {
     "data": {
      "text/html": [
       "<div>\n",
       "<style scoped>\n",
       "    .dataframe tbody tr th:only-of-type {\n",
       "        vertical-align: middle;\n",
       "    }\n",
       "\n",
       "    .dataframe tbody tr th {\n",
       "        vertical-align: top;\n",
       "    }\n",
       "\n",
       "    .dataframe thead th {\n",
       "        text-align: right;\n",
       "    }\n",
       "</style>\n",
       "<table border=\"1\" class=\"dataframe\">\n",
       "  <thead>\n",
       "    <tr style=\"text-align: right;\">\n",
       "      <th></th>\n",
       "      <th>accuracy</th>\n",
       "      <th>precision</th>\n",
       "      <th>recall</th>\n",
       "    </tr>\n",
       "    <tr>\n",
       "      <th>model</th>\n",
       "      <th></th>\n",
       "      <th></th>\n",
       "      <th></th>\n",
       "    </tr>\n",
       "  </thead>\n",
       "  <tbody>\n",
       "    <tr>\n",
       "      <th>ae</th>\n",
       "      <td>0.000098</td>\n",
       "      <td>0.000954</td>\n",
       "      <td>0.001104</td>\n",
       "    </tr>\n",
       "    <tr>\n",
       "      <th>hae</th>\n",
       "      <td>0.000087</td>\n",
       "      <td>0.001064</td>\n",
       "      <td>0.001040</td>\n",
       "    </tr>\n",
       "    <tr>\n",
       "      <th>scsae</th>\n",
       "      <td>0.000051</td>\n",
       "      <td>0.001003</td>\n",
       "      <td>0.001873</td>\n",
       "    </tr>\n",
       "  </tbody>\n",
       "</table>\n",
       "</div>"
      ],
      "text/plain": [
       "       accuracy  precision    recall\n",
       "model                               \n",
       "ae     0.000098   0.000954  0.001104\n",
       "hae    0.000087   0.001064  0.001040\n",
       "scsae  0.000051   0.001003  0.001873"
      ]
     },
     "execution_count": 27,
     "metadata": {},
     "output_type": "execute_result"
    }
   ],
   "source": [
    "df_both.groupby('model').var()"
   ]
  },
  {
   "cell_type": "code",
   "execution_count": null,
   "id": "75aab37e-c485-47cd-a47c-384980c4ab96",
   "metadata": {},
   "outputs": [
    {
     "data": {
      "text/plain": [
       "<AxesSubplot:xlabel='model', ylabel='accuracy'>"
      ]
     },
     "execution_count": 28,
     "metadata": {},
     "output_type": "execute_result"
    },
    {
     "data": {
      "image/png": "[encoded data removed]",
      "text/plain": [
       "<Figure size 432x288 with 1 Axes>"
      ]
     },
     "metadata": {
      "needs_background": "light"
     },
     "output_type": "display_data"
    }
   ],
   "source": [
    "sns.boxplot(data = df_both, x = 'model', y='accuracy')"
   ]
  },
  {
   "cell_type": "code",
   "execution_count": 29,
   "id": "4cbbf079-af32-401a-8740-7401ec361ec9",
   "metadata": {},
   "outputs": [
    {
     "data": {
      "text/plain": [
       "<AxesSubplot:xlabel='model', ylabel='precision'>"
      ]
     },
     "execution_count": 29,
     "metadata": {},
     "output_type": "execute_result"
    },
    {
     "data": {
      "image/png": "[encoded data removed]",
      "text/plain": [
       "<Figure size 432x288 with 1 Axes>"
      ]
     },
     "metadata": {
      "needs_background": "light"
     },
     "output_type": "display_data"
    }
   ],
   "source": [
    "sns.boxplot(data = df_both, x = 'model', y='precision')"
   ]
  },
  {
   "cell_type": "code",
   "execution_count": 30,
   "id": "ae903f88-96d2-40dc-b962-8627b2ae6698",
   "metadata": {},
   "outputs": [
    {
     "data": {
      "text/plain": [
       "<AxesSubplot:xlabel='model', ylabel='recall'>"
      ]
     },
     "execution_count": 30,
     "metadata": {},
     "output_type": "execute_result"
    },
    {
     "data": {
      "image/png": "[encoded data removed]",
      "text/plain": [
       "<Figure size 432x288 with 1 Axes>"
      ]
     },
     "metadata": {
      "needs_background": "light"
     },
     "output_type": "display_data"
    }
   ],
   "source": [
    "sns.boxplot(data = df_both, x = 'model', y='recall')"
   ]
  }
 ],
 "metadata": {
  "kernelspec": {
   "display_name": "Python 3 (ipykernel)",
   "language": "python",
   "name": "python3"
  },
  "language_info": {
   "codemirror_mode": {
    "name": "ipython",
    "version": 3
   },
   "file_extension": ".py",
   "mimetype": "text/x-python",
   "name": "python",
   "nbconvert_exporter": "python",
   "pygments_lexer": "ipython3",
   "version": "3.9.12"
  },
  "vscode": {
   "interpreter": {
    "hash": "8746d81ff8dd954e2ca4cc24db45af9109099d9945494b2fe8195022b9a6588f"
   }
  }
 },
 "nbformat": 4,
 "nbformat_minor": 5
}
