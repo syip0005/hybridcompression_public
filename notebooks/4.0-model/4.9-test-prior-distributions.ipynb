{
 "cells": [
  {
   "cell_type": "code",
   "execution_count": 1,
   "id": "c1adc83b-3eec-41b7-b363-cd9ed15f615f",
   "metadata": {},
   "outputs": [],
   "source": [
    "import numpy as np\n",
    "import torch"
   ]
  },
  {
   "cell_type": "code",
   "execution_count": 20,
   "id": "53850774-f4ba-4ca3-8ebd-685851cfe205",
   "metadata": {},
   "outputs": [],
   "source": [
    "import matplotlib.pyplot as plt"
   ]
  },
  {
   "cell_type": "code",
   "execution_count": 133,
   "id": "59798070-4ffa-447d-9565-7b3ca87c3fd9",
   "metadata": {},
   "outputs": [],
   "source": [
    "noise_distribution = Uniform(-0.5, 0.5)\n",
    "base_distribution = Uniform(0, 1)\n",
    "transforms = [SigmoidTransform().inv, AffineTransform(loc = 0, scale=0.1)]\n",
    "logistic = TransformedDistribution(base_distribution, transforms)"
   ]
  },
  {
   "cell_type": "code",
   "execution_count": 134,
   "id": "a912d3e7-c200-4e26-bd13-72d617cb5c46",
   "metadata": {},
   "outputs": [],
   "source": []
  },
  {
   "cell_type": "code",
   "execution_count": 135,
   "id": "860291f0-80c3-4dad-8ed3-7e6fb14fb6dd",
   "metadata": {},
   "outputs": [
    {
     "data": {
      "image/png": "[encoded data removed]",
      "text/plain": [
       "<Figure size 432x288 with 1 Axes>"
      ]
     },
     "metadata": {
      "needs_background": "light"
     },
     "output_type": "display_data"
    }
   ],
   "source": [
    "plt.hist(values, bins = 200)\n",
    "plt.show()"
   ]
  },
  {
   "cell_type": "code",
   "execution_count": 136,
   "id": "01c03b67-c299-4a7d-a28d-08375d6ff6a2",
   "metadata": {},
   "outputs": [
    {
     "data": {
      "image/png": "[encoded data removed]",
      "text/plain": [
       "<Figure size 432x288 with 1 Axes>"
      ]
     },
     "metadata": {
      "needs_background": "light"
     },
     "output_type": "display_data"
    }
   ],
   "source": [
    "plt.hist(values_noise, bins = 200)\n",
    "plt.show()"
   ]
  },
  {
   "cell_type": "code",
   "execution_count": 144,
   "id": "70869db8-6148-46ec-8ce6-e67a0505c5f1",
   "metadata": {},
   "outputs": [],
   "source": [
    "def logistic_pdf(x, mu, s):\n",
    "    \n",
    "    return (np.exp(-(x-mu)/s)) / (s*np.square(1+np.exp(-(x-mu)/s)))\n",
    "\n",
    "def logistic_cdf(x, mu, s):\n",
    "    \n",
    "    return  1 / (1 + np.exp(-(x - mu)/s))\n",
    "\n",
    "def noise_added_logistic_distribution(x, s):\n",
    "    \n",
    "    # assume mu = 0\n",
    "    \n",
    "    return logistic_cdf(x, -0.5, s) - logistic_cdf(x, 0.5, s)"
   ]
  },
  {
   "cell_type": "code",
   "execution_count": 140,
   "id": "e57f64cb-c91a-4d94-a47b-527b8a7ee24d",
   "metadata": {},
   "outputs": [],
   "source": [
    "x = np.linspace(-10, 10, 1000)"
   ]
  },
  {
   "cell_type": "code",
   "execution_count": 163,
   "id": "20cda855-1bb0-49f7-aacb-2ae36a7a678f",
   "metadata": {},
   "outputs": [
    {
     "name": "stderr",
     "output_type": "stream",
     "text": [
      "/tmp/ipykernel_171028/1317350341.py:7: RuntimeWarning: overflow encountered in exp\n",
      "  return  1 / (1 + np.exp(-(x - mu)/s))\n",
      "/tmp/ipykernel_171028/1317350341.py:3: RuntimeWarning: overflow encountered in exp\n",
      "  return (np.exp(-(x-mu)/s)) / (s*np.square(1+np.exp(-(x-mu)/s)))\n",
      "/tmp/ipykernel_171028/1317350341.py:3: RuntimeWarning: overflow encountered in square\n",
      "  return (np.exp(-(x-mu)/s)) / (s*np.square(1+np.exp(-(x-mu)/s)))\n",
      "/tmp/ipykernel_171028/1317350341.py:3: RuntimeWarning: invalid value encountered in true_divide\n",
      "  return (np.exp(-(x-mu)/s)) / (s*np.square(1+np.exp(-(x-mu)/s)))\n"
     ]
    }
   ],
   "source": [
    "y = noise_added_logistic_distribution(x, 0.01)\n",
    "y2 = logistic_pdf(x, 0, 0.01)"
   ]
  },
  {
   "cell_type": "code",
   "execution_count": 164,
   "id": "f96c9ca6-3036-4917-96c0-9547a3ea38f5",
   "metadata": {},
   "outputs": [
    {
     "data": {
      "text/plain": [
       "<matplotlib.legend.Legend at 0x7fdcb3e63c70>"
      ]
     },
     "execution_count": 164,
     "metadata": {},
     "output_type": "execute_result"
    },
    {
     "data": {
      "image/png": "[encoded data removed]",
      "text/plain": [
       "<Figure size 432x288 with 1 Axes>"
      ]
     },
     "metadata": {
      "needs_background": "light"
     },
     "output_type": "display_data"
    }
   ],
   "source": [
    "fig, ax = plt.subplots(1,1)\n",
    "ax.plot(x, y, label='noise_added')\n",
    "ax.plot(x, y2, label='original')\n",
    "plt.legend()"
   ]
  },
  {
   "cell_type": "code",
   "execution_count": null,
   "id": "efdfec41-dbc1-41e4-b6c9-a28d8c05da62",
   "metadata": {},
   "outputs": [],
   "source": []
  }
 ],
 "metadata": {
  "kernelspec": {
   "display_name": "Python 3 (ipykernel)",
   "language": "python",
   "name": "python3"
  },
  "language_info": {
   "codemirror_mode": {
    "name": "ipython",
    "version": 3
   },
   "file_extension": ".py",
   "mimetype": "text/x-python",
   "name": "python",
   "nbconvert_exporter": "python",
   "pygments_lexer": "ipython3",
   "version": "3.9.12"
  }
 },
 "nbformat": 4,
 "nbformat_minor": 5
}
