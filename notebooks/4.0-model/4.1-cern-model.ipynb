{
 "cells": [
  {
   "cell_type": "code",
   "execution_count": 1,
   "id": "d613e1c7-dd9d-45d0-b59e-9064d8045b34",
   "metadata": {},
   "outputs": [],
   "source": [
    "import torch\n",
    "from torch import nn, optim\n",
    "from torch.utils.data import Dataset, DataLoader\n",
    "from torch.nn import functional as F\n",
    "import pandas as pd\n",
    "import numpy as np\n",
    "import logging, sys\n",
    "from tqdm import tqdm"
   ]
  },
  {
   "cell_type": "code",
   "execution_count": 2,
   "id": "a44d1f04-eb3f-4274-a687-a0e726e4b2b5",
   "metadata": {},
   "outputs": [],
   "source": [
    "import matplotlib.pyplot as plt"
   ]
  },
  {
   "cell_type": "markdown",
   "id": "e88de3be-e98f-48fc-a8eb-46ead163c73e",
   "metadata": {},
   "source": [
    "Push dataset from data_loader's 01. CERN Dataset notebook:"
   ]
  },
  {
   "cell_type": "code",
   "execution_count": 3,
   "id": "cead157d-1cf4-4c61-87ce-a058a6164d43",
   "metadata": {},
   "outputs": [],
   "source": [
    "logging.basicConfig(stream=sys.stderr, level=logging.DEBUG)"
   ]
  },
  {
   "cell_type": "code",
   "execution_count": 4,
   "id": "011b7aaf-7cd5-4c24-afad-c371805a158e",
   "metadata": {},
   "outputs": [],
   "source": [
    "class CERN_Dataset_CNN(Dataset):\n",
    "\n",
    "    def __init__(self, folder_path: str ='../../dataset/interim/', mode: str = 'cnn', # Required arguments\n",
    "                 train: bool = True, no_days: int = 12, reshape_factor: int = 2, # CNN arguments\n",
    "                 fc_days = 1, # FC arguments\n",
    "                 N: int = None, seed: int = 0, eps: float = 1e-12): # Other arguments\n",
    "\n",
    "        \"\"\"\n",
    "        Custom dataset for CERN (Irish Dataset, 30 minute freq)\n",
    "        All Tensor operations performed on CPU as minor operations only\n",
    "        \n",
    "        Args:\n",
    "            folder_path (string): Directory with all the files (processed)\n",
    "            mode (string): Either 'cnn' for convolutional usage or 'fc' for basic AE usage.\n",
    "            train (bool): Determines whether training or test dataset to be used (already preprocessed to save time)\n",
    "            no_days (int, optional): Number of days (i.e., rows in the matrix example)\n",
    "            reshape_factor (int, optional): Used by the original authors to achieve a square tensor\n",
    "            N (int, optional): Select subset of examples, AFTER reshaping.\n",
    "            seed (int, optional): Set seed, mainly for shuffling\n",
    "            eps (float, optional): For numerical stability in min-max normalization.\n",
    "        \"\"\"\n",
    "        \n",
    "        # Set seed\n",
    "        torch.manual_seed(seed)\n",
    "        \n",
    "        # Activate tqdm for pandas and remember object variables\n",
    "        tqdm.pandas()\n",
    "        self.eps = eps\n",
    "        self.mode = mode\n",
    "        \n",
    "        if train:\n",
    "            file_path = folder_path + 'cern_train.csv'\n",
    "        else:\n",
    "            file_path = folder_path + 'cern_test.csv' # Note that this has all been directly preprocessed to reduce time spent reprocessing.\n",
    "\n",
    "        df = pd.read_csv(file_path)\n",
    "        \n",
    "        if mode == 'cnn':\n",
    "        \n",
    "            # Perform first reshape into Tensor of shape (no_examples, no_days, 48)\n",
    "            self.cern_data = self.preprocess_cern_cnn(df, no_days)\n",
    "\n",
    "\n",
    "            # Perform second reshape into Tensor of shape (no_examples, no_days * reshape_factor, 48 / reshape_factor)        \n",
    "            self.cern_data = self.cern_data.reshape(self.cern_data.size(0), self.cern_data.size(1) * reshape_factor,\n",
    "                                                    self.cern_data.size(2) // reshape_factor)\n",
    "\n",
    "            # Unsqueeze channel 1 back out (1 filter)\n",
    "            self.cern_data = self.cern_data.unsqueeze(1)\n",
    "            \n",
    "        elif mode == 'fc':\n",
    "            \n",
    "            self.cern_data = self.preprocess_cern_fc(df, fc_days)\n",
    "            \n",
    "        else:\n",
    "            \n",
    "            raise ValueError(\"Mode must be 'cnn' or 'fc'.\")\n",
    "            \n",
    "        # If N is selected, pick random list\n",
    "        if N is not None:\n",
    "            if N > self.cern_data.shape[0]:\n",
    "                raise ValueError(\"Cannot exceed dataset size of {}\".format(self.cern_data.size(0)))\n",
    "            else:\n",
    "                # Permutation\n",
    "                # perm = torch.randperm(self.cern_data.size(0))[:N]\n",
    "                # self.cern_data = self.cern_data[perm, :, :]\n",
    "\n",
    "                self.cern_data = self.cern_data[:N] # for debug purposes\n",
    "        \n",
    "    def __len__(self):\n",
    "        return self.cern_data.size(0)\n",
    "    \n",
    "    def preprocess_cern_fc(self, df, fc_days):\n",
    "        \n",
    "        return_torch = torch.zeros(1, fc_days * 48)\n",
    "        \n",
    "        def extract_cern_examples(subset_df, fc_days):\n",
    "            \n",
    "            \"\"\"\n",
    "            Nested function; group-by to modify nonlocal variable self.return_torch and attaches all modified examples.\n",
    "            \"\"\"\n",
    "    \n",
    "            meter_torch = torch.from_numpy(subset_df.kwh.to_numpy()).float() # conver to Tnesor\n",
    "            meter_torch = meter_torch.reshape(-1, 48) # reshape into days\n",
    "            \n",
    "            # Min max normalizes all tensors (will need to save these values realistically)\n",
    "            min_meter_day, _ = torch.min(meter_torch, dim = 1, keepdim=True)\n",
    "            max_meter_day, _ = torch.max(meter_torch, dim = 1, keepdim=True)\n",
    "            meter_torch = (meter_torch - min_meter_day) / (max_meter_day - min_meter_day + self.eps) # numerica stability\n",
    "            \n",
    "            meter_torch = meter_torch[:(meter_torch.shape[0] // (fc_days)) * (fc_days), :] # drop extra rows (cannot be used)\n",
    "            meter_torch = meter_torch.reshape(-1, fc_days * 48) # reshape to daily form\n",
    "\n",
    "            nonlocal return_torch # binds to non-global variable, which will be in non-nested function\n",
    "            return_torch = torch.cat((return_torch, meter_torch))\n",
    "        \n",
    "        # nb: Below function does not need to be assigned, as effectively modifies return_torch inplace.\n",
    "        df.groupby('metre_id').progress_apply(extract_cern_examples, fc_days = fc_days)\n",
    "        \n",
    "        return return_torch[1:, :] # Removes first row of 0s\n",
    "    \n",
    "    def preprocess_cern_cnn(self, df, no_days):\n",
    "        \n",
    "        return_torch = torch.zeros(1, 12, 48)\n",
    "        \n",
    "        def extract_cern_examples(subset_df, no_days):\n",
    "            \n",
    "            \"\"\"\n",
    "            Nested function; group-by to modify nonlocal variable self.return_torch and attaches all modified examples.\n",
    "            \"\"\"\n",
    "    \n",
    "            meter_torch = torch.from_numpy(subset_df.kwh.to_numpy()).float() # conver to Tnesor\n",
    "            meter_torch = meter_torch.reshape(-1, 1, 48) # reshape into days\n",
    "            \n",
    "            # Min max normalizes all tensors (will need to save these values realistically)\n",
    "            min_meter_day, _ = torch.min(meter_torch, dim = 2, keepdim=True)\n",
    "            max_meter_day, _ = torch.max(meter_torch, dim = 2, keepdim=True)\n",
    "            meter_torch = (meter_torch - min_meter_day) / (max_meter_day - min_meter_day + self.eps) # numerica stability\n",
    "            \n",
    "            meter_torch = meter_torch[:(meter_torch.shape[0] // no_days) * no_days, :, :] # drop extra rows (cannot be used)\n",
    "            meter_torch = meter_torch.reshape(-1, no_days, 48) # reshape to 12 day form\n",
    "\n",
    "            nonlocal return_torch # binds to non-global variable, which will be in non-nested function\n",
    "            return_torch = torch.cat((return_torch, meter_torch))\n",
    "        \n",
    "        # nb: Below function does not need to be assigned, as effectively modifies return_torch inplace.\n",
    "        df.groupby('metre_id').progress_apply(extract_cern_examples, no_days = no_days)\n",
    "        \n",
    "        return return_torch[1:, :, :] # Removes first row of 0s\n",
    "\n",
    "    def __getitem__(self, idx):\n",
    "        \n",
    "        example = self.cern_data[idx]\n",
    "\n",
    "        return example"
   ]
  },
  {
   "cell_type": "markdown",
   "id": "3158cd2e-82a3-426e-a466-358811974e1a",
   "metadata": {},
   "source": [
    "Start working with model as per Wang et al. paper, build SCSAE (stacked convolutional sparse auto-encoder):"
   ]
  },
  {
   "cell_type": "code",
   "execution_count": 5,
   "id": "4f637bb7-c27f-4c3d-a330-eb8c44e45210",
   "metadata": {},
   "outputs": [],
   "source": [
    "# Easy implementation of depthwise-separable convolution\n",
    "# https://stackoverflow.com/questions/65154182/implement-separableconv2d-in-pytorch\n",
    "\n",
    "class SeparableConv2d(nn.Module):\n",
    "\n",
    "    def __init__(self, in_channels, out_channels, kernel_size, stride, padding, bias=True):\n",
    "        super(SeparableConv2d, self).__init__()\n",
    "        self.depthwise = nn.Conv2d(in_channels, in_channels, kernel_size=kernel_size, stride=stride, \n",
    "                                   groups=in_channels, bias=bias, padding=padding)\n",
    "        self.pointwise = nn.Conv2d(in_channels, out_channels, \n",
    "                                   kernel_size=1, bias=bias)\n",
    "\n",
    "    def forward(self, x):\n",
    "        out = self.depthwise(x)\n",
    "        out = self.pointwise(out)\n",
    "        return out"
   ]
  },
  {
   "cell_type": "code",
   "execution_count": 6,
   "id": "e5fe8125-a19a-40a1-87ef-d93d2ca9ebf3",
   "metadata": {},
   "outputs": [],
   "source": [
    "class AE_Encoder(nn.Module):\n",
    "\n",
    "    \"\"\"\n",
    "    Encoder for AE\n",
    "    \"\"\"\n",
    "\n",
    "    def __init__(self, dropout: float = 0.1, input_days: int = 12, latent_n: int = 48):\n",
    "\n",
    "        super().__init__()\n",
    "\n",
    "        input_n = input_days * 48\n",
    "\n",
    "        # Encoder\n",
    "        self.fc1 = nn.Linear(in_features = input_n, out_features = 96) \n",
    "        self.fc2 = nn.Linear(in_features = 96, out_features = 48) \n",
    "        self.fc3 = nn.Linear(in_features = 48, out_features = 24) \n",
    "        self.fc4 = nn.Linear(in_features = 24, out_features = latent_n)\n",
    "\n",
    "        # General\n",
    "        self.dropout = nn.Dropout(p=dropout)\n",
    "\n",
    "    def forward(self, x):\n",
    "        \n",
    "        # x input: (N, input_n)\n",
    "        \n",
    "        logging.debug('Input Shape: %s', x.shape)\n",
    "        \n",
    "        x = F.relu(self.fc1(x)) # (N, 96)\n",
    "        x = F.relu(self.fc2(x)) # (N, 48)\n",
    "        x = F.relu(self.fc3(x)) # (N, 24)        \n",
    "        x = F.relu(self.fc4(x)) # (N, latent_n)\n",
    "        \n",
    "        return x\n",
    "\n",
    "class AE_Decoder(nn.Module):\n",
    "\n",
    "    \"\"\"\n",
    "    Decoder for AE\n",
    "    \"\"\"\n",
    "\n",
    "    def __init__(self, dropout: float = 0.1, input_days: int = 12, latent_n: int = 48):\n",
    "\n",
    "        super().__init__()\n",
    "\n",
    "        input_n = input_days * 48\n",
    "\n",
    "         # Decoder\n",
    "        self.fc5 = nn.Linear(in_features = latent_n, out_features = 24)\n",
    "        self.fc6 = nn.Linear(in_features = 24, out_features = 48)\n",
    "        self.fc7 = nn.Linear(in_features = 48, out_features = 96)\n",
    "        self.fc8 = nn.Linear(in_features = 96, out_features = input_n)\n",
    "        \n",
    "        # General\n",
    "        self.dropout = nn.Dropout(p=dropout)\n",
    "        self.sigmoid = nn.Sigmoid()\n",
    "\n",
    "    def forward(self, x):\n",
    "        \n",
    "        # x input: (N, latent_n)\n",
    "        \n",
    "        x = self.dropout(x)\n",
    "        x = F.relu(self.fc5(x)) # (N, 24)\n",
    "        x = F.relu(self.fc6(x)) # (N, 48)\n",
    "        x = F.relu(self.fc7(x)) # (N, 96)        \n",
    "        x = self.sigmoid(self.fc8(x)) # (N, in_shape)\n",
    "        \n",
    "        return x\n",
    "\n",
    "\n",
    "class AE(nn.Module):\n",
    "\n",
    "    \"\"\"\n",
    "    Basic fully-connected Auto-Encoder architecture with 4 encoder and 4 decoder layers.\n",
    "    \"\"\"\n",
    "\n",
    "    def __init__(self, dropout: float = 0.1, input_days: int = 12, latent_n: int = 48):\n",
    "\n",
    "        \"\"\"\n",
    "        Parameters\n",
    "        ----------\n",
    "        dropout : float\n",
    "            Dropout probability to beu sed\n",
    "        input_days : int\n",
    "            Number of input days - i.e., each example contains 48 x input_days (has to be same as CERN dataset)\n",
    "        latent_n : int\n",
    "            Number of neurons in latent layer\n",
    "        \"\"\"\n",
    "\n",
    "        super().__init__()\n",
    "\n",
    "        self.encoder = AE_Encoder(dropout, input_days, latent_n)\n",
    "        self.decoder = AE_Decoder(dropout, input_days, latent_n)\n",
    "       \n",
    "    def forward(self, x):\n",
    "\n",
    "        latent = self.encoder(x)\n",
    "        x = self.decoder(latent)\n",
    "\n",
    "        return x, latent\n"
   ]
  },
  {
   "cell_type": "code",
   "execution_count": 7,
   "id": "6df649de-6ca9-4d09-b45b-1d5c1c60b580",
   "metadata": {},
   "outputs": [],
   "source": [
    "class Trim(nn.Module):\n",
    "    def __init__(self, shape: tuple = (24, 24)):\n",
    "        super().__init__()\n",
    "        self.final_shape = shape\n",
    "\n",
    "    def forward(self, x):\n",
    "        return x[:, :, :self.final_shape[0], :self.final_shape[1]]"
   ]
  },
  {
   "cell_type": "code",
   "execution_count": 8,
   "id": "a4c54387-be5d-44aa-a504-d6603d24967d",
   "metadata": {},
   "outputs": [],
   "source": [
    "class SCSAE_Encoder(nn.Module):\n",
    "\n",
    "    \"\"\"\n",
    "    SCSAE Encoder\n",
    "    \"\"\"\n",
    "\n",
    "    def __init__(self, dropout: float = 0.1, latent_n: int = 48, batchnormalize: bool = True):\n",
    "\n",
    "        super().__init__()\n",
    "\n",
    "        # Encoder\n",
    "        self.conv1 = nn.Conv2d(in_channels=1, out_channels=16, kernel_size=(3,3), stride=2, padding=1) # padding to make work\n",
    "        self.conv2 = nn.Conv2d(in_channels=16, out_channels=32, kernel_size=(3,3), stride=2, padding=1)\n",
    "        self.conv3 = SeparableConv2d(in_channels=32, out_channels=64, kernel_size=(3,3), stride=1, padding=1)\n",
    "        self.pool1 = nn.MaxPool2d(kernel_size = 2, stride = 2)\n",
    "        self.fc1 = nn.Linear(3 * 3 * 64, latent_n)\n",
    "        \n",
    "        # Batch normalize layers\n",
    "        if batchnormalize:\n",
    "            self.batchnorm1 = nn.BatchNorm2d(16)\n",
    "            self.batchnorm2 = nn.BatchNorm2d(32)\n",
    "            self.batchnorm3 = nn.BatchNorm2d(64)\n",
    "        else:\n",
    "            self.batchnorm1, self.batchnorm2, self.batchnorm3 = nn.Identity(), nn.Identity(), nn.Identity()\n",
    "\n",
    "    def forward(self, x):\n",
    "        \n",
    "        # x input: (N, 1, 24, 24)\n",
    "        \n",
    "        x = self.conv1(x)                       # (N, 16, 12, 12)\n",
    "        x = self.batchnorm1(x)\n",
    "        x = F.relu(x)\n",
    "        \n",
    "        x = self.conv2(x)                       # (N, 32, 6, 6)\n",
    "        x = self.batchnorm2(x)\n",
    "        x = F.relu(x)\n",
    "\n",
    "        x = self.conv3(x)                       # (N, 64, 6, 6)\n",
    "        x = self.batchnorm3(x)\n",
    "        x = F.relu(x)\n",
    "        \n",
    "        x = self.pool1(x)                       # (N, 64, 3, 3)\n",
    "        x = torch.flatten(x, start_dim = 1)     # (N, 64, 3, 3)\n",
    "        x = self.fc1(x)                         # (N, latent_n)\n",
    "        \n",
    "        return x\n",
    "\n",
    "class SCSAE_Decoder2(nn.Module):\n",
    "\n",
    "    \"\"\"\n",
    "    SCSAE Decoder\n",
    "    \"\"\"\n",
    "\n",
    "    def __init__(self, dropout: float = 0.1, latent_n: int = 48, batchnormalize: bool = True):\n",
    "\n",
    "        super().__init__()\n",
    "\n",
    "        # Decoder\n",
    "        self.fc2 = nn.Linear(latent_n, 6*6*64)\n",
    "        self.tconv1 = nn.ConvTranspose2d(in_channels=64, out_channels = 64, \n",
    "                                         kernel_size = 3, stride=2, padding=1, output_padding=1, bias=False) # pad and outpad to make it work\n",
    "        self.tconv2 = nn.ConvTranspose2d(in_channels=64, out_channels = 32, \n",
    "                                         kernel_size = 3, stride=2, padding=1, output_padding=1, bias=False)\n",
    "        self.conv4 = nn.Conv2d(in_channels=32, out_channels = 1, kernel_size = (1,1))\n",
    "        \n",
    "        # General\n",
    "        self.sigmoid = nn.Sigmoid()\n",
    "\n",
    "    def forward(self, x):\n",
    "        \n",
    "        # x input: (N, latent_n)\n",
    "        \n",
    "        x = self.fc2(x) # (N, 64*6*6)\n",
    "        x = x.reshape(-1, 64, 6, 6) # (N, 64, 6, 6)\n",
    "        x = F.relu(self.tconv1(x)) # (N, 64, 12, 12)\n",
    "        x = F.relu(self.tconv2(x)) # (N, 32, 24, 24)\n",
    "        x = self.sigmoid(self.conv4(x)) # (N, 1, 24, 24)\n",
    "        \n",
    "        return x    \n",
    "    \n",
    "class SCSAE_Decoder(nn.Module):\n",
    "\n",
    "    \"\"\"\n",
    "    SCSAE Decoder\n",
    "    \"\"\"\n",
    "\n",
    "    def __init__(self, dropout: float = 0.1, latent_n: int = 48, batchnormalize: bool = True):\n",
    "\n",
    "        super().__init__()\n",
    "\n",
    "        # Decoder\n",
    "        self.fc2 = nn.Linear(latent_n, 6*6*64)\n",
    "        self.tconv1 = nn.ConvTranspose2d(in_channels=64, out_channels = 64, \n",
    "                                 kernel_size = 3, stride=2, padding=0, bias=False) # pad and outpad to make it work\n",
    "        self.tconv2 = nn.ConvTranspose2d(in_channels=64, out_channels = 32, \n",
    "                                         kernel_size = 2, stride=2, padding=0, bias=False)\n",
    "        self.tconv3 = nn.ConvTranspose2d(in_channels=32, out_channels = 32, \n",
    "                                         kernel_size = 1, stride=1, padding=1, bias=False)\n",
    "        self.conv1 = nn.Conv2d(in_channels = 32, out_channels=1, kernel_size = 1)\n",
    "\n",
    "        # General\n",
    "        self.sigmoid = nn.Sigmoid()\n",
    "\n",
    "    def forward(self, x):\n",
    "        \n",
    "        # x input: (N, latent_n)\n",
    "        \n",
    "        x = self.fc2(x) # (N, 64*6*6)\n",
    "        x = x.reshape(-1, 64, 6, 6) # (N, 64, 6, 6)\n",
    "        x = F.relu(self.tconv1(x)) # (N, 64, 13, 13)\n",
    "        x = F.relu(self.tconv2(x)) # (N, 32, 26, 26)\n",
    "        x = F.relu(self.tconv3(x)) # (N, 1, 25, 25)\n",
    "        x = self.sigmoid(self.conv1(x)) # (N, 1, 24, 24)\n",
    "        \n",
    "        return x\n",
    "\n",
    "class SCSAE(nn.Module):\n",
    "\n",
    "    \"\"\"\n",
    "    SCSAE as per Wang et al. (2020) paper, my implementation.\n",
    "    \n",
    "    nb: Not all implementation details were included in the paper (such as padding) and I have incorporated details where\n",
    "        required to ensure that model runs.\n",
    "    \"\"\"\n",
    "\n",
    "    def __init__(self, dropout: float = 0.1, latent_n: int = 48, batchnormalize: bool = True, dec = 1):\n",
    "\n",
    "        \"\"\"\n",
    "        Parameters\n",
    "        ----------\n",
    "        dropout : float\n",
    "            Dropout probability to be used\n",
    "        latent_n : int\n",
    "            Number of neurons in latent layer\n",
    "        \"\"\"\n",
    "\n",
    "        super().__init__()\n",
    "\n",
    "        self.encoder = SCSAE_Encoder(dropout, latent_n, batchnormalize)\n",
    "        \n",
    "        if dec == 1:\n",
    "            self.decoder = SCSAE_Decoder(dropout, latent_n, batchnormalize)\n",
    "        elif dec == 2:\n",
    "            self.decoder = SCSAE_Decoder2(dropout, latent_n, batchnormalize)\n",
    "\n",
    "    def forward(self, x):\n",
    "\n",
    "        latent = self.encoder(x)\n",
    "        x = self.decoder(latent)\n",
    "\n",
    "        return x, latent"
   ]
  },
  {
   "cell_type": "code",
   "execution_count": 10,
   "id": "48ca5a8d-7fc8-477c-af99-2644d6166a94",
   "metadata": {},
   "outputs": [],
   "source": [
    "class HAE_Encoder(nn.Module):\n",
    "\n",
    "    \"\"\"\n",
    "    HAE Encoder\n",
    "    \"\"\"\n",
    "\n",
    "    def __init__(self, dropout: float = 0.1, latent_n: int = 48, batchnormalize: bool = True):\n",
    "\n",
    "        super().__init__()\n",
    "\n",
    "        # Encoder\n",
    "        self.lstm1 = nn.LSTM(input_size = 48, hidden_size = 24, num_layers = 1, batch_first = True) # padding to make work\n",
    "        self.conv2 = nn.Conv2d(in_channels=1, out_channels=32, kernel_size=(3,3), stride=2, padding=1)\n",
    "        self.conv3 = nn.Conv2d(in_channels=32, out_channels=64, kernel_size=(3,3), stride=2, padding=1)\n",
    "        self.pool1 = nn.MaxPool2d(kernel_size = (1, 2), stride = (1, 2))\n",
    "        self.fc1 = nn.Linear(3 * 3 * 64, latent_n)\n",
    "\n",
    "        # Batch normalize\n",
    "        if batchnormalize:\n",
    "            self.batchnorm1 = nn.BatchNorm2d(16)\n",
    "            self.batchnorm2 = nn.BatchNorm2d(32)\n",
    "            self.batchnorm3 = nn.BatchNorm2d(64)\n",
    "        else:\n",
    "            self.batchnorm1, self.batchnorm2, self.batchnorm3 = nn.Identity(), nn.Identity(), nn.Identity()\n",
    "\n",
    "    def forward(self, x):\n",
    "\n",
    "        # x input: (N, 1, 24, 24)\n",
    "        \n",
    "        logging.debug('Input Shape: %s', x.shape)\n",
    "\n",
    "        x = x.squeeze(1)                        # for LSTM input\n",
    "        \n",
    "        x, _ = self.lstm1(x)                    # (N, 12, 24)\n",
    "        x = x.unsqueeze(1)                     # (N, 1, 12, 24)\n",
    "\n",
    "        x = self.conv2(x)                       # (N, 32, 6, 12)\n",
    "        x = self.batchnorm2(x)\n",
    "        x = F.relu(x)\n",
    "        \n",
    "        x = self.conv3(x)                       # (N, 64, 3, 6)\n",
    "        x = self.batchnorm3(x)\n",
    "        x = F.relu(x)\n",
    "        \n",
    "        x = self.pool1(x)                       # (N, 64, 3, 3)\n",
    "        \n",
    "        x = x.flatten(start_dim = 1)     # (N, 64 * 3 * 3)\n",
    "\n",
    "        x = self.fc1(x)                         # (N, latent_n)\n",
    "        \n",
    "        return x\n",
    "\n",
    "class HAE_Decoder(nn.Module):\n",
    "\n",
    "    \"\"\"\n",
    "    HAE Decoder\n",
    "    \"\"\"\n",
    "\n",
    "    def __init__(self, dropout: float = 0.1, latent_n: int = 48, batchnormalize: bool = True):\n",
    "\n",
    "        super().__init__()\n",
    "\n",
    "        # Decoder\n",
    "        self.fc2 = nn.Linear(latent_n, 64*3*12)\n",
    "        self.tconv1 = nn.ConvTranspose2d(in_channels=64, out_channels = 64, \n",
    "                                         kernel_size = 3, stride=2, padding=1, output_padding=1, bias=False) # pad and outpad to make it work\n",
    "        self.tconv2 = nn.ConvTranspose2d(in_channels=64, out_channels = 32, \n",
    "                                         kernel_size = 3, stride=2, padding=1, output_padding=1, bias=False)\n",
    "        self.conv4 = nn.Conv2d(in_channels=32, out_channels = 1, kernel_size = (1,1))\n",
    "        \n",
    "        # General\n",
    "        self.sigmoid = nn.Sigmoid()\n",
    "\n",
    "    def forward(self, x):\n",
    "        \n",
    "        # x input: (N, latent_n)\n",
    "        \n",
    "        x = self.fc2(x) # (N, 64*3*12)\n",
    "        x = x.reshape(-1, 64, 3, 12) # (N, 64, 3, 12)\n",
    "        x = F.relu(self.tconv1(x)) # (N, 64, 6, 24)\n",
    "        x = F.relu(self.tconv2(x)) # (N, 32, 12, 48)\n",
    "        x = self.sigmoid(self.conv4(x)) # (N, 1, 12, 48)\n",
    "\n",
    "        return x\n",
    "\n",
    "class HAE(nn.Module):\n",
    "    \n",
    "    def __init__(self, dropout: float = 0.1, latent_n: int = 48, batchnormalize: bool = True):\n",
    "\n",
    "        \"\"\"\n",
    "        Parameters\n",
    "        ----------\n",
    "        dropout : float\n",
    "            Dropout probability to be used\n",
    "        latent_n : int\n",
    "            Number of neurons in latent layer\n",
    "        \"\"\"\n",
    "\n",
    "        super().__init__()\n",
    "\n",
    "        self.encoder = HAE_Encoder(dropout, latent_n, batchnormalize)\n",
    "        self.decoder = HAE_Decoder(dropout, latent_n, batchnormalize)\n",
    "\n",
    "    def forward(self, x):\n",
    "\n",
    "        latent = self.encoder(x)\n",
    "        x = self.decoder(latent)\n",
    "\n",
    "        return x, latent\n",
    "        "
   ]
  },
  {
   "cell_type": "code",
   "execution_count": 11,
   "id": "89ec69a8-006f-4bb8-9e36-076d3267cd60",
   "metadata": {},
   "outputs": [],
   "source": [
    "# my_dataset_cnn = CERN_Dataset_CNN(train=True, mode = 'cnn', no_days = 12, reshape_factor = 1, N = 20000 // 12 + 1)\n",
    "# my_dataloader_cnn = DataLoader(my_dataset_cnn, batch_size = 64, shuffle=False)\n",
    "\n",
    "# test_batch = next(iter(my_dataloader_cnn))\n",
    "\n",
    "# lstm1 = nn.LSTM(input_size = 48, hidden_size = 24, num_layers = 1, batch_first = True, dropout = 0.1) # padding to make work\n",
    "# conv2 = nn.Conv2d(in_channels=1, out_channels=32, kernel_size=(3,3), stride=2, padding=1)\n",
    "# conv3 = nn.Conv2d(in_channels=32, out_channels=64, kernel_size=(3,3), stride=2, padding=1)\n",
    "# fc1 = nn.Linear(6 * 3 * 64, 48)\n",
    "\n",
    "# fc2 = nn.Linear(48, 64*3*12)\n",
    "# tconv1 = nn.ConvTranspose2d(in_channels=64, out_channels = 64, \n",
    "#                                  kernel_size = 3, stride=2, padding=1, output_padding=1, bias=False) # pad and outpad to make it work\n",
    "# tconv2 = nn.ConvTranspose2d(in_channels=64, out_channels = 32, \n",
    "#                                  kernel_size = 3, stride=2, padding=1, output_padding=1, bias=False)\n",
    "# conv4 = nn.Conv2d(in_channels=32, out_channels = 1, kernel_size = (1,1))\n",
    "\n",
    "# x = test_batch\n",
    "# x = x.squeeze(1)\n",
    "# x, _ = lstm1(x)\n",
    "# x = x.unsqueeze(1)\n",
    "# x = conv2(x)\n",
    "# print('2: ', x.shape)\n",
    "# x = conv3(x)\n",
    "# print('3: ', x.shape)\n",
    "# x = x.flatten(start_dim=1)\n",
    "# x = fc1(x)\n",
    "# print('4: ', x.shape)\n",
    "\n",
    "# x = fc2(x)\n",
    "# x = x.reshape(-1, 64, 3, 12)\n",
    "# x = tconv1(x)\n",
    "# print('5: ', x.shape)\n",
    "# x = tconv2(x)\n",
    "# print('6: ', x.shape)\n",
    "# x = conv4(x)\n",
    "# print('final: ', x.shape)"
   ]
  },
  {
   "cell_type": "code",
   "execution_count": 12,
   "id": "734d0c04-84fd-4d2f-aa79-203c788045b3",
   "metadata": {},
   "outputs": [],
   "source": [
    "def save_checkpoint(state: dict, filename: str = '../model_param/save.pt'):\n",
    "\n",
    "    \"\"\"Save model state and parameters\"\"\"\n",
    "    torch.save(state, filename)"
   ]
  },
  {
   "cell_type": "code",
   "execution_count": 13,
   "id": "f96bedcc-27b4-4765-8056-a57fcd85d035",
   "metadata": {},
   "outputs": [],
   "source": [
    "def train(train_loader, model, criterion, optimizer, epoch, scheduler): \n",
    "\n",
    "    \"\"\"\n",
    "    Training loop within a single epoch\n",
    "    Returns: tuple\n",
    "        epoch_train_loss_avg: float\n",
    "    \"\"\"\n",
    "\n",
    "    model.train()\n",
    "\n",
    "    epoch_train_loss_avg = 0\n",
    "\n",
    "    for input_x in tqdm(train_loader):\n",
    "        input_x = input_x.cuda(DEVICE)\n",
    "\n",
    "        # Typical training loop\n",
    "        out, _ = model(input_x)\n",
    "        \n",
    "        # Logging\n",
    "        logging.debug('input: %s', input_x)\n",
    "        logging.debug('output: %s', out)\n",
    "        \n",
    "        loss = criterion(out, input_x)\n",
    "\n",
    "        # Metrics\n",
    "        with torch.no_grad():\n",
    "            epoch_train_loss_avg += loss.item()\n",
    "\n",
    "        # Gradient optimisation step\n",
    "        optimizer.zero_grad()\n",
    "        loss.backward()\n",
    "        optimizer.step()\n",
    "        if scheduler is not None:\n",
    "            scheduler.step()\n",
    "        \n",
    "    with torch.no_grad():\n",
    "        epoch_train_loss_avg /= len(train_loader)\n",
    "\n",
    "    return epoch_train_loss_avg"
   ]
  },
  {
   "cell_type": "code",
   "execution_count": 14,
   "id": "178af7cd-1746-418e-a3b7-d5554e765aba",
   "metadata": {},
   "outputs": [],
   "source": [
    "def validate(val_loader, model, criterion, epoch): \n",
    "\n",
    "    \"\"\"\n",
    "    Validation loop within a single epoch\n",
    "    Returns: tuple\n",
    "        epoch_validation_loss_avg: float\n",
    "    \"\"\"\n",
    "\n",
    "    model.eval()\n",
    "\n",
    "    epoch_val_loss_avg = 0\n",
    "\n",
    "    for input_x in tqdm(val_loader):\n",
    "        input_x = input_x.cuda(DEVICE)\n",
    "\n",
    "        # Typical training loop\n",
    "        out, _ = model(input_x)\n",
    "        \n",
    "        # Logging\n",
    "        logging.debug('input: %s', input_x)\n",
    "        logging.debug('output: %s', out)\n",
    "        \n",
    "        loss = criterion(out, input_x)\n",
    "\n",
    "        # Metrics\n",
    "        epoch_val_loss_avg += loss.item()\n",
    "        \n",
    "    epoch_val_loss_avg /= len(val_loader)\n",
    "\n",
    "    return epoch_val_loss_avg"
   ]
  },
  {
   "cell_type": "code",
   "execution_count": 15,
   "id": "9bec0eda-15e2-4a63-a77f-8a30d3b6da89",
   "metadata": {},
   "outputs": [],
   "source": [
    "def train_loop(loss, batch, learning_rate_style, lr, optimiser, weight_decay, epochs, model, checkpoint_path,\n",
    "               device, train_loader, val_loader = None):\n",
    "    \"\"\"\n",
    "    Training and validation loop\n",
    "    \"\"\"\n",
    "\n",
    "    # Loss function\n",
    "    if loss == 'MSE':\n",
    "        criterion = nn.MSELoss(reduction='mean')\n",
    "    else:\n",
    "        raise NotImplementedError\n",
    "\n",
    "    criterion.cuda(DEVICE)\n",
    "\n",
    "    # Initial learning rate\n",
    "    if learning_rate_style == 'constant':\n",
    "        initial_lr = lr\n",
    "    elif learning_rate_style == 'OneCycleLR':\n",
    "        initial_lr = lr * batch / 256\n",
    "    else:\n",
    "        raise NotImplementedError\n",
    "\n",
    "    # Optimiser\n",
    "    if optimiser == 'Adam':\n",
    "        optimizer = optim.Adam(model.parameters(),\n",
    "                               initial_lr, weight_decay=weight_decay)\n",
    "    else:\n",
    "        raise NotImplementedError\n",
    "\n",
    "    # Scheduler\n",
    "    if learning_rate_style == 'constant':\n",
    "        scheduler = None\n",
    "    elif learning_rate_style == 'OneCycleLR':\n",
    "        scheduler = optim.lr_scheduler.OneCycleLR(optimizer, max_lr=lr,\n",
    "                                                  steps_per_epoch=len(train_loader), epochs=epochs, pct_start=0.3)\n",
    "    else:\n",
    "        raise NotImplementedError\n",
    "        \n",
    "    best_metric = 10\n",
    "    all_losses = {}\n",
    "\n",
    "    for epoch in range(epochs):\n",
    "\n",
    "        train_loss = train(train_loader, model, criterion, optimizer, epoch, scheduler)\n",
    "        val_loss = validate(val_loader, model, criterion, epoch)\n",
    "        \n",
    "        all_losses[epoch + 1] = {'train_loss': train_loss, 'val_loss': val_loss}\n",
    "        \n",
    "        model.eval()\n",
    "\n",
    "        # Checkpoint\n",
    "        if train_loss < best_metric:\n",
    "            best_metric = train_loss\n",
    "\n",
    "\n",
    "            save_checkpoint({'epoch': epoch + 1,\n",
    "                             'state_dict': model.state_dict(),\n",
    "                             'best_metric': best_metric}, filename=checkpoint_path)\n",
    "\n",
    "            print(\"Best metric achieved.\")\n",
    "\n",
    "        print(\n",
    "            f'Epoch: {epoch + 1} | Train Loss: {train_loss: .3f} | Val Loss: {val_loss: .3f}'\n",
    "        )\n",
    "        \n",
    "    save_checkpoint({'total epoch': epoch,\n",
    "                             'epoch_data': all_losses}, filename=checkpoint_path + '.epochdata')\n",
    "    \n",
    "    return all_losses"
   ]
  },
  {
   "cell_type": "markdown",
   "id": "7a3a78d9-27ec-4516-897b-6d802cd4e1d8",
   "metadata": {},
   "source": [
    "Turn off loggers and set test params"
   ]
  },
  {
   "cell_type": "code",
   "execution_count": 16,
   "id": "f6089fe3-30ea-4c57-b545-18305614540d",
   "metadata": {},
   "outputs": [],
   "source": [
    "logger = logging.getLogger()\n",
    "logger.disabled = True"
   ]
  },
  {
   "cell_type": "code",
   "execution_count": 17,
   "id": "c43803b1-0665-47f6-b70c-a6e10b482307",
   "metadata": {},
   "outputs": [
    {
     "data": {
      "text/plain": [
       "1"
      ]
     },
     "execution_count": 17,
     "metadata": {},
     "output_type": "execute_result"
    }
   ],
   "source": [
    "torch.cuda.device_count()"
   ]
  },
  {
   "cell_type": "code",
   "execution_count": 18,
   "id": "166a83ba-8ef1-4044-8e81-f25fb5672d29",
   "metadata": {},
   "outputs": [
    {
     "data": {
      "text/plain": [
       "True"
      ]
     },
     "execution_count": 18,
     "metadata": {},
     "output_type": "execute_result"
    }
   ],
   "source": [
    "torch.cuda.is_available()"
   ]
  },
  {
   "cell_type": "code",
   "execution_count": null,
   "id": "36abc925-3d11-4176-ba63-972f40af5839",
   "metadata": {},
   "outputs": [],
   "source": [
    "torch.cuda.device(1)"
   ]
  },
  {
   "cell_type": "code",
   "execution_count": null,
   "id": "553a6519-8752-4116-a8b9-20900e391e9b",
   "metadata": {},
   "outputs": [],
   "source": [
    "torch.device(1)"
   ]
  },
  {
   "cell_type": "code",
   "execution_count": 19,
   "id": "2289b0b5-6a68-4d15-a644-c79e2043be33",
   "metadata": {},
   "outputs": [],
   "source": [
    "BATCH_SIZE = 128\n",
    "DEVICE = 'cpu' # torch.device(1) # torch.device('cuda' if torch.cuda.is_available() else 'cpu')"
   ]
  },
  {
   "cell_type": "markdown",
   "id": "2e6e0705-c86b-4add-982c-4ac0c284022b",
   "metadata": {},
   "source": [
    "HAE Test"
   ]
  },
  {
   "cell_type": "code",
   "execution_count": 121,
   "id": "05ebacd9-b9e6-4937-9f6b-f42185dc69d6",
   "metadata": {},
   "outputs": [
    {
     "name": "stderr",
     "output_type": "stream",
     "text": [
      "100%|██████████| 4926/4926 [01:21<00:00, 60.77it/s] \n",
      "100%|██████████| 4873/4873 [00:02<00:00, 2249.72it/s]\n"
     ]
    }
   ],
   "source": [
    "my_dataset_hae = CERN_Dataset_CNN(train=True, mode = 'cnn', no_days = 12, reshape_factor = 1)\n",
    "my_dataloader_hae = DataLoader(my_dataset_hae, batch_size = BATCH_SIZE, shuffle=False)\n",
    "my_dataset_val_hae = CERN_Dataset_CNN(train=False, mode = 'cnn', no_days = 12, reshape_factor = 1)\n",
    "my_dataloader_val_hae = DataLoader(my_dataset_val_hae, batch_size = BATCH_SIZE, shuffle=False)"
   ]
  },
  {
   "cell_type": "code",
   "execution_count": 29,
   "id": "4ef19eac-32ee-439a-b49f-b57af9702e8a",
   "metadata": {},
   "outputs": [
    {
     "ename": "NameError",
     "evalue": "name 'my_dataloader_hae' is not defined",
     "output_type": "error",
     "traceback": [
      "\u001b[0;31m---------------------------------------------------------------------------\u001b[0m",
      "\u001b[0;31mNameError\u001b[0m                                 Traceback (most recent call last)",
      "Input \u001b[0;32mIn [29]\u001b[0m, in \u001b[0;36m<cell line: 2>\u001b[0;34m()\u001b[0m\n\u001b[1;32m      1\u001b[0m my_model_hae \u001b[38;5;241m=\u001b[39m HAE(latent_n \u001b[38;5;241m=\u001b[39m \u001b[38;5;241m48\u001b[39m)\u001b[38;5;241m.\u001b[39mto(DEVICE)\n\u001b[1;32m      2\u001b[0m hae_test \u001b[38;5;241m=\u001b[39m train_loop(\u001b[38;5;124m'\u001b[39m\u001b[38;5;124mMSE\u001b[39m\u001b[38;5;124m'\u001b[39m, BATCH_SIZE, \u001b[38;5;124m'\u001b[39m\u001b[38;5;124mconstant\u001b[39m\u001b[38;5;124m'\u001b[39m, \u001b[38;5;241m1e-4\u001b[39m, \u001b[38;5;124m'\u001b[39m\u001b[38;5;124mAdam\u001b[39m\u001b[38;5;124m'\u001b[39m, \u001b[38;5;241m0\u001b[39m, \u001b[38;5;241m20\u001b[39m, \n\u001b[0;32m----> 3\u001b[0m                       my_model_hae, \u001b[38;5;124m'\u001b[39m\u001b[38;5;124m../../model_param/cnn_test_cern.pt\u001b[39m\u001b[38;5;124m'\u001b[39m, DEVICE, \u001b[43mmy_dataloader_hae\u001b[49m, my_dataloader_val_hae)\n",
      "\u001b[0;31mNameError\u001b[0m: name 'my_dataloader_hae' is not defined"
     ]
    }
   ],
   "source": [
    "my_model_hae = HAE(latent_n = 48).to(DEVICE)\n",
    "hae_test = train_loop('MSE', BATCH_SIZE, 'constant', 1e-4, 'Adam', 0, 20, \n",
    "                      my_model_hae, '../../model_param/cnn_test_cern.pt', DEVICE, my_dataloader_hae, my_dataloader_val_hae)"
   ]
  },
  {
   "cell_type": "markdown",
   "id": "1e105d23-d865-4418-af5d-e6f9f44be859",
   "metadata": {},
   "source": [
    "CNN Test"
   ]
  },
  {
   "cell_type": "code",
   "execution_count": 30,
   "id": "8126d2e5-2563-4596-9e61-209faae952eb",
   "metadata": {},
   "outputs": [
    {
     "name": "stderr",
     "output_type": "stream",
     "text": [
      "100%|██████████| 4926/4926 [01:24<00:00, 58.32it/s] \n",
      "100%|██████████| 4873/4873 [00:12<00:00, 393.62it/s]\n"
     ]
    }
   ],
   "source": [
    "my_dataset_cnn = CERN_Dataset_CNN(train=True, mode = 'cnn', no_days = 12, reshape_factor = 2)\n",
    "my_dataloader_cnn = DataLoader(my_dataset_cnn, batch_size = BATCH_SIZE, shuffle=False)\n",
    "my_dataset_val_cnn = CERN_Dataset_CNN(train=False, mode = 'cnn', no_days = 12, reshape_factor = 2)\n",
    "my_dataloader_val_cnn = DataLoader(my_dataset_val_cnn, batch_size = BATCH_SIZE, shuffle=False)"
   ]
  },
  {
   "cell_type": "code",
   "execution_count": 107,
   "id": "799018e3-5147-4b6b-a313-10888cd6064e",
   "metadata": {},
   "outputs": [
    {
     "name": "stderr",
     "output_type": "stream",
     "text": [
      "100%|██████████| 1616/1616 [00:11<00:00, 136.65it/s]\n",
      "100%|██████████| 76/76 [00:00<00:00, 307.20it/s]\n"
     ]
    },
    {
     "name": "stdout",
     "output_type": "stream",
     "text": [
      "Best metric achieved.\n",
      "Epoch: 1 | Train Loss:  0.048 | Val Loss:  0.038\n"
     ]
    },
    {
     "name": "stderr",
     "output_type": "stream",
     "text": [
      "100%|██████████| 1616/1616 [00:11<00:00, 139.04it/s]\n",
      "100%|██████████| 76/76 [00:00<00:00, 307.16it/s]\n"
     ]
    },
    {
     "name": "stdout",
     "output_type": "stream",
     "text": [
      "Best metric achieved.\n",
      "Epoch: 2 | Train Loss:  0.034 | Val Loss:  0.030\n"
     ]
    },
    {
     "name": "stderr",
     "output_type": "stream",
     "text": [
      "100%|██████████| 1616/1616 [00:11<00:00, 142.50it/s]\n",
      "100%|██████████| 76/76 [00:00<00:00, 306.36it/s]\n"
     ]
    },
    {
     "name": "stdout",
     "output_type": "stream",
     "text": [
      "Best metric achieved.\n",
      "Epoch: 3 | Train Loss:  0.031 | Val Loss:  0.029\n"
     ]
    },
    {
     "name": "stderr",
     "output_type": "stream",
     "text": [
      "100%|██████████| 1616/1616 [00:11<00:00, 139.13it/s]\n",
      "100%|██████████| 76/76 [00:00<00:00, 304.02it/s]\n"
     ]
    },
    {
     "name": "stdout",
     "output_type": "stream",
     "text": [
      "Best metric achieved.\n",
      "Epoch: 4 | Train Loss:  0.030 | Val Loss:  0.029\n"
     ]
    },
    {
     "name": "stderr",
     "output_type": "stream",
     "text": [
      "100%|██████████| 1616/1616 [00:11<00:00, 138.12it/s]\n",
      "100%|██████████| 76/76 [00:00<00:00, 308.01it/s]\n"
     ]
    },
    {
     "name": "stdout",
     "output_type": "stream",
     "text": [
      "Best metric achieved.\n",
      "Epoch: 5 | Train Loss:  0.030 | Val Loss:  0.028\n"
     ]
    },
    {
     "name": "stderr",
     "output_type": "stream",
     "text": [
      "100%|██████████| 1616/1616 [00:11<00:00, 138.64it/s]\n",
      "100%|██████████| 76/76 [00:00<00:00, 307.99it/s]\n"
     ]
    },
    {
     "name": "stdout",
     "output_type": "stream",
     "text": [
      "Best metric achieved.\n",
      "Epoch: 6 | Train Loss:  0.030 | Val Loss:  0.028\n"
     ]
    },
    {
     "name": "stderr",
     "output_type": "stream",
     "text": [
      "100%|██████████| 1616/1616 [00:11<00:00, 136.71it/s]\n",
      "100%|██████████| 76/76 [00:00<00:00, 302.15it/s]\n"
     ]
    },
    {
     "name": "stdout",
     "output_type": "stream",
     "text": [
      "Best metric achieved.\n",
      "Epoch: 7 | Train Loss:  0.029 | Val Loss:  0.028\n"
     ]
    },
    {
     "name": "stderr",
     "output_type": "stream",
     "text": [
      "100%|██████████| 1616/1616 [00:11<00:00, 138.27it/s]\n",
      "100%|██████████| 76/76 [00:00<00:00, 305.41it/s]\n"
     ]
    },
    {
     "name": "stdout",
     "output_type": "stream",
     "text": [
      "Best metric achieved.\n",
      "Epoch: 8 | Train Loss:  0.029 | Val Loss:  0.028\n"
     ]
    },
    {
     "name": "stderr",
     "output_type": "stream",
     "text": [
      "100%|██████████| 1616/1616 [00:11<00:00, 137.80it/s]\n",
      "100%|██████████| 76/76 [00:00<00:00, 305.22it/s]\n"
     ]
    },
    {
     "name": "stdout",
     "output_type": "stream",
     "text": [
      "Best metric achieved.\n",
      "Epoch: 9 | Train Loss:  0.029 | Val Loss:  0.027\n"
     ]
    },
    {
     "name": "stderr",
     "output_type": "stream",
     "text": [
      "100%|██████████| 1616/1616 [00:11<00:00, 137.83it/s]\n",
      "100%|██████████| 76/76 [00:00<00:00, 305.38it/s]\n"
     ]
    },
    {
     "name": "stdout",
     "output_type": "stream",
     "text": [
      "Best metric achieved.\n",
      "Epoch: 10 | Train Loss:  0.029 | Val Loss:  0.027\n"
     ]
    },
    {
     "name": "stderr",
     "output_type": "stream",
     "text": [
      "100%|██████████| 1616/1616 [00:11<00:00, 140.11it/s]\n",
      "100%|██████████| 76/76 [00:00<00:00, 305.14it/s]\n"
     ]
    },
    {
     "name": "stdout",
     "output_type": "stream",
     "text": [
      "Best metric achieved.\n",
      "Epoch: 11 | Train Loss:  0.029 | Val Loss:  0.027\n"
     ]
    },
    {
     "name": "stderr",
     "output_type": "stream",
     "text": [
      "100%|██████████| 1616/1616 [00:11<00:00, 137.15it/s]\n",
      "100%|██████████| 76/76 [00:00<00:00, 307.35it/s]\n"
     ]
    },
    {
     "name": "stdout",
     "output_type": "stream",
     "text": [
      "Best metric achieved.\n",
      "Epoch: 12 | Train Loss:  0.029 | Val Loss:  0.027\n"
     ]
    },
    {
     "name": "stderr",
     "output_type": "stream",
     "text": [
      "100%|██████████| 1616/1616 [00:11<00:00, 142.51it/s]\n",
      "100%|██████████| 76/76 [00:00<00:00, 299.47it/s]\n"
     ]
    },
    {
     "name": "stdout",
     "output_type": "stream",
     "text": [
      "Best metric achieved.\n",
      "Epoch: 13 | Train Loss:  0.028 | Val Loss:  0.027\n"
     ]
    },
    {
     "name": "stderr",
     "output_type": "stream",
     "text": [
      "100%|██████████| 1616/1616 [00:11<00:00, 139.26it/s]\n",
      "100%|██████████| 76/76 [00:00<00:00, 301.63it/s]\n"
     ]
    },
    {
     "name": "stdout",
     "output_type": "stream",
     "text": [
      "Best metric achieved.\n",
      "Epoch: 14 | Train Loss:  0.028 | Val Loss:  0.027\n"
     ]
    },
    {
     "name": "stderr",
     "output_type": "stream",
     "text": [
      "100%|██████████| 1616/1616 [00:11<00:00, 141.77it/s]\n",
      "100%|██████████| 76/76 [00:00<00:00, 299.51it/s]\n"
     ]
    },
    {
     "name": "stdout",
     "output_type": "stream",
     "text": [
      "Best metric achieved.\n",
      "Epoch: 15 | Train Loss:  0.028 | Val Loss:  0.027\n"
     ]
    },
    {
     "name": "stderr",
     "output_type": "stream",
     "text": [
      "100%|██████████| 1616/1616 [00:11<00:00, 136.46it/s]\n",
      "100%|██████████| 76/76 [00:00<00:00, 299.45it/s]\n"
     ]
    },
    {
     "name": "stdout",
     "output_type": "stream",
     "text": [
      "Best metric achieved.\n",
      "Epoch: 16 | Train Loss:  0.028 | Val Loss:  0.027\n"
     ]
    },
    {
     "name": "stderr",
     "output_type": "stream",
     "text": [
      "100%|██████████| 1616/1616 [00:12<00:00, 134.53it/s]\n",
      "100%|██████████| 76/76 [00:00<00:00, 303.00it/s]\n"
     ]
    },
    {
     "name": "stdout",
     "output_type": "stream",
     "text": [
      "Best metric achieved.\n",
      "Epoch: 17 | Train Loss:  0.028 | Val Loss:  0.027\n"
     ]
    },
    {
     "name": "stderr",
     "output_type": "stream",
     "text": [
      "100%|██████████| 1616/1616 [00:11<00:00, 134.77it/s]\n",
      "100%|██████████| 76/76 [00:00<00:00, 303.65it/s]\n"
     ]
    },
    {
     "name": "stdout",
     "output_type": "stream",
     "text": [
      "Best metric achieved.\n",
      "Epoch: 18 | Train Loss:  0.028 | Val Loss:  0.026\n"
     ]
    },
    {
     "name": "stderr",
     "output_type": "stream",
     "text": [
      "100%|██████████| 1616/1616 [00:11<00:00, 139.87it/s]\n",
      "100%|██████████| 76/76 [00:00<00:00, 300.76it/s]\n"
     ]
    },
    {
     "name": "stdout",
     "output_type": "stream",
     "text": [
      "Best metric achieved.\n",
      "Epoch: 19 | Train Loss:  0.028 | Val Loss:  0.026\n"
     ]
    },
    {
     "name": "stderr",
     "output_type": "stream",
     "text": [
      "100%|██████████| 1616/1616 [00:11<00:00, 141.65it/s]\n",
      "100%|██████████| 76/76 [00:00<00:00, 300.20it/s]\n"
     ]
    },
    {
     "name": "stdout",
     "output_type": "stream",
     "text": [
      "Best metric achieved.\n",
      "Epoch: 20 | Train Loss:  0.028 | Val Loss:  0.026\n"
     ]
    },
    {
     "name": "stderr",
     "output_type": "stream",
     "text": [
      "100%|██████████| 1616/1616 [00:11<00:00, 136.78it/s]\n",
      "100%|██████████| 76/76 [00:00<00:00, 275.83it/s]\n"
     ]
    },
    {
     "name": "stdout",
     "output_type": "stream",
     "text": [
      "Best metric achieved.\n",
      "Epoch: 21 | Train Loss:  0.028 | Val Loss:  0.026\n"
     ]
    },
    {
     "name": "stderr",
     "output_type": "stream",
     "text": [
      "100%|██████████| 1616/1616 [00:11<00:00, 139.95it/s]\n",
      "100%|██████████| 76/76 [00:00<00:00, 265.33it/s]\n"
     ]
    },
    {
     "name": "stdout",
     "output_type": "stream",
     "text": [
      "Best metric achieved.\n",
      "Epoch: 22 | Train Loss:  0.028 | Val Loss:  0.026\n"
     ]
    },
    {
     "name": "stderr",
     "output_type": "stream",
     "text": [
      "100%|██████████| 1616/1616 [00:11<00:00, 140.19it/s]\n",
      "100%|██████████| 76/76 [00:00<00:00, 301.03it/s]\n"
     ]
    },
    {
     "name": "stdout",
     "output_type": "stream",
     "text": [
      "Best metric achieved.\n",
      "Epoch: 23 | Train Loss:  0.028 | Val Loss:  0.026\n"
     ]
    },
    {
     "name": "stderr",
     "output_type": "stream",
     "text": [
      "100%|██████████| 1616/1616 [00:11<00:00, 140.96it/s]\n",
      "100%|██████████| 76/76 [00:00<00:00, 304.31it/s]\n"
     ]
    },
    {
     "name": "stdout",
     "output_type": "stream",
     "text": [
      "Best metric achieved.\n",
      "Epoch: 24 | Train Loss:  0.028 | Val Loss:  0.026\n"
     ]
    },
    {
     "name": "stderr",
     "output_type": "stream",
     "text": [
      "100%|██████████| 1616/1616 [00:11<00:00, 134.71it/s]\n",
      "100%|██████████| 76/76 [00:00<00:00, 302.09it/s]\n"
     ]
    },
    {
     "name": "stdout",
     "output_type": "stream",
     "text": [
      "Best metric achieved.\n",
      "Epoch: 25 | Train Loss:  0.028 | Val Loss:  0.026\n"
     ]
    },
    {
     "name": "stderr",
     "output_type": "stream",
     "text": [
      "100%|██████████| 1616/1616 [00:11<00:00, 137.12it/s]\n",
      "100%|██████████| 76/76 [00:00<00:00, 303.62it/s]\n"
     ]
    },
    {
     "name": "stdout",
     "output_type": "stream",
     "text": [
      "Best metric achieved.\n",
      "Epoch: 26 | Train Loss:  0.028 | Val Loss:  0.026\n"
     ]
    },
    {
     "name": "stderr",
     "output_type": "stream",
     "text": [
      "100%|██████████| 1616/1616 [00:11<00:00, 138.38it/s]\n",
      "100%|██████████| 76/76 [00:00<00:00, 302.40it/s]\n"
     ]
    },
    {
     "name": "stdout",
     "output_type": "stream",
     "text": [
      "Best metric achieved.\n",
      "Epoch: 27 | Train Loss:  0.028 | Val Loss:  0.026\n"
     ]
    },
    {
     "name": "stderr",
     "output_type": "stream",
     "text": [
      "100%|██████████| 1616/1616 [00:12<00:00, 132.81it/s]\n",
      "100%|██████████| 76/76 [00:00<00:00, 301.08it/s]\n"
     ]
    },
    {
     "name": "stdout",
     "output_type": "stream",
     "text": [
      "Best metric achieved.\n",
      "Epoch: 28 | Train Loss:  0.028 | Val Loss:  0.026\n"
     ]
    },
    {
     "name": "stderr",
     "output_type": "stream",
     "text": [
      "100%|██████████| 1616/1616 [00:12<00:00, 133.95it/s]\n",
      "100%|██████████| 76/76 [00:00<00:00, 301.79it/s]\n"
     ]
    },
    {
     "name": "stdout",
     "output_type": "stream",
     "text": [
      "Best metric achieved.\n",
      "Epoch: 29 | Train Loss:  0.027 | Val Loss:  0.026\n"
     ]
    },
    {
     "name": "stderr",
     "output_type": "stream",
     "text": [
      "100%|██████████| 1616/1616 [00:11<00:00, 138.66it/s]\n",
      "100%|██████████| 76/76 [00:00<00:00, 305.48it/s]\n"
     ]
    },
    {
     "name": "stdout",
     "output_type": "stream",
     "text": [
      "Best metric achieved.\n",
      "Epoch: 30 | Train Loss:  0.027 | Val Loss:  0.026\n"
     ]
    },
    {
     "name": "stderr",
     "output_type": "stream",
     "text": [
      "100%|██████████| 1616/1616 [00:11<00:00, 138.50it/s]\n",
      "100%|██████████| 76/76 [00:00<00:00, 305.61it/s]\n"
     ]
    },
    {
     "name": "stdout",
     "output_type": "stream",
     "text": [
      "Best metric achieved.\n",
      "Epoch: 31 | Train Loss:  0.027 | Val Loss:  0.026\n"
     ]
    },
    {
     "name": "stderr",
     "output_type": "stream",
     "text": [
      "100%|██████████| 1616/1616 [00:11<00:00, 142.65it/s]\n",
      "100%|██████████| 76/76 [00:00<00:00, 301.47it/s]\n"
     ]
    },
    {
     "name": "stdout",
     "output_type": "stream",
     "text": [
      "Best metric achieved.\n",
      "Epoch: 32 | Train Loss:  0.027 | Val Loss:  0.026\n"
     ]
    },
    {
     "name": "stderr",
     "output_type": "stream",
     "text": [
      "100%|██████████| 1616/1616 [00:11<00:00, 141.90it/s]\n",
      "100%|██████████| 76/76 [00:00<00:00, 305.65it/s]\n"
     ]
    },
    {
     "name": "stdout",
     "output_type": "stream",
     "text": [
      "Best metric achieved.\n",
      "Epoch: 33 | Train Loss:  0.027 | Val Loss:  0.026\n"
     ]
    },
    {
     "name": "stderr",
     "output_type": "stream",
     "text": [
      "100%|██████████| 1616/1616 [00:11<00:00, 138.73it/s]\n",
      "100%|██████████| 76/76 [00:00<00:00, 303.51it/s]\n"
     ]
    },
    {
     "name": "stdout",
     "output_type": "stream",
     "text": [
      "Best metric achieved.\n",
      "Epoch: 34 | Train Loss:  0.027 | Val Loss:  0.026\n"
     ]
    },
    {
     "name": "stderr",
     "output_type": "stream",
     "text": [
      "100%|██████████| 1616/1616 [00:11<00:00, 141.50it/s]\n",
      "100%|██████████| 76/76 [00:00<00:00, 280.46it/s]\n"
     ]
    },
    {
     "name": "stdout",
     "output_type": "stream",
     "text": [
      "Best metric achieved.\n",
      "Epoch: 35 | Train Loss:  0.027 | Val Loss:  0.026\n"
     ]
    },
    {
     "name": "stderr",
     "output_type": "stream",
     "text": [
      "100%|██████████| 1616/1616 [00:11<00:00, 140.40it/s]\n",
      "100%|██████████| 76/76 [00:00<00:00, 303.65it/s]\n"
     ]
    },
    {
     "name": "stdout",
     "output_type": "stream",
     "text": [
      "Best metric achieved.\n",
      "Epoch: 36 | Train Loss:  0.027 | Val Loss:  0.026\n"
     ]
    },
    {
     "name": "stderr",
     "output_type": "stream",
     "text": [
      "100%|██████████| 1616/1616 [00:11<00:00, 142.99it/s]\n",
      "100%|██████████| 76/76 [00:00<00:00, 305.86it/s]\n"
     ]
    },
    {
     "name": "stdout",
     "output_type": "stream",
     "text": [
      "Best metric achieved.\n",
      "Epoch: 37 | Train Loss:  0.027 | Val Loss:  0.026\n"
     ]
    },
    {
     "name": "stderr",
     "output_type": "stream",
     "text": [
      "100%|██████████| 1616/1616 [00:11<00:00, 140.37it/s]\n",
      "100%|██████████| 76/76 [00:00<00:00, 304.86it/s]\n"
     ]
    },
    {
     "name": "stdout",
     "output_type": "stream",
     "text": [
      "Best metric achieved.\n",
      "Epoch: 38 | Train Loss:  0.027 | Val Loss:  0.026\n"
     ]
    },
    {
     "name": "stderr",
     "output_type": "stream",
     "text": [
      "100%|██████████| 1616/1616 [00:11<00:00, 144.07it/s]\n",
      "100%|██████████| 76/76 [00:00<00:00, 305.72it/s]\n"
     ]
    },
    {
     "name": "stdout",
     "output_type": "stream",
     "text": [
      "Best metric achieved.\n",
      "Epoch: 39 | Train Loss:  0.027 | Val Loss:  0.026\n"
     ]
    },
    {
     "name": "stderr",
     "output_type": "stream",
     "text": [
      "100%|██████████| 1616/1616 [00:11<00:00, 143.75it/s]\n",
      "100%|██████████| 76/76 [00:00<00:00, 262.81it/s]\n"
     ]
    },
    {
     "name": "stdout",
     "output_type": "stream",
     "text": [
      "Best metric achieved.\n",
      "Epoch: 40 | Train Loss:  0.027 | Val Loss:  0.026\n"
     ]
    },
    {
     "name": "stderr",
     "output_type": "stream",
     "text": [
      "100%|██████████| 1616/1616 [00:11<00:00, 143.87it/s]\n",
      "100%|██████████| 76/76 [00:00<00:00, 302.93it/s]\n"
     ]
    },
    {
     "name": "stdout",
     "output_type": "stream",
     "text": [
      "Best metric achieved.\n",
      "Epoch: 41 | Train Loss:  0.027 | Val Loss:  0.026\n"
     ]
    },
    {
     "name": "stderr",
     "output_type": "stream",
     "text": [
      "100%|██████████| 1616/1616 [00:11<00:00, 143.84it/s]\n",
      "100%|██████████| 76/76 [00:00<00:00, 305.40it/s]\n"
     ]
    },
    {
     "name": "stdout",
     "output_type": "stream",
     "text": [
      "Best metric achieved.\n",
      "Epoch: 42 | Train Loss:  0.027 | Val Loss:  0.026\n"
     ]
    },
    {
     "name": "stderr",
     "output_type": "stream",
     "text": [
      "100%|██████████| 1616/1616 [00:11<00:00, 144.33it/s]\n",
      "100%|██████████| 76/76 [00:00<00:00, 304.02it/s]\n"
     ]
    },
    {
     "name": "stdout",
     "output_type": "stream",
     "text": [
      "Best metric achieved.\n",
      "Epoch: 43 | Train Loss:  0.027 | Val Loss:  0.026\n"
     ]
    },
    {
     "name": "stderr",
     "output_type": "stream",
     "text": [
      "100%|██████████| 1616/1616 [00:11<00:00, 143.49it/s]\n",
      "100%|██████████| 76/76 [00:00<00:00, 262.60it/s]\n"
     ]
    },
    {
     "name": "stdout",
     "output_type": "stream",
     "text": [
      "Best metric achieved.\n",
      "Epoch: 44 | Train Loss:  0.027 | Val Loss:  0.026\n"
     ]
    },
    {
     "name": "stderr",
     "output_type": "stream",
     "text": [
      "100%|██████████| 1616/1616 [00:11<00:00, 144.97it/s]\n",
      "100%|██████████| 76/76 [00:00<00:00, 305.65it/s]\n"
     ]
    },
    {
     "name": "stdout",
     "output_type": "stream",
     "text": [
      "Best metric achieved.\n",
      "Epoch: 45 | Train Loss:  0.027 | Val Loss:  0.026\n"
     ]
    },
    {
     "name": "stderr",
     "output_type": "stream",
     "text": [
      "100%|██████████| 1616/1616 [00:11<00:00, 145.42it/s]\n",
      "100%|██████████| 76/76 [00:00<00:00, 307.08it/s]\n"
     ]
    },
    {
     "name": "stdout",
     "output_type": "stream",
     "text": [
      "Best metric achieved.\n",
      "Epoch: 46 | Train Loss:  0.027 | Val Loss:  0.026\n"
     ]
    },
    {
     "name": "stderr",
     "output_type": "stream",
     "text": [
      "100%|██████████| 1616/1616 [00:11<00:00, 145.73it/s]\n",
      "100%|██████████| 76/76 [00:00<00:00, 306.54it/s]\n"
     ]
    },
    {
     "name": "stdout",
     "output_type": "stream",
     "text": [
      "Best metric achieved.\n",
      "Epoch: 47 | Train Loss:  0.027 | Val Loss:  0.026\n"
     ]
    },
    {
     "name": "stderr",
     "output_type": "stream",
     "text": [
      "100%|██████████| 1616/1616 [00:11<00:00, 141.44it/s]\n",
      "100%|██████████| 76/76 [00:00<00:00, 307.16it/s]\n"
     ]
    },
    {
     "name": "stdout",
     "output_type": "stream",
     "text": [
      "Best metric achieved.\n",
      "Epoch: 48 | Train Loss:  0.027 | Val Loss:  0.026\n"
     ]
    },
    {
     "name": "stderr",
     "output_type": "stream",
     "text": [
      "100%|██████████| 1616/1616 [00:11<00:00, 143.36it/s]\n",
      "100%|██████████| 76/76 [00:00<00:00, 304.07it/s]\n"
     ]
    },
    {
     "name": "stdout",
     "output_type": "stream",
     "text": [
      "Best metric achieved.\n",
      "Epoch: 49 | Train Loss:  0.027 | Val Loss:  0.026\n"
     ]
    },
    {
     "name": "stderr",
     "output_type": "stream",
     "text": [
      "100%|██████████| 1616/1616 [00:11<00:00, 142.12it/s]\n",
      "100%|██████████| 76/76 [00:00<00:00, 304.30it/s]\n"
     ]
    },
    {
     "name": "stdout",
     "output_type": "stream",
     "text": [
      "Best metric achieved.\n",
      "Epoch: 50 | Train Loss:  0.027 | Val Loss:  0.026\n"
     ]
    },
    {
     "name": "stderr",
     "output_type": "stream",
     "text": [
      "100%|██████████| 1616/1616 [00:11<00:00, 143.21it/s]\n",
      "100%|██████████| 76/76 [00:00<00:00, 286.06it/s]\n"
     ]
    },
    {
     "name": "stdout",
     "output_type": "stream",
     "text": [
      "Best metric achieved.\n",
      "Epoch: 51 | Train Loss:  0.027 | Val Loss:  0.026\n"
     ]
    },
    {
     "name": "stderr",
     "output_type": "stream",
     "text": [
      "100%|██████████| 1616/1616 [00:11<00:00, 139.91it/s]\n",
      "100%|██████████| 76/76 [00:00<00:00, 305.07it/s]\n"
     ]
    },
    {
     "name": "stdout",
     "output_type": "stream",
     "text": [
      "Best metric achieved.\n",
      "Epoch: 52 | Train Loss:  0.027 | Val Loss:  0.026\n"
     ]
    },
    {
     "name": "stderr",
     "output_type": "stream",
     "text": [
      "100%|██████████| 1616/1616 [00:11<00:00, 144.81it/s]\n",
      "100%|██████████| 76/76 [00:00<00:00, 303.24it/s]\n"
     ]
    },
    {
     "name": "stdout",
     "output_type": "stream",
     "text": [
      "Best metric achieved.\n",
      "Epoch: 53 | Train Loss:  0.027 | Val Loss:  0.026\n"
     ]
    },
    {
     "name": "stderr",
     "output_type": "stream",
     "text": [
      "100%|██████████| 1616/1616 [00:11<00:00, 143.61it/s]\n",
      "100%|██████████| 76/76 [00:00<00:00, 261.76it/s]\n"
     ]
    },
    {
     "name": "stdout",
     "output_type": "stream",
     "text": [
      "Best metric achieved.\n",
      "Epoch: 54 | Train Loss:  0.027 | Val Loss:  0.026\n"
     ]
    },
    {
     "name": "stderr",
     "output_type": "stream",
     "text": [
      "100%|██████████| 1616/1616 [00:11<00:00, 140.21it/s]\n",
      "100%|██████████| 76/76 [00:00<00:00, 307.11it/s]\n"
     ]
    },
    {
     "name": "stdout",
     "output_type": "stream",
     "text": [
      "Best metric achieved.\n",
      "Epoch: 55 | Train Loss:  0.027 | Val Loss:  0.026\n"
     ]
    },
    {
     "name": "stderr",
     "output_type": "stream",
     "text": [
      "100%|██████████| 1616/1616 [00:11<00:00, 144.66it/s]\n",
      "100%|██████████| 76/76 [00:00<00:00, 305.55it/s]\n"
     ]
    },
    {
     "name": "stdout",
     "output_type": "stream",
     "text": [
      "Best metric achieved.\n",
      "Epoch: 56 | Train Loss:  0.027 | Val Loss:  0.026\n"
     ]
    },
    {
     "name": "stderr",
     "output_type": "stream",
     "text": [
      "100%|██████████| 1616/1616 [00:11<00:00, 143.38it/s]\n",
      "100%|██████████| 76/76 [00:00<00:00, 307.80it/s]\n"
     ]
    },
    {
     "name": "stdout",
     "output_type": "stream",
     "text": [
      "Best metric achieved.\n",
      "Epoch: 57 | Train Loss:  0.027 | Val Loss:  0.026\n"
     ]
    },
    {
     "name": "stderr",
     "output_type": "stream",
     "text": [
      "100%|██████████| 1616/1616 [00:11<00:00, 142.10it/s]\n",
      "100%|██████████| 76/76 [00:00<00:00, 305.46it/s]\n"
     ]
    },
    {
     "name": "stdout",
     "output_type": "stream",
     "text": [
      "Best metric achieved.\n",
      "Epoch: 58 | Train Loss:  0.027 | Val Loss:  0.025\n"
     ]
    },
    {
     "name": "stderr",
     "output_type": "stream",
     "text": [
      "100%|██████████| 1616/1616 [00:11<00:00, 142.03it/s]\n",
      "100%|██████████| 76/76 [00:00<00:00, 307.30it/s]\n"
     ]
    },
    {
     "name": "stdout",
     "output_type": "stream",
     "text": [
      "Best metric achieved.\n",
      "Epoch: 59 | Train Loss:  0.027 | Val Loss:  0.025\n"
     ]
    },
    {
     "name": "stderr",
     "output_type": "stream",
     "text": [
      "100%|██████████| 1616/1616 [00:11<00:00, 141.97it/s]\n",
      "100%|██████████| 76/76 [00:00<00:00, 307.65it/s]\n"
     ]
    },
    {
     "name": "stdout",
     "output_type": "stream",
     "text": [
      "Best metric achieved.\n",
      "Epoch: 60 | Train Loss:  0.027 | Val Loss:  0.025\n"
     ]
    },
    {
     "name": "stderr",
     "output_type": "stream",
     "text": [
      "100%|██████████| 1616/1616 [00:11<00:00, 144.61it/s]\n",
      "100%|██████████| 76/76 [00:00<00:00, 300.14it/s]\n"
     ]
    },
    {
     "name": "stdout",
     "output_type": "stream",
     "text": [
      "Best metric achieved.\n",
      "Epoch: 61 | Train Loss:  0.027 | Val Loss:  0.025\n"
     ]
    },
    {
     "name": "stderr",
     "output_type": "stream",
     "text": [
      "100%|██████████| 1616/1616 [00:11<00:00, 143.48it/s]\n",
      "100%|██████████| 76/76 [00:00<00:00, 307.25it/s]\n"
     ]
    },
    {
     "name": "stdout",
     "output_type": "stream",
     "text": [
      "Best metric achieved.\n",
      "Epoch: 62 | Train Loss:  0.027 | Val Loss:  0.025\n"
     ]
    },
    {
     "name": "stderr",
     "output_type": "stream",
     "text": [
      "100%|██████████| 1616/1616 [00:11<00:00, 144.19it/s]\n",
      "100%|██████████| 76/76 [00:00<00:00, 306.95it/s]\n"
     ]
    },
    {
     "name": "stdout",
     "output_type": "stream",
     "text": [
      "Best metric achieved.\n",
      "Epoch: 63 | Train Loss:  0.027 | Val Loss:  0.025\n"
     ]
    },
    {
     "name": "stderr",
     "output_type": "stream",
     "text": [
      "100%|██████████| 1616/1616 [00:11<00:00, 141.04it/s]\n",
      "100%|██████████| 76/76 [00:00<00:00, 303.22it/s]\n"
     ]
    },
    {
     "name": "stdout",
     "output_type": "stream",
     "text": [
      "Best metric achieved.\n",
      "Epoch: 64 | Train Loss:  0.027 | Val Loss:  0.025\n"
     ]
    },
    {
     "name": "stderr",
     "output_type": "stream",
     "text": [
      "100%|██████████| 1616/1616 [00:11<00:00, 142.29it/s]\n",
      "100%|██████████| 76/76 [00:00<00:00, 307.26it/s]\n"
     ]
    },
    {
     "name": "stdout",
     "output_type": "stream",
     "text": [
      "Best metric achieved.\n",
      "Epoch: 65 | Train Loss:  0.027 | Val Loss:  0.025\n"
     ]
    },
    {
     "name": "stderr",
     "output_type": "stream",
     "text": [
      "100%|██████████| 1616/1616 [00:11<00:00, 145.61it/s]\n",
      "100%|██████████| 76/76 [00:00<00:00, 305.61it/s]\n"
     ]
    },
    {
     "name": "stdout",
     "output_type": "stream",
     "text": [
      "Best metric achieved.\n",
      "Epoch: 66 | Train Loss:  0.027 | Val Loss:  0.025\n"
     ]
    },
    {
     "name": "stderr",
     "output_type": "stream",
     "text": [
      "100%|██████████| 1616/1616 [00:11<00:00, 141.39it/s]\n",
      "100%|██████████| 76/76 [00:00<00:00, 305.78it/s]\n"
     ]
    },
    {
     "name": "stdout",
     "output_type": "stream",
     "text": [
      "Best metric achieved.\n",
      "Epoch: 67 | Train Loss:  0.027 | Val Loss:  0.025\n"
     ]
    },
    {
     "name": "stderr",
     "output_type": "stream",
     "text": [
      "100%|██████████| 1616/1616 [00:11<00:00, 142.92it/s]\n",
      "100%|██████████| 76/76 [00:00<00:00, 302.25it/s]\n"
     ]
    },
    {
     "name": "stdout",
     "output_type": "stream",
     "text": [
      "Best metric achieved.\n",
      "Epoch: 68 | Train Loss:  0.027 | Val Loss:  0.025\n"
     ]
    },
    {
     "name": "stderr",
     "output_type": "stream",
     "text": [
      "100%|██████████| 1616/1616 [00:11<00:00, 141.75it/s]\n",
      "100%|██████████| 76/76 [00:00<00:00, 306.09it/s]\n"
     ]
    },
    {
     "name": "stdout",
     "output_type": "stream",
     "text": [
      "Best metric achieved.\n",
      "Epoch: 69 | Train Loss:  0.027 | Val Loss:  0.025\n"
     ]
    },
    {
     "name": "stderr",
     "output_type": "stream",
     "text": [
      "100%|██████████| 1616/1616 [00:11<00:00, 142.95it/s]\n",
      "100%|██████████| 76/76 [00:00<00:00, 302.72it/s]\n"
     ]
    },
    {
     "name": "stdout",
     "output_type": "stream",
     "text": [
      "Best metric achieved.\n",
      "Epoch: 70 | Train Loss:  0.027 | Val Loss:  0.025\n"
     ]
    },
    {
     "name": "stderr",
     "output_type": "stream",
     "text": [
      "100%|██████████| 1616/1616 [00:11<00:00, 143.15it/s]\n",
      "100%|██████████| 76/76 [00:00<00:00, 307.43it/s]\n"
     ]
    },
    {
     "name": "stdout",
     "output_type": "stream",
     "text": [
      "Best metric achieved.\n",
      "Epoch: 71 | Train Loss:  0.027 | Val Loss:  0.025\n"
     ]
    },
    {
     "name": "stderr",
     "output_type": "stream",
     "text": [
      "100%|██████████| 1616/1616 [00:11<00:00, 144.56it/s]\n",
      "100%|██████████| 76/76 [00:00<00:00, 307.37it/s]\n"
     ]
    },
    {
     "name": "stdout",
     "output_type": "stream",
     "text": [
      "Best metric achieved.\n",
      "Epoch: 72 | Train Loss:  0.027 | Val Loss:  0.025\n"
     ]
    },
    {
     "name": "stderr",
     "output_type": "stream",
     "text": [
      "100%|██████████| 1616/1616 [00:11<00:00, 143.72it/s]\n",
      "100%|██████████| 76/76 [00:00<00:00, 303.58it/s]\n"
     ]
    },
    {
     "name": "stdout",
     "output_type": "stream",
     "text": [
      "Best metric achieved.\n",
      "Epoch: 73 | Train Loss:  0.027 | Val Loss:  0.025\n"
     ]
    },
    {
     "name": "stderr",
     "output_type": "stream",
     "text": [
      "100%|██████████| 1616/1616 [00:11<00:00, 142.19it/s]\n",
      "100%|██████████| 76/76 [00:00<00:00, 308.25it/s]\n"
     ]
    },
    {
     "name": "stdout",
     "output_type": "stream",
     "text": [
      "Best metric achieved.\n",
      "Epoch: 74 | Train Loss:  0.027 | Val Loss:  0.025\n"
     ]
    },
    {
     "name": "stderr",
     "output_type": "stream",
     "text": [
      "100%|██████████| 1616/1616 [00:11<00:00, 143.94it/s]\n",
      "100%|██████████| 76/76 [00:00<00:00, 308.07it/s]\n"
     ]
    },
    {
     "name": "stdout",
     "output_type": "stream",
     "text": [
      "Best metric achieved.\n",
      "Epoch: 75 | Train Loss:  0.027 | Val Loss:  0.025\n"
     ]
    },
    {
     "name": "stderr",
     "output_type": "stream",
     "text": [
      "100%|██████████| 1616/1616 [00:11<00:00, 144.55it/s]\n",
      "100%|██████████| 76/76 [00:00<00:00, 305.85it/s]\n"
     ]
    },
    {
     "name": "stdout",
     "output_type": "stream",
     "text": [
      "Best metric achieved.\n",
      "Epoch: 76 | Train Loss:  0.027 | Val Loss:  0.025\n"
     ]
    },
    {
     "name": "stderr",
     "output_type": "stream",
     "text": [
      "100%|██████████| 1616/1616 [00:11<00:00, 145.26it/s]\n",
      "100%|██████████| 76/76 [00:00<00:00, 306.07it/s]\n"
     ]
    },
    {
     "name": "stdout",
     "output_type": "stream",
     "text": [
      "Best metric achieved.\n",
      "Epoch: 77 | Train Loss:  0.027 | Val Loss:  0.025\n"
     ]
    },
    {
     "name": "stderr",
     "output_type": "stream",
     "text": [
      "100%|██████████| 1616/1616 [00:11<00:00, 140.69it/s]\n",
      "100%|██████████| 76/76 [00:00<00:00, 306.53it/s]\n"
     ]
    },
    {
     "name": "stdout",
     "output_type": "stream",
     "text": [
      "Best metric achieved.\n",
      "Epoch: 78 | Train Loss:  0.027 | Val Loss:  0.025\n"
     ]
    },
    {
     "name": "stderr",
     "output_type": "stream",
     "text": [
      "100%|██████████| 1616/1616 [00:11<00:00, 143.91it/s]\n",
      "100%|██████████| 76/76 [00:00<00:00, 307.12it/s]\n"
     ]
    },
    {
     "name": "stdout",
     "output_type": "stream",
     "text": [
      "Best metric achieved.\n",
      "Epoch: 79 | Train Loss:  0.027 | Val Loss:  0.025\n"
     ]
    },
    {
     "name": "stderr",
     "output_type": "stream",
     "text": [
      "100%|██████████| 1616/1616 [00:11<00:00, 140.22it/s]\n",
      "100%|██████████| 76/76 [00:00<00:00, 308.22it/s]\n"
     ]
    },
    {
     "name": "stdout",
     "output_type": "stream",
     "text": [
      "Best metric achieved.\n",
      "Epoch: 80 | Train Loss:  0.026 | Val Loss:  0.025\n"
     ]
    },
    {
     "name": "stderr",
     "output_type": "stream",
     "text": [
      "100%|██████████| 1616/1616 [00:11<00:00, 142.99it/s]\n",
      "100%|██████████| 76/76 [00:00<00:00, 308.24it/s]\n"
     ]
    },
    {
     "name": "stdout",
     "output_type": "stream",
     "text": [
      "Best metric achieved.\n",
      "Epoch: 81 | Train Loss:  0.026 | Val Loss:  0.025\n"
     ]
    },
    {
     "name": "stderr",
     "output_type": "stream",
     "text": [
      "100%|██████████| 1616/1616 [00:11<00:00, 145.47it/s]\n",
      "100%|██████████| 76/76 [00:00<00:00, 307.32it/s]\n"
     ]
    },
    {
     "name": "stdout",
     "output_type": "stream",
     "text": [
      "Best metric achieved.\n",
      "Epoch: 82 | Train Loss:  0.026 | Val Loss:  0.025\n"
     ]
    },
    {
     "name": "stderr",
     "output_type": "stream",
     "text": [
      "100%|██████████| 1616/1616 [00:11<00:00, 145.36it/s]\n",
      "100%|██████████| 76/76 [00:00<00:00, 306.37it/s]\n"
     ]
    },
    {
     "name": "stdout",
     "output_type": "stream",
     "text": [
      "Best metric achieved.\n",
      "Epoch: 83 | Train Loss:  0.026 | Val Loss:  0.025\n"
     ]
    },
    {
     "name": "stderr",
     "output_type": "stream",
     "text": [
      "100%|██████████| 1616/1616 [00:11<00:00, 146.16it/s]\n",
      "100%|██████████| 76/76 [00:00<00:00, 308.53it/s]\n"
     ]
    },
    {
     "name": "stdout",
     "output_type": "stream",
     "text": [
      "Best metric achieved.\n",
      "Epoch: 84 | Train Loss:  0.026 | Val Loss:  0.025\n"
     ]
    },
    {
     "name": "stderr",
     "output_type": "stream",
     "text": [
      "100%|██████████| 1616/1616 [00:11<00:00, 142.78it/s]\n",
      "100%|██████████| 76/76 [00:00<00:00, 308.38it/s]\n"
     ]
    },
    {
     "name": "stdout",
     "output_type": "stream",
     "text": [
      "Best metric achieved.\n",
      "Epoch: 85 | Train Loss:  0.026 | Val Loss:  0.025\n"
     ]
    },
    {
     "name": "stderr",
     "output_type": "stream",
     "text": [
      "100%|██████████| 1616/1616 [00:11<00:00, 143.30it/s]\n",
      "100%|██████████| 76/76 [00:00<00:00, 306.29it/s]\n"
     ]
    },
    {
     "name": "stdout",
     "output_type": "stream",
     "text": [
      "Best metric achieved.\n",
      "Epoch: 86 | Train Loss:  0.026 | Val Loss:  0.025\n"
     ]
    },
    {
     "name": "stderr",
     "output_type": "stream",
     "text": [
      "100%|██████████| 1616/1616 [00:11<00:00, 145.92it/s]\n",
      "100%|██████████| 76/76 [00:00<00:00, 308.08it/s]\n"
     ]
    },
    {
     "name": "stdout",
     "output_type": "stream",
     "text": [
      "Best metric achieved.\n",
      "Epoch: 87 | Train Loss:  0.026 | Val Loss:  0.025\n"
     ]
    },
    {
     "name": "stderr",
     "output_type": "stream",
     "text": [
      "100%|██████████| 1616/1616 [00:11<00:00, 141.99it/s]\n",
      "100%|██████████| 76/76 [00:00<00:00, 308.92it/s]\n"
     ]
    },
    {
     "name": "stdout",
     "output_type": "stream",
     "text": [
      "Best metric achieved.\n",
      "Epoch: 88 | Train Loss:  0.026 | Val Loss:  0.025\n"
     ]
    },
    {
     "name": "stderr",
     "output_type": "stream",
     "text": [
      "100%|██████████| 1616/1616 [00:11<00:00, 142.55it/s]\n",
      "100%|██████████| 76/76 [00:00<00:00, 304.29it/s]\n"
     ]
    },
    {
     "name": "stdout",
     "output_type": "stream",
     "text": [
      "Best metric achieved.\n",
      "Epoch: 89 | Train Loss:  0.026 | Val Loss:  0.025\n"
     ]
    },
    {
     "name": "stderr",
     "output_type": "stream",
     "text": [
      "100%|██████████| 1616/1616 [00:11<00:00, 141.88it/s]\n",
      "100%|██████████| 76/76 [00:00<00:00, 306.45it/s]\n"
     ]
    },
    {
     "name": "stdout",
     "output_type": "stream",
     "text": [
      "Best metric achieved.\n",
      "Epoch: 90 | Train Loss:  0.026 | Val Loss:  0.025\n"
     ]
    },
    {
     "name": "stderr",
     "output_type": "stream",
     "text": [
      "100%|██████████| 1616/1616 [00:11<00:00, 142.80it/s]\n",
      "100%|██████████| 76/76 [00:00<00:00, 306.93it/s]\n"
     ]
    },
    {
     "name": "stdout",
     "output_type": "stream",
     "text": [
      "Best metric achieved.\n",
      "Epoch: 91 | Train Loss:  0.026 | Val Loss:  0.025\n"
     ]
    },
    {
     "name": "stderr",
     "output_type": "stream",
     "text": [
      "100%|██████████| 1616/1616 [00:11<00:00, 143.83it/s]\n",
      "100%|██████████| 76/76 [00:00<00:00, 308.22it/s]\n"
     ]
    },
    {
     "name": "stdout",
     "output_type": "stream",
     "text": [
      "Best metric achieved.\n",
      "Epoch: 92 | Train Loss:  0.026 | Val Loss:  0.025\n"
     ]
    },
    {
     "name": "stderr",
     "output_type": "stream",
     "text": [
      "100%|██████████| 1616/1616 [00:11<00:00, 137.09it/s]\n",
      "100%|██████████| 76/76 [00:00<00:00, 303.66it/s]\n"
     ]
    },
    {
     "name": "stdout",
     "output_type": "stream",
     "text": [
      "Best metric achieved.\n",
      "Epoch: 93 | Train Loss:  0.026 | Val Loss:  0.025\n"
     ]
    },
    {
     "name": "stderr",
     "output_type": "stream",
     "text": [
      "100%|██████████| 1616/1616 [00:11<00:00, 142.01it/s]\n",
      "100%|██████████| 76/76 [00:00<00:00, 306.87it/s]\n"
     ]
    },
    {
     "name": "stdout",
     "output_type": "stream",
     "text": [
      "Best metric achieved.\n",
      "Epoch: 94 | Train Loss:  0.026 | Val Loss:  0.025\n"
     ]
    },
    {
     "name": "stderr",
     "output_type": "stream",
     "text": [
      "100%|██████████| 1616/1616 [00:11<00:00, 143.05it/s]\n",
      "100%|██████████| 76/76 [00:00<00:00, 261.85it/s]\n"
     ]
    },
    {
     "name": "stdout",
     "output_type": "stream",
     "text": [
      "Best metric achieved.\n",
      "Epoch: 95 | Train Loss:  0.026 | Val Loss:  0.025\n"
     ]
    },
    {
     "name": "stderr",
     "output_type": "stream",
     "text": [
      "100%|██████████| 1616/1616 [00:11<00:00, 142.30it/s]\n",
      "100%|██████████| 76/76 [00:00<00:00, 303.53it/s]\n"
     ]
    },
    {
     "name": "stdout",
     "output_type": "stream",
     "text": [
      "Best metric achieved.\n",
      "Epoch: 96 | Train Loss:  0.026 | Val Loss:  0.025\n"
     ]
    },
    {
     "name": "stderr",
     "output_type": "stream",
     "text": [
      "100%|██████████| 1616/1616 [00:11<00:00, 144.49it/s]\n",
      "100%|██████████| 76/76 [00:00<00:00, 306.61it/s]\n"
     ]
    },
    {
     "name": "stdout",
     "output_type": "stream",
     "text": [
      "Best metric achieved.\n",
      "Epoch: 97 | Train Loss:  0.026 | Val Loss:  0.025\n"
     ]
    },
    {
     "name": "stderr",
     "output_type": "stream",
     "text": [
      "100%|██████████| 1616/1616 [00:11<00:00, 135.95it/s]\n",
      "100%|██████████| 76/76 [00:00<00:00, 309.05it/s]\n"
     ]
    },
    {
     "name": "stdout",
     "output_type": "stream",
     "text": [
      "Best metric achieved.\n",
      "Epoch: 98 | Train Loss:  0.026 | Val Loss:  0.025\n"
     ]
    },
    {
     "name": "stderr",
     "output_type": "stream",
     "text": [
      "100%|██████████| 1616/1616 [00:11<00:00, 144.39it/s]\n",
      "100%|██████████| 76/76 [00:00<00:00, 307.32it/s]\n"
     ]
    },
    {
     "name": "stdout",
     "output_type": "stream",
     "text": [
      "Best metric achieved.\n",
      "Epoch: 99 | Train Loss:  0.026 | Val Loss:  0.025\n"
     ]
    },
    {
     "name": "stderr",
     "output_type": "stream",
     "text": [
      "100%|██████████| 1616/1616 [00:11<00:00, 141.98it/s]\n",
      "100%|██████████| 76/76 [00:00<00:00, 300.71it/s]"
     ]
    },
    {
     "name": "stdout",
     "output_type": "stream",
     "text": [
      "Best metric achieved.\n",
      "Epoch: 100 | Train Loss:  0.026 | Val Loss:  0.025\n"
     ]
    },
    {
     "name": "stderr",
     "output_type": "stream",
     "text": [
      "\n"
     ]
    }
   ],
   "source": [
    "my_model_cnn1 = SCSAE(latent_n = 48, dec=1).to(DEVICE)\n",
    "cnn_test1 = train_loop('MSE', BATCH_SIZE, 'constant', 1e-3, 'Adam', 0, 100, \n",
    "                      my_model_cnn1, '../../model_param/cnn_test_cern.pt', DEVICE, my_dataloader_cnn, my_dataloader_val_cnn)"
   ]
  },
  {
   "cell_type": "code",
   "execution_count": 108,
   "id": "94d54280-34a1-46d7-b3e6-3dabe06ce1cf",
   "metadata": {},
   "outputs": [
    {
     "name": "stderr",
     "output_type": "stream",
     "text": [
      "100%|██████████| 1616/1616 [00:11<00:00, 140.12it/s]\n",
      "100%|██████████| 76/76 [00:00<00:00, 294.83it/s]\n"
     ]
    },
    {
     "name": "stdout",
     "output_type": "stream",
     "text": [
      "Best metric achieved.\n",
      "Epoch: 1 | Train Loss:  0.045 | Val Loss:  0.036\n"
     ]
    },
    {
     "name": "stderr",
     "output_type": "stream",
     "text": [
      "100%|██████████| 1616/1616 [00:11<00:00, 142.81it/s]\n",
      "100%|██████████| 76/76 [00:00<00:00, 299.07it/s]\n"
     ]
    },
    {
     "name": "stdout",
     "output_type": "stream",
     "text": [
      "Best metric achieved.\n",
      "Epoch: 2 | Train Loss:  0.034 | Val Loss:  0.030\n"
     ]
    },
    {
     "name": "stderr",
     "output_type": "stream",
     "text": [
      "100%|██████████| 1616/1616 [00:11<00:00, 142.81it/s]\n",
      "100%|██████████| 76/76 [00:00<00:00, 295.71it/s]\n"
     ]
    },
    {
     "name": "stdout",
     "output_type": "stream",
     "text": [
      "Best metric achieved.\n",
      "Epoch: 3 | Train Loss:  0.031 | Val Loss:  0.029\n"
     ]
    },
    {
     "name": "stderr",
     "output_type": "stream",
     "text": [
      "100%|██████████| 1616/1616 [00:11<00:00, 143.85it/s]\n",
      "100%|██████████| 76/76 [00:00<00:00, 295.07it/s]\n"
     ]
    },
    {
     "name": "stdout",
     "output_type": "stream",
     "text": [
      "Best metric achieved.\n",
      "Epoch: 4 | Train Loss:  0.030 | Val Loss:  0.028\n"
     ]
    },
    {
     "name": "stderr",
     "output_type": "stream",
     "text": [
      "100%|██████████| 1616/1616 [00:11<00:00, 145.27it/s]\n",
      "100%|██████████| 76/76 [00:00<00:00, 296.10it/s]\n"
     ]
    },
    {
     "name": "stdout",
     "output_type": "stream",
     "text": [
      "Best metric achieved.\n",
      "Epoch: 5 | Train Loss:  0.030 | Val Loss:  0.028\n"
     ]
    },
    {
     "name": "stderr",
     "output_type": "stream",
     "text": [
      "100%|██████████| 1616/1616 [00:11<00:00, 146.36it/s]\n",
      "100%|██████████| 76/76 [00:00<00:00, 297.46it/s]\n"
     ]
    },
    {
     "name": "stdout",
     "output_type": "stream",
     "text": [
      "Best metric achieved.\n",
      "Epoch: 6 | Train Loss:  0.029 | Val Loss:  0.028\n"
     ]
    },
    {
     "name": "stderr",
     "output_type": "stream",
     "text": [
      "100%|██████████| 1616/1616 [00:11<00:00, 146.42it/s]\n",
      "100%|██████████| 76/76 [00:00<00:00, 299.01it/s]\n"
     ]
    },
    {
     "name": "stdout",
     "output_type": "stream",
     "text": [
      "Best metric achieved.\n",
      "Epoch: 7 | Train Loss:  0.029 | Val Loss:  0.027\n"
     ]
    },
    {
     "name": "stderr",
     "output_type": "stream",
     "text": [
      "100%|██████████| 1616/1616 [00:11<00:00, 146.01it/s]\n",
      "100%|██████████| 76/76 [00:00<00:00, 294.33it/s]\n"
     ]
    },
    {
     "name": "stdout",
     "output_type": "stream",
     "text": [
      "Best metric achieved.\n",
      "Epoch: 8 | Train Loss:  0.029 | Val Loss:  0.027\n"
     ]
    },
    {
     "name": "stderr",
     "output_type": "stream",
     "text": [
      "100%|██████████| 1616/1616 [00:11<00:00, 145.90it/s]\n",
      "100%|██████████| 76/76 [00:00<00:00, 294.03it/s]\n"
     ]
    },
    {
     "name": "stdout",
     "output_type": "stream",
     "text": [
      "Best metric achieved.\n",
      "Epoch: 9 | Train Loss:  0.029 | Val Loss:  0.027\n"
     ]
    },
    {
     "name": "stderr",
     "output_type": "stream",
     "text": [
      "100%|██████████| 1616/1616 [00:11<00:00, 136.45it/s]\n",
      "100%|██████████| 76/76 [00:00<00:00, 294.59it/s]\n"
     ]
    },
    {
     "name": "stdout",
     "output_type": "stream",
     "text": [
      "Best metric achieved.\n",
      "Epoch: 10 | Train Loss:  0.028 | Val Loss:  0.027\n"
     ]
    },
    {
     "name": "stderr",
     "output_type": "stream",
     "text": [
      "100%|██████████| 1616/1616 [00:11<00:00, 138.68it/s]\n",
      "100%|██████████| 76/76 [00:00<00:00, 295.83it/s]\n"
     ]
    },
    {
     "name": "stdout",
     "output_type": "stream",
     "text": [
      "Best metric achieved.\n",
      "Epoch: 11 | Train Loss:  0.028 | Val Loss:  0.027\n"
     ]
    },
    {
     "name": "stderr",
     "output_type": "stream",
     "text": [
      "100%|██████████| 1616/1616 [00:11<00:00, 137.32it/s]\n",
      "100%|██████████| 76/76 [00:00<00:00, 295.39it/s]\n"
     ]
    },
    {
     "name": "stdout",
     "output_type": "stream",
     "text": [
      "Best metric achieved.\n",
      "Epoch: 12 | Train Loss:  0.028 | Val Loss:  0.027\n"
     ]
    },
    {
     "name": "stderr",
     "output_type": "stream",
     "text": [
      "100%|██████████| 1616/1616 [00:11<00:00, 140.77it/s]\n",
      "100%|██████████| 76/76 [00:00<00:00, 297.40it/s]\n"
     ]
    },
    {
     "name": "stdout",
     "output_type": "stream",
     "text": [
      "Best metric achieved.\n",
      "Epoch: 13 | Train Loss:  0.028 | Val Loss:  0.027\n"
     ]
    },
    {
     "name": "stderr",
     "output_type": "stream",
     "text": [
      "100%|██████████| 1616/1616 [00:11<00:00, 142.99it/s]\n",
      "100%|██████████| 76/76 [00:00<00:00, 293.48it/s]\n"
     ]
    },
    {
     "name": "stdout",
     "output_type": "stream",
     "text": [
      "Best metric achieved.\n",
      "Epoch: 14 | Train Loss:  0.028 | Val Loss:  0.026\n"
     ]
    },
    {
     "name": "stderr",
     "output_type": "stream",
     "text": [
      "100%|██████████| 1616/1616 [00:11<00:00, 144.72it/s]\n",
      "100%|██████████| 76/76 [00:00<00:00, 294.92it/s]\n"
     ]
    },
    {
     "name": "stdout",
     "output_type": "stream",
     "text": [
      "Best metric achieved.\n",
      "Epoch: 15 | Train Loss:  0.028 | Val Loss:  0.026\n"
     ]
    },
    {
     "name": "stderr",
     "output_type": "stream",
     "text": [
      "100%|██████████| 1616/1616 [00:11<00:00, 136.77it/s]\n",
      "100%|██████████| 76/76 [00:00<00:00, 295.38it/s]\n"
     ]
    },
    {
     "name": "stdout",
     "output_type": "stream",
     "text": [
      "Best metric achieved.\n",
      "Epoch: 16 | Train Loss:  0.028 | Val Loss:  0.026\n"
     ]
    },
    {
     "name": "stderr",
     "output_type": "stream",
     "text": [
      "100%|██████████| 1616/1616 [00:11<00:00, 140.99it/s]\n",
      "100%|██████████| 76/76 [00:00<00:00, 293.86it/s]\n"
     ]
    },
    {
     "name": "stdout",
     "output_type": "stream",
     "text": [
      "Best metric achieved.\n",
      "Epoch: 17 | Train Loss:  0.028 | Val Loss:  0.026\n"
     ]
    },
    {
     "name": "stderr",
     "output_type": "stream",
     "text": [
      "100%|██████████| 1616/1616 [00:11<00:00, 140.85it/s]\n",
      "100%|██████████| 76/76 [00:00<00:00, 296.19it/s]\n"
     ]
    },
    {
     "name": "stdout",
     "output_type": "stream",
     "text": [
      "Best metric achieved.\n",
      "Epoch: 18 | Train Loss:  0.028 | Val Loss:  0.026\n"
     ]
    },
    {
     "name": "stderr",
     "output_type": "stream",
     "text": [
      "100%|██████████| 1616/1616 [00:11<00:00, 142.03it/s]\n",
      "100%|██████████| 76/76 [00:00<00:00, 297.51it/s]\n"
     ]
    },
    {
     "name": "stdout",
     "output_type": "stream",
     "text": [
      "Best metric achieved.\n",
      "Epoch: 19 | Train Loss:  0.028 | Val Loss:  0.026\n"
     ]
    },
    {
     "name": "stderr",
     "output_type": "stream",
     "text": [
      "100%|██████████| 1616/1616 [00:11<00:00, 146.05it/s]\n",
      "100%|██████████| 76/76 [00:00<00:00, 270.66it/s]\n"
     ]
    },
    {
     "name": "stdout",
     "output_type": "stream",
     "text": [
      "Best metric achieved.\n",
      "Epoch: 20 | Train Loss:  0.028 | Val Loss:  0.026\n"
     ]
    },
    {
     "name": "stderr",
     "output_type": "stream",
     "text": [
      "100%|██████████| 1616/1616 [00:11<00:00, 139.39it/s]\n",
      "100%|██████████| 76/76 [00:00<00:00, 256.35it/s]\n"
     ]
    },
    {
     "name": "stdout",
     "output_type": "stream",
     "text": [
      "Best metric achieved.\n",
      "Epoch: 21 | Train Loss:  0.028 | Val Loss:  0.026\n"
     ]
    },
    {
     "name": "stderr",
     "output_type": "stream",
     "text": [
      "100%|██████████| 1616/1616 [00:12<00:00, 131.34it/s]\n",
      "100%|██████████| 76/76 [00:00<00:00, 255.26it/s]\n"
     ]
    },
    {
     "name": "stdout",
     "output_type": "stream",
     "text": [
      "Best metric achieved.\n",
      "Epoch: 22 | Train Loss:  0.028 | Val Loss:  0.026\n"
     ]
    },
    {
     "name": "stderr",
     "output_type": "stream",
     "text": [
      "100%|██████████| 1616/1616 [00:11<00:00, 138.45it/s]\n",
      "100%|██████████| 76/76 [00:00<00:00, 292.91it/s]\n"
     ]
    },
    {
     "name": "stdout",
     "output_type": "stream",
     "text": [
      "Best metric achieved.\n",
      "Epoch: 23 | Train Loss:  0.028 | Val Loss:  0.026\n"
     ]
    },
    {
     "name": "stderr",
     "output_type": "stream",
     "text": [
      "100%|██████████| 1616/1616 [00:11<00:00, 138.92it/s]\n",
      "100%|██████████| 76/76 [00:00<00:00, 294.21it/s]\n"
     ]
    },
    {
     "name": "stdout",
     "output_type": "stream",
     "text": [
      "Best metric achieved.\n",
      "Epoch: 24 | Train Loss:  0.028 | Val Loss:  0.026\n"
     ]
    },
    {
     "name": "stderr",
     "output_type": "stream",
     "text": [
      "100%|██████████| 1616/1616 [00:11<00:00, 139.94it/s]\n",
      "100%|██████████| 76/76 [00:00<00:00, 293.30it/s]\n"
     ]
    },
    {
     "name": "stdout",
     "output_type": "stream",
     "text": [
      "Best metric achieved.\n",
      "Epoch: 25 | Train Loss:  0.028 | Val Loss:  0.026\n"
     ]
    },
    {
     "name": "stderr",
     "output_type": "stream",
     "text": [
      "100%|██████████| 1616/1616 [00:11<00:00, 141.54it/s]\n",
      "100%|██████████| 76/76 [00:00<00:00, 295.55it/s]\n"
     ]
    },
    {
     "name": "stdout",
     "output_type": "stream",
     "text": [
      "Best metric achieved.\n",
      "Epoch: 26 | Train Loss:  0.027 | Val Loss:  0.026\n"
     ]
    },
    {
     "name": "stderr",
     "output_type": "stream",
     "text": [
      "100%|██████████| 1616/1616 [00:11<00:00, 141.88it/s]\n",
      "100%|██████████| 76/76 [00:00<00:00, 296.06it/s]\n"
     ]
    },
    {
     "name": "stdout",
     "output_type": "stream",
     "text": [
      "Best metric achieved.\n",
      "Epoch: 27 | Train Loss:  0.027 | Val Loss:  0.026\n"
     ]
    },
    {
     "name": "stderr",
     "output_type": "stream",
     "text": [
      "100%|██████████| 1616/1616 [00:11<00:00, 136.09it/s]\n",
      "100%|██████████| 76/76 [00:00<00:00, 297.07it/s]\n"
     ]
    },
    {
     "name": "stdout",
     "output_type": "stream",
     "text": [
      "Best metric achieved.\n",
      "Epoch: 28 | Train Loss:  0.027 | Val Loss:  0.026\n"
     ]
    },
    {
     "name": "stderr",
     "output_type": "stream",
     "text": [
      "100%|██████████| 1616/1616 [00:11<00:00, 143.47it/s]\n",
      "100%|██████████| 76/76 [00:00<00:00, 294.49it/s]\n"
     ]
    },
    {
     "name": "stdout",
     "output_type": "stream",
     "text": [
      "Best metric achieved.\n",
      "Epoch: 29 | Train Loss:  0.027 | Val Loss:  0.026\n"
     ]
    },
    {
     "name": "stderr",
     "output_type": "stream",
     "text": [
      "100%|██████████| 1616/1616 [00:11<00:00, 138.66it/s]\n",
      "100%|██████████| 76/76 [00:00<00:00, 297.54it/s]\n"
     ]
    },
    {
     "name": "stdout",
     "output_type": "stream",
     "text": [
      "Best metric achieved.\n",
      "Epoch: 30 | Train Loss:  0.027 | Val Loss:  0.026\n"
     ]
    },
    {
     "name": "stderr",
     "output_type": "stream",
     "text": [
      "100%|██████████| 1616/1616 [00:11<00:00, 138.21it/s]\n",
      "100%|██████████| 76/76 [00:00<00:00, 293.18it/s]\n"
     ]
    },
    {
     "name": "stdout",
     "output_type": "stream",
     "text": [
      "Best metric achieved.\n",
      "Epoch: 31 | Train Loss:  0.027 | Val Loss:  0.026\n"
     ]
    },
    {
     "name": "stderr",
     "output_type": "stream",
     "text": [
      "100%|██████████| 1616/1616 [00:11<00:00, 138.11it/s]\n",
      "100%|██████████| 76/76 [00:00<00:00, 207.79it/s]\n"
     ]
    },
    {
     "name": "stdout",
     "output_type": "stream",
     "text": [
      "Best metric achieved.\n",
      "Epoch: 32 | Train Loss:  0.027 | Val Loss:  0.026\n"
     ]
    },
    {
     "name": "stderr",
     "output_type": "stream",
     "text": [
      "100%|██████████| 1616/1616 [00:11<00:00, 140.37it/s]\n",
      "100%|██████████| 76/76 [00:00<00:00, 294.47it/s]\n"
     ]
    },
    {
     "name": "stdout",
     "output_type": "stream",
     "text": [
      "Best metric achieved.\n",
      "Epoch: 33 | Train Loss:  0.027 | Val Loss:  0.026\n"
     ]
    },
    {
     "name": "stderr",
     "output_type": "stream",
     "text": [
      "100%|██████████| 1616/1616 [00:11<00:00, 141.68it/s]\n",
      "100%|██████████| 76/76 [00:00<00:00, 295.76it/s]\n"
     ]
    },
    {
     "name": "stdout",
     "output_type": "stream",
     "text": [
      "Best metric achieved.\n",
      "Epoch: 34 | Train Loss:  0.027 | Val Loss:  0.026\n"
     ]
    },
    {
     "name": "stderr",
     "output_type": "stream",
     "text": [
      "100%|██████████| 1616/1616 [00:11<00:00, 140.09it/s]\n",
      "100%|██████████| 76/76 [00:00<00:00, 291.43it/s]\n"
     ]
    },
    {
     "name": "stdout",
     "output_type": "stream",
     "text": [
      "Best metric achieved.\n",
      "Epoch: 35 | Train Loss:  0.027 | Val Loss:  0.026\n"
     ]
    },
    {
     "name": "stderr",
     "output_type": "stream",
     "text": [
      "100%|██████████| 1616/1616 [00:11<00:00, 141.77it/s]\n",
      "100%|██████████| 76/76 [00:00<00:00, 294.57it/s]\n"
     ]
    },
    {
     "name": "stdout",
     "output_type": "stream",
     "text": [
      "Best metric achieved.\n",
      "Epoch: 36 | Train Loss:  0.027 | Val Loss:  0.026\n"
     ]
    },
    {
     "name": "stderr",
     "output_type": "stream",
     "text": [
      "100%|██████████| 1616/1616 [00:11<00:00, 142.66it/s]\n",
      "100%|██████████| 76/76 [00:00<00:00, 297.29it/s]\n"
     ]
    },
    {
     "name": "stdout",
     "output_type": "stream",
     "text": [
      "Best metric achieved.\n",
      "Epoch: 37 | Train Loss:  0.027 | Val Loss:  0.026\n"
     ]
    },
    {
     "name": "stderr",
     "output_type": "stream",
     "text": [
      "100%|██████████| 1616/1616 [00:11<00:00, 137.85it/s]\n",
      "100%|██████████| 76/76 [00:00<00:00, 294.50it/s]\n"
     ]
    },
    {
     "name": "stdout",
     "output_type": "stream",
     "text": [
      "Best metric achieved.\n",
      "Epoch: 38 | Train Loss:  0.027 | Val Loss:  0.026\n"
     ]
    },
    {
     "name": "stderr",
     "output_type": "stream",
     "text": [
      "100%|██████████| 1616/1616 [00:11<00:00, 136.71it/s]\n",
      "100%|██████████| 76/76 [00:00<00:00, 296.50it/s]\n"
     ]
    },
    {
     "name": "stdout",
     "output_type": "stream",
     "text": [
      "Best metric achieved.\n",
      "Epoch: 39 | Train Loss:  0.027 | Val Loss:  0.026\n"
     ]
    },
    {
     "name": "stderr",
     "output_type": "stream",
     "text": [
      "100%|██████████| 1616/1616 [00:12<00:00, 134.59it/s]\n",
      "100%|██████████| 76/76 [00:00<00:00, 293.78it/s]\n"
     ]
    },
    {
     "name": "stdout",
     "output_type": "stream",
     "text": [
      "Best metric achieved.\n",
      "Epoch: 40 | Train Loss:  0.027 | Val Loss:  0.026\n"
     ]
    },
    {
     "name": "stderr",
     "output_type": "stream",
     "text": [
      "100%|██████████| 1616/1616 [00:11<00:00, 138.40it/s]\n",
      "100%|██████████| 76/76 [00:00<00:00, 294.39it/s]\n"
     ]
    },
    {
     "name": "stdout",
     "output_type": "stream",
     "text": [
      "Best metric achieved.\n",
      "Epoch: 41 | Train Loss:  0.027 | Val Loss:  0.026\n"
     ]
    },
    {
     "name": "stderr",
     "output_type": "stream",
     "text": [
      "100%|██████████| 1616/1616 [00:11<00:00, 142.72it/s]\n",
      "100%|██████████| 76/76 [00:00<00:00, 294.22it/s]\n"
     ]
    },
    {
     "name": "stdout",
     "output_type": "stream",
     "text": [
      "Best metric achieved.\n",
      "Epoch: 42 | Train Loss:  0.027 | Val Loss:  0.026\n"
     ]
    },
    {
     "name": "stderr",
     "output_type": "stream",
     "text": [
      "100%|██████████| 1616/1616 [00:11<00:00, 141.66it/s]\n",
      "100%|██████████| 76/76 [00:00<00:00, 195.37it/s]\n"
     ]
    },
    {
     "name": "stdout",
     "output_type": "stream",
     "text": [
      "Best metric achieved.\n",
      "Epoch: 43 | Train Loss:  0.027 | Val Loss:  0.026\n"
     ]
    },
    {
     "name": "stderr",
     "output_type": "stream",
     "text": [
      "100%|██████████| 1616/1616 [00:11<00:00, 138.88it/s]\n",
      "100%|██████████| 76/76 [00:00<00:00, 295.27it/s]\n"
     ]
    },
    {
     "name": "stdout",
     "output_type": "stream",
     "text": [
      "Best metric achieved.\n",
      "Epoch: 44 | Train Loss:  0.027 | Val Loss:  0.026\n"
     ]
    },
    {
     "name": "stderr",
     "output_type": "stream",
     "text": [
      "100%|██████████| 1616/1616 [00:11<00:00, 142.49it/s]\n",
      "100%|██████████| 76/76 [00:00<00:00, 295.68it/s]\n"
     ]
    },
    {
     "name": "stdout",
     "output_type": "stream",
     "text": [
      "Best metric achieved.\n",
      "Epoch: 45 | Train Loss:  0.027 | Val Loss:  0.026\n"
     ]
    },
    {
     "name": "stderr",
     "output_type": "stream",
     "text": [
      "100%|██████████| 1616/1616 [00:11<00:00, 141.12it/s]\n",
      "100%|██████████| 76/76 [00:00<00:00, 294.24it/s]\n"
     ]
    },
    {
     "name": "stdout",
     "output_type": "stream",
     "text": [
      "Best metric achieved.\n",
      "Epoch: 46 | Train Loss:  0.027 | Val Loss:  0.026\n"
     ]
    },
    {
     "name": "stderr",
     "output_type": "stream",
     "text": [
      "100%|██████████| 1616/1616 [00:11<00:00, 139.94it/s]\n",
      "100%|██████████| 76/76 [00:00<00:00, 296.03it/s]\n"
     ]
    },
    {
     "name": "stdout",
     "output_type": "stream",
     "text": [
      "Best metric achieved.\n",
      "Epoch: 47 | Train Loss:  0.027 | Val Loss:  0.026\n"
     ]
    },
    {
     "name": "stderr",
     "output_type": "stream",
     "text": [
      "100%|██████████| 1616/1616 [00:11<00:00, 139.11it/s]\n",
      "100%|██████████| 76/76 [00:00<00:00, 295.41it/s]\n"
     ]
    },
    {
     "name": "stdout",
     "output_type": "stream",
     "text": [
      "Best metric achieved.\n",
      "Epoch: 48 | Train Loss:  0.027 | Val Loss:  0.026\n"
     ]
    },
    {
     "name": "stderr",
     "output_type": "stream",
     "text": [
      "100%|██████████| 1616/1616 [00:11<00:00, 135.43it/s]\n",
      "100%|██████████| 76/76 [00:00<00:00, 250.26it/s]\n"
     ]
    },
    {
     "name": "stdout",
     "output_type": "stream",
     "text": [
      "Best metric achieved.\n",
      "Epoch: 49 | Train Loss:  0.027 | Val Loss:  0.026\n"
     ]
    },
    {
     "name": "stderr",
     "output_type": "stream",
     "text": [
      "100%|██████████| 1616/1616 [00:11<00:00, 139.96it/s]\n",
      "100%|██████████| 76/76 [00:00<00:00, 297.59it/s]\n"
     ]
    },
    {
     "name": "stdout",
     "output_type": "stream",
     "text": [
      "Best metric achieved.\n",
      "Epoch: 50 | Train Loss:  0.027 | Val Loss:  0.026\n"
     ]
    },
    {
     "name": "stderr",
     "output_type": "stream",
     "text": [
      "100%|██████████| 1616/1616 [00:11<00:00, 139.40it/s]\n",
      "100%|██████████| 76/76 [00:00<00:00, 294.92it/s]\n"
     ]
    },
    {
     "name": "stdout",
     "output_type": "stream",
     "text": [
      "Best metric achieved.\n",
      "Epoch: 51 | Train Loss:  0.027 | Val Loss:  0.026\n"
     ]
    },
    {
     "name": "stderr",
     "output_type": "stream",
     "text": [
      "100%|██████████| 1616/1616 [00:11<00:00, 136.65it/s]\n",
      "100%|██████████| 76/76 [00:00<00:00, 294.22it/s]\n"
     ]
    },
    {
     "name": "stdout",
     "output_type": "stream",
     "text": [
      "Best metric achieved.\n",
      "Epoch: 52 | Train Loss:  0.027 | Val Loss:  0.025\n"
     ]
    },
    {
     "name": "stderr",
     "output_type": "stream",
     "text": [
      "100%|██████████| 1616/1616 [00:11<00:00, 138.49it/s]\n",
      "100%|██████████| 76/76 [00:00<00:00, 295.48it/s]\n"
     ]
    },
    {
     "name": "stdout",
     "output_type": "stream",
     "text": [
      "Best metric achieved.\n",
      "Epoch: 53 | Train Loss:  0.027 | Val Loss:  0.025\n"
     ]
    },
    {
     "name": "stderr",
     "output_type": "stream",
     "text": [
      "100%|██████████| 1616/1616 [00:11<00:00, 142.90it/s]\n",
      "100%|██████████| 76/76 [00:00<00:00, 295.02it/s]\n"
     ]
    },
    {
     "name": "stdout",
     "output_type": "stream",
     "text": [
      "Best metric achieved.\n",
      "Epoch: 54 | Train Loss:  0.027 | Val Loss:  0.025\n"
     ]
    },
    {
     "name": "stderr",
     "output_type": "stream",
     "text": [
      "100%|██████████| 1616/1616 [00:11<00:00, 142.69it/s]\n",
      "100%|██████████| 76/76 [00:00<00:00, 296.24it/s]\n"
     ]
    },
    {
     "name": "stdout",
     "output_type": "stream",
     "text": [
      "Best metric achieved.\n",
      "Epoch: 55 | Train Loss:  0.027 | Val Loss:  0.025\n"
     ]
    },
    {
     "name": "stderr",
     "output_type": "stream",
     "text": [
      "100%|██████████| 1616/1616 [00:11<00:00, 144.82it/s]\n",
      "100%|██████████| 76/76 [00:00<00:00, 294.51it/s]\n"
     ]
    },
    {
     "name": "stdout",
     "output_type": "stream",
     "text": [
      "Best metric achieved.\n",
      "Epoch: 56 | Train Loss:  0.027 | Val Loss:  0.025\n"
     ]
    },
    {
     "name": "stderr",
     "output_type": "stream",
     "text": [
      "100%|██████████| 1616/1616 [00:11<00:00, 136.78it/s]\n",
      "100%|██████████| 76/76 [00:00<00:00, 294.85it/s]\n"
     ]
    },
    {
     "name": "stdout",
     "output_type": "stream",
     "text": [
      "Best metric achieved.\n",
      "Epoch: 57 | Train Loss:  0.027 | Val Loss:  0.025\n"
     ]
    },
    {
     "name": "stderr",
     "output_type": "stream",
     "text": [
      "100%|██████████| 1616/1616 [00:12<00:00, 132.96it/s]\n",
      "100%|██████████| 76/76 [00:00<00:00, 269.19it/s]\n"
     ]
    },
    {
     "name": "stdout",
     "output_type": "stream",
     "text": [
      "Best metric achieved.\n",
      "Epoch: 58 | Train Loss:  0.027 | Val Loss:  0.025\n"
     ]
    },
    {
     "name": "stderr",
     "output_type": "stream",
     "text": [
      "100%|██████████| 1616/1616 [00:11<00:00, 143.60it/s]\n",
      "100%|██████████| 76/76 [00:00<00:00, 296.69it/s]\n"
     ]
    },
    {
     "name": "stdout",
     "output_type": "stream",
     "text": [
      "Best metric achieved.\n",
      "Epoch: 59 | Train Loss:  0.027 | Val Loss:  0.025\n"
     ]
    },
    {
     "name": "stderr",
     "output_type": "stream",
     "text": [
      "100%|██████████| 1616/1616 [00:11<00:00, 140.47it/s]\n",
      "100%|██████████| 76/76 [00:00<00:00, 290.18it/s]\n"
     ]
    },
    {
     "name": "stdout",
     "output_type": "stream",
     "text": [
      "Best metric achieved.\n",
      "Epoch: 60 | Train Loss:  0.027 | Val Loss:  0.025\n"
     ]
    },
    {
     "name": "stderr",
     "output_type": "stream",
     "text": [
      "100%|██████████| 1616/1616 [00:11<00:00, 142.73it/s]\n",
      "100%|██████████| 76/76 [00:00<00:00, 293.29it/s]\n"
     ]
    },
    {
     "name": "stdout",
     "output_type": "stream",
     "text": [
      "Best metric achieved.\n",
      "Epoch: 61 | Train Loss:  0.027 | Val Loss:  0.025\n"
     ]
    },
    {
     "name": "stderr",
     "output_type": "stream",
     "text": [
      "100%|██████████| 1616/1616 [00:11<00:00, 135.12it/s]\n",
      "100%|██████████| 76/76 [00:00<00:00, 297.94it/s]\n"
     ]
    },
    {
     "name": "stdout",
     "output_type": "stream",
     "text": [
      "Best metric achieved.\n",
      "Epoch: 62 | Train Loss:  0.027 | Val Loss:  0.025\n"
     ]
    },
    {
     "name": "stderr",
     "output_type": "stream",
     "text": [
      "100%|██████████| 1616/1616 [00:11<00:00, 145.09it/s]\n",
      "100%|██████████| 76/76 [00:00<00:00, 297.02it/s]\n"
     ]
    },
    {
     "name": "stdout",
     "output_type": "stream",
     "text": [
      "Best metric achieved.\n",
      "Epoch: 63 | Train Loss:  0.027 | Val Loss:  0.025\n"
     ]
    },
    {
     "name": "stderr",
     "output_type": "stream",
     "text": [
      "100%|██████████| 1616/1616 [00:11<00:00, 140.52it/s]\n",
      "100%|██████████| 76/76 [00:00<00:00, 251.90it/s]\n"
     ]
    },
    {
     "name": "stdout",
     "output_type": "stream",
     "text": [
      "Best metric achieved.\n",
      "Epoch: 64 | Train Loss:  0.027 | Val Loss:  0.025\n"
     ]
    },
    {
     "name": "stderr",
     "output_type": "stream",
     "text": [
      "100%|██████████| 1616/1616 [00:11<00:00, 139.03it/s]\n",
      "100%|██████████| 76/76 [00:00<00:00, 294.90it/s]\n"
     ]
    },
    {
     "name": "stdout",
     "output_type": "stream",
     "text": [
      "Best metric achieved.\n",
      "Epoch: 65 | Train Loss:  0.027 | Val Loss:  0.025\n"
     ]
    },
    {
     "name": "stderr",
     "output_type": "stream",
     "text": [
      "100%|██████████| 1616/1616 [00:11<00:00, 137.59it/s]\n",
      "100%|██████████| 76/76 [00:00<00:00, 295.12it/s]\n"
     ]
    },
    {
     "name": "stdout",
     "output_type": "stream",
     "text": [
      "Best metric achieved.\n",
      "Epoch: 66 | Train Loss:  0.027 | Val Loss:  0.025\n"
     ]
    },
    {
     "name": "stderr",
     "output_type": "stream",
     "text": [
      "100%|██████████| 1616/1616 [00:11<00:00, 142.13it/s]\n",
      "100%|██████████| 76/76 [00:00<00:00, 295.82it/s]\n"
     ]
    },
    {
     "name": "stdout",
     "output_type": "stream",
     "text": [
      "Best metric achieved.\n",
      "Epoch: 67 | Train Loss:  0.027 | Val Loss:  0.025\n"
     ]
    },
    {
     "name": "stderr",
     "output_type": "stream",
     "text": [
      "100%|██████████| 1616/1616 [00:11<00:00, 142.06it/s]\n",
      "100%|██████████| 76/76 [00:00<00:00, 295.98it/s]\n"
     ]
    },
    {
     "name": "stdout",
     "output_type": "stream",
     "text": [
      "Best metric achieved.\n",
      "Epoch: 68 | Train Loss:  0.027 | Val Loss:  0.025\n"
     ]
    },
    {
     "name": "stderr",
     "output_type": "stream",
     "text": [
      "100%|██████████| 1616/1616 [00:11<00:00, 136.91it/s]\n",
      "100%|██████████| 76/76 [00:00<00:00, 295.62it/s]\n"
     ]
    },
    {
     "name": "stdout",
     "output_type": "stream",
     "text": [
      "Best metric achieved.\n",
      "Epoch: 69 | Train Loss:  0.027 | Val Loss:  0.025\n"
     ]
    },
    {
     "name": "stderr",
     "output_type": "stream",
     "text": [
      "100%|██████████| 1616/1616 [00:11<00:00, 141.67it/s]\n",
      "100%|██████████| 76/76 [00:00<00:00, 297.45it/s]\n"
     ]
    },
    {
     "name": "stdout",
     "output_type": "stream",
     "text": [
      "Best metric achieved.\n",
      "Epoch: 70 | Train Loss:  0.026 | Val Loss:  0.025\n"
     ]
    },
    {
     "name": "stderr",
     "output_type": "stream",
     "text": [
      "100%|██████████| 1616/1616 [00:11<00:00, 145.67it/s]\n",
      "100%|██████████| 76/76 [00:00<00:00, 294.81it/s]\n"
     ]
    },
    {
     "name": "stdout",
     "output_type": "stream",
     "text": [
      "Best metric achieved.\n",
      "Epoch: 71 | Train Loss:  0.026 | Val Loss:  0.025\n"
     ]
    },
    {
     "name": "stderr",
     "output_type": "stream",
     "text": [
      "100%|██████████| 1616/1616 [00:11<00:00, 141.31it/s]\n",
      "100%|██████████| 76/76 [00:00<00:00, 297.51it/s]\n"
     ]
    },
    {
     "name": "stdout",
     "output_type": "stream",
     "text": [
      "Best metric achieved.\n",
      "Epoch: 72 | Train Loss:  0.026 | Val Loss:  0.025\n"
     ]
    },
    {
     "name": "stderr",
     "output_type": "stream",
     "text": [
      "100%|██████████| 1616/1616 [00:11<00:00, 139.58it/s]\n",
      "100%|██████████| 76/76 [00:00<00:00, 294.90it/s]\n"
     ]
    },
    {
     "name": "stdout",
     "output_type": "stream",
     "text": [
      "Best metric achieved.\n",
      "Epoch: 73 | Train Loss:  0.026 | Val Loss:  0.025\n"
     ]
    },
    {
     "name": "stderr",
     "output_type": "stream",
     "text": [
      "100%|██████████| 1616/1616 [00:11<00:00, 144.80it/s]\n",
      "100%|██████████| 76/76 [00:00<00:00, 296.12it/s]\n"
     ]
    },
    {
     "name": "stdout",
     "output_type": "stream",
     "text": [
      "Best metric achieved.\n",
      "Epoch: 74 | Train Loss:  0.026 | Val Loss:  0.025\n"
     ]
    },
    {
     "name": "stderr",
     "output_type": "stream",
     "text": [
      "100%|██████████| 1616/1616 [00:11<00:00, 145.81it/s]\n",
      "100%|██████████| 76/76 [00:00<00:00, 295.77it/s]\n"
     ]
    },
    {
     "name": "stdout",
     "output_type": "stream",
     "text": [
      "Best metric achieved.\n",
      "Epoch: 75 | Train Loss:  0.026 | Val Loss:  0.025\n"
     ]
    },
    {
     "name": "stderr",
     "output_type": "stream",
     "text": [
      "100%|██████████| 1616/1616 [00:11<00:00, 138.43it/s]\n",
      "100%|██████████| 76/76 [00:00<00:00, 296.35it/s]\n"
     ]
    },
    {
     "name": "stdout",
     "output_type": "stream",
     "text": [
      "Best metric achieved.\n",
      "Epoch: 76 | Train Loss:  0.026 | Val Loss:  0.025\n"
     ]
    },
    {
     "name": "stderr",
     "output_type": "stream",
     "text": [
      "100%|██████████| 1616/1616 [00:11<00:00, 140.85it/s]\n",
      "100%|██████████| 76/76 [00:00<00:00, 293.62it/s]\n"
     ]
    },
    {
     "name": "stdout",
     "output_type": "stream",
     "text": [
      "Best metric achieved.\n",
      "Epoch: 77 | Train Loss:  0.026 | Val Loss:  0.025\n"
     ]
    },
    {
     "name": "stderr",
     "output_type": "stream",
     "text": [
      "100%|██████████| 1616/1616 [00:11<00:00, 140.51it/s]\n",
      "100%|██████████| 76/76 [00:00<00:00, 295.96it/s]\n"
     ]
    },
    {
     "name": "stdout",
     "output_type": "stream",
     "text": [
      "Best metric achieved.\n",
      "Epoch: 78 | Train Loss:  0.026 | Val Loss:  0.025\n"
     ]
    },
    {
     "name": "stderr",
     "output_type": "stream",
     "text": [
      "100%|██████████| 1616/1616 [00:11<00:00, 138.79it/s]\n",
      "100%|██████████| 76/76 [00:00<00:00, 296.80it/s]\n"
     ]
    },
    {
     "name": "stdout",
     "output_type": "stream",
     "text": [
      "Best metric achieved.\n",
      "Epoch: 79 | Train Loss:  0.026 | Val Loss:  0.025\n"
     ]
    },
    {
     "name": "stderr",
     "output_type": "stream",
     "text": [
      "100%|██████████| 1616/1616 [00:11<00:00, 136.02it/s]\n",
      "100%|██████████| 76/76 [00:00<00:00, 295.16it/s]\n"
     ]
    },
    {
     "name": "stdout",
     "output_type": "stream",
     "text": [
      "Best metric achieved.\n",
      "Epoch: 80 | Train Loss:  0.026 | Val Loss:  0.025\n"
     ]
    },
    {
     "name": "stderr",
     "output_type": "stream",
     "text": [
      "100%|██████████| 1616/1616 [00:12<00:00, 131.04it/s]\n",
      "100%|██████████| 76/76 [00:00<00:00, 294.60it/s]\n"
     ]
    },
    {
     "name": "stdout",
     "output_type": "stream",
     "text": [
      "Best metric achieved.\n",
      "Epoch: 81 | Train Loss:  0.026 | Val Loss:  0.025\n"
     ]
    },
    {
     "name": "stderr",
     "output_type": "stream",
     "text": [
      "100%|██████████| 1616/1616 [00:11<00:00, 139.86it/s]\n",
      "100%|██████████| 76/76 [00:00<00:00, 268.63it/s]\n"
     ]
    },
    {
     "name": "stdout",
     "output_type": "stream",
     "text": [
      "Best metric achieved.\n",
      "Epoch: 82 | Train Loss:  0.026 | Val Loss:  0.025\n"
     ]
    },
    {
     "name": "stderr",
     "output_type": "stream",
     "text": [
      "100%|██████████| 1616/1616 [00:11<00:00, 139.88it/s]\n",
      "100%|██████████| 76/76 [00:00<00:00, 265.85it/s]\n"
     ]
    },
    {
     "name": "stdout",
     "output_type": "stream",
     "text": [
      "Best metric achieved.\n",
      "Epoch: 83 | Train Loss:  0.026 | Val Loss:  0.025\n"
     ]
    },
    {
     "name": "stderr",
     "output_type": "stream",
     "text": [
      "100%|██████████| 1616/1616 [00:11<00:00, 146.64it/s]\n",
      "100%|██████████| 76/76 [00:00<00:00, 252.69it/s]\n"
     ]
    },
    {
     "name": "stdout",
     "output_type": "stream",
     "text": [
      "Best metric achieved.\n",
      "Epoch: 84 | Train Loss:  0.026 | Val Loss:  0.025\n"
     ]
    },
    {
     "name": "stderr",
     "output_type": "stream",
     "text": [
      "100%|██████████| 1616/1616 [00:11<00:00, 143.35it/s]\n",
      "100%|██████████| 76/76 [00:00<00:00, 252.22it/s]\n"
     ]
    },
    {
     "name": "stdout",
     "output_type": "stream",
     "text": [
      "Best metric achieved.\n",
      "Epoch: 85 | Train Loss:  0.026 | Val Loss:  0.025\n"
     ]
    },
    {
     "name": "stderr",
     "output_type": "stream",
     "text": [
      "100%|██████████| 1616/1616 [00:11<00:00, 143.24it/s]\n",
      "100%|██████████| 76/76 [00:00<00:00, 294.07it/s]\n"
     ]
    },
    {
     "name": "stdout",
     "output_type": "stream",
     "text": [
      "Best metric achieved.\n",
      "Epoch: 86 | Train Loss:  0.026 | Val Loss:  0.025\n"
     ]
    },
    {
     "name": "stderr",
     "output_type": "stream",
     "text": [
      "100%|██████████| 1616/1616 [00:11<00:00, 141.07it/s]\n",
      "100%|██████████| 76/76 [00:00<00:00, 292.34it/s]\n"
     ]
    },
    {
     "name": "stdout",
     "output_type": "stream",
     "text": [
      "Best metric achieved.\n",
      "Epoch: 87 | Train Loss:  0.026 | Val Loss:  0.025\n"
     ]
    },
    {
     "name": "stderr",
     "output_type": "stream",
     "text": [
      "100%|██████████| 1616/1616 [00:11<00:00, 136.47it/s]\n",
      "100%|██████████| 76/76 [00:00<00:00, 296.16it/s]\n"
     ]
    },
    {
     "name": "stdout",
     "output_type": "stream",
     "text": [
      "Best metric achieved.\n",
      "Epoch: 88 | Train Loss:  0.026 | Val Loss:  0.025\n"
     ]
    },
    {
     "name": "stderr",
     "output_type": "stream",
     "text": [
      "100%|██████████| 1616/1616 [00:11<00:00, 141.98it/s]\n",
      "100%|██████████| 76/76 [00:00<00:00, 295.23it/s]\n"
     ]
    },
    {
     "name": "stdout",
     "output_type": "stream",
     "text": [
      "Best metric achieved.\n",
      "Epoch: 89 | Train Loss:  0.026 | Val Loss:  0.025\n"
     ]
    },
    {
     "name": "stderr",
     "output_type": "stream",
     "text": [
      "100%|██████████| 1616/1616 [00:11<00:00, 141.34it/s]\n",
      "100%|██████████| 76/76 [00:00<00:00, 296.09it/s]\n"
     ]
    },
    {
     "name": "stdout",
     "output_type": "stream",
     "text": [
      "Best metric achieved.\n",
      "Epoch: 90 | Train Loss:  0.026 | Val Loss:  0.025\n"
     ]
    },
    {
     "name": "stderr",
     "output_type": "stream",
     "text": [
      "100%|██████████| 1616/1616 [00:11<00:00, 138.66it/s]\n",
      "100%|██████████| 76/76 [00:00<00:00, 293.98it/s]\n"
     ]
    },
    {
     "name": "stdout",
     "output_type": "stream",
     "text": [
      "Best metric achieved.\n",
      "Epoch: 91 | Train Loss:  0.026 | Val Loss:  0.025\n"
     ]
    },
    {
     "name": "stderr",
     "output_type": "stream",
     "text": [
      "100%|██████████| 1616/1616 [00:11<00:00, 141.22it/s]\n",
      "100%|██████████| 76/76 [00:00<00:00, 292.79it/s]\n"
     ]
    },
    {
     "name": "stdout",
     "output_type": "stream",
     "text": [
      "Best metric achieved.\n",
      "Epoch: 92 | Train Loss:  0.026 | Val Loss:  0.025\n"
     ]
    },
    {
     "name": "stderr",
     "output_type": "stream",
     "text": [
      "100%|██████████| 1616/1616 [00:11<00:00, 136.06it/s]\n",
      "100%|██████████| 76/76 [00:00<00:00, 266.47it/s]\n"
     ]
    },
    {
     "name": "stdout",
     "output_type": "stream",
     "text": [
      "Best metric achieved.\n",
      "Epoch: 93 | Train Loss:  0.026 | Val Loss:  0.025\n"
     ]
    },
    {
     "name": "stderr",
     "output_type": "stream",
     "text": [
      "100%|██████████| 1616/1616 [00:12<00:00, 133.60it/s]\n",
      "100%|██████████| 76/76 [00:00<00:00, 296.51it/s]\n"
     ]
    },
    {
     "name": "stdout",
     "output_type": "stream",
     "text": [
      "Best metric achieved.\n",
      "Epoch: 94 | Train Loss:  0.026 | Val Loss:  0.025\n"
     ]
    },
    {
     "name": "stderr",
     "output_type": "stream",
     "text": [
      "100%|██████████| 1616/1616 [00:12<00:00, 134.31it/s]\n",
      "100%|██████████| 76/76 [00:00<00:00, 296.59it/s]\n"
     ]
    },
    {
     "name": "stdout",
     "output_type": "stream",
     "text": [
      "Best metric achieved.\n",
      "Epoch: 95 | Train Loss:  0.026 | Val Loss:  0.025\n"
     ]
    },
    {
     "name": "stderr",
     "output_type": "stream",
     "text": [
      "100%|██████████| 1616/1616 [00:11<00:00, 136.31it/s]\n",
      "100%|██████████| 76/76 [00:00<00:00, 274.38it/s]\n"
     ]
    },
    {
     "name": "stdout",
     "output_type": "stream",
     "text": [
      "Best metric achieved.\n",
      "Epoch: 96 | Train Loss:  0.026 | Val Loss:  0.025\n"
     ]
    },
    {
     "name": "stderr",
     "output_type": "stream",
     "text": [
      "100%|██████████| 1616/1616 [00:11<00:00, 140.17it/s]\n",
      "100%|██████████| 76/76 [00:00<00:00, 292.83it/s]\n"
     ]
    },
    {
     "name": "stdout",
     "output_type": "stream",
     "text": [
      "Best metric achieved.\n",
      "Epoch: 97 | Train Loss:  0.026 | Val Loss:  0.025\n"
     ]
    },
    {
     "name": "stderr",
     "output_type": "stream",
     "text": [
      "100%|██████████| 1616/1616 [00:11<00:00, 139.44it/s]\n",
      "100%|██████████| 76/76 [00:00<00:00, 294.21it/s]\n"
     ]
    },
    {
     "name": "stdout",
     "output_type": "stream",
     "text": [
      "Best metric achieved.\n",
      "Epoch: 98 | Train Loss:  0.026 | Val Loss:  0.025\n"
     ]
    },
    {
     "name": "stderr",
     "output_type": "stream",
     "text": [
      "100%|██████████| 1616/1616 [00:11<00:00, 140.11it/s]\n",
      "100%|██████████| 76/76 [00:00<00:00, 295.32it/s]\n"
     ]
    },
    {
     "name": "stdout",
     "output_type": "stream",
     "text": [
      "Best metric achieved.\n",
      "Epoch: 99 | Train Loss:  0.026 | Val Loss:  0.025\n"
     ]
    },
    {
     "name": "stderr",
     "output_type": "stream",
     "text": [
      "100%|██████████| 1616/1616 [00:11<00:00, 139.79it/s]\n",
      "100%|██████████| 76/76 [00:00<00:00, 294.77it/s]"
     ]
    },
    {
     "name": "stdout",
     "output_type": "stream",
     "text": [
      "Best metric achieved.\n",
      "Epoch: 100 | Train Loss:  0.026 | Val Loss:  0.025\n"
     ]
    },
    {
     "name": "stderr",
     "output_type": "stream",
     "text": [
      "\n"
     ]
    }
   ],
   "source": [
    "my_model_cnn2 = SCSAE(latent_n = 48, dec=2).to(DEVICE)\n",
    "cnn_test2 = train_loop('MSE', BATCH_SIZE, 'constant', 1e-3, 'Adam', 0, 100, \n",
    "                      my_model_cnn2, '../../model_param/cnn_test_cern.pt', DEVICE, my_dataloader_cnn, my_dataloader_val_cnn)"
   ]
  },
  {
   "cell_type": "markdown",
   "id": "250bcf7d-09ba-4259-ad5b-0d6d5712975c",
   "metadata": {},
   "source": [
    "AE Test"
   ]
  },
  {
   "cell_type": "code",
   "execution_count": 107,
   "id": "c1cab7d1-911b-4777-b312-374cddda9ed7",
   "metadata": {},
   "outputs": [
    {
     "name": "stderr",
     "output_type": "stream",
     "text": [
      "100%|██████████| 4926/4926 [01:21<00:00, 60.66it/s] \n",
      "100%|██████████| 4873/4873 [00:02<00:00, 2162.89it/s]\n"
     ]
    }
   ],
   "source": [
    "my_dataset_fc = CERN_Dataset_CNN(train=True, mode = 'fc', fc_days = 12)\n",
    "my_dataloader_fc = DataLoader(my_dataset_fc, batch_size = 128, shuffle = False)\n",
    "my_dataset_val_fc = CERN_Dataset_CNN(train=False, mode = 'fc', fc_days = 12)\n",
    "my_dataloader_val_fc = DataLoader(my_dataset_val_fc, batch_size = BATCH_SIZE, shuffle=False)"
   ]
  },
  {
   "cell_type": "code",
   "execution_count": 148,
   "id": "82ea2b40-59c8-4ffe-8414-45ca3c6f04ad",
   "metadata": {},
   "outputs": [
    {
     "name": "stderr",
     "output_type": "stream",
     "text": [
      "100%|██████████| 1616/1616 [00:08<00:00, 182.20it/s]\n",
      "100%|██████████| 76/76 [00:00<00:00, 590.67it/s]\n"
     ]
    },
    {
     "name": "stdout",
     "output_type": "stream",
     "text": [
      "Best metric achieved.\n",
      "Epoch: 1 | Train Loss:  0.116 | Val Loss:  0.074\n"
     ]
    },
    {
     "name": "stderr",
     "output_type": "stream",
     "text": [
      "100%|██████████| 1616/1616 [00:06<00:00, 252.87it/s]\n",
      "100%|██████████| 76/76 [00:00<00:00, 851.25it/s]\n"
     ]
    },
    {
     "name": "stdout",
     "output_type": "stream",
     "text": [
      "Best metric achieved.\n",
      "Epoch: 2 | Train Loss:  0.069 | Val Loss:  0.069\n"
     ]
    },
    {
     "name": "stderr",
     "output_type": "stream",
     "text": [
      "100%|██████████| 1616/1616 [00:06<00:00, 256.99it/s]\n",
      "100%|██████████| 76/76 [00:00<00:00, 896.64it/s]\n"
     ]
    },
    {
     "name": "stdout",
     "output_type": "stream",
     "text": [
      "Best metric achieved.\n",
      "Epoch: 3 | Train Loss:  0.067 | Val Loss:  0.068\n"
     ]
    },
    {
     "name": "stderr",
     "output_type": "stream",
     "text": [
      "100%|██████████| 1616/1616 [00:05<00:00, 294.90it/s]\n",
      "100%|██████████| 76/76 [00:00<00:00, 769.25it/s]\n"
     ]
    },
    {
     "name": "stdout",
     "output_type": "stream",
     "text": [
      "Best metric achieved.\n",
      "Epoch: 4 | Train Loss:  0.066 | Val Loss:  0.067\n"
     ]
    },
    {
     "name": "stderr",
     "output_type": "stream",
     "text": [
      "100%|██████████| 1616/1616 [00:05<00:00, 299.17it/s]\n",
      "100%|██████████| 76/76 [00:00<00:00, 921.15it/s]\n"
     ]
    },
    {
     "name": "stdout",
     "output_type": "stream",
     "text": [
      "Best metric achieved.\n",
      "Epoch: 5 | Train Loss:  0.065 | Val Loss:  0.066\n"
     ]
    },
    {
     "name": "stderr",
     "output_type": "stream",
     "text": [
      "100%|██████████| 1616/1616 [00:05<00:00, 297.20it/s]\n",
      "100%|██████████| 76/76 [00:00<00:00, 949.75it/s]\n"
     ]
    },
    {
     "name": "stdout",
     "output_type": "stream",
     "text": [
      "Best metric achieved.\n",
      "Epoch: 6 | Train Loss:  0.064 | Val Loss:  0.065\n"
     ]
    },
    {
     "name": "stderr",
     "output_type": "stream",
     "text": [
      "100%|██████████| 1616/1616 [00:05<00:00, 302.49it/s]\n",
      "100%|██████████| 76/76 [00:00<00:00, 893.50it/s]\n"
     ]
    },
    {
     "name": "stdout",
     "output_type": "stream",
     "text": [
      "Best metric achieved.\n",
      "Epoch: 7 | Train Loss:  0.062 | Val Loss:  0.064\n"
     ]
    },
    {
     "name": "stderr",
     "output_type": "stream",
     "text": [
      "100%|██████████| 1616/1616 [00:05<00:00, 297.27it/s]\n",
      "100%|██████████| 76/76 [00:00<00:00, 965.32it/s]\n"
     ]
    },
    {
     "name": "stdout",
     "output_type": "stream",
     "text": [
      "Best metric achieved.\n",
      "Epoch: 8 | Train Loss:  0.061 | Val Loss:  0.063\n"
     ]
    },
    {
     "name": "stderr",
     "output_type": "stream",
     "text": [
      "100%|██████████| 1616/1616 [00:05<00:00, 304.00it/s]\n",
      "100%|██████████| 76/76 [00:00<00:00, 923.21it/s]\n"
     ]
    },
    {
     "name": "stdout",
     "output_type": "stream",
     "text": [
      "Best metric achieved.\n",
      "Epoch: 9 | Train Loss:  0.060 | Val Loss:  0.062\n"
     ]
    },
    {
     "name": "stderr",
     "output_type": "stream",
     "text": [
      "100%|██████████| 1616/1616 [00:05<00:00, 300.85it/s]\n",
      "100%|██████████| 76/76 [00:00<00:00, 960.14it/s]\n"
     ]
    },
    {
     "name": "stdout",
     "output_type": "stream",
     "text": [
      "Best metric achieved.\n",
      "Epoch: 10 | Train Loss:  0.059 | Val Loss:  0.061\n"
     ]
    },
    {
     "name": "stderr",
     "output_type": "stream",
     "text": [
      "100%|██████████| 1616/1616 [00:06<00:00, 238.73it/s]\n",
      "100%|██████████| 76/76 [00:00<00:00, 959.66it/s]\n"
     ]
    },
    {
     "name": "stdout",
     "output_type": "stream",
     "text": [
      "Best metric achieved.\n",
      "Epoch: 11 | Train Loss:  0.058 | Val Loss:  0.060\n"
     ]
    },
    {
     "name": "stderr",
     "output_type": "stream",
     "text": [
      "100%|██████████| 1616/1616 [00:05<00:00, 296.02it/s]\n",
      "100%|██████████| 76/76 [00:00<00:00, 908.55it/s]\n"
     ]
    },
    {
     "name": "stdout",
     "output_type": "stream",
     "text": [
      "Best metric achieved.\n",
      "Epoch: 12 | Train Loss:  0.058 | Val Loss:  0.060\n"
     ]
    },
    {
     "name": "stderr",
     "output_type": "stream",
     "text": [
      "100%|██████████| 1616/1616 [00:06<00:00, 231.56it/s]\n",
      "100%|██████████| 76/76 [00:00<00:00, 945.61it/s]\n"
     ]
    },
    {
     "name": "stdout",
     "output_type": "stream",
     "text": [
      "Best metric achieved.\n",
      "Epoch: 13 | Train Loss:  0.057 | Val Loss:  0.059\n"
     ]
    },
    {
     "name": "stderr",
     "output_type": "stream",
     "text": [
      "100%|██████████| 1616/1616 [00:05<00:00, 298.11it/s]\n",
      "100%|██████████| 76/76 [00:00<00:00, 946.13it/s]\n"
     ]
    },
    {
     "name": "stdout",
     "output_type": "stream",
     "text": [
      "Best metric achieved.\n",
      "Epoch: 14 | Train Loss:  0.057 | Val Loss:  0.058\n"
     ]
    },
    {
     "name": "stderr",
     "output_type": "stream",
     "text": [
      "100%|██████████| 1616/1616 [00:05<00:00, 302.58it/s]\n",
      "100%|██████████| 76/76 [00:00<00:00, 950.35it/s]\n"
     ]
    },
    {
     "name": "stdout",
     "output_type": "stream",
     "text": [
      "Best metric achieved.\n",
      "Epoch: 15 | Train Loss:  0.055 | Val Loss:  0.056\n"
     ]
    },
    {
     "name": "stderr",
     "output_type": "stream",
     "text": [
      "100%|██████████| 1616/1616 [00:05<00:00, 304.95it/s]\n",
      "100%|██████████| 76/76 [00:00<00:00, 934.64it/s]\n"
     ]
    },
    {
     "name": "stdout",
     "output_type": "stream",
     "text": [
      "Best metric achieved.\n",
      "Epoch: 16 | Train Loss:  0.054 | Val Loss:  0.054\n"
     ]
    },
    {
     "name": "stderr",
     "output_type": "stream",
     "text": [
      "100%|██████████| 1616/1616 [00:05<00:00, 299.04it/s]\n",
      "100%|██████████| 76/76 [00:00<00:00, 961.67it/s]\n"
     ]
    },
    {
     "name": "stdout",
     "output_type": "stream",
     "text": [
      "Best metric achieved.\n",
      "Epoch: 17 | Train Loss:  0.053 | Val Loss:  0.053\n"
     ]
    },
    {
     "name": "stderr",
     "output_type": "stream",
     "text": [
      "100%|██████████| 1616/1616 [00:05<00:00, 305.78it/s]\n",
      "100%|██████████| 76/76 [00:00<00:00, 892.35it/s]\n"
     ]
    },
    {
     "name": "stdout",
     "output_type": "stream",
     "text": [
      "Best metric achieved.\n",
      "Epoch: 18 | Train Loss:  0.052 | Val Loss:  0.053\n"
     ]
    },
    {
     "name": "stderr",
     "output_type": "stream",
     "text": [
      "100%|██████████| 1616/1616 [00:05<00:00, 303.84it/s]\n",
      "100%|██████████| 76/76 [00:00<00:00, 997.43it/s]\n"
     ]
    },
    {
     "name": "stdout",
     "output_type": "stream",
     "text": [
      "Best metric achieved.\n",
      "Epoch: 19 | Train Loss:  0.052 | Val Loss:  0.053\n"
     ]
    },
    {
     "name": "stderr",
     "output_type": "stream",
     "text": [
      "100%|██████████| 1616/1616 [00:05<00:00, 304.92it/s]\n",
      "100%|██████████| 76/76 [00:00<00:00, 924.99it/s]"
     ]
    },
    {
     "name": "stdout",
     "output_type": "stream",
     "text": [
      "Best metric achieved.\n",
      "Epoch: 20 | Train Loss:  0.052 | Val Loss:  0.052\n"
     ]
    },
    {
     "name": "stderr",
     "output_type": "stream",
     "text": [
      "\n"
     ]
    }
   ],
   "source": [
    "my_model_fc = AE(latent_n = 48, input_days=12).to(DEVICE)\n",
    "fc_test = train_loop('MSE', BATCH_SIZE, 'constant', 1e-5, 'Adam', 0, 20,\n",
    "                     my_model_fc, '../../model_param/fc_test_cern.pt', DEVICE, my_dataloader_fc, my_dataloader_val_fc)"
   ]
  },
  {
   "cell_type": "markdown",
   "id": "a5c2f714-5f22-486e-9240-b5a3622d2dbf",
   "metadata": {},
   "source": [
    "Visualise both tests"
   ]
  },
  {
   "cell_type": "code",
   "execution_count": 140,
   "id": "85070776-96e5-4ae9-8218-f19157d5afc5",
   "metadata": {},
   "outputs": [
    {
     "data": {
      "image/png": "[encoded data removed]",
      "text/plain": [
       "<Figure size 432x288 with 1 Axes>"
      ]
     },
     "metadata": {
      "needs_background": "light"
     },
     "output_type": "display_data"
    }
   ],
   "source": [
    "df_cnn = pd.DataFrame.from_dict(cnn_test, orient='index')\n",
    "df_fc = pd.DataFrame.from_dict(fc_test, orient='index')\n",
    "df_hae = pd.DataFrame.from_dict(hae_test, orient='index')\n",
    "df_hae.join(df_cnn.join(df_fc, lsuffix = '_cnn', rsuffix='_fc')).rename({'train_loss': 'train_loss_hae', 'val_loss': 'val_loss_hae'}, axis=1).plot()\n",
    "plt.show()"
   ]
  },
  {
   "cell_type": "code",
   "execution_count": 154,
   "id": "b6445efd-3c3b-4513-88cd-adbd7912e3e7",
   "metadata": {},
   "outputs": [
    {
     "data": {
      "text/plain": [
       "<generator object Module.parameters at 0x7f0a97b462e0>"
      ]
     },
     "execution_count": 154,
     "metadata": {},
     "output_type": "execute_result"
    }
   ],
   "source": [
    "my_model_hae.encoder.parameters()"
   ]
  },
  {
   "cell_type": "code",
   "execution_count": 187,
   "id": "de2a9a8b-be01-4e10-b886-b76bb289d865",
   "metadata": {},
   "outputs": [
    {
     "data": {
      "text/plain": [
       "7104"
      ]
     },
     "execution_count": 187,
     "metadata": {},
     "output_type": "execute_result"
    }
   ],
   "source": [
    "sum([p.numel() for p in my_model_hae.encoder.lstm1.parameters()])"
   ]
  },
  {
   "cell_type": "code",
   "execution_count": 178,
   "id": "25c2240d-7606-455a-87a2-c8ec882b9a67",
   "metadata": {},
   "outputs": [
    {
     "data": {
      "text/plain": [
       "55344"
      ]
     },
     "execution_count": 178,
     "metadata": {},
     "output_type": "execute_result"
    }
   ],
   "source": [
    "sum([p.numel() for p in my_model_hae.encoder.fc1.parameters()])"
   ]
  },
  {
   "cell_type": "code",
   "execution_count": 177,
   "id": "049b8b2a-f37d-447d-856b-702c0196582f",
   "metadata": {},
   "outputs": [
    {
     "data": {
      "text/plain": [
       "27696"
      ]
     },
     "execution_count": 177,
     "metadata": {},
     "output_type": "execute_result"
    }
   ],
   "source": [
    "sum([p.numel() for p in my_model_cnn.encoder.fc1.parameters()])"
   ]
  },
  {
   "cell_type": "code",
   "execution_count": 186,
   "id": "7c10d0c5-2e2e-4a3c-9681-d398fac43f40",
   "metadata": {},
   "outputs": [
    {
     "name": "stdout",
     "output_type": "stream",
     "text": [
      "ENCODER PARAMETERS\n",
      "-------------------------------------------------------------------------------\n",
      "CNN model params: 35152, FC model params: 62424\n",
      "HAE model params: 53840\n"
     ]
    }
   ],
   "source": [
    "def count_parameters(model):\n",
    "    return sum(p.numel() for p in model.parameters() if p.requires_grad)\n",
    "\n",
    "print(\"ENCODER PARAMETERS\\n-------------------------------------------------------------------------------\")\n",
    "\n",
    "print('CNN model params: {}, FC model params: {}'.format(count_parameters(my_model_cnn.encoder),\n",
    "                                                        count_parameters(my_model_fc.encoder)))\n",
    "\n",
    "print('HAE model params: {}'.format(count_parameters(my_model_hae.encoder)))"
   ]
  },
  {
   "cell_type": "markdown",
   "id": "b4c3d35b-ef20-46bd-ab5d-d6e8f005ca6e",
   "metadata": {},
   "source": [
    "#### Other testmy_model_hae"
   ]
  },
  {
   "cell_type": "code",
   "execution_count": null,
   "id": "9ce04dde-f9ec-4ba1-90a1-35af381b8b10",
   "metadata": {},
   "outputs": [],
   "source": [
    "my_model = SCSAE(latent_n = 48).to(DEVICE)\n",
    "train_loop('MSE', 'constant', 1e-3, 'Adam', 0, 2000, my_model, '../../model_param/02cern.pt', DEVICE, my_dataloader)"
   ]
  },
  {
   "cell_type": "code",
   "execution_count": null,
   "id": "8e2853ec-13b4-4bed-aa0d-342fc66aedb8",
   "metadata": {},
   "outputs": [],
   "source": [
    "my_model = SCSAE(latent_n = 24).to(DEVICE)\n",
    "train_loop('MSE', 'constant', 1e-3, 'Adam', 0, 2000, my_model, '../../model_param/03cern.pt', DEVICE, my_dataloader)"
   ]
  },
  {
   "cell_type": "code",
   "execution_count": null,
   "id": "075a8f68-ee6b-48c4-9b31-f427d222b0fd",
   "metadata": {},
   "outputs": [],
   "source": [
    "my_model = SCSAE(latent_n = 12).to(DEVICE)\n",
    "train_loop('MSE', 'constant', 1e-3, 'Adam', 0, 2000, my_model, '../../model_param/04cern.pt', DEVICE, my_dataloader)"
   ]
  },
  {
   "cell_type": "markdown",
   "id": "a390997c-92e0-4aae-b995-2c2e1846e6fd",
   "metadata": {},
   "source": [
    "BREAK"
   ]
  },
  {
   "cell_type": "markdown",
   "id": "26de6b8f-b2ce-4f4b-a1e2-818ec67f45a8",
   "metadata": {},
   "source": [
    "## Other Models"
   ]
  },
  {
   "cell_type": "code",
   "execution_count": null,
   "id": "a0ab4fac-2798-4d0c-b46b-0ea99e220147",
   "metadata": {},
   "outputs": [],
   "source": [
    "my_dataset_fc = CERN_Dataset_CNN(train=True, mode = 'fc', fc_days = 12)\n",
    "my_dataloader_fc = DataLoader(my_dataset_fc, batch_size = 128, shuffle = False)\n",
    "my_dataset_val_fc = CERN_Dataset_CNN(train=False, mode = 'fc', fc_days = 12)\n",
    "my_dataloader_val_fc = DataLoader(my_dataset_val_fc, batch_size = BATCH_SIZE, shuffle=False)"
   ]
  },
  {
   "cell_type": "code",
   "execution_count": 31,
   "id": "95917544-b89f-41db-8b54-71e18af9c228",
   "metadata": {},
   "outputs": [],
   "source": [
    "test_record = my_dataset_fc[0:2].numpy()"
   ]
  },
  {
   "cell_type": "code",
   "execution_count": 32,
   "id": "5ebd5536-6813-49a0-8787-61e9d42eba8f",
   "metadata": {},
   "outputs": [
    {
     "data": {
      "text/plain": [
       "(2, 576)"
      ]
     },
     "execution_count": 32,
     "metadata": {},
     "output_type": "execute_result"
    }
   ],
   "source": [
    "test_record.shape"
   ]
  },
  {
   "cell_type": "code",
   "execution_count": 41,
   "id": "2dc1713f-a111-4754-b8f6-c85ec67c9123",
   "metadata": {},
   "outputs": [],
   "source": [
    "logging.basicConfig(filename='mylog.log',level=logging.DEBUG)"
   ]
  },
  {
   "cell_type": "markdown",
   "id": "9e4f65d2-c517-4c83-a593-9366216a3e97",
   "metadata": {},
   "source": [
    "### KPCA"
   ]
  },
  {
   "cell_type": "code",
   "execution_count": 21,
   "id": "753157f2-a31d-4601-ae4b-8e57c3b3760b",
   "metadata": {},
   "outputs": [],
   "source": [
    "from sklearn.decomposition import KernelPCA"
   ]
  },
  {
   "cell_type": "code",
   "execution_count": 22,
   "id": "f724f572-863e-4444-9fd4-c9e9a8474215",
   "metadata": {},
   "outputs": [],
   "source": [
    "pca_dataset = my_dataset_fc.cern_data.cpu().numpy()\n",
    "\n",
    "pca_dataset = pca_dataset.reshape(-1, 48)"
   ]
  },
  {
   "cell_type": "code",
   "execution_count": 23,
   "id": "2679af14-6f8a-403a-9cd0-12d0bcb499ef",
   "metadata": {},
   "outputs": [
    {
     "data": {
      "text/plain": [
       "(2481060, 48)"
      ]
     },
     "execution_count": 23,
     "metadata": {},
     "output_type": "execute_result"
    }
   ],
   "source": [
    "pca_dataset.shape"
   ]
  },
  {
   "cell_type": "code",
   "execution_count": 24,
   "id": "f3801cb9-0dad-4602-856b-d03f06bc96a5",
   "metadata": {},
   "outputs": [],
   "source": [
    "loss = nn.MSELoss()\n",
    "total_losses = []\n",
    "no_days = 12\n",
    "\n",
    "for record_no in range(pca_dataset.shape[0] // (no_days)):\n",
    "    pca = KernelPCA(4, kernel='rbf', fit_inverse_transform = True)\n",
    "    current_record = pca_dataset[(record_no * no_days):((record_no + 1) * no_days), :]\n",
    "    # print(current_record.shape)\n",
    "    \n",
    "    pca_test_compressed = pca.fit_transform(current_record)\n",
    "    pca_test_uncompressed = pca.inverse_transform(pca_test_compressed)\n",
    "    \n",
    "    # print(pca_test_uncompressed.shape)\n",
    "    \n",
    "    total_losses.append(loss(torch.from_numpy(current_record), torch.from_numpy(pca_test_uncompressed)).item())"
   ]
  },
  {
   "cell_type": "code",
   "execution_count": 25,
   "id": "ac59877f-5105-44de-bbdc-676f72f53b52",
   "metadata": {},
   "outputs": [
    {
     "data": {
      "text/plain": [
       "206755"
      ]
     },
     "execution_count": 25,
     "metadata": {},
     "output_type": "execute_result"
    }
   ],
   "source": [
    "len(total_losses)"
   ]
  },
  {
   "cell_type": "code",
   "execution_count": 26,
   "id": "868947f1-0b44-461b-97c7-a894dddf2a88",
   "metadata": {},
   "outputs": [
    {
     "data": {
      "text/plain": [
       "0.03398858254666112"
      ]
     },
     "execution_count": 26,
     "metadata": {},
     "output_type": "execute_result"
    }
   ],
   "source": [
    "sum(total_losses) / len(total_losses)"
   ]
  },
  {
   "cell_type": "markdown",
   "id": "a7356d33-b8cc-4fe5-9bea-80a169faa31c",
   "metadata": {},
   "source": [
    "### DCT"
   ]
  },
  {
   "cell_type": "code",
   "execution_count": 28,
   "id": "de49e832-67cf-4657-be69-1d7e125c0745",
   "metadata": {},
   "outputs": [],
   "source": [
    "from scipy.fftpack import dct, idct, fft, ifft"
   ]
  },
  {
   "cell_type": "code",
   "execution_count": 33,
   "id": "7cd8e6d1-c683-40d8-b6b1-48aa0c588e20",
   "metadata": {},
   "outputs": [],
   "source": [
    "compressed_dct = dct(test_record[0], type=2)"
   ]
  },
  {
   "cell_type": "code",
   "execution_count": 34,
   "id": "b3e08604-5aab-4ba2-a93d-8a2376e3d8cc",
   "metadata": {},
   "outputs": [],
   "source": [
    "compressed_dct[48:] = 0"
   ]
  },
  {
   "cell_type": "code",
   "execution_count": 35,
   "id": "1a8dd3f3-0e76-4f93-a790-771997202151",
   "metadata": {},
   "outputs": [],
   "source": [
    "uncompressed_dct = idct(compressed_dct, type=2)"
   ]
  },
  {
   "cell_type": "code",
   "execution_count": 42,
   "id": "988e25e4-9a2e-4bfd-b368-dd342eadf8df",
   "metadata": {},
   "outputs": [
    {
     "data": {
      "text/plain": [
       "[<matplotlib.lines.Line2D at 0x7fc222643430>]"
      ]
     },
     "execution_count": 42,
     "metadata": {},
     "output_type": "execute_result"
    },
    {
     "data": {
      "image/png": "[encoded data removed]",
      "text/plain": [
       "<Figure size 432x288 with 1 Axes>"
      ]
     },
     "metadata": {
      "needs_background": "light"
     },
     "output_type": "display_data"
    }
   ],
   "source": [
    "plt.plot(test_record[0])"
   ]
  },
  {
   "cell_type": "code",
   "execution_count": 43,
   "id": "4ec67114-00d1-4c46-9483-036396d38fd5",
   "metadata": {},
   "outputs": [
    {
     "data": {
      "text/plain": [
       "[<matplotlib.lines.Line2D at 0x7fc2225a2760>]"
      ]
     },
     "execution_count": 43,
     "metadata": {},
     "output_type": "execute_result"
    },
    {
     "data": {
      "image/png": "[encoded data removed]",
      "text/plain": [
       "<Figure size 432x288 with 1 Axes>"
      ]
     },
     "metadata": {
      "needs_background": "light"
     },
     "output_type": "display_data"
    }
   ],
   "source": [
    "plt.plot(uncompressed_dct)"
   ]
  },
  {
   "cell_type": "code",
   "execution_count": 44,
   "id": "6e8f2dbc-cfb0-459f-b26f-c9f52f3d4dad",
   "metadata": {},
   "outputs": [],
   "source": [
    "min_max_compressed = (uncompressed_dct - min(uncompressed_dct)) / (max(uncompressed_dct) - min(uncompressed_dct))"
   ]
  },
  {
   "cell_type": "code",
   "execution_count": 45,
   "id": "2904250a-a925-45e2-a108-e62fd0fcdab7",
   "metadata": {},
   "outputs": [
    {
     "data": {
      "text/plain": [
       "[<matplotlib.lines.Line2D at 0x7fc22258e250>]"
      ]
     },
     "execution_count": 45,
     "metadata": {},
     "output_type": "execute_result"
    },
    {
     "data": {
      "image/png": "[encoded data removed]",
      "text/plain": [
       "<Figure size 432x288 with 1 Axes>"
      ]
     },
     "metadata": {
      "needs_background": "light"
     },
     "output_type": "display_data"
    }
   ],
   "source": [
    "plt.plot(min_max_compressed)"
   ]
  },
  {
   "cell_type": "code",
   "execution_count": 46,
   "id": "7b00f650-b8b5-4820-b52f-31d10305cb49",
   "metadata": {},
   "outputs": [
    {
     "data": {
      "text/plain": [
       "0.09858974814414978"
      ]
     },
     "execution_count": 46,
     "metadata": {},
     "output_type": "execute_result"
    }
   ],
   "source": [
    "loss(torch.from_numpy(test_record[0]), torch.from_numpy(min_max_compressed)).item()"
   ]
  },
  {
   "cell_type": "markdown",
   "id": "7d84b0db-9ccc-421c-b7fd-89dcd6ab2d4b",
   "metadata": {},
   "source": [
    "### FFT"
   ]
  },
  {
   "cell_type": "code",
   "execution_count": 47,
   "id": "dffe2222-6cb1-408f-8f99-bc83b895d79e",
   "metadata": {},
   "outputs": [],
   "source": [
    "compressed_fft = fft(test_record[0])"
   ]
  },
  {
   "cell_type": "code",
   "execution_count": 48,
   "id": "5c374e3f-ed08-4154-a7d0-8c23bd73352b",
   "metadata": {},
   "outputs": [
    {
     "data": {
      "text/plain": [
       "(15.622059792280197+0j)"
      ]
     },
     "execution_count": 48,
     "metadata": {},
     "output_type": "execute_result"
    }
   ],
   "source": [
    "sum(compressed_fft)"
   ]
  },
  {
   "cell_type": "code",
   "execution_count": 49,
   "id": "f4cb596a-fef6-4335-b466-1226773385af",
   "metadata": {},
   "outputs": [
    {
     "data": {
      "text/plain": [
       "(576,)"
      ]
     },
     "execution_count": 49,
     "metadata": {},
     "output_type": "execute_result"
    }
   ],
   "source": [
    "compressed_fft.shape"
   ]
  },
  {
   "cell_type": "code",
   "execution_count": 50,
   "id": "5fb79878-64e8-462c-9637-0c9acafcb530",
   "metadata": {},
   "outputs": [],
   "source": [
    "compressed_fft[48:] = 0"
   ]
  },
  {
   "cell_type": "code",
   "execution_count": 51,
   "id": "60135ad7-37ff-464d-9c53-ab2b39236ed9",
   "metadata": {},
   "outputs": [],
   "source": [
    "uncompressed_fft = ifft(compressed_fft)"
   ]
  },
  {
   "cell_type": "code",
   "execution_count": 52,
   "id": "4251db3f-9b90-4d26-b07b-2bfaa670de2a",
   "metadata": {},
   "outputs": [
    {
     "name": "stderr",
     "output_type": "stream",
     "text": [
      "/scratch/au31/scotty/miniconda/conda/envs/jupyterlab/lib/python3.9/site-packages/matplotlib/cbook/__init__.py:1298: ComplexWarning: Casting complex values to real discards the imaginary part\n",
      "  return np.asarray(x, float)\n",
      "WARNING:matplotlib.legend:No artists with labels found to put in legend.  Note that artists whose label start with an underscore are ignored when legend() is called with no argument.\n"
     ]
    },
    {
     "data": {
      "text/plain": [
       "<matplotlib.legend.Legend at 0x7fc2224ecb50>"
      ]
     },
     "execution_count": 52,
     "metadata": {},
     "output_type": "execute_result"
    },
    {
     "data": {
      "image/png": "[encoded data removed]",
      "text/plain": [
       "<Figure size 432x288 with 1 Axes>"
      ]
     },
     "metadata": {
      "needs_background": "light"
     },
     "output_type": "display_data"
    }
   ],
   "source": [
    "plt.plot(uncompressed_fft)\n",
    "plt.plot(test_record[0])\n",
    "plt.legend()"
   ]
  },
  {
   "cell_type": "code",
   "execution_count": 53,
   "id": "41e963fa-e31c-41af-8d43-f7f6630026f3",
   "metadata": {},
   "outputs": [
    {
     "data": {
      "text/plain": [
       "0.030525270849466324"
      ]
     },
     "execution_count": 53,
     "metadata": {},
     "output_type": "execute_result"
    }
   ],
   "source": [
    "loss(torch.from_numpy(test_record[0]), torch.from_numpy(np.real(uncompressed_fft))).item()"
   ]
  },
  {
   "cell_type": "markdown",
   "id": "fc044c0c-7f5c-4942-a03f-bf17b336f757",
   "metadata": {},
   "source": [
    "### SVD"
   ]
  },
  {
   "cell_type": "code",
   "execution_count": 54,
   "id": "6b06743a-9077-471f-8421-aae803cf125d",
   "metadata": {},
   "outputs": [],
   "source": [
    "k = 2\n",
    "no_days = 12\n",
    "all_losses = []\n",
    "\n",
    "for record_no in range(pca_dataset.shape[0] // (no_days)):\n",
    "    current_record = pca_dataset[(record_no * no_days):((record_no + 1) * no_days), :]\n",
    "    \n",
    "    u, s, v = np.linalg.svd(current_record)\n",
    "    u_truncated = u[:, :k]\n",
    "    s_truncated = s[:k]\n",
    "    v_truncated = v[:k, :]\n",
    "    \n",
    "    smat = np.zeros((k, k), dtype=float)\n",
    "    smat[:k, :k] = np.diag(s_truncated)\n",
    "    \n",
    "    reconstruction = np.dot(np.dot(u_truncated, smat), v_truncated)\n",
    "    \n",
    "    all_losses.append(loss(torch.from_numpy(current_record), torch.from_numpy(reconstruction)).item())"
   ]
  },
  {
   "cell_type": "code",
   "execution_count": 55,
   "id": "26881349-d867-437d-af7a-e2cf5753fb4b",
   "metadata": {},
   "outputs": [
    {
     "data": {
      "text/plain": [
       "0.02329762330539853"
      ]
     },
     "execution_count": 55,
     "metadata": {},
     "output_type": "execute_result"
    }
   ],
   "source": [
    "sum(all_losses) / len(all_losses)"
   ]
  },
  {
   "cell_type": "markdown",
   "id": "f56435c6-cfc0-4f7c-bc76-e64c21cec744",
   "metadata": {},
   "source": [
    "### DWT"
   ]
  },
  {
   "cell_type": "code",
   "execution_count": 59,
   "id": "97870462-0ae9-42a7-b1dc-db95e2a068df",
   "metadata": {},
   "outputs": [
    {
     "name": "stdout",
     "output_type": "stream",
     "text": [
      "\u001b[31mERROR: Could not find a version that satisfies the requirement pywt (from versions: none)\u001b[0m\u001b[31m\n",
      "\u001b[0m\u001b[31mERROR: No matching distribution found for pywt\u001b[0m\u001b[31m\n",
      "\u001b[0m"
     ]
    }
   ],
   "source": [
    "!pip install pywt"
   ]
  },
  {
   "cell_type": "code",
   "execution_count": 60,
   "id": "03781c86-9518-47b6-83b3-d7187a45639e",
   "metadata": {},
   "outputs": [
    {
     "ename": "ModuleNotFoundError",
     "evalue": "No module named 'pywt'",
     "output_type": "error",
     "traceback": [
      "\u001b[0;31m---------------------------------------------------------------------------\u001b[0m",
      "\u001b[0;31mModuleNotFoundError\u001b[0m                       Traceback (most recent call last)",
      "Input \u001b[0;32mIn [60]\u001b[0m, in \u001b[0;36m<cell line: 1>\u001b[0;34m()\u001b[0m\n\u001b[0;32m----> 1\u001b[0m \u001b[38;5;28;01mimport\u001b[39;00m \u001b[38;5;21;01mpywt\u001b[39;00m\n",
      "\u001b[0;31mModuleNotFoundError\u001b[0m: No module named 'pywt'"
     ]
    }
   ],
   "source": [
    "import pywt"
   ]
  },
  {
   "cell_type": "code",
   "execution_count": null,
   "id": "b4550b1d-50ac-425b-bb6a-2c7d2fe4bc11",
   "metadata": {},
   "outputs": [],
   "source": [
    "cA, cD = pywt.dwt(test_record[0], 'db2')\n",
    "cA"
   ]
  },
  {
   "cell_type": "code",
   "execution_count": null,
   "id": "52e71eda-9fc4-4597-8b80-8d73a85c584c",
   "metadata": {},
   "outputs": [],
   "source": [
    "cD"
   ]
  },
  {
   "cell_type": "markdown",
   "id": "626de49b-b37b-4c14-acf0-460917e390c0",
   "metadata": {},
   "source": [
    "### FLC"
   ]
  },
  {
   "cell_type": "code",
   "execution_count": null,
   "id": "d5a6e429-b3f6-41fa-a082-bb2e2c6f748e",
   "metadata": {},
   "outputs": [],
   "source": []
  },
  {
   "cell_type": "markdown",
   "id": "76fc0b71-a4d5-4e0f-b31c-5324d96a5cbf",
   "metadata": {},
   "source": [
    "### SAX"
   ]
  },
  {
   "cell_type": "code",
   "execution_count": 56,
   "id": "70c77831-f11d-462c-ab6a-77a25ee0be57",
   "metadata": {},
   "outputs": [],
   "source": [
    "# !pip install pyts"
   ]
  },
  {
   "cell_type": "code",
   "execution_count": 57,
   "id": "6b2ae4c3-12dd-4128-aa3b-219152062523",
   "metadata": {},
   "outputs": [],
   "source": [
    "from scipy.stats import norm\n",
    "from pyts.approximation import SymbolicAggregateApproximation"
   ]
  },
  {
   "cell_type": "code",
   "execution_count": 58,
   "id": "28839274-86d3-4767-8ed6-f299172bc5ea",
   "metadata": {},
   "outputs": [],
   "source": [
    "n_bins = 4"
   ]
  },
  {
   "cell_type": "code",
   "execution_count": null,
   "id": "0dd138fa-faab-4753-a1ee-75881570ec85",
   "metadata": {},
   "outputs": [],
   "source": []
  }
 ],
 "metadata": {
  "kernelspec": {
   "display_name": "Python 3 (ipykernel)",
   "language": "python",
   "name": "python3"
  },
  "language_info": {
   "codemirror_mode": {
    "name": "ipython",
    "version": 3
   },
   "file_extension": ".py",
   "mimetype": "text/x-python",
   "name": "python",
   "nbconvert_exporter": "python",
   "pygments_lexer": "ipython3",
   "version": "3.9.12"
  }
 },
 "nbformat": 4,
 "nbformat_minor": 5
}
