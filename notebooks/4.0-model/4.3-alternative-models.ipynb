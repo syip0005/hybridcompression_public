{
 "cells": [
  {
   "cell_type": "code",
   "execution_count": 1,
   "id": "3d358d96-6df6-4680-86fb-516996658f18",
   "metadata": {},
   "outputs": [],
   "source": [
    "from __future__ import absolute_import\n",
    "from __future__ import division\n",
    "from __future__ import print_function\n",
    "\n",
    "import os.path as osp\n",
    "import sys\n",
    "\n",
    "\n",
    "def add_path(path):\n",
    "    if path not in sys.path:\n",
    "        sys.path.insert(0, path)\n",
    "\n",
    "\n",
    "this_dir = osp.dirname('../../train.py')\n",
    "\n",
    "lib_path = osp.join(this_dir, 'lib')\n",
    "add_path(lib_path)"
   ]
  },
  {
   "cell_type": "code",
   "execution_count": 2,
   "id": "ba2d7f71-1357-4931-a592-9c784c937e4a",
   "metadata": {},
   "outputs": [],
   "source": [
    "from utils.dataloader import CERN_Dataset_V3, UMASS_Dataset_V2, DRED_Dataset\n",
    "from torch.utils.data import DataLoader\n",
    "from sklearn.decomposition import DictionaryLearning\n",
    "from torch import nn\n",
    "from sklearn.decomposition import PCA\n",
    "import numpy as np\n",
    "import torch\n",
    "import matplotlib.pyplot as plt\n",
    "from scipy.fftpack import dct, idct, fft, ifft\n",
    "import pywt"
   ]
  },
  {
   "cell_type": "markdown",
   "id": "ceb1cd9b-1e73-480e-ab25-6d7ef5a1463e",
   "metadata": {},
   "source": [
    "### Build Datasets (freeze to 12 days)"
   ]
  },
  {
   "cell_type": "code",
   "execution_count": 3,
   "id": "4c6fb635-9f12-4ab7-b0b6-a354c5a5ae7a",
   "metadata": {},
   "outputs": [
    {
     "name": "stderr",
     "output_type": "stream",
     "text": [
      "100%|██████████| 200/200 [00:00<00:00, 261.14it/s]\n",
      "100%|██████████| 200/200 [00:00<00:00, 4703.11it/s]\n",
      "100%|██████████| 10/10 [00:00<00:00, 1482.09it/s]\n",
      "100%|██████████| 10/10 [00:00<00:00, 1333.05it/s]\n"
     ]
    },
    {
     "name": "stdout",
     "output_type": "stream",
     "text": [
      "DRED processed.\n",
      "DRED processed.\n"
     ]
    }
   ],
   "source": [
    "cer_val_fc = CERN_Dataset_V3(train=False, mode = 'fc', no_days = 12)\n",
    "cer_val_cnn = CERN_Dataset_V3(train=False, mode = 'cnn', no_days = 12)\n",
    "umass_val_fc = UMASS_Dataset_V2(train=False, mode = 'fc', no_days = 12)\n",
    "umass_val_cnn = UMASS_Dataset_V2(train=False, mode = 'cnn', no_days = 12)\n",
    "dred_val_fc = DRED_Dataset(train = False, mode = 'fc', no_rows = 60,\n",
    "                          wide_freq = 60)\n",
    "dred_val_cnn = DRED_Dataset(train = False, mode = 'cnn', no_rows = 60,\n",
    "                          wide_freq = 60, reshape_factor = 1)"
   ]
  },
  {
   "cell_type": "code",
   "execution_count": 4,
   "id": "fdc62722-5dbc-4988-a9d2-17b2aadbab7f",
   "metadata": {},
   "outputs": [],
   "source": [
    "cer_test = cer_val_fc[0][0].numpy()\n",
    "umass_test = umass_val_fc[0][0].numpy()\n",
    "dred_test = dred_val_fc[0][0].numpy()"
   ]
  },
  {
   "cell_type": "code",
   "execution_count": 5,
   "id": "032da416",
   "metadata": {},
   "outputs": [
    {
     "data": {
      "text/plain": [
       "(576,)"
      ]
     },
     "execution_count": 5,
     "metadata": {},
     "output_type": "execute_result"
    }
   ],
   "source": [
    "cer_test.shape"
   ]
  },
  {
   "cell_type": "code",
   "execution_count": 6,
   "id": "e0a601ea",
   "metadata": {},
   "outputs": [
    {
     "data": {
      "text/plain": [
       "(1152,)"
      ]
     },
     "execution_count": 6,
     "metadata": {},
     "output_type": "execute_result"
    }
   ],
   "source": [
    "umass_test.shape"
   ]
  },
  {
   "cell_type": "code",
   "execution_count": 7,
   "id": "5d8567c9-a95a-4ccd-ae5a-72cd8b4781d5",
   "metadata": {},
   "outputs": [
    {
     "data": {
      "text/plain": [
       "(3600,)"
      ]
     },
     "execution_count": 7,
     "metadata": {},
     "output_type": "execute_result"
    }
   ],
   "source": [
    "dred_test.shape"
   ]
  },
  {
   "cell_type": "code",
   "execution_count": 8,
   "id": "04c9b6fe-54da-42f6-af6f-ce6258920990",
   "metadata": {},
   "outputs": [],
   "source": [
    "required_ratios = [2, 3, 4, 6, 7, 8, 9, 10, 11, 12, 13, 15, 18, 21, 30, 41]"
   ]
  },
  {
   "cell_type": "code",
   "execution_count": 12,
   "id": "dc53b586-b6e6-45d8-b327-b9453b50c499",
   "metadata": {},
   "outputs": [],
   "source": [
    "loss = nn.MSELoss()"
   ]
  },
  {
   "cell_type": "markdown",
   "id": "aa406865-774c-4a00-923d-ec0894f8cf74",
   "metadata": {},
   "source": [
    "### PCA"
   ]
  },
  {
   "cell_type": "markdown",
   "id": "3d9d81c2-bc63-45a9-9861-3f4ca7836165",
   "metadata": {},
   "source": [
    "$C_r = \\dfrac{m \\times n}{(m\\times r+r + n)}$"
   ]
  },
  {
   "cell_type": "code",
   "execution_count": 21,
   "id": "9f338447-7a32-49f0-9942-10834cc20cdd",
   "metadata": {},
   "outputs": [],
   "source": [
    "def pca_compression_solver(m, n, c):\n",
    "    \n",
    "    \"\"\"Check r to solve for required compression ratio\n",
    "    \"\"\"\n",
    "    \n",
    "    return (1/(m+1)) * (m*n/c - n)"
   ]
  },
  {
   "cell_type": "code",
   "execution_count": 46,
   "id": "4fb05ef9-84bc-4916-abba-24acf5d1d07a",
   "metadata": {},
   "outputs": [],
   "source": [
    "cer_number_of_comp = [max(int(np.floor(pca_compression_solver(12, 48, c))), 0) for c in required_ratios]\n",
    "umass_number_of_comp = [max(int(np.floor(pca_compression_solver(12, 96, c))), 0) for c in required_ratios]\n",
    "dred_number_of_comp = [max(int(np.floor(pca_compression_solver(60, 60, c))), 0) for c in required_ratios]"
   ]
  },
  {
   "cell_type": "code",
   "execution_count": 12,
   "id": "c50c9546",
   "metadata": {},
   "outputs": [
    {
     "name": "stdout",
     "output_type": "stream",
     "text": [
      "num_components: 18\n",
      "num_components: 11\n",
      "num_components: 7\n",
      "num_components: 3\n",
      "num_components: 2\n",
      "num_components: 1\n",
      "num_components: 1\n",
      "num_components: 0\n",
      "num_components: 0\n",
      "num_components: 0\n",
      "num_components: 0\n",
      "num_components: 0\n",
      "num_components: 0\n",
      "num_components: 0\n",
      "num_components: 0\n",
      "num_components: 0\n",
      "k: 18, ratio: 2, mse average: 0.000000\n",
      "k: 11, ratio: 3, mse average: 0.000000\n",
      "k: 7, ratio: 4, mse average: 0.000925\n",
      "k: 3, ratio: 6, mse average: 0.004519\n",
      "k: 2, ratio: 7, mse average: 0.006436\n",
      "k: 1, ratio: 8, mse average: 0.009313\n",
      "k: 1, ratio: 9, mse average: 0.009313\n",
      "k: 0, ratio: 10, mse average: 0.015562\n",
      "k: 0, ratio: 11, mse average: 0.015562\n",
      "k: 0, ratio: 12, mse average: 0.015562\n",
      "k: 0, ratio: 13, mse average: 0.015562\n",
      "k: 0, ratio: 15, mse average: 0.015562\n",
      "k: 0, ratio: 18, mse average: 0.015562\n",
      "k: 0, ratio: 21, mse average: 0.015562\n",
      "k: 0, ratio: 30, mse average: 0.015562\n",
      "k: 0, ratio: 41, mse average: 0.015562\n"
     ]
    }
   ],
   "source": [
    "pca_dataset = cer_val_fc.cern_data.cpu().numpy()\n",
    "pca_dataset = pca_dataset.reshape(-1, 48)\n",
    "total_losses = {k: [] for k in cer_number_of_comp}\n",
    "no_days = 12\n",
    "\n",
    "for k in cer_number_of_comp:\n",
    "    print('num_components: {}'.format(k))\n",
    "    for record_no in range(pca_dataset.shape[0] // (no_days)):\n",
    "        pca = PCA(min(k, no_days), svd_solver='auto')\n",
    "        current_record = pca_dataset[(record_no * no_days):((record_no + 1) * no_days), :]\n",
    "        # print(current_record.shape)\n",
    "\n",
    "        pca_test_compressed = pca.fit_transform(current_record)\n",
    "        # print(pca_test_compressed.shape)\n",
    "        pca_test_uncompressed = pca.inverse_transform(pca_test_compressed)\n",
    "        pca_test_uncompressed = np.clip(pca_test_uncompressed, 0, 1) # clip\n",
    "\n",
    "        # print(pca_test_uncompressed.shape)\n",
    "        # break\n",
    "        if (record_no + 1) % 20000 == 0: print('record: {}'.format(record_no))\n",
    "        total_losses[k].append(loss(torch.from_numpy(current_record), \n",
    "                                    torch.from_numpy(pca_test_uncompressed)).item())\n",
    "    \n",
    "for k, ratio in zip(cer_number_of_comp, required_ratios):\n",
    "    \n",
    "    mse_avg_ = sum(total_losses[k]) / len(total_losses[k])\n",
    "    \n",
    "    print('k: {}, ratio: {}, mse average: {:.6f}'.format(k, ratio, mse_avg_))"
   ]
  },
  {
   "cell_type": "code",
   "execution_count": 14,
   "id": "64528f31-a1c4-49e7-8e8f-43f5359d1211",
   "metadata": {},
   "outputs": [
    {
     "name": "stdout",
     "output_type": "stream",
     "text": [
      "num_components: 36\n",
      "num_components: 22\n",
      "num_components: 14\n",
      "num_components: 7\n",
      "num_components: 5\n",
      "num_components: 3\n",
      "num_components: 2\n",
      "num_components: 1\n",
      "num_components: 0\n",
      "num_components: 0\n",
      "num_components: 0\n",
      "num_components: 0\n",
      "num_components: 0\n",
      "num_components: 0\n",
      "num_components: 0\n",
      "num_components: 0\n",
      "k: 36, ratio: 2, mse average: 0.000000\n",
      "k: 22, ratio: 3, mse average: 0.000000\n",
      "k: 14, ratio: 4, mse average: 0.000000\n",
      "k: 7, ratio: 6, mse average: 0.002602\n",
      "k: 5, ratio: 7, mse average: 0.005043\n",
      "k: 3, ratio: 8, mse average: 0.008548\n",
      "k: 2, ratio: 9, mse average: 0.010891\n",
      "k: 1, ratio: 10, mse average: 0.014083\n",
      "k: 0, ratio: 11, mse average: 0.019295\n",
      "k: 0, ratio: 12, mse average: 0.019295\n",
      "k: 0, ratio: 13, mse average: 0.019295\n",
      "k: 0, ratio: 15, mse average: 0.019295\n",
      "k: 0, ratio: 18, mse average: 0.019295\n",
      "k: 0, ratio: 21, mse average: 0.019295\n",
      "k: 0, ratio: 30, mse average: 0.019295\n",
      "k: 0, ratio: 41, mse average: 0.019295\n"
     ]
    }
   ],
   "source": [
    "pca_dataset = umass_val_fc.umass_data.cpu().numpy()\n",
    "pca_dataset = pca_dataset.reshape(-1, 96)\n",
    "total_losses = {k: [] for k in umass_number_of_comp}\n",
    "no_days = 12\n",
    "\n",
    "for k in umass_number_of_comp:\n",
    "    print('num_components: {}'.format(k))\n",
    "    for record_no in range(pca_dataset.shape[0] // (no_days)):\n",
    "        pca = PCA(min(k, 12), svd_solver='auto')\n",
    "        current_record = pca_dataset[(record_no * no_days):((record_no + 1) * no_days), :]\n",
    "        # print(current_record.shape)\n",
    "\n",
    "        pca_test_compressed = pca.fit_transform(current_record)\n",
    "        # print(pca_test_compressed.shape)\n",
    "        pca_test_uncompressed = pca.inverse_transform(pca_test_compressed)\n",
    "        pca_test_uncompressed = np.clip(pca_test_uncompressed, 0, 1) # clip\n",
    "\n",
    "        # print(pca_test_uncompressed.shape)\n",
    "        # break\n",
    "        if (record_no + 1) % 20000 == 0: print('record: {}'.format(record_no))\n",
    "        total_losses[k].append(loss(torch.from_numpy(current_record), \n",
    "                                    torch.from_numpy(pca_test_uncompressed)).item())\n",
    "    \n",
    "for k, ratio in zip(umass_number_of_comp, required_ratios):\n",
    "    \n",
    "    mse_avg_ = sum(total_losses[k]) / len(total_losses[k])\n",
    "    \n",
    "    print('k: {}, ratio: {}, mse average: {:.6f}'.format(k, ratio, mse_avg_))"
   ]
  },
  {
   "cell_type": "code",
   "execution_count": 43,
   "id": "212f11c4-e9d7-4141-bb12-68aaf2883eca",
   "metadata": {},
   "outputs": [
    {
     "name": "stdout",
     "output_type": "stream",
     "text": [
      "num_components: 28\n",
      "num_components: 18\n",
      "num_components: 13\n",
      "num_components: 8\n",
      "num_components: 7\n",
      "num_components: 6\n",
      "num_components: 5\n",
      "num_components: 4\n",
      "num_components: 4\n",
      "num_components: 3\n",
      "num_components: 3\n",
      "num_components: 2\n",
      "num_components: 2\n",
      "num_components: 1\n",
      "num_components: 0\n",
      "num_components: 0\n",
      "k: 28, ratio: 2, mse average: 0.000000\n",
      "k: 18, ratio: 3, mse average: 0.000000\n",
      "k: 13, ratio: 4, mse average: 0.000000\n",
      "k: 8, ratio: 6, mse average: 0.000001\n",
      "k: 7, ratio: 7, mse average: 0.000002\n",
      "k: 6, ratio: 8, mse average: 0.000005\n",
      "k: 5, ratio: 9, mse average: 0.000014\n",
      "k: 4, ratio: 10, mse average: 0.000045\n",
      "k: 4, ratio: 11, mse average: 0.000045\n",
      "k: 3, ratio: 12, mse average: 0.000166\n",
      "k: 3, ratio: 13, mse average: 0.000166\n",
      "k: 2, ratio: 15, mse average: 0.000682\n",
      "k: 2, ratio: 18, mse average: 0.000682\n",
      "k: 1, ratio: 21, mse average: 0.003953\n",
      "k: 0, ratio: 30, mse average: 0.091783\n",
      "k: 0, ratio: 41, mse average: 0.091783\n"
     ]
    }
   ],
   "source": [
    "pca_dataset = dred_val_fc.dred_data.cpu().numpy()\n",
    "pca_dataset = pca_dataset.reshape(-1, 60)\n",
    "total_losses = {k: [] for k in dred_number_of_comp}\n",
    "no_days = 60\n",
    "\n",
    "for k in dred_number_of_comp:\n",
    "    print('num_components: {}'.format(k))\n",
    "    for record_no in range(pca_dataset.shape[0] // (no_days)):\n",
    "        pca = PCA(min(k, 12), svd_solver='auto')\n",
    "        current_record = pca_dataset[(record_no * no_days):((record_no + 1) * no_days), :]\n",
    "        # print(current_record.shape)\n",
    "\n",
    "        pca_test_compressed = pca.fit_transform(current_record)\n",
    "        # print(pca_test_compressed.shape)\n",
    "        pca_test_uncompressed = pca.inverse_transform(pca_test_compressed)\n",
    "        pca_test_uncompressed = np.clip(pca_test_uncompressed, 0, 1) # clip\n",
    "\n",
    "        # print(pca_test_uncompressed.shape)\n",
    "        # break\n",
    "        if (record_no + 1) % 20000 == 0: print('record: {}'.format(record_no))\n",
    "        total_losses[k].append(loss(torch.from_numpy(current_record), \n",
    "                                    torch.from_numpy(pca_test_uncompressed)).item())\n",
    "    \n",
    "for k, ratio in zip(dred_number_of_comp, required_ratios):\n",
    "    \n",
    "    mse_avg_ = sum(total_losses[k]) / len(total_losses[k])\n",
    "    \n",
    "    print('k: {}, ratio: {}, mse average: {:.6f}'.format(k, ratio, mse_avg_))"
   ]
  },
  {
   "cell_type": "markdown",
   "id": "a98f303d-eff7-49f1-ae81-ad3517d724ea",
   "metadata": {},
   "source": [
    "Draw"
   ]
  },
  {
   "cell_type": "code",
   "execution_count": 15,
   "id": "f8e908c5-23bc-43d0-9db9-0c697b29ee79",
   "metadata": {},
   "outputs": [],
   "source": [
    "# fig, axs = plt.subplots(2, 2, figsize=(12,10))\n",
    "\n",
    "# for k, ax in zip(number_of_components, axs.reshape(-1)):\n",
    "#     pca = PCA(k)\n",
    "#     current_record = test_record.reshape(12, 48)\n",
    "#     pca_test_compressed = pca.fit_transform(current_record)\n",
    "#     pca_test_uncompressed = np.clip(pca.inverse_transform(pca_test_compressed), 0, 1)\n",
    "#     temp_loss_ = loss(torch.from_numpy(current_record), \n",
    "#                                 torch.from_numpy(pca_test_uncompressed)).item()\n",
    "#     ax.plot(pca_test_uncompressed.reshape(-1), 'r', label=k)\n",
    "#     ax.plot(current_record.reshape(-1), 'b--', alpha=1)\n",
    "#     ax.set_title('num_components {}, mse:{:.4f}'.format(k, temp_loss_))\n",
    "# plt.show()"
   ]
  },
  {
   "cell_type": "markdown",
   "id": "c74248cb-eb75-4a91-9388-2723030c571a",
   "metadata": {},
   "source": [
    "### FFT"
   ]
  },
  {
   "cell_type": "code",
   "execution_count": 28,
   "id": "b1174025",
   "metadata": {},
   "outputs": [],
   "source": [
    "cer_fft_coefficients_to_keep = [int(12 * 48 / k) for k in required_ratios]\n",
    "umass_fft_coefficients_to_keep = [int(12 * 96 / k) for k in required_ratios]\n",
    "dred_fft_coefficients_to_keep = [int(60 * 60 / k) for k in required_ratios]"
   ]
  },
  {
   "cell_type": "code",
   "execution_count": 17,
   "id": "e7130492",
   "metadata": {},
   "outputs": [
    {
     "data": {
      "text/plain": [
       "[288, 192, 144, 96, 82, 72, 64, 57, 52, 48, 44, 38, 32, 27, 19, 14]"
      ]
     },
     "execution_count": 17,
     "metadata": {},
     "output_type": "execute_result"
    }
   ],
   "source": [
    "cer_fft_coefficients_to_keep"
   ]
  },
  {
   "cell_type": "code",
   "execution_count": 18,
   "id": "b3982433-9e14-4d9d-bc4f-60436c18d122",
   "metadata": {},
   "outputs": [
    {
     "name": "stdout",
     "output_type": "stream",
     "text": [
      "coeffs: 288, ratio: 2, mse average: 0.014828\n",
      "coeffs: 192, ratio: 3, mse average: 0.016090\n",
      "coeffs: 144, ratio: 4, mse average: 0.016890\n",
      "coeffs: 96, ratio: 6, mse average: 0.017923\n",
      "coeffs: 82, ratio: 7, mse average: 0.018301\n",
      "coeffs: 72, ratio: 8, mse average: 0.018606\n",
      "coeffs: 64, ratio: 9, mse average: 0.018883\n",
      "coeffs: 57, ratio: 10, mse average: 0.019167\n",
      "coeffs: 52, ratio: 11, mse average: 0.019350\n",
      "coeffs: 48, ratio: 12, mse average: 0.019535\n",
      "coeffs: 44, ratio: 13, mse average: 0.019727\n",
      "coeffs: 38, ratio: 15, mse average: 0.020029\n",
      "coeffs: 32, ratio: 18, mse average: 0.020406\n",
      "coeffs: 27, ratio: 21, mse average: 0.020792\n",
      "coeffs: 19, ratio: 30, mse average: 0.021525\n",
      "coeffs: 14, ratio: 41, mse average: 0.022015\n"
     ]
    }
   ],
   "source": [
    "fft_dataset = cer_val_fc.cern_data.cpu().numpy()\n",
    "fft_total_losses = {c: [] for c in cer_fft_coefficients_to_keep}\n",
    "\n",
    "for c in cer_fft_coefficients_to_keep:\n",
    "    for record_no in range(len(fft_dataset)):\n",
    "        \n",
    "        # run fft\n",
    "        current_record = fft_dataset[record_no]\n",
    "        compressed_fft = fft(current_record)\n",
    "        \n",
    "        # remove smallest magnitude\n",
    "        c_sort = np.sort(compressed_fft)[::-1]\n",
    "        thresh = c_sort[c]\n",
    "        compressed_fft[compressed_fft <= thresh] = 0\n",
    "        \n",
    "        # uncompress\n",
    "        uncompressed_fft = np.clip(ifft(compressed_fft).real, 0, 1)\n",
    "        # uncompressed_fft = ifft(compressed_fft).real\n",
    "        # uncompressed_fft = (uncompressed_fft - min(uncompressed_fft)) / (max(uncompressed_fft) - min(uncompressed_fft))\n",
    "        \n",
    "        # work out diff\n",
    "        fft_total_losses[c].append(loss(torch.from_numpy(current_record), \n",
    "                                    torch.from_numpy(uncompressed_fft)).item())\n",
    "        \n",
    "for c, ratio in zip(cer_fft_coefficients_to_keep, required_ratios):\n",
    "    \n",
    "    mse_avg_ = sum(fft_total_losses[c]) / len(fft_total_losses[c])\n",
    "    \n",
    "    print('coeffs: {}, ratio: {}, mse average: {:.6f}'.format(c, ratio, mse_avg_))"
   ]
  },
  {
   "cell_type": "code",
   "execution_count": 19,
   "id": "d10b210c-07b6-4636-87ac-35a652f6bb39",
   "metadata": {},
   "outputs": [
    {
     "name": "stdout",
     "output_type": "stream",
     "text": [
      "coeffs: 576, ratio: 2, mse average: 0.009925\n",
      "coeffs: 384, ratio: 3, mse average: 0.011724\n",
      "coeffs: 288, ratio: 4, mse average: 0.012855\n",
      "coeffs: 192, ratio: 6, mse average: 0.014297\n",
      "coeffs: 164, ratio: 7, mse average: 0.014790\n",
      "coeffs: 144, ratio: 8, mse average: 0.015141\n",
      "coeffs: 128, ratio: 9, mse average: 0.015534\n",
      "coeffs: 115, ratio: 10, mse average: 0.015828\n",
      "coeffs: 104, ratio: 11, mse average: 0.016096\n",
      "coeffs: 96, ratio: 12, mse average: 0.016295\n",
      "coeffs: 88, ratio: 13, mse average: 0.016492\n",
      "coeffs: 76, ratio: 15, mse average: 0.016838\n",
      "coeffs: 64, ratio: 18, mse average: 0.017205\n",
      "coeffs: 54, ratio: 21, mse average: 0.017535\n",
      "coeffs: 38, ratio: 30, mse average: 0.018152\n",
      "coeffs: 28, ratio: 41, mse average: 0.018625\n"
     ]
    }
   ],
   "source": [
    "fft_dataset = umass_val_fc.umass_data.cpu().numpy()\n",
    "fft_total_losses = {c: [] for c in umass_fft_coefficients_to_keep}\n",
    "\n",
    "for c in umass_fft_coefficients_to_keep:\n",
    "    for record_no in range(len(fft_dataset)):\n",
    "        \n",
    "        # run fft\n",
    "        current_record = fft_dataset[record_no]\n",
    "        compressed_fft = fft(current_record)\n",
    "        \n",
    "        # remove smallest magnitude\n",
    "        c_sort = np.sort(compressed_fft)[::-1]\n",
    "        thresh = c_sort[c]\n",
    "        compressed_fft[compressed_fft <= thresh] = 0\n",
    "        \n",
    "        # uncompress\n",
    "        uncompressed_fft = np.clip(ifft(compressed_fft).real, 0, 1)\n",
    "        # uncompressed_fft = ifft(compressed_fft).real\n",
    "        # uncompressed_fft = (uncompressed_fft - min(uncompressed_fft)) / (max(uncompressed_fft) - min(uncompressed_fft))\n",
    "        \n",
    "        # work out diff\n",
    "        fft_total_losses[c].append(loss(torch.from_numpy(current_record), \n",
    "                                    torch.from_numpy(uncompressed_fft)).item())\n",
    "        \n",
    "for c, ratio in zip(umass_fft_coefficients_to_keep, required_ratios):\n",
    "    \n",
    "    mse_avg_ = sum(fft_total_losses[c]) / len(fft_total_losses[c])\n",
    "    \n",
    "    print('coeffs: {}, ratio: {}, mse average: {:.6f}'.format(c, ratio, mse_avg_))"
   ]
  },
  {
   "cell_type": "code",
   "execution_count": 29,
   "id": "e20ca56e-a22d-41a1-9078-24f782a940d6",
   "metadata": {},
   "outputs": [
    {
     "name": "stdout",
     "output_type": "stream",
     "text": [
      "coeffs: 1800, ratio: 2, mse average: 0.043205\n",
      "coeffs: 1200, ratio: 3, mse average: 0.043213\n",
      "coeffs: 900, ratio: 4, mse average: 0.043218\n",
      "coeffs: 600, ratio: 6, mse average: 0.043227\n",
      "coeffs: 514, ratio: 7, mse average: 0.043230\n",
      "coeffs: 450, ratio: 8, mse average: 0.043236\n",
      "coeffs: 400, ratio: 9, mse average: 0.043240\n",
      "coeffs: 360, ratio: 10, mse average: 0.043244\n",
      "coeffs: 327, ratio: 11, mse average: 0.043265\n",
      "coeffs: 300, ratio: 12, mse average: 0.043270\n",
      "coeffs: 276, ratio: 13, mse average: 0.043277\n",
      "coeffs: 240, ratio: 15, mse average: 0.043296\n",
      "coeffs: 200, ratio: 18, mse average: 0.043340\n",
      "coeffs: 171, ratio: 21, mse average: 0.043437\n",
      "coeffs: 120, ratio: 30, mse average: 0.043621\n",
      "coeffs: 87, ratio: 41, mse average: 0.043865\n"
     ]
    }
   ],
   "source": [
    "fft_dataset = dred_val_fc.dred_data.cpu().numpy()\n",
    "fft_total_losses = {c: [] for c in dred_fft_coefficients_to_keep}\n",
    "\n",
    "for c in dred_fft_coefficients_to_keep:\n",
    "    for record_no in range(len(fft_dataset)):\n",
    "        \n",
    "        # run fft\n",
    "        current_record = fft_dataset[record_no]\n",
    "        compressed_fft = fft(current_record)\n",
    "        \n",
    "        # remove smallest magnitude\n",
    "        c_sort = np.sort(compressed_fft)[::-1]\n",
    "        thresh = c_sort[c]\n",
    "        compressed_fft[compressed_fft <= thresh] = 0\n",
    "        \n",
    "        # uncompress\n",
    "        uncompressed_fft = np.clip(ifft(compressed_fft).real, 0, 1)\n",
    "        # uncompressed_fft = ifft(compressed_fft).real\n",
    "        # uncompressed_fft = (uncompressed_fft - min(uncompressed_fft)) / (max(uncompressed_fft) - min(uncompressed_fft))\n",
    "        \n",
    "        # work out diff\n",
    "        fft_total_losses[c].append(loss(torch.from_numpy(current_record), \n",
    "                                    torch.from_numpy(uncompressed_fft)).item())\n",
    "        \n",
    "for c, ratio in zip(dred_fft_coefficients_to_keep, required_ratios):\n",
    "    \n",
    "    mse_avg_ = sum(fft_total_losses[c]) / len(fft_total_losses[c])\n",
    "    \n",
    "    print('coeffs: {}, ratio: {}, mse average: {:.6f}'.format(c, ratio, mse_avg_))"
   ]
  },
  {
   "cell_type": "code",
   "execution_count": 20,
   "id": "bcdd611a-ac54-45d7-a585-d9a622fdd382",
   "metadata": {},
   "outputs": [],
   "source": [
    "# fig, axs = plt.subplots(2, 2, figsize=(12,10))\n",
    "\n",
    "# for c, ax in zip(fft_coefficients_to_keep, axs.reshape(-1)):\n",
    "#     current_record = test_record.reshape(-1)\n",
    "#     compressed_fft = fft(current_record)\n",
    "\n",
    "#     c_sort = np.sort(compressed_fft)[::-1]\n",
    "#     thresh = c_sort[c]\n",
    "#     compressed_fft[compressed_fft <= thresh] = 0\n",
    "    \n",
    "#     uncompressed_fft = np.clip(ifft(compressed_fft).real, 0, 1)\n",
    "#     temp_loss_ = loss(torch.from_numpy(current_record), \n",
    "#                                 torch.from_numpy(uncompressed_fft)).item()\n",
    "#     ax.plot(uncompressed_fft.reshape(-1), 'r', label=k)\n",
    "#     ax.plot(current_record.reshape(-1), 'b--', alpha=1)\n",
    "#     ax.set_title('coeffs_kept {}, mse: {:.4f}'.format(c, temp_loss_))\n",
    "# plt.show()"
   ]
  },
  {
   "cell_type": "markdown",
   "id": "11509de9-f2a9-422b-8967-1d502f40577b",
   "metadata": {},
   "source": [
    "### SVD\n",
    "\n",
    "$C_r = \\dfrac{m \\times n}{(n-p)(m+n+1)}$"
   ]
  },
  {
   "cell_type": "code",
   "execution_count": 21,
   "id": "ea307f8d-8667-4029-bb6d-5a77fdf05bfa",
   "metadata": {},
   "outputs": [],
   "source": [
    "def ksvd_cratio_calc(m, n, c):\n",
    "    \n",
    "    p = n - (c)/(m*n*(m+n+1))\n",
    "    \n",
    "    return p\n",
    "# MOVE THIS"
   ]
  },
  {
   "cell_type": "code",
   "execution_count": 22,
   "id": "17929c99-2228-4f12-80b9-4207a80f02b2",
   "metadata": {},
   "outputs": [
    {
     "data": {
      "text/plain": [
       "[2, 3, 4, 6, 7, 8, 9, 10, 11, 12, 13, 15, 18, 21, 30, 41]"
      ]
     },
     "execution_count": 22,
     "metadata": {},
     "output_type": "execute_result"
    }
   ],
   "source": [
    "required_ratios"
   ]
  },
  {
   "cell_type": "markdown",
   "id": "36bd159c-0847-45e3-9f91-6e9086fdf0e5",
   "metadata": {},
   "source": [
    "### K-SVD"
   ]
  },
  {
   "cell_type": "markdown",
   "id": "1d143035-e503-4b26-8c84-c3f2f523679c",
   "metadata": {},
   "source": [
    "Paper link: http://webx.ubi.pt/~catalao/09334900.pdf. Not too useful for us as we aim to achieve a pre-determined compression ratio.\n",
    "\n",
    "Paper link: https://ieeexplore.ieee.org/stamp/stamp.jsp?tp=&arnumber=7741464. "
   ]
  },
  {
   "cell_type": "code",
   "execution_count": 31,
   "id": "6b8c1f7e-38ac-4a74-a501-4ae50b289203",
   "metadata": {},
   "outputs": [],
   "source": [
    "def solve_ksvd_ratios(rows, cols, cr):\n",
    "    \n",
    "    return rows / cr - rows / cols"
   ]
  },
  {
   "cell_type": "code",
   "execution_count": 41,
   "id": "e0ce281e-3e59-4d3b-8cc3-39d6657e291b",
   "metadata": {},
   "outputs": [],
   "source": [
    "components_cer = [int(max(np.floor(solve_ksvd_ratios(12, 48, i)), 1) )for i in required_ratios]\n",
    "components_umass = [int(max(np.floor(solve_ksvd_ratios(12, 96, i)), 1) )for i in required_ratios]\n",
    "components_dred = [int(max(np.floor(solve_ksvd_ratios(60, 60, i)), 1) )for i in required_ratios]"
   ]
  },
  {
   "cell_type": "code",
   "execution_count": 26,
   "id": "82d1bd29",
   "metadata": {},
   "outputs": [
    {
     "name": "stdout",
     "output_type": "stream",
     "text": [
      "5\n"
     ]
    },
    {
     "name": "stderr",
     "output_type": "stream",
     "text": [
      "/home/scott/anaconda3/envs/dlearn/lib/python3.7/site-packages/sklearn/decomposition/_dict_learning.py:213: RuntimeWarning: Orthogonal matching pursuit ended prematurely due to linear dependence in the dictionary. The requested precision might not have been met.\n",
      "  copy_Xy=copy_cov,\n"
     ]
    },
    {
     "name": "stdout",
     "output_type": "stream",
     "text": [
      "3\n"
     ]
    },
    {
     "name": "stderr",
     "output_type": "stream",
     "text": [
      "/home/scott/anaconda3/envs/dlearn/lib/python3.7/site-packages/sklearn/decomposition/_dict_learning.py:213: RuntimeWarning: Orthogonal matching pursuit ended prematurely due to linear dependence in the dictionary. The requested precision might not have been met.\n",
      "  copy_Xy=copy_cov,\n"
     ]
    },
    {
     "name": "stdout",
     "output_type": "stream",
     "text": [
      "2\n"
     ]
    },
    {
     "name": "stderr",
     "output_type": "stream",
     "text": [
      "/home/scott/anaconda3/envs/dlearn/lib/python3.7/site-packages/sklearn/decomposition/_dict_learning.py:213: RuntimeWarning: Orthogonal matching pursuit ended prematurely due to linear dependence in the dictionary. The requested precision might not have been met.\n",
      "  copy_Xy=copy_cov,\n"
     ]
    },
    {
     "name": "stdout",
     "output_type": "stream",
     "text": [
      "1\n"
     ]
    },
    {
     "name": "stderr",
     "output_type": "stream",
     "text": [
      "/home/scott/anaconda3/envs/dlearn/lib/python3.7/site-packages/sklearn/decomposition/_dict_learning.py:213: RuntimeWarning: Orthogonal matching pursuit ended prematurely due to linear dependence in the dictionary. The requested precision might not have been met.\n",
      "  copy_Xy=copy_cov,\n",
      "/home/scott/anaconda3/envs/dlearn/lib/python3.7/site-packages/sklearn/decomposition/_dict_learning.py:213: RuntimeWarning: Orthogonal matching pursuit ended prematurely due to linear dependence in the dictionary. The requested precision might not have been met.\n",
      "  copy_Xy=copy_cov,\n"
     ]
    },
    {
     "name": "stdout",
     "output_type": "stream",
     "text": [
      "1\n"
     ]
    },
    {
     "name": "stderr",
     "output_type": "stream",
     "text": [
      "/home/scott/anaconda3/envs/dlearn/lib/python3.7/site-packages/sklearn/decomposition/_dict_learning.py:213: RuntimeWarning: Orthogonal matching pursuit ended prematurely due to linear dependence in the dictionary. The requested precision might not have been met.\n",
      "  copy_Xy=copy_cov,\n",
      "/home/scott/anaconda3/envs/dlearn/lib/python3.7/site-packages/sklearn/decomposition/_dict_learning.py:213: RuntimeWarning: Orthogonal matching pursuit ended prematurely due to linear dependence in the dictionary. The requested precision might not have been met.\n",
      "  copy_Xy=copy_cov,\n"
     ]
    },
    {
     "name": "stdout",
     "output_type": "stream",
     "text": [
      "1\n"
     ]
    },
    {
     "name": "stderr",
     "output_type": "stream",
     "text": [
      "/home/scott/anaconda3/envs/dlearn/lib/python3.7/site-packages/sklearn/decomposition/_dict_learning.py:213: RuntimeWarning: Orthogonal matching pursuit ended prematurely due to linear dependence in the dictionary. The requested precision might not have been met.\n",
      "  copy_Xy=copy_cov,\n",
      "/home/scott/anaconda3/envs/dlearn/lib/python3.7/site-packages/sklearn/decomposition/_dict_learning.py:213: RuntimeWarning: Orthogonal matching pursuit ended prematurely due to linear dependence in the dictionary. The requested precision might not have been met.\n",
      "  copy_Xy=copy_cov,\n"
     ]
    },
    {
     "name": "stdout",
     "output_type": "stream",
     "text": [
      "1\n"
     ]
    },
    {
     "name": "stderr",
     "output_type": "stream",
     "text": [
      "/home/scott/anaconda3/envs/dlearn/lib/python3.7/site-packages/sklearn/decomposition/_dict_learning.py:213: RuntimeWarning: Orthogonal matching pursuit ended prematurely due to linear dependence in the dictionary. The requested precision might not have been met.\n",
      "  copy_Xy=copy_cov,\n",
      "/home/scott/anaconda3/envs/dlearn/lib/python3.7/site-packages/sklearn/decomposition/_dict_learning.py:213: RuntimeWarning: Orthogonal matching pursuit ended prematurely due to linear dependence in the dictionary. The requested precision might not have been met.\n",
      "  copy_Xy=copy_cov,\n"
     ]
    },
    {
     "name": "stdout",
     "output_type": "stream",
     "text": [
      "1\n"
     ]
    },
    {
     "name": "stderr",
     "output_type": "stream",
     "text": [
      "/home/scott/anaconda3/envs/dlearn/lib/python3.7/site-packages/sklearn/decomposition/_dict_learning.py:213: RuntimeWarning: Orthogonal matching pursuit ended prematurely due to linear dependence in the dictionary. The requested precision might not have been met.\n",
      "  copy_Xy=copy_cov,\n",
      "/home/scott/anaconda3/envs/dlearn/lib/python3.7/site-packages/sklearn/decomposition/_dict_learning.py:213: RuntimeWarning: Orthogonal matching pursuit ended prematurely due to linear dependence in the dictionary. The requested precision might not have been met.\n",
      "  copy_Xy=copy_cov,\n"
     ]
    },
    {
     "name": "stdout",
     "output_type": "stream",
     "text": [
      "1\n"
     ]
    },
    {
     "name": "stderr",
     "output_type": "stream",
     "text": [
      "/home/scott/anaconda3/envs/dlearn/lib/python3.7/site-packages/sklearn/decomposition/_dict_learning.py:213: RuntimeWarning: Orthogonal matching pursuit ended prematurely due to linear dependence in the dictionary. The requested precision might not have been met.\n",
      "  copy_Xy=copy_cov,\n",
      "/home/scott/anaconda3/envs/dlearn/lib/python3.7/site-packages/sklearn/decomposition/_dict_learning.py:213: RuntimeWarning: Orthogonal matching pursuit ended prematurely due to linear dependence in the dictionary. The requested precision might not have been met.\n",
      "  copy_Xy=copy_cov,\n"
     ]
    },
    {
     "name": "stdout",
     "output_type": "stream",
     "text": [
      "1\n"
     ]
    },
    {
     "name": "stderr",
     "output_type": "stream",
     "text": [
      "/home/scott/anaconda3/envs/dlearn/lib/python3.7/site-packages/sklearn/decomposition/_dict_learning.py:213: RuntimeWarning: Orthogonal matching pursuit ended prematurely due to linear dependence in the dictionary. The requested precision might not have been met.\n",
      "  copy_Xy=copy_cov,\n",
      "/home/scott/anaconda3/envs/dlearn/lib/python3.7/site-packages/sklearn/decomposition/_dict_learning.py:213: RuntimeWarning: Orthogonal matching pursuit ended prematurely due to linear dependence in the dictionary. The requested precision might not have been met.\n",
      "  copy_Xy=copy_cov,\n"
     ]
    },
    {
     "name": "stdout",
     "output_type": "stream",
     "text": [
      "1\n"
     ]
    },
    {
     "name": "stderr",
     "output_type": "stream",
     "text": [
      "/home/scott/anaconda3/envs/dlearn/lib/python3.7/site-packages/sklearn/decomposition/_dict_learning.py:213: RuntimeWarning: Orthogonal matching pursuit ended prematurely due to linear dependence in the dictionary. The requested precision might not have been met.\n",
      "  copy_Xy=copy_cov,\n",
      "/home/scott/anaconda3/envs/dlearn/lib/python3.7/site-packages/sklearn/decomposition/_dict_learning.py:213: RuntimeWarning: Orthogonal matching pursuit ended prematurely due to linear dependence in the dictionary. The requested precision might not have been met.\n",
      "  copy_Xy=copy_cov,\n"
     ]
    },
    {
     "name": "stdout",
     "output_type": "stream",
     "text": [
      "1\n"
     ]
    },
    {
     "name": "stderr",
     "output_type": "stream",
     "text": [
      "/home/scott/anaconda3/envs/dlearn/lib/python3.7/site-packages/sklearn/decomposition/_dict_learning.py:213: RuntimeWarning: Orthogonal matching pursuit ended prematurely due to linear dependence in the dictionary. The requested precision might not have been met.\n",
      "  copy_Xy=copy_cov,\n",
      "/home/scott/anaconda3/envs/dlearn/lib/python3.7/site-packages/sklearn/decomposition/_dict_learning.py:213: RuntimeWarning: Orthogonal matching pursuit ended prematurely due to linear dependence in the dictionary. The requested precision might not have been met.\n",
      "  copy_Xy=copy_cov,\n"
     ]
    },
    {
     "name": "stdout",
     "output_type": "stream",
     "text": [
      "1\n"
     ]
    },
    {
     "name": "stderr",
     "output_type": "stream",
     "text": [
      "/home/scott/anaconda3/envs/dlearn/lib/python3.7/site-packages/sklearn/decomposition/_dict_learning.py:213: RuntimeWarning: Orthogonal matching pursuit ended prematurely due to linear dependence in the dictionary. The requested precision might not have been met.\n",
      "  copy_Xy=copy_cov,\n",
      "/home/scott/anaconda3/envs/dlearn/lib/python3.7/site-packages/sklearn/decomposition/_dict_learning.py:213: RuntimeWarning: Orthogonal matching pursuit ended prematurely due to linear dependence in the dictionary. The requested precision might not have been met.\n",
      "  copy_Xy=copy_cov,\n"
     ]
    },
    {
     "name": "stdout",
     "output_type": "stream",
     "text": [
      "1\n"
     ]
    },
    {
     "name": "stderr",
     "output_type": "stream",
     "text": [
      "/home/scott/anaconda3/envs/dlearn/lib/python3.7/site-packages/sklearn/decomposition/_dict_learning.py:213: RuntimeWarning: Orthogonal matching pursuit ended prematurely due to linear dependence in the dictionary. The requested precision might not have been met.\n",
      "  copy_Xy=copy_cov,\n",
      "/home/scott/anaconda3/envs/dlearn/lib/python3.7/site-packages/sklearn/decomposition/_dict_learning.py:213: RuntimeWarning: Orthogonal matching pursuit ended prematurely due to linear dependence in the dictionary. The requested precision might not have been met.\n",
      "  copy_Xy=copy_cov,\n"
     ]
    },
    {
     "name": "stdout",
     "output_type": "stream",
     "text": [
      "1\n"
     ]
    },
    {
     "name": "stderr",
     "output_type": "stream",
     "text": [
      "/home/scott/anaconda3/envs/dlearn/lib/python3.7/site-packages/sklearn/decomposition/_dict_learning.py:213: RuntimeWarning: Orthogonal matching pursuit ended prematurely due to linear dependence in the dictionary. The requested precision might not have been met.\n",
      "  copy_Xy=copy_cov,\n",
      "/home/scott/anaconda3/envs/dlearn/lib/python3.7/site-packages/sklearn/decomposition/_dict_learning.py:213: RuntimeWarning: Orthogonal matching pursuit ended prematurely due to linear dependence in the dictionary. The requested precision might not have been met.\n",
      "  copy_Xy=copy_cov,\n"
     ]
    },
    {
     "name": "stdout",
     "output_type": "stream",
     "text": [
      "1\n"
     ]
    },
    {
     "name": "stderr",
     "output_type": "stream",
     "text": [
      "/home/scott/anaconda3/envs/dlearn/lib/python3.7/site-packages/sklearn/decomposition/_dict_learning.py:213: RuntimeWarning: Orthogonal matching pursuit ended prematurely due to linear dependence in the dictionary. The requested precision might not have been met.\n",
      "  copy_Xy=copy_cov,\n",
      "/home/scott/anaconda3/envs/dlearn/lib/python3.7/site-packages/sklearn/decomposition/_dict_learning.py:213: RuntimeWarning: Orthogonal matching pursuit ended prematurely due to linear dependence in the dictionary. The requested precision might not have been met.\n",
      "  copy_Xy=copy_cov,\n"
     ]
    },
    {
     "name": "stdout",
     "output_type": "stream",
     "text": [
      "coeffs: 5, ratio: 2, mse average: 0.005642\n",
      "coeffs: 3, ratio: 3, mse average: 0.008403\n",
      "coeffs: 2, ratio: 4, mse average: 0.010505\n",
      "coeffs: 1, ratio: 6, mse average: 0.013974\n",
      "coeffs: 1, ratio: 7, mse average: 0.013974\n",
      "coeffs: 1, ratio: 8, mse average: 0.013974\n",
      "coeffs: 1, ratio: 9, mse average: 0.013974\n",
      "coeffs: 1, ratio: 10, mse average: 0.013974\n",
      "coeffs: 1, ratio: 11, mse average: 0.013974\n",
      "coeffs: 1, ratio: 12, mse average: 0.013974\n",
      "coeffs: 1, ratio: 13, mse average: 0.013974\n",
      "coeffs: 1, ratio: 15, mse average: 0.013974\n",
      "coeffs: 1, ratio: 18, mse average: 0.013974\n",
      "coeffs: 1, ratio: 21, mse average: 0.013974\n",
      "coeffs: 1, ratio: 30, mse average: 0.013974\n",
      "coeffs: 1, ratio: 41, mse average: 0.013974\n"
     ]
    }
   ],
   "source": [
    "pca_dataset = cer_val_fc.cern_data.cpu().numpy()\n",
    "pca_dataset = pca_dataset.reshape(-1, 48)\n",
    "total_losses = {c: [] for c in components_cer}\n",
    "no_days = 12\n",
    "\n",
    "for c in components_cer:\n",
    "    print(c)\n",
    "    for record_no in range((pca_dataset.shape[0] // (no_days))):\n",
    "\n",
    "        current_record = pca_dataset[(record_no * no_days):((record_no + 1) * no_days), :]\n",
    "        dictionarylearner = DictionaryLearning(c, transform_algorithm = 'omp', \n",
    "                                       max_iter = 60, transform_n_nonzero_coefs=1)\n",
    "        compressed_ksvd = dictionarylearner.fit_transform(current_record)\n",
    "        \n",
    "        # uncompress\n",
    "        uncompressed_ksvd = compressed_ksvd @ dictionarylearner.components_\n",
    "        \n",
    "        # work out diff\n",
    "        total_losses[c].append(loss(torch.from_numpy(current_record), \n",
    "                                    torch.from_numpy(uncompressed_ksvd)).item())\n",
    "        \n",
    "for c, ratio in zip(components_cer, required_ratios):\n",
    "    \n",
    "    mse_avg_ = sum(total_losses[c]) / len(total_losses[c])\n",
    "    \n",
    "    print('coeffs: {}, ratio: {}, mse average: {:.6f}'.format(c, ratio, mse_avg_))\n",
    "        "
   ]
  },
  {
   "cell_type": "code",
   "execution_count": 27,
   "id": "37f25288-7dc8-4a55-9511-de549dd16828",
   "metadata": {},
   "outputs": [
    {
     "name": "stdout",
     "output_type": "stream",
     "text": [
      "5\n",
      "3\n",
      "2\n",
      "1\n",
      "1\n",
      "1\n",
      "1\n",
      "1\n",
      "1\n",
      "1\n",
      "1\n",
      "1\n",
      "1\n",
      "1\n",
      "1\n",
      "1\n",
      "coeffs: 5, ratio: 2, mse average: 0.008404\n",
      "coeffs: 3, ratio: 3, mse average: 0.011983\n",
      "coeffs: 2, ratio: 4, mse average: 0.014334\n",
      "coeffs: 1, ratio: 6, mse average: 0.017552\n",
      "coeffs: 1, ratio: 7, mse average: 0.017552\n",
      "coeffs: 1, ratio: 8, mse average: 0.017552\n",
      "coeffs: 1, ratio: 9, mse average: 0.017552\n",
      "coeffs: 1, ratio: 10, mse average: 0.017552\n",
      "coeffs: 1, ratio: 11, mse average: 0.017552\n",
      "coeffs: 1, ratio: 12, mse average: 0.017552\n",
      "coeffs: 1, ratio: 13, mse average: 0.017552\n",
      "coeffs: 1, ratio: 15, mse average: 0.017552\n",
      "coeffs: 1, ratio: 18, mse average: 0.017552\n",
      "coeffs: 1, ratio: 21, mse average: 0.017552\n",
      "coeffs: 1, ratio: 30, mse average: 0.017552\n",
      "coeffs: 1, ratio: 41, mse average: 0.017552\n"
     ]
    }
   ],
   "source": [
    "pca_dataset = umass_val_fc.umass_data.cpu().numpy()\n",
    "pca_dataset = pca_dataset.reshape(-1, 96)\n",
    "total_losses = {c: [] for c in components_umass}\n",
    "no_days = 12\n",
    "\n",
    "for c in components_umass:\n",
    "    print(c)\n",
    "    for record_no in range((pca_dataset.shape[0] // (no_days))):\n",
    "\n",
    "        current_record = pca_dataset[(record_no * no_days):((record_no + 1) * no_days), :]\n",
    "        dictionarylearner = DictionaryLearning(c, transform_algorithm = 'omp', \n",
    "                                       max_iter = 60, transform_n_nonzero_coefs=1)\n",
    "        compressed_ksvd = dictionarylearner.fit_transform(current_record)\n",
    "        \n",
    "        # uncompress\n",
    "        uncompressed_ksvd = compressed_ksvd @ dictionarylearner.components_\n",
    "        \n",
    "        # work out diff\n",
    "        total_losses[c].append(loss(torch.from_numpy(current_record), \n",
    "                                    torch.from_numpy(uncompressed_ksvd)).item())\n",
    "        \n",
    "for c, ratio in zip(components_umass, required_ratios):\n",
    "    \n",
    "    mse_avg_ = sum(total_losses[c]) / len(total_losses[c])\n",
    "    \n",
    "    print('coeffs: {}, ratio: {}, mse average: {:.6f}'.format(c, ratio, mse_avg_))\n",
    "        "
   ]
  },
  {
   "cell_type": "code",
   "execution_count": 49,
   "id": "8c10b7bb-9e49-4cec-a9c2-74a78323af55",
   "metadata": {},
   "outputs": [
    {
     "name": "stdout",
     "output_type": "stream",
     "text": [
      "29\n"
     ]
    },
    {
     "name": "stderr",
     "output_type": "stream",
     "text": [
      "/home/scott/anaconda3/envs/dlearn/lib/python3.7/site-packages/sklearn/decomposition/_dict_learning.py:213: RuntimeWarning: Orthogonal matching pursuit ended prematurely due to linear dependence in the dictionary. The requested precision might not have been met.\n",
      "  copy_Xy=copy_cov,\n",
      "/home/scott/anaconda3/envs/dlearn/lib/python3.7/site-packages/sklearn/decomposition/_dict_learning.py:213: RuntimeWarning: Orthogonal matching pursuit ended prematurely due to linear dependence in the dictionary. The requested precision might not have been met.\n",
      "  copy_Xy=copy_cov,\n",
      "/home/scott/anaconda3/envs/dlearn/lib/python3.7/site-packages/sklearn/linear_model/_least_angle.py:660: ConvergenceWarning: Regressors in active set degenerate. Dropping a regressor, after 2 iterations, i.e. alpha=2.197e-02, with an active set of 2 regressors, and the smallest cholesky pivot element being 2.220e-16. Reduce max_iter or increase eps parameters.\n",
      "  ConvergenceWarning,\n",
      "/home/scott/anaconda3/envs/dlearn/lib/python3.7/site-packages/sklearn/linear_model/_least_angle.py:660: ConvergenceWarning: Regressors in active set degenerate. Dropping a regressor, after 2 iterations, i.e. alpha=4.202e-02, with an active set of 2 regressors, and the smallest cholesky pivot element being 2.220e-16. Reduce max_iter or increase eps parameters.\n",
      "  ConvergenceWarning,\n",
      "/home/scott/anaconda3/envs/dlearn/lib/python3.7/site-packages/sklearn/linear_model/_least_angle.py:688: ConvergenceWarning: Early stopping the lars path, as the residues are small and the current value of alpha is no longer well controlled. 31 iterations, alpha=1.946e-02, previous alpha=1.840e-02, with an active set of 8 regressors.\n",
      "  ConvergenceWarning,\n",
      "/home/scott/anaconda3/envs/dlearn/lib/python3.7/site-packages/sklearn/linear_model/_least_angle.py:660: ConvergenceWarning: Regressors in active set degenerate. Dropping a regressor, after 3 iterations, i.e. alpha=2.963e-02, with an active set of 3 regressors, and the smallest cholesky pivot element being 2.220e-16. Reduce max_iter or increase eps parameters.\n",
      "  ConvergenceWarning,\n",
      "/home/scott/anaconda3/envs/dlearn/lib/python3.7/site-packages/sklearn/linear_model/_least_angle.py:660: ConvergenceWarning: Regressors in active set degenerate. Dropping a regressor, after 2 iterations, i.e. alpha=5.035e-02, with an active set of 2 regressors, and the smallest cholesky pivot element being 2.220e-16. Reduce max_iter or increase eps parameters.\n",
      "  ConvergenceWarning,\n",
      "/home/scott/anaconda3/envs/dlearn/lib/python3.7/site-packages/sklearn/linear_model/_least_angle.py:688: ConvergenceWarning: Early stopping the lars path, as the residues are small and the current value of alpha is no longer well controlled. 5 iterations, alpha=2.517e-02, previous alpha=2.517e-02, with an active set of 4 regressors.\n",
      "  ConvergenceWarning,\n",
      "/home/scott/anaconda3/envs/dlearn/lib/python3.7/site-packages/sklearn/linear_model/_least_angle.py:660: ConvergenceWarning: Regressors in active set degenerate. Dropping a regressor, after 6 iterations, i.e. alpha=4.455e-02, with an active set of 4 regressors, and the smallest cholesky pivot element being 2.220e-16. Reduce max_iter or increase eps parameters.\n",
      "  ConvergenceWarning,\n",
      "/home/scott/anaconda3/envs/dlearn/lib/python3.7/site-packages/sklearn/linear_model/_least_angle.py:688: ConvergenceWarning: Early stopping the lars path, as the residues are small and the current value of alpha is no longer well controlled. 27 iterations, alpha=1.723e-02, previous alpha=1.723e-02, with an active set of 4 regressors.\n",
      "  ConvergenceWarning,\n",
      "/home/scott/anaconda3/envs/dlearn/lib/python3.7/site-packages/sklearn/decomposition/_dict_learning.py:213: RuntimeWarning: Orthogonal matching pursuit ended prematurely due to linear dependence in the dictionary. The requested precision might not have been met.\n",
      "  copy_Xy=copy_cov,\n",
      "/home/scott/anaconda3/envs/dlearn/lib/python3.7/site-packages/sklearn/linear_model/_least_angle.py:660: ConvergenceWarning: Regressors in active set degenerate. Dropping a regressor, after 1 iterations, i.e. alpha=3.819e-02, with an active set of 1 regressors, and the smallest cholesky pivot element being 2.220e-16. Reduce max_iter or increase eps parameters.\n",
      "  ConvergenceWarning,\n",
      "/home/scott/anaconda3/envs/dlearn/lib/python3.7/site-packages/sklearn/linear_model/_least_angle.py:688: ConvergenceWarning: Early stopping the lars path, as the residues are small and the current value of alpha is no longer well controlled. 11 iterations, alpha=1.910e-02, previous alpha=1.910e-02, with an active set of 6 regressors.\n",
      "  ConvergenceWarning,\n",
      "/home/scott/anaconda3/envs/dlearn/lib/python3.7/site-packages/sklearn/linear_model/_least_angle.py:660: ConvergenceWarning: Regressors in active set degenerate. Dropping a regressor, after 5 iterations, i.e. alpha=6.523e-02, with an active set of 3 regressors, and the smallest cholesky pivot element being 2.220e-16. Reduce max_iter or increase eps parameters.\n",
      "  ConvergenceWarning,\n",
      "/home/scott/anaconda3/envs/dlearn/lib/python3.7/site-packages/sklearn/linear_model/_least_angle.py:660: ConvergenceWarning: Regressors in active set degenerate. Dropping a regressor, after 7 iterations, i.e. alpha=4.017e-02, with an active set of 5 regressors, and the smallest cholesky pivot element being 2.220e-16. Reduce max_iter or increase eps parameters.\n",
      "  ConvergenceWarning,\n",
      "/home/scott/anaconda3/envs/dlearn/lib/python3.7/site-packages/sklearn/linear_model/_least_angle.py:660: ConvergenceWarning: Regressors in active set degenerate. Dropping a regressor, after 8 iterations, i.e. alpha=3.261e-02, with an active set of 6 regressors, and the smallest cholesky pivot element being 2.220e-16. Reduce max_iter or increase eps parameters.\n",
      "  ConvergenceWarning,\n",
      "/home/scott/anaconda3/envs/dlearn/lib/python3.7/site-packages/sklearn/linear_model/_least_angle.py:688: ConvergenceWarning: Early stopping the lars path, as the residues are small and the current value of alpha is no longer well controlled. 9 iterations, alpha=3.261e-02, previous alpha=3.261e-02, with an active set of 6 regressors.\n",
      "  ConvergenceWarning,\n",
      "/home/scott/anaconda3/envs/dlearn/lib/python3.7/site-packages/sklearn/linear_model/_least_angle.py:660: ConvergenceWarning: Regressors in active set degenerate. Dropping a regressor, after 1 iterations, i.e. alpha=3.027e-02, with an active set of 1 regressors, and the smallest cholesky pivot element being 2.220e-16. Reduce max_iter or increase eps parameters.\n",
      "  ConvergenceWarning,\n",
      "/home/scott/anaconda3/envs/dlearn/lib/python3.7/site-packages/sklearn/linear_model/_least_angle.py:660: ConvergenceWarning: Regressors in active set degenerate. Dropping a regressor, after 3 iterations, i.e. alpha=2.314e-02, with an active set of 3 regressors, and the smallest cholesky pivot element being 2.220e-16. Reduce max_iter or increase eps parameters.\n",
      "  ConvergenceWarning,\n",
      "/home/scott/anaconda3/envs/dlearn/lib/python3.7/site-packages/sklearn/linear_model/_least_angle.py:660: ConvergenceWarning: Regressors in active set degenerate. Dropping a regressor, after 3 iterations, i.e. alpha=2.016e-02, with an active set of 3 regressors, and the smallest cholesky pivot element being 2.220e-16. Reduce max_iter or increase eps parameters.\n",
      "  ConvergenceWarning,\n",
      "/home/scott/anaconda3/envs/dlearn/lib/python3.7/site-packages/sklearn/linear_model/_least_angle.py:660: ConvergenceWarning: Regressors in active set degenerate. Dropping a regressor, after 5 iterations, i.e. alpha=3.086e-02, with an active set of 3 regressors, and the smallest cholesky pivot element being 2.220e-16. Reduce max_iter or increase eps parameters.\n",
      "  ConvergenceWarning,\n",
      "/home/scott/anaconda3/envs/dlearn/lib/python3.7/site-packages/sklearn/linear_model/_least_angle.py:660: ConvergenceWarning: Regressors in active set degenerate. Dropping a regressor, after 2 iterations, i.e. alpha=4.555e-02, with an active set of 2 regressors, and the smallest cholesky pivot element being 2.220e-16. Reduce max_iter or increase eps parameters.\n",
      "  ConvergenceWarning,\n",
      "/home/scott/anaconda3/envs/dlearn/lib/python3.7/site-packages/sklearn/linear_model/_least_angle.py:660: ConvergenceWarning: Regressors in active set degenerate. Dropping a regressor, after 4 iterations, i.e. alpha=2.171e-02, with an active set of 4 regressors, and the smallest cholesky pivot element being 2.220e-16. Reduce max_iter or increase eps parameters.\n",
      "  ConvergenceWarning,\n",
      "/home/scott/anaconda3/envs/dlearn/lib/python3.7/site-packages/sklearn/decomposition/_dict_learning.py:213: RuntimeWarning: Orthogonal matching pursuit ended prematurely due to linear dependence in the dictionary. The requested precision might not have been met.\n",
      "  copy_Xy=copy_cov,\n",
      "/home/scott/anaconda3/envs/dlearn/lib/python3.7/site-packages/sklearn/linear_model/_least_angle.py:660: ConvergenceWarning: Regressors in active set degenerate. Dropping a regressor, after 4 iterations, i.e. alpha=1.921e-02, with an active set of 4 regressors, and the smallest cholesky pivot element being 2.220e-16. Reduce max_iter or increase eps parameters.\n",
      "  ConvergenceWarning,\n",
      "/home/scott/anaconda3/envs/dlearn/lib/python3.7/site-packages/sklearn/linear_model/_least_angle.py:660: ConvergenceWarning: Regressors in active set degenerate. Dropping a regressor, after 2 iterations, i.e. alpha=3.390e-02, with an active set of 2 regressors, and the smallest cholesky pivot element being 2.220e-16. Reduce max_iter or increase eps parameters.\n",
      "  ConvergenceWarning,\n",
      "/home/scott/anaconda3/envs/dlearn/lib/python3.7/site-packages/sklearn/linear_model/_least_angle.py:660: ConvergenceWarning: Regressors in active set degenerate. Dropping a regressor, after 3 iterations, i.e. alpha=1.695e-02, with an active set of 3 regressors, and the smallest cholesky pivot element being 2.220e-16. Reduce max_iter or increase eps parameters.\n",
      "  ConvergenceWarning,\n",
      "/home/scott/anaconda3/envs/dlearn/lib/python3.7/site-packages/sklearn/linear_model/_least_angle.py:688: ConvergenceWarning: Early stopping the lars path, as the residues are small and the current value of alpha is no longer well controlled. 10 iterations, alpha=1.692e-02, previous alpha=1.691e-02, with an active set of 5 regressors.\n",
      "  ConvergenceWarning,\n",
      "/home/scott/anaconda3/envs/dlearn/lib/python3.7/site-packages/sklearn/linear_model/_least_angle.py:660: ConvergenceWarning: Regressors in active set degenerate. Dropping a regressor, after 1 iterations, i.e. alpha=3.277e-02, with an active set of 1 regressors, and the smallest cholesky pivot element being 2.220e-16. Reduce max_iter or increase eps parameters.\n",
      "  ConvergenceWarning,\n",
      "/home/scott/anaconda3/envs/dlearn/lib/python3.7/site-packages/sklearn/linear_model/_least_angle.py:660: ConvergenceWarning: Regressors in active set degenerate. Dropping a regressor, after 2 iterations, i.e. alpha=2.977e-02, with an active set of 2 regressors, and the smallest cholesky pivot element being 2.220e-16. Reduce max_iter or increase eps parameters.\n",
      "  ConvergenceWarning,\n",
      "/home/scott/anaconda3/envs/dlearn/lib/python3.7/site-packages/sklearn/linear_model/_least_angle.py:660: ConvergenceWarning: Regressors in active set degenerate. Dropping a regressor, after 7 iterations, i.e. alpha=1.909e-02, with an active set of 5 regressors, and the smallest cholesky pivot element being 2.220e-16. Reduce max_iter or increase eps parameters.\n",
      "  ConvergenceWarning,\n",
      "/home/scott/anaconda3/envs/dlearn/lib/python3.7/site-packages/sklearn/decomposition/_dict_learning.py:213: RuntimeWarning: Orthogonal matching pursuit ended prematurely due to linear dependence in the dictionary. The requested precision might not have been met.\n",
      "  copy_Xy=copy_cov,\n",
      "/home/scott/anaconda3/envs/dlearn/lib/python3.7/site-packages/sklearn/linear_model/_least_angle.py:660: ConvergenceWarning: Regressors in active set degenerate. Dropping a regressor, after 2 iterations, i.e. alpha=4.215e-02, with an active set of 2 regressors, and the smallest cholesky pivot element being 2.220e-16. Reduce max_iter or increase eps parameters.\n",
      "  ConvergenceWarning,\n"
     ]
    },
    {
     "name": "stdout",
     "output_type": "stream",
     "text": [
      "19\n"
     ]
    },
    {
     "name": "stderr",
     "output_type": "stream",
     "text": [
      "/home/scott/anaconda3/envs/dlearn/lib/python3.7/site-packages/sklearn/decomposition/_dict_learning.py:213: RuntimeWarning: Orthogonal matching pursuit ended prematurely due to linear dependence in the dictionary. The requested precision might not have been met.\n",
      "  copy_Xy=copy_cov,\n",
      "/home/scott/anaconda3/envs/dlearn/lib/python3.7/site-packages/sklearn/linear_model/_least_angle.py:660: ConvergenceWarning: Regressors in active set degenerate. Dropping a regressor, after 3 iterations, i.e. alpha=3.322e-02, with an active set of 3 regressors, and the smallest cholesky pivot element being 2.220e-16. Reduce max_iter or increase eps parameters.\n",
      "  ConvergenceWarning,\n",
      "/home/scott/anaconda3/envs/dlearn/lib/python3.7/site-packages/sklearn/linear_model/_least_angle.py:660: ConvergenceWarning: Regressors in active set degenerate. Dropping a regressor, after 2 iterations, i.e. alpha=2.320e-02, with an active set of 2 regressors, and the smallest cholesky pivot element being 2.220e-16. Reduce max_iter or increase eps parameters.\n",
      "  ConvergenceWarning,\n",
      "/home/scott/anaconda3/envs/dlearn/lib/python3.7/site-packages/sklearn/decomposition/_dict_learning.py:213: RuntimeWarning: Orthogonal matching pursuit ended prematurely due to linear dependence in the dictionary. The requested precision might not have been met.\n",
      "  copy_Xy=copy_cov,\n",
      "/home/scott/anaconda3/envs/dlearn/lib/python3.7/site-packages/sklearn/linear_model/_least_angle.py:660: ConvergenceWarning: Regressors in active set degenerate. Dropping a regressor, after 4 iterations, i.e. alpha=3.818e-02, with an active set of 2 regressors, and the smallest cholesky pivot element being 2.220e-16. Reduce max_iter or increase eps parameters.\n",
      "  ConvergenceWarning,\n",
      "/home/scott/anaconda3/envs/dlearn/lib/python3.7/site-packages/sklearn/linear_model/_least_angle.py:660: ConvergenceWarning: Regressors in active set degenerate. Dropping a regressor, after 5 iterations, i.e. alpha=1.909e-02, with an active set of 3 regressors, and the smallest cholesky pivot element being 2.220e-16. Reduce max_iter or increase eps parameters.\n",
      "  ConvergenceWarning,\n",
      "/home/scott/anaconda3/envs/dlearn/lib/python3.7/site-packages/sklearn/linear_model/_least_angle.py:660: ConvergenceWarning: Regressors in active set degenerate. Dropping a regressor, after 2 iterations, i.e. alpha=1.979e-02, with an active set of 2 regressors, and the smallest cholesky pivot element being 2.220e-16. Reduce max_iter or increase eps parameters.\n",
      "  ConvergenceWarning,\n",
      "/home/scott/anaconda3/envs/dlearn/lib/python3.7/site-packages/sklearn/linear_model/_least_angle.py:660: ConvergenceWarning: Regressors in active set degenerate. Dropping a regressor, after 2 iterations, i.e. alpha=4.219e-02, with an active set of 2 regressors, and the smallest cholesky pivot element being 2.220e-16. Reduce max_iter or increase eps parameters.\n",
      "  ConvergenceWarning,\n",
      "/home/scott/anaconda3/envs/dlearn/lib/python3.7/site-packages/sklearn/linear_model/_least_angle.py:660: ConvergenceWarning: Regressors in active set degenerate. Dropping a regressor, after 3 iterations, i.e. alpha=2.973e-02, with an active set of 3 regressors, and the smallest cholesky pivot element being 2.220e-16. Reduce max_iter or increase eps parameters.\n",
      "  ConvergenceWarning,\n",
      "/home/scott/anaconda3/envs/dlearn/lib/python3.7/site-packages/sklearn/linear_model/_least_angle.py:660: ConvergenceWarning: Regressors in active set degenerate. Dropping a regressor, after 2 iterations, i.e. alpha=2.459e-02, with an active set of 2 regressors, and the smallest cholesky pivot element being 2.220e-16. Reduce max_iter or increase eps parameters.\n",
      "  ConvergenceWarning,\n",
      "/home/scott/anaconda3/envs/dlearn/lib/python3.7/site-packages/sklearn/linear_model/_least_angle.py:660: ConvergenceWarning: Regressors in active set degenerate. Dropping a regressor, after 3 iterations, i.e. alpha=1.726e-02, with an active set of 3 regressors, and the smallest cholesky pivot element being 2.220e-16. Reduce max_iter or increase eps parameters.\n",
      "  ConvergenceWarning,\n",
      "/home/scott/anaconda3/envs/dlearn/lib/python3.7/site-packages/sklearn/linear_model/_least_angle.py:660: ConvergenceWarning: Regressors in active set degenerate. Dropping a regressor, after 2 iterations, i.e. alpha=4.465e-02, with an active set of 2 regressors, and the smallest cholesky pivot element being 2.220e-16. Reduce max_iter or increase eps parameters.\n",
      "  ConvergenceWarning,\n",
      "/home/scott/anaconda3/envs/dlearn/lib/python3.7/site-packages/sklearn/linear_model/_least_angle.py:660: ConvergenceWarning: Regressors in active set degenerate. Dropping a regressor, after 3 iterations, i.e. alpha=3.129e-02, with an active set of 3 regressors, and the smallest cholesky pivot element being 2.220e-16. Reduce max_iter or increase eps parameters.\n",
      "  ConvergenceWarning,\n",
      "/home/scott/anaconda3/envs/dlearn/lib/python3.7/site-packages/sklearn/linear_model/_least_angle.py:660: ConvergenceWarning: Regressors in active set degenerate. Dropping a regressor, after 2 iterations, i.e. alpha=1.974e-02, with an active set of 2 regressors, and the smallest cholesky pivot element being 2.220e-16. Reduce max_iter or increase eps parameters.\n",
      "  ConvergenceWarning,\n",
      "/home/scott/anaconda3/envs/dlearn/lib/python3.7/site-packages/sklearn/linear_model/_least_angle.py:660: ConvergenceWarning: Regressors in active set degenerate. Dropping a regressor, after 3 iterations, i.e. alpha=5.460e-02, with an active set of 3 regressors, and the smallest cholesky pivot element being 2.220e-16. Reduce max_iter or increase eps parameters.\n",
      "  ConvergenceWarning,\n",
      "/home/scott/anaconda3/envs/dlearn/lib/python3.7/site-packages/sklearn/linear_model/_least_angle.py:688: ConvergenceWarning: Early stopping the lars path, as the residues are small and the current value of alpha is no longer well controlled. 11 iterations, alpha=2.536e-02, previous alpha=2.536e-02, with an active set of 4 regressors.\n",
      "  ConvergenceWarning,\n",
      "/home/scott/anaconda3/envs/dlearn/lib/python3.7/site-packages/sklearn/linear_model/_least_angle.py:660: ConvergenceWarning: Regressors in active set degenerate. Dropping a regressor, after 1 iterations, i.e. alpha=2.150e-02, with an active set of 1 regressors, and the smallest cholesky pivot element being 2.220e-16. Reduce max_iter or increase eps parameters.\n",
      "  ConvergenceWarning,\n",
      "/home/scott/anaconda3/envs/dlearn/lib/python3.7/site-packages/sklearn/linear_model/_least_angle.py:660: ConvergenceWarning: Regressors in active set degenerate. Dropping a regressor, after 2 iterations, i.e. alpha=9.134e-02, with an active set of 2 regressors, and the smallest cholesky pivot element being 2.220e-16. Reduce max_iter or increase eps parameters.\n",
      "  ConvergenceWarning,\n",
      "/home/scott/anaconda3/envs/dlearn/lib/python3.7/site-packages/sklearn/decomposition/_dict_learning.py:213: RuntimeWarning: Orthogonal matching pursuit ended prematurely due to linear dependence in the dictionary. The requested precision might not have been met.\n",
      "  copy_Xy=copy_cov,\n",
      "/home/scott/anaconda3/envs/dlearn/lib/python3.7/site-packages/sklearn/linear_model/_least_angle.py:660: ConvergenceWarning: Regressors in active set degenerate. Dropping a regressor, after 2 iterations, i.e. alpha=2.777e-02, with an active set of 2 regressors, and the smallest cholesky pivot element being 2.220e-16. Reduce max_iter or increase eps parameters.\n",
      "  ConvergenceWarning,\n",
      "/home/scott/anaconda3/envs/dlearn/lib/python3.7/site-packages/sklearn/linear_model/_least_angle.py:660: ConvergenceWarning: Regressors in active set degenerate. Dropping a regressor, after 1 iterations, i.e. alpha=3.381e-02, with an active set of 1 regressors, and the smallest cholesky pivot element being 2.220e-16. Reduce max_iter or increase eps parameters.\n",
      "  ConvergenceWarning,\n",
      "/home/scott/anaconda3/envs/dlearn/lib/python3.7/site-packages/sklearn/linear_model/_least_angle.py:660: ConvergenceWarning: Regressors in active set degenerate. Dropping a regressor, after 2 iterations, i.e. alpha=2.726e-02, with an active set of 2 regressors, and the smallest cholesky pivot element being 2.220e-16. Reduce max_iter or increase eps parameters.\n",
      "  ConvergenceWarning,\n",
      "/home/scott/anaconda3/envs/dlearn/lib/python3.7/site-packages/sklearn/linear_model/_least_angle.py:660: ConvergenceWarning: Regressors in active set degenerate. Dropping a regressor, after 2 iterations, i.e. alpha=2.725e-02, with an active set of 2 regressors, and the smallest cholesky pivot element being 2.220e-16. Reduce max_iter or increase eps parameters.\n",
      "  ConvergenceWarning,\n",
      "/home/scott/anaconda3/envs/dlearn/lib/python3.7/site-packages/sklearn/linear_model/_least_angle.py:688: ConvergenceWarning: Early stopping the lars path, as the residues are small and the current value of alpha is no longer well controlled. 3 iterations, alpha=2.673e-02, previous alpha=1.685e-02, with an active set of 2 regressors.\n",
      "  ConvergenceWarning,\n",
      "/home/scott/anaconda3/envs/dlearn/lib/python3.7/site-packages/sklearn/linear_model/_least_angle.py:660: ConvergenceWarning: Regressors in active set degenerate. Dropping a regressor, after 1 iterations, i.e. alpha=3.521e-02, with an active set of 1 regressors, and the smallest cholesky pivot element being 2.220e-16. Reduce max_iter or increase eps parameters.\n",
      "  ConvergenceWarning,\n",
      "/home/scott/anaconda3/envs/dlearn/lib/python3.7/site-packages/sklearn/linear_model/_least_angle.py:660: ConvergenceWarning: Regressors in active set degenerate. Dropping a regressor, after 2 iterations, i.e. alpha=5.049e-02, with an active set of 2 regressors, and the smallest cholesky pivot element being 2.220e-16. Reduce max_iter or increase eps parameters.\n",
      "  ConvergenceWarning,\n",
      "/home/scott/anaconda3/envs/dlearn/lib/python3.7/site-packages/sklearn/linear_model/_least_angle.py:660: ConvergenceWarning: Regressors in active set degenerate. Dropping a regressor, after 5 iterations, i.e. alpha=2.410e-02, with an active set of 3 regressors, and the smallest cholesky pivot element being 2.220e-16. Reduce max_iter or increase eps parameters.\n",
      "  ConvergenceWarning,\n",
      "/home/scott/anaconda3/envs/dlearn/lib/python3.7/site-packages/sklearn/linear_model/_least_angle.py:660: ConvergenceWarning: Regressors in active set degenerate. Dropping a regressor, after 1 iterations, i.e. alpha=1.934e-02, with an active set of 1 regressors, and the smallest cholesky pivot element being 2.220e-16. Reduce max_iter or increase eps parameters.\n",
      "  ConvergenceWarning,\n",
      "/home/scott/anaconda3/envs/dlearn/lib/python3.7/site-packages/sklearn/decomposition/_dict_learning.py:213: RuntimeWarning: Orthogonal matching pursuit ended prematurely due to linear dependence in the dictionary. The requested precision might not have been met.\n",
      "  copy_Xy=copy_cov,\n",
      "/home/scott/anaconda3/envs/dlearn/lib/python3.7/site-packages/sklearn/linear_model/_least_angle.py:660: ConvergenceWarning: Regressors in active set degenerate. Dropping a regressor, after 2 iterations, i.e. alpha=5.579e-02, with an active set of 2 regressors, and the smallest cholesky pivot element being 2.220e-16. Reduce max_iter or increase eps parameters.\n",
      "  ConvergenceWarning,\n",
      "/home/scott/anaconda3/envs/dlearn/lib/python3.7/site-packages/sklearn/linear_model/_least_angle.py:660: ConvergenceWarning: Regressors in active set degenerate. Dropping a regressor, after 4 iterations, i.e. alpha=1.702e-02, with an active set of 4 regressors, and the smallest cholesky pivot element being 2.220e-16. Reduce max_iter or increase eps parameters.\n",
      "  ConvergenceWarning,\n",
      "/home/scott/anaconda3/envs/dlearn/lib/python3.7/site-packages/sklearn/decomposition/_dict_learning.py:213: RuntimeWarning: Orthogonal matching pursuit ended prematurely due to linear dependence in the dictionary. The requested precision might not have been met.\n",
      "  copy_Xy=copy_cov,\n"
     ]
    },
    {
     "name": "stdout",
     "output_type": "stream",
     "text": [
      "14\n"
     ]
    },
    {
     "name": "stderr",
     "output_type": "stream",
     "text": [
      "/home/scott/anaconda3/envs/dlearn/lib/python3.7/site-packages/sklearn/decomposition/_dict_learning.py:213: RuntimeWarning: Orthogonal matching pursuit ended prematurely due to linear dependence in the dictionary. The requested precision might not have been met.\n",
      "  copy_Xy=copy_cov,\n",
      "/home/scott/anaconda3/envs/dlearn/lib/python3.7/site-packages/sklearn/decomposition/_dict_learning.py:213: RuntimeWarning: Orthogonal matching pursuit ended prematurely due to linear dependence in the dictionary. The requested precision might not have been met.\n",
      "  copy_Xy=copy_cov,\n",
      "/home/scott/anaconda3/envs/dlearn/lib/python3.7/site-packages/sklearn/decomposition/_dict_learning.py:213: RuntimeWarning: Orthogonal matching pursuit ended prematurely due to linear dependence in the dictionary. The requested precision might not have been met.\n",
      "  copy_Xy=copy_cov,\n",
      "/home/scott/anaconda3/envs/dlearn/lib/python3.7/site-packages/sklearn/linear_model/_least_angle.py:660: ConvergenceWarning: Regressors in active set degenerate. Dropping a regressor, after 2 iterations, i.e. alpha=1.849e-02, with an active set of 2 regressors, and the smallest cholesky pivot element being 2.220e-16. Reduce max_iter or increase eps parameters.\n",
      "  ConvergenceWarning,\n",
      "/home/scott/anaconda3/envs/dlearn/lib/python3.7/site-packages/sklearn/decomposition/_dict_learning.py:213: RuntimeWarning: Orthogonal matching pursuit ended prematurely due to linear dependence in the dictionary. The requested precision might not have been met.\n",
      "  copy_Xy=copy_cov,\n",
      "/home/scott/anaconda3/envs/dlearn/lib/python3.7/site-packages/sklearn/linear_model/_least_angle.py:660: ConvergenceWarning: Regressors in active set degenerate. Dropping a regressor, after 2 iterations, i.e. alpha=4.458e-02, with an active set of 2 regressors, and the smallest cholesky pivot element being 2.220e-16. Reduce max_iter or increase eps parameters.\n",
      "  ConvergenceWarning,\n",
      "/home/scott/anaconda3/envs/dlearn/lib/python3.7/site-packages/sklearn/linear_model/_least_angle.py:660: ConvergenceWarning: Regressors in active set degenerate. Dropping a regressor, after 3 iterations, i.e. alpha=2.797e-02, with an active set of 3 regressors, and the smallest cholesky pivot element being 2.220e-16. Reduce max_iter or increase eps parameters.\n",
      "  ConvergenceWarning,\n",
      "/home/scott/anaconda3/envs/dlearn/lib/python3.7/site-packages/sklearn/linear_model/_least_angle.py:660: ConvergenceWarning: Regressors in active set degenerate. Dropping a regressor, after 3 iterations, i.e. alpha=3.288e-02, with an active set of 3 regressors, and the smallest cholesky pivot element being 2.220e-16. Reduce max_iter or increase eps parameters.\n",
      "  ConvergenceWarning,\n",
      "/home/scott/anaconda3/envs/dlearn/lib/python3.7/site-packages/sklearn/decomposition/_dict_learning.py:213: RuntimeWarning: Orthogonal matching pursuit ended prematurely due to linear dependence in the dictionary. The requested precision might not have been met.\n",
      "  copy_Xy=copy_cov,\n"
     ]
    },
    {
     "name": "stdout",
     "output_type": "stream",
     "text": [
      "9\n"
     ]
    },
    {
     "name": "stderr",
     "output_type": "stream",
     "text": [
      "/home/scott/anaconda3/envs/dlearn/lib/python3.7/site-packages/sklearn/decomposition/_dict_learning.py:213: RuntimeWarning: Orthogonal matching pursuit ended prematurely due to linear dependence in the dictionary. The requested precision might not have been met.\n",
      "  copy_Xy=copy_cov,\n",
      "/home/scott/anaconda3/envs/dlearn/lib/python3.7/site-packages/sklearn/decomposition/_dict_learning.py:213: RuntimeWarning: Orthogonal matching pursuit ended prematurely due to linear dependence in the dictionary. The requested precision might not have been met.\n",
      "  copy_Xy=copy_cov,\n",
      "/home/scott/anaconda3/envs/dlearn/lib/python3.7/site-packages/sklearn/decomposition/_dict_learning.py:213: RuntimeWarning: Orthogonal matching pursuit ended prematurely due to linear dependence in the dictionary. The requested precision might not have been met.\n",
      "  copy_Xy=copy_cov,\n",
      "/home/scott/anaconda3/envs/dlearn/lib/python3.7/site-packages/sklearn/decomposition/_dict_learning.py:213: RuntimeWarning: Orthogonal matching pursuit ended prematurely due to linear dependence in the dictionary. The requested precision might not have been met.\n",
      "  copy_Xy=copy_cov,\n",
      "/home/scott/anaconda3/envs/dlearn/lib/python3.7/site-packages/sklearn/decomposition/_dict_learning.py:213: RuntimeWarning: Orthogonal matching pursuit ended prematurely due to linear dependence in the dictionary. The requested precision might not have been met.\n",
      "  copy_Xy=copy_cov,\n"
     ]
    },
    {
     "name": "stdout",
     "output_type": "stream",
     "text": [
      "7\n"
     ]
    },
    {
     "name": "stderr",
     "output_type": "stream",
     "text": [
      "/home/scott/anaconda3/envs/dlearn/lib/python3.7/site-packages/sklearn/decomposition/_dict_learning.py:213: RuntimeWarning: Orthogonal matching pursuit ended prematurely due to linear dependence in the dictionary. The requested precision might not have been met.\n",
      "  copy_Xy=copy_cov,\n",
      "/home/scott/anaconda3/envs/dlearn/lib/python3.7/site-packages/sklearn/decomposition/_dict_learning.py:213: RuntimeWarning: Orthogonal matching pursuit ended prematurely due to linear dependence in the dictionary. The requested precision might not have been met.\n",
      "  copy_Xy=copy_cov,\n",
      "/home/scott/anaconda3/envs/dlearn/lib/python3.7/site-packages/sklearn/decomposition/_dict_learning.py:213: RuntimeWarning: Orthogonal matching pursuit ended prematurely due to linear dependence in the dictionary. The requested precision might not have been met.\n",
      "  copy_Xy=copy_cov,\n",
      "/home/scott/anaconda3/envs/dlearn/lib/python3.7/site-packages/sklearn/decomposition/_dict_learning.py:213: RuntimeWarning: Orthogonal matching pursuit ended prematurely due to linear dependence in the dictionary. The requested precision might not have been met.\n",
      "  copy_Xy=copy_cov,\n",
      "/home/scott/anaconda3/envs/dlearn/lib/python3.7/site-packages/sklearn/decomposition/_dict_learning.py:213: RuntimeWarning: Orthogonal matching pursuit ended prematurely due to linear dependence in the dictionary. The requested precision might not have been met.\n",
      "  copy_Xy=copy_cov,\n"
     ]
    },
    {
     "name": "stdout",
     "output_type": "stream",
     "text": [
      "6\n"
     ]
    },
    {
     "name": "stderr",
     "output_type": "stream",
     "text": [
      "/home/scott/anaconda3/envs/dlearn/lib/python3.7/site-packages/sklearn/decomposition/_dict_learning.py:213: RuntimeWarning: Orthogonal matching pursuit ended prematurely due to linear dependence in the dictionary. The requested precision might not have been met.\n",
      "  copy_Xy=copy_cov,\n",
      "/home/scott/anaconda3/envs/dlearn/lib/python3.7/site-packages/sklearn/decomposition/_dict_learning.py:213: RuntimeWarning: Orthogonal matching pursuit ended prematurely due to linear dependence in the dictionary. The requested precision might not have been met.\n",
      "  copy_Xy=copy_cov,\n",
      "/home/scott/anaconda3/envs/dlearn/lib/python3.7/site-packages/sklearn/decomposition/_dict_learning.py:213: RuntimeWarning: Orthogonal matching pursuit ended prematurely due to linear dependence in the dictionary. The requested precision might not have been met.\n",
      "  copy_Xy=copy_cov,\n",
      "/home/scott/anaconda3/envs/dlearn/lib/python3.7/site-packages/sklearn/decomposition/_dict_learning.py:213: RuntimeWarning: Orthogonal matching pursuit ended prematurely due to linear dependence in the dictionary. The requested precision might not have been met.\n",
      "  copy_Xy=copy_cov,\n",
      "/home/scott/anaconda3/envs/dlearn/lib/python3.7/site-packages/sklearn/decomposition/_dict_learning.py:213: RuntimeWarning: Orthogonal matching pursuit ended prematurely due to linear dependence in the dictionary. The requested precision might not have been met.\n",
      "  copy_Xy=copy_cov,\n"
     ]
    },
    {
     "name": "stdout",
     "output_type": "stream",
     "text": [
      "5\n"
     ]
    },
    {
     "name": "stderr",
     "output_type": "stream",
     "text": [
      "/home/scott/anaconda3/envs/dlearn/lib/python3.7/site-packages/sklearn/decomposition/_dict_learning.py:213: RuntimeWarning: Orthogonal matching pursuit ended prematurely due to linear dependence in the dictionary. The requested precision might not have been met.\n",
      "  copy_Xy=copy_cov,\n",
      "/home/scott/anaconda3/envs/dlearn/lib/python3.7/site-packages/sklearn/decomposition/_dict_learning.py:213: RuntimeWarning: Orthogonal matching pursuit ended prematurely due to linear dependence in the dictionary. The requested precision might not have been met.\n",
      "  copy_Xy=copy_cov,\n",
      "/home/scott/anaconda3/envs/dlearn/lib/python3.7/site-packages/sklearn/decomposition/_dict_learning.py:213: RuntimeWarning: Orthogonal matching pursuit ended prematurely due to linear dependence in the dictionary. The requested precision might not have been met.\n",
      "  copy_Xy=copy_cov,\n",
      "/home/scott/anaconda3/envs/dlearn/lib/python3.7/site-packages/sklearn/decomposition/_dict_learning.py:213: RuntimeWarning: Orthogonal matching pursuit ended prematurely due to linear dependence in the dictionary. The requested precision might not have been met.\n",
      "  copy_Xy=copy_cov,\n",
      "/home/scott/anaconda3/envs/dlearn/lib/python3.7/site-packages/sklearn/decomposition/_dict_learning.py:213: RuntimeWarning: Orthogonal matching pursuit ended prematurely due to linear dependence in the dictionary. The requested precision might not have been met.\n",
      "  copy_Xy=copy_cov,\n"
     ]
    },
    {
     "name": "stdout",
     "output_type": "stream",
     "text": [
      "5\n"
     ]
    },
    {
     "name": "stderr",
     "output_type": "stream",
     "text": [
      "/home/scott/anaconda3/envs/dlearn/lib/python3.7/site-packages/sklearn/decomposition/_dict_learning.py:213: RuntimeWarning: Orthogonal matching pursuit ended prematurely due to linear dependence in the dictionary. The requested precision might not have been met.\n",
      "  copy_Xy=copy_cov,\n",
      "/home/scott/anaconda3/envs/dlearn/lib/python3.7/site-packages/sklearn/decomposition/_dict_learning.py:213: RuntimeWarning: Orthogonal matching pursuit ended prematurely due to linear dependence in the dictionary. The requested precision might not have been met.\n",
      "  copy_Xy=copy_cov,\n",
      "/home/scott/anaconda3/envs/dlearn/lib/python3.7/site-packages/sklearn/decomposition/_dict_learning.py:213: RuntimeWarning: Orthogonal matching pursuit ended prematurely due to linear dependence in the dictionary. The requested precision might not have been met.\n",
      "  copy_Xy=copy_cov,\n",
      "/home/scott/anaconda3/envs/dlearn/lib/python3.7/site-packages/sklearn/decomposition/_dict_learning.py:213: RuntimeWarning: Orthogonal matching pursuit ended prematurely due to linear dependence in the dictionary. The requested precision might not have been met.\n",
      "  copy_Xy=copy_cov,\n",
      "/home/scott/anaconda3/envs/dlearn/lib/python3.7/site-packages/sklearn/decomposition/_dict_learning.py:213: RuntimeWarning: Orthogonal matching pursuit ended prematurely due to linear dependence in the dictionary. The requested precision might not have been met.\n",
      "  copy_Xy=copy_cov,\n"
     ]
    },
    {
     "name": "stdout",
     "output_type": "stream",
     "text": [
      "4\n"
     ]
    },
    {
     "name": "stderr",
     "output_type": "stream",
     "text": [
      "/home/scott/anaconda3/envs/dlearn/lib/python3.7/site-packages/sklearn/decomposition/_dict_learning.py:213: RuntimeWarning: Orthogonal matching pursuit ended prematurely due to linear dependence in the dictionary. The requested precision might not have been met.\n",
      "  copy_Xy=copy_cov,\n",
      "/home/scott/anaconda3/envs/dlearn/lib/python3.7/site-packages/sklearn/decomposition/_dict_learning.py:213: RuntimeWarning: Orthogonal matching pursuit ended prematurely due to linear dependence in the dictionary. The requested precision might not have been met.\n",
      "  copy_Xy=copy_cov,\n",
      "/home/scott/anaconda3/envs/dlearn/lib/python3.7/site-packages/sklearn/decomposition/_dict_learning.py:213: RuntimeWarning: Orthogonal matching pursuit ended prematurely due to linear dependence in the dictionary. The requested precision might not have been met.\n",
      "  copy_Xy=copy_cov,\n",
      "/home/scott/anaconda3/envs/dlearn/lib/python3.7/site-packages/sklearn/decomposition/_dict_learning.py:213: RuntimeWarning: Orthogonal matching pursuit ended prematurely due to linear dependence in the dictionary. The requested precision might not have been met.\n",
      "  copy_Xy=copy_cov,\n",
      "/home/scott/anaconda3/envs/dlearn/lib/python3.7/site-packages/sklearn/decomposition/_dict_learning.py:213: RuntimeWarning: Orthogonal matching pursuit ended prematurely due to linear dependence in the dictionary. The requested precision might not have been met.\n",
      "  copy_Xy=copy_cov,\n"
     ]
    },
    {
     "name": "stdout",
     "output_type": "stream",
     "text": [
      "4\n"
     ]
    },
    {
     "name": "stderr",
     "output_type": "stream",
     "text": [
      "/home/scott/anaconda3/envs/dlearn/lib/python3.7/site-packages/sklearn/decomposition/_dict_learning.py:213: RuntimeWarning: Orthogonal matching pursuit ended prematurely due to linear dependence in the dictionary. The requested precision might not have been met.\n",
      "  copy_Xy=copy_cov,\n",
      "/home/scott/anaconda3/envs/dlearn/lib/python3.7/site-packages/sklearn/decomposition/_dict_learning.py:213: RuntimeWarning: Orthogonal matching pursuit ended prematurely due to linear dependence in the dictionary. The requested precision might not have been met.\n",
      "  copy_Xy=copy_cov,\n",
      "/home/scott/anaconda3/envs/dlearn/lib/python3.7/site-packages/sklearn/decomposition/_dict_learning.py:213: RuntimeWarning: Orthogonal matching pursuit ended prematurely due to linear dependence in the dictionary. The requested precision might not have been met.\n",
      "  copy_Xy=copy_cov,\n",
      "/home/scott/anaconda3/envs/dlearn/lib/python3.7/site-packages/sklearn/decomposition/_dict_learning.py:213: RuntimeWarning: Orthogonal matching pursuit ended prematurely due to linear dependence in the dictionary. The requested precision might not have been met.\n",
      "  copy_Xy=copy_cov,\n",
      "/home/scott/anaconda3/envs/dlearn/lib/python3.7/site-packages/sklearn/decomposition/_dict_learning.py:213: RuntimeWarning: Orthogonal matching pursuit ended prematurely due to linear dependence in the dictionary. The requested precision might not have been met.\n",
      "  copy_Xy=copy_cov,\n"
     ]
    },
    {
     "name": "stdout",
     "output_type": "stream",
     "text": [
      "3\n"
     ]
    },
    {
     "name": "stderr",
     "output_type": "stream",
     "text": [
      "/home/scott/anaconda3/envs/dlearn/lib/python3.7/site-packages/sklearn/decomposition/_dict_learning.py:213: RuntimeWarning: Orthogonal matching pursuit ended prematurely due to linear dependence in the dictionary. The requested precision might not have been met.\n",
      "  copy_Xy=copy_cov,\n",
      "/home/scott/anaconda3/envs/dlearn/lib/python3.7/site-packages/sklearn/decomposition/_dict_learning.py:213: RuntimeWarning: Orthogonal matching pursuit ended prematurely due to linear dependence in the dictionary. The requested precision might not have been met.\n",
      "  copy_Xy=copy_cov,\n",
      "/home/scott/anaconda3/envs/dlearn/lib/python3.7/site-packages/sklearn/decomposition/_dict_learning.py:213: RuntimeWarning: Orthogonal matching pursuit ended prematurely due to linear dependence in the dictionary. The requested precision might not have been met.\n",
      "  copy_Xy=copy_cov,\n",
      "/home/scott/anaconda3/envs/dlearn/lib/python3.7/site-packages/sklearn/decomposition/_dict_learning.py:213: RuntimeWarning: Orthogonal matching pursuit ended prematurely due to linear dependence in the dictionary. The requested precision might not have been met.\n",
      "  copy_Xy=copy_cov,\n",
      "/home/scott/anaconda3/envs/dlearn/lib/python3.7/site-packages/sklearn/decomposition/_dict_learning.py:213: RuntimeWarning: Orthogonal matching pursuit ended prematurely due to linear dependence in the dictionary. The requested precision might not have been met.\n",
      "  copy_Xy=copy_cov,\n"
     ]
    },
    {
     "name": "stdout",
     "output_type": "stream",
     "text": [
      "3\n"
     ]
    },
    {
     "name": "stderr",
     "output_type": "stream",
     "text": [
      "/home/scott/anaconda3/envs/dlearn/lib/python3.7/site-packages/sklearn/decomposition/_dict_learning.py:213: RuntimeWarning: Orthogonal matching pursuit ended prematurely due to linear dependence in the dictionary. The requested precision might not have been met.\n",
      "  copy_Xy=copy_cov,\n",
      "/home/scott/anaconda3/envs/dlearn/lib/python3.7/site-packages/sklearn/decomposition/_dict_learning.py:213: RuntimeWarning: Orthogonal matching pursuit ended prematurely due to linear dependence in the dictionary. The requested precision might not have been met.\n",
      "  copy_Xy=copy_cov,\n",
      "/home/scott/anaconda3/envs/dlearn/lib/python3.7/site-packages/sklearn/decomposition/_dict_learning.py:213: RuntimeWarning: Orthogonal matching pursuit ended prematurely due to linear dependence in the dictionary. The requested precision might not have been met.\n",
      "  copy_Xy=copy_cov,\n",
      "/home/scott/anaconda3/envs/dlearn/lib/python3.7/site-packages/sklearn/decomposition/_dict_learning.py:213: RuntimeWarning: Orthogonal matching pursuit ended prematurely due to linear dependence in the dictionary. The requested precision might not have been met.\n",
      "  copy_Xy=copy_cov,\n",
      "/home/scott/anaconda3/envs/dlearn/lib/python3.7/site-packages/sklearn/decomposition/_dict_learning.py:213: RuntimeWarning: Orthogonal matching pursuit ended prematurely due to linear dependence in the dictionary. The requested precision might not have been met.\n",
      "  copy_Xy=copy_cov,\n"
     ]
    },
    {
     "name": "stdout",
     "output_type": "stream",
     "text": [
      "2\n"
     ]
    },
    {
     "name": "stderr",
     "output_type": "stream",
     "text": [
      "/home/scott/anaconda3/envs/dlearn/lib/python3.7/site-packages/sklearn/decomposition/_dict_learning.py:213: RuntimeWarning: Orthogonal matching pursuit ended prematurely due to linear dependence in the dictionary. The requested precision might not have been met.\n",
      "  copy_Xy=copy_cov,\n",
      "/home/scott/anaconda3/envs/dlearn/lib/python3.7/site-packages/sklearn/decomposition/_dict_learning.py:213: RuntimeWarning: Orthogonal matching pursuit ended prematurely due to linear dependence in the dictionary. The requested precision might not have been met.\n",
      "  copy_Xy=copy_cov,\n",
      "/home/scott/anaconda3/envs/dlearn/lib/python3.7/site-packages/sklearn/decomposition/_dict_learning.py:213: RuntimeWarning: Orthogonal matching pursuit ended prematurely due to linear dependence in the dictionary. The requested precision might not have been met.\n",
      "  copy_Xy=copy_cov,\n",
      "/home/scott/anaconda3/envs/dlearn/lib/python3.7/site-packages/sklearn/decomposition/_dict_learning.py:213: RuntimeWarning: Orthogonal matching pursuit ended prematurely due to linear dependence in the dictionary. The requested precision might not have been met.\n",
      "  copy_Xy=copy_cov,\n",
      "/home/scott/anaconda3/envs/dlearn/lib/python3.7/site-packages/sklearn/decomposition/_dict_learning.py:213: RuntimeWarning: Orthogonal matching pursuit ended prematurely due to linear dependence in the dictionary. The requested precision might not have been met.\n",
      "  copy_Xy=copy_cov,\n"
     ]
    },
    {
     "name": "stdout",
     "output_type": "stream",
     "text": [
      "1\n"
     ]
    },
    {
     "name": "stderr",
     "output_type": "stream",
     "text": [
      "/home/scott/anaconda3/envs/dlearn/lib/python3.7/site-packages/sklearn/decomposition/_dict_learning.py:213: RuntimeWarning: Orthogonal matching pursuit ended prematurely due to linear dependence in the dictionary. The requested precision might not have been met.\n",
      "  copy_Xy=copy_cov,\n",
      "/home/scott/anaconda3/envs/dlearn/lib/python3.7/site-packages/sklearn/decomposition/_dict_learning.py:213: RuntimeWarning: Orthogonal matching pursuit ended prematurely due to linear dependence in the dictionary. The requested precision might not have been met.\n",
      "  copy_Xy=copy_cov,\n",
      "/home/scott/anaconda3/envs/dlearn/lib/python3.7/site-packages/sklearn/decomposition/_dict_learning.py:213: RuntimeWarning: Orthogonal matching pursuit ended prematurely due to linear dependence in the dictionary. The requested precision might not have been met.\n",
      "  copy_Xy=copy_cov,\n",
      "/home/scott/anaconda3/envs/dlearn/lib/python3.7/site-packages/sklearn/decomposition/_dict_learning.py:213: RuntimeWarning: Orthogonal matching pursuit ended prematurely due to linear dependence in the dictionary. The requested precision might not have been met.\n",
      "  copy_Xy=copy_cov,\n",
      "/home/scott/anaconda3/envs/dlearn/lib/python3.7/site-packages/sklearn/decomposition/_dict_learning.py:213: RuntimeWarning: Orthogonal matching pursuit ended prematurely due to linear dependence in the dictionary. The requested precision might not have been met.\n",
      "  copy_Xy=copy_cov,\n"
     ]
    },
    {
     "name": "stdout",
     "output_type": "stream",
     "text": [
      "1\n"
     ]
    },
    {
     "name": "stderr",
     "output_type": "stream",
     "text": [
      "/home/scott/anaconda3/envs/dlearn/lib/python3.7/site-packages/sklearn/decomposition/_dict_learning.py:213: RuntimeWarning: Orthogonal matching pursuit ended prematurely due to linear dependence in the dictionary. The requested precision might not have been met.\n",
      "  copy_Xy=copy_cov,\n",
      "/home/scott/anaconda3/envs/dlearn/lib/python3.7/site-packages/sklearn/decomposition/_dict_learning.py:213: RuntimeWarning: Orthogonal matching pursuit ended prematurely due to linear dependence in the dictionary. The requested precision might not have been met.\n",
      "  copy_Xy=copy_cov,\n",
      "/home/scott/anaconda3/envs/dlearn/lib/python3.7/site-packages/sklearn/decomposition/_dict_learning.py:213: RuntimeWarning: Orthogonal matching pursuit ended prematurely due to linear dependence in the dictionary. The requested precision might not have been met.\n",
      "  copy_Xy=copy_cov,\n",
      "/home/scott/anaconda3/envs/dlearn/lib/python3.7/site-packages/sklearn/decomposition/_dict_learning.py:213: RuntimeWarning: Orthogonal matching pursuit ended prematurely due to linear dependence in the dictionary. The requested precision might not have been met.\n",
      "  copy_Xy=copy_cov,\n",
      "/home/scott/anaconda3/envs/dlearn/lib/python3.7/site-packages/sklearn/decomposition/_dict_learning.py:213: RuntimeWarning: Orthogonal matching pursuit ended prematurely due to linear dependence in the dictionary. The requested precision might not have been met.\n",
      "  copy_Xy=copy_cov,\n"
     ]
    },
    {
     "name": "stdout",
     "output_type": "stream",
     "text": [
      "1\n"
     ]
    },
    {
     "name": "stderr",
     "output_type": "stream",
     "text": [
      "/home/scott/anaconda3/envs/dlearn/lib/python3.7/site-packages/sklearn/decomposition/_dict_learning.py:213: RuntimeWarning: Orthogonal matching pursuit ended prematurely due to linear dependence in the dictionary. The requested precision might not have been met.\n",
      "  copy_Xy=copy_cov,\n",
      "/home/scott/anaconda3/envs/dlearn/lib/python3.7/site-packages/sklearn/decomposition/_dict_learning.py:213: RuntimeWarning: Orthogonal matching pursuit ended prematurely due to linear dependence in the dictionary. The requested precision might not have been met.\n",
      "  copy_Xy=copy_cov,\n",
      "/home/scott/anaconda3/envs/dlearn/lib/python3.7/site-packages/sklearn/decomposition/_dict_learning.py:213: RuntimeWarning: Orthogonal matching pursuit ended prematurely due to linear dependence in the dictionary. The requested precision might not have been met.\n",
      "  copy_Xy=copy_cov,\n",
      "/home/scott/anaconda3/envs/dlearn/lib/python3.7/site-packages/sklearn/decomposition/_dict_learning.py:213: RuntimeWarning: Orthogonal matching pursuit ended prematurely due to linear dependence in the dictionary. The requested precision might not have been met.\n",
      "  copy_Xy=copy_cov,\n",
      "/home/scott/anaconda3/envs/dlearn/lib/python3.7/site-packages/sklearn/decomposition/_dict_learning.py:213: RuntimeWarning: Orthogonal matching pursuit ended prematurely due to linear dependence in the dictionary. The requested precision might not have been met.\n",
      "  copy_Xy=copy_cov,\n"
     ]
    },
    {
     "name": "stdout",
     "output_type": "stream",
     "text": [
      "coeffs: 29, ratio: 2, mse average: 0.000055\n",
      "coeffs: 19, ratio: 3, mse average: 0.000133\n",
      "coeffs: 14, ratio: 4, mse average: 0.000121\n",
      "coeffs: 9, ratio: 6, mse average: 0.000186\n",
      "coeffs: 7, ratio: 7, mse average: 0.000281\n",
      "coeffs: 6, ratio: 8, mse average: 0.000298\n",
      "coeffs: 5, ratio: 9, mse average: 0.000398\n",
      "coeffs: 5, ratio: 10, mse average: 0.000398\n",
      "coeffs: 4, ratio: 11, mse average: 0.000578\n",
      "coeffs: 4, ratio: 12, mse average: 0.000578\n",
      "coeffs: 3, ratio: 13, mse average: 0.001015\n",
      "coeffs: 3, ratio: 15, mse average: 0.001015\n",
      "coeffs: 2, ratio: 18, mse average: 0.002004\n",
      "coeffs: 1, ratio: 21, mse average: 0.004129\n",
      "coeffs: 1, ratio: 30, mse average: 0.004129\n",
      "coeffs: 1, ratio: 41, mse average: 0.004129\n"
     ]
    }
   ],
   "source": [
    "pca_dataset = dred_val_fc.dred_data.cpu().numpy()\n",
    "pca_dataset = pca_dataset.reshape(-1, 60)\n",
    "total_losses = {c: [] for c in components_dred}\n",
    "no_days = 60\n",
    "\n",
    "for c in components_dred:\n",
    "    print(c)\n",
    "    for record_no in range((pca_dataset.shape[0] // (no_days))):\n",
    "\n",
    "        current_record = pca_dataset[(record_no * no_days):((record_no + 1) * no_days), :]\n",
    "        dictionarylearner = DictionaryLearning(c, transform_algorithm = 'omp', \n",
    "                                       max_iter = 60, transform_n_nonzero_coefs=1)\n",
    "        compressed_ksvd = dictionarylearner.fit_transform(current_record)\n",
    "        \n",
    "        # uncompress\n",
    "        uncompressed_ksvd = compressed_ksvd @ dictionarylearner.components_\n",
    "        \n",
    "        # work out diff\n",
    "        total_losses[c].append(loss(torch.from_numpy(current_record), \n",
    "                                    torch.from_numpy(uncompressed_ksvd)).item())\n",
    "        \n",
    "for c, ratio in zip(components_dred, required_ratios):\n",
    "    \n",
    "    mse_avg_ = sum(total_losses[c]) / len(total_losses[c])\n",
    "    \n",
    "    print('coeffs: {}, ratio: {}, mse average: {:.6f}'.format(c, ratio, mse_avg_))\n",
    "        "
   ]
  },
  {
   "cell_type": "markdown",
   "id": "7bf85a1f-9a3d-41f5-a07a-1f3fe83658fc",
   "metadata": {},
   "source": [
    "### DWT (1D)\n",
    "\n",
    "1D Version. Refer paper link: https://ieeexplore.ieee.org/stamp/stamp.jsp?tp=&arnumber=8275177. We use the \"best\" from this paper."
   ]
  },
  {
   "cell_type": "code",
   "execution_count": 9,
   "id": "06661ee5-89b0-461c-9d53-d4cf15d97610",
   "metadata": {},
   "outputs": [],
   "source": [
    "my_Wavelet = 'db2'\n",
    "n = 3"
   ]
  },
  {
   "cell_type": "code",
   "execution_count": 10,
   "id": "6cf1652d",
   "metadata": {},
   "outputs": [],
   "source": [
    "cer_dwt1d_coefficients_to_keep = [int(12*48 / k) for k in required_ratios]\n",
    "umass_dwt1d_coefficients_to_keep = [int(12*96 / k) for k in required_ratios]\n",
    "dred_dwt1d_coefficients_to_keep = [int(60*60 / k) for k in required_ratios]"
   ]
  },
  {
   "cell_type": "code",
   "execution_count": 30,
   "id": "500ea6a7-78c1-43d3-9aaf-244ce668d7a3",
   "metadata": {},
   "outputs": [
    {
     "name": "stdout",
     "output_type": "stream",
     "text": [
      "coeffs: 288, ratio: 2, mse average: 0.000180\n",
      "coeffs: 192, ratio: 3, mse average: 0.000731\n",
      "coeffs: 144, ratio: 4, mse average: 0.001460\n",
      "coeffs: 96, ratio: 6, mse average: 0.003068\n",
      "coeffs: 82, ratio: 7, mse average: 0.003887\n",
      "coeffs: 72, ratio: 8, mse average: 0.004645\n",
      "coeffs: 64, ratio: 9, mse average: 0.005410\n",
      "coeffs: 57, ratio: 10, mse average: 0.006218\n",
      "coeffs: 52, ratio: 11, mse average: 0.006912\n",
      "coeffs: 48, ratio: 12, mse average: 0.007557\n",
      "coeffs: 44, ratio: 13, mse average: 0.008295\n",
      "coeffs: 38, ratio: 15, mse average: 0.009626\n",
      "coeffs: 32, ratio: 18, mse average: 0.011301\n",
      "coeffs: 27, ratio: 21, mse average: 0.013097\n",
      "coeffs: 19, ratio: 30, mse average: 0.017136\n",
      "coeffs: 14, ratio: 41, mse average: 0.021124\n"
     ]
    }
   ],
   "source": [
    "fft_dataset = cer_val_fc.cern_data.cpu().numpy()\n",
    "\n",
    "dwt1d_total_losses = {c: [] for c in cer_dwt1d_coefficients_to_keep}\n",
    "\n",
    "for c in cer_dwt1d_coefficients_to_keep:\n",
    "    for record_no in range(len(fft_dataset)):\n",
    "        # run dwt\n",
    "        current_record = fft_dataset[record_no]\n",
    "        coeffs = pywt.wavedec(current_record, my_Wavelet, level = n)\n",
    "        \n",
    "        # sort and remove smallest magnitude\n",
    "        coeff_arr, coeff_slices = pywt.coeffs_to_array(coeffs)\n",
    "        Csort = np.sort(np.abs(coeff_arr.reshape(-1)))[::-1]\n",
    "        thresh = Csort[c]\n",
    "        ind = np.abs(coeff_arr) > thresh\n",
    "        Cfilt = coeff_arr * ind\n",
    "        coeffs_filt = pywt.array_to_coeffs(Cfilt, coeff_slices, output_format='wavedec')\n",
    "        \n",
    "        # uncompress\n",
    "        uncompressed_dwt1d = np.clip(pywt.waverec(coeffs_filt, my_Wavelet), 0, 1)\n",
    "        \n",
    "        # work out diff\n",
    "        dwt1d_total_losses[c].append(loss(torch.from_numpy(current_record), \n",
    "                                    torch.from_numpy(uncompressed_dwt1d)).item())\n",
    "        \n",
    "for c, ratio in zip(cer_dwt1d_coefficients_to_keep, required_ratios):\n",
    "    \n",
    "    mse_avg_ = sum(dwt1d_total_losses[c]) / len(dwt1d_total_losses[c])\n",
    "    \n",
    "    print('coeffs: {}, ratio: {}, mse average: {:.6f}'.format(c, ratio, mse_avg_))"
   ]
  },
  {
   "cell_type": "code",
   "execution_count": 31,
   "id": "6ffbd2f3-9065-447e-b1b7-cfe0571ebedd",
   "metadata": {},
   "outputs": [
    {
     "name": "stdout",
     "output_type": "stream",
     "text": [
      "coeffs: 576, ratio: 2, mse average: 0.000608\n",
      "coeffs: 384, ratio: 3, mse average: 0.001958\n",
      "coeffs: 288, ratio: 4, mse average: 0.003397\n",
      "coeffs: 192, ratio: 6, mse average: 0.006015\n",
      "coeffs: 164, ratio: 7, mse average: 0.007203\n",
      "coeffs: 144, ratio: 8, mse average: 0.008275\n",
      "coeffs: 128, ratio: 9, mse average: 0.009384\n",
      "coeffs: 115, ratio: 10, mse average: 0.010450\n",
      "coeffs: 104, ratio: 11, mse average: 0.011526\n",
      "coeffs: 96, ratio: 12, mse average: 0.012406\n",
      "coeffs: 88, ratio: 13, mse average: 0.013418\n",
      "coeffs: 76, ratio: 15, mse average: 0.015131\n",
      "coeffs: 64, ratio: 18, mse average: 0.017281\n",
      "coeffs: 54, ratio: 21, mse average: 0.019375\n",
      "coeffs: 38, ratio: 30, mse average: 0.023442\n",
      "coeffs: 28, ratio: 41, mse average: 0.026796\n"
     ]
    }
   ],
   "source": [
    "fft_dataset = umass_val_fc.umass_data.cpu().numpy()\n",
    "\n",
    "dwt1d_total_losses = {c: [] for c in umass_dwt1d_coefficients_to_keep}\n",
    "\n",
    "for c in umass_dwt1d_coefficients_to_keep:\n",
    "    for record_no in range(len(fft_dataset)):\n",
    "        # run dwt\n",
    "        current_record = fft_dataset[record_no]\n",
    "        coeffs = pywt.wavedec(current_record, my_Wavelet, level = n)\n",
    "        \n",
    "        # sort and remove smallest magnitude\n",
    "        coeff_arr, coeff_slices = pywt.coeffs_to_array(coeffs)\n",
    "        Csort = np.sort(np.abs(coeff_arr.reshape(-1)))[::-1]\n",
    "        thresh = Csort[c]\n",
    "        ind = np.abs(coeff_arr) > thresh\n",
    "        Cfilt = coeff_arr * ind\n",
    "        coeffs_filt = pywt.array_to_coeffs(Cfilt, coeff_slices, output_format='wavedec')\n",
    "        \n",
    "        # uncompress\n",
    "        uncompressed_dwt1d = np.clip(pywt.waverec(coeffs_filt, my_Wavelet), 0, 1)\n",
    "        \n",
    "        # work out diff\n",
    "        dwt1d_total_losses[c].append(loss(torch.from_numpy(current_record), \n",
    "                                    torch.from_numpy(uncompressed_dwt1d)).item())\n",
    "        \n",
    "for c, ratio in zip(umass_dwt1d_coefficients_to_keep, required_ratios):\n",
    "    \n",
    "    mse_avg_ = sum(dwt1d_total_losses[c]) / len(dwt1d_total_losses[c])\n",
    "    \n",
    "    print('coeffs: {}, ratio: {}, mse average: {:.6f}'.format(c, ratio, mse_avg_))"
   ]
  },
  {
   "cell_type": "code",
   "execution_count": 14,
   "id": "b7df3d78-6dd7-4d64-b59f-3d877159aa33",
   "metadata": {},
   "outputs": [
    {
     "name": "stdout",
     "output_type": "stream",
     "text": [
      "coeffs: 1800, ratio: 2, mse average: 0.00000000\n",
      "coeffs: 1200, ratio: 3, mse average: 0.00000000\n",
      "coeffs: 900, ratio: 4, mse average: 0.00000001\n",
      "coeffs: 600, ratio: 6, mse average: 0.00000016\n",
      "coeffs: 514, ratio: 7, mse average: 0.00000045\n",
      "coeffs: 450, ratio: 8, mse average: 0.00000199\n",
      "coeffs: 400, ratio: 9, mse average: 0.00000722\n",
      "coeffs: 360, ratio: 10, mse average: 0.00001323\n",
      "coeffs: 327, ratio: 11, mse average: 0.00001657\n",
      "coeffs: 300, ratio: 12, mse average: 0.00005944\n",
      "coeffs: 276, ratio: 13, mse average: 0.00024473\n",
      "coeffs: 240, ratio: 15, mse average: 0.00139100\n",
      "coeffs: 200, ratio: 18, mse average: 0.00446969\n",
      "coeffs: 171, ratio: 21, mse average: 0.00872499\n",
      "coeffs: 120, ratio: 30, mse average: 0.02754007\n",
      "coeffs: 87, ratio: 41, mse average: 0.05072147\n"
     ]
    }
   ],
   "source": [
    "fft_dataset = dred_val_fc.dred_data.cpu().numpy()\n",
    "\n",
    "dwt1d_total_losses = {c: [] for c in dred_dwt1d_coefficients_to_keep}\n",
    "\n",
    "for c in dred_dwt1d_coefficients_to_keep:\n",
    "    for record_no in range(len(fft_dataset)):\n",
    "        # run dwt\n",
    "        current_record = fft_dataset[record_no]\n",
    "        coeffs = pywt.wavedec(current_record, my_Wavelet, level = n)\n",
    "        \n",
    "        # sort and remove smallest magnitude\n",
    "        coeff_arr, coeff_slices = pywt.coeffs_to_array(coeffs)\n",
    "        Csort = np.sort(np.abs(coeff_arr.reshape(-1)))[::-1]\n",
    "        thresh = Csort[c]\n",
    "        ind = np.abs(coeff_arr) > thresh\n",
    "        Cfilt = coeff_arr * ind\n",
    "        coeffs_filt = pywt.array_to_coeffs(Cfilt, coeff_slices, output_format='wavedec')\n",
    "        \n",
    "        # uncompress\n",
    "        uncompressed_dwt1d = np.clip(pywt.waverec(coeffs_filt, my_Wavelet), 0, 1)\n",
    "        \n",
    "        # work out diff\n",
    "        dwt1d_total_losses[c].append(loss(torch.from_numpy(current_record), \n",
    "                                    torch.from_numpy(uncompressed_dwt1d)).item())\n",
    "        \n",
    "for c, ratio in zip(dred_dwt1d_coefficients_to_keep, required_ratios):\n",
    "    \n",
    "    mse_avg_ = sum(dwt1d_total_losses[c]) / len(dwt1d_total_losses[c])\n",
    "    \n",
    "    print('coeffs: {}, ratio: {}, mse average: {:.8f}'.format(c, ratio, mse_avg_))"
   ]
  },
  {
   "cell_type": "markdown",
   "id": "218c9276-801c-4615-8ac3-dfcf91b30eb1",
   "metadata": {},
   "source": [
    "#### 2D Version"
   ]
  },
  {
   "cell_type": "code",
   "execution_count": 38,
   "id": "ed073a13",
   "metadata": {},
   "outputs": [],
   "source": [
    "cer_dwt2d_coefficients_to_keep = [int(12*48 / k) for k in required_ratios]\n",
    "umass_dwt2d_coefficients_to_keep = [int(12*96 / k) for k in required_ratios]\n",
    "dred_dwt2d_coefficients_to_keep = [int(60*60 / k) for k in required_ratios]"
   ]
  },
  {
   "cell_type": "code",
   "execution_count": 33,
   "id": "9a176ef0-7741-4a73-b6cc-24e61957d851",
   "metadata": {},
   "outputs": [
    {
     "name": "stderr",
     "output_type": "stream",
     "text": [
      "/home/scott/anaconda3/envs/dlearn/lib/python3.7/site-packages/pywt/_multilevel.py:45: UserWarning: Level value of 3 is too high: all coefficients will experience boundary effects.\n",
      "  \"boundary effects.\").format(level))\n"
     ]
    },
    {
     "name": "stdout",
     "output_type": "stream",
     "text": [
      "coeffs: 288, ratio: 2, mse average: 0.000682\n",
      "coeffs: 192, ratio: 3, mse average: 0.001725\n",
      "coeffs: 144, ratio: 4, mse average: 0.002818\n",
      "coeffs: 96, ratio: 6, mse average: 0.004825\n",
      "coeffs: 82, ratio: 7, mse average: 0.005731\n",
      "coeffs: 72, ratio: 8, mse average: 0.006510\n",
      "coeffs: 64, ratio: 9, mse average: 0.007274\n",
      "coeffs: 57, ratio: 10, mse average: 0.008040\n",
      "coeffs: 52, ratio: 11, mse average: 0.008644\n",
      "coeffs: 48, ratio: 12, mse average: 0.009189\n",
      "coeffs: 44, ratio: 13, mse average: 0.009789\n",
      "coeffs: 38, ratio: 15, mse average: 0.010852\n",
      "coeffs: 32, ratio: 18, mse average: 0.012077\n",
      "coeffs: 27, ratio: 21, mse average: 0.013286\n",
      "coeffs: 19, ratio: 30, mse average: 0.015881\n",
      "coeffs: 14, ratio: 41, mse average: 0.018231\n"
     ]
    }
   ],
   "source": [
    "pca_dataset = cer_val_fc.cern_data.cpu().numpy()\n",
    "pca_dataset = pca_dataset.reshape(-1, 48)\n",
    "dwt2d_total_losses = {c: [] for c in cer_dwt2d_coefficients_to_keep}\n",
    "no_days = 12\n",
    "\n",
    "for c in cer_dwt2d_coefficients_to_keep:\n",
    "    for record_no in range((pca_dataset.shape[0] // (no_days))):\n",
    "        # run dwt\n",
    "        current_record = pca_dataset[(record_no * no_days):((record_no + 1) * no_days), :]\n",
    "        coeffs = pywt.wavedec2(current_record, my_Wavelet, level = n)\n",
    "        \n",
    "        # sort and remove smallest magnitude\n",
    "        coeff_arr, coeff_slices = pywt.coeffs_to_array(coeffs)\n",
    "        Csort = np.sort(np.abs(coeff_arr.reshape(-1)))[::-1]\n",
    "        thresh = Csort[c]\n",
    "        ind = np.abs(coeff_arr) > thresh\n",
    "        Cfilt = coeff_arr * ind\n",
    "        coeffs_filt = pywt.array_to_coeffs(Cfilt, coeff_slices, output_format='wavedec2')\n",
    "        \n",
    "        # uncompress\n",
    "        uncompressed_dwt2d = np.clip(pywt.waverec2(coeffs_filt, my_Wavelet), 0, 1)\n",
    "        \n",
    "        # work out diff\n",
    "        dwt2d_total_losses[c].append(loss(torch.from_numpy(current_record), \n",
    "                                    torch.from_numpy(uncompressed_dwt2d)).item())\n",
    "        \n",
    "for c, ratio in zip(cer_dwt2d_coefficients_to_keep, required_ratios):\n",
    "    \n",
    "    mse_avg_ = sum(dwt2d_total_losses[c]) / len(dwt2d_total_losses[c])\n",
    "    \n",
    "    print('coeffs: {}, ratio: {}, mse average: {:.6f}'.format(c, ratio, mse_avg_))\n",
    "        "
   ]
  },
  {
   "cell_type": "code",
   "execution_count": 34,
   "id": "18782e3b",
   "metadata": {},
   "outputs": [
    {
     "name": "stdout",
     "output_type": "stream",
     "text": [
      "coeffs: 576, ratio: 2, mse average: 0.001704\n",
      "coeffs: 384, ratio: 3, mse average: 0.003561\n",
      "coeffs: 288, ratio: 4, mse average: 0.005226\n",
      "coeffs: 192, ratio: 6, mse average: 0.007768\n",
      "coeffs: 164, ratio: 7, mse average: 0.008847\n",
      "coeffs: 144, ratio: 8, mse average: 0.009680\n",
      "coeffs: 128, ratio: 9, mse average: 0.010484\n",
      "coeffs: 115, ratio: 10, mse average: 0.011234\n",
      "coeffs: 104, ratio: 11, mse average: 0.011928\n",
      "coeffs: 96, ratio: 12, mse average: 0.012464\n",
      "coeffs: 88, ratio: 13, mse average: 0.013048\n",
      "coeffs: 76, ratio: 15, mse average: 0.014041\n",
      "coeffs: 64, ratio: 18, mse average: 0.015289\n",
      "coeffs: 54, ratio: 21, mse average: 0.016509\n",
      "coeffs: 38, ratio: 30, mse average: 0.019631\n",
      "coeffs: 28, ratio: 41, mse average: 0.023239\n"
     ]
    }
   ],
   "source": [
    "pca_dataset = umass_val_fc.umass_data.cpu().numpy()\n",
    "pca_dataset = pca_dataset.reshape(-1, 96)\n",
    "dwt2d_total_losses = {c: [] for c in umass_dwt2d_coefficients_to_keep}\n",
    "no_days = 12\n",
    "\n",
    "for c in umass_dwt2d_coefficients_to_keep:\n",
    "    for record_no in range((pca_dataset.shape[0] // (no_days))):\n",
    "        # run dwt\n",
    "        current_record = pca_dataset[(record_no * no_days):((record_no + 1) * no_days), :]\n",
    "        coeffs = pywt.wavedec2(current_record, my_Wavelet, level = n)\n",
    "        \n",
    "        # sort and remove smallest magnitude\n",
    "        coeff_arr, coeff_slices = pywt.coeffs_to_array(coeffs)\n",
    "        Csort = np.sort(np.abs(coeff_arr.reshape(-1)))[::-1]\n",
    "        thresh = Csort[c]\n",
    "        ind = np.abs(coeff_arr) > thresh\n",
    "        Cfilt = coeff_arr * ind\n",
    "        coeffs_filt = pywt.array_to_coeffs(Cfilt, coeff_slices, output_format='wavedec2')\n",
    "        \n",
    "        # uncompress\n",
    "        uncompressed_dwt2d = np.clip(pywt.waverec2(coeffs_filt, my_Wavelet), 0, 1)\n",
    "        \n",
    "        # work out diff\n",
    "        dwt2d_total_losses[c].append(loss(torch.from_numpy(current_record), \n",
    "                                    torch.from_numpy(uncompressed_dwt2d)).item())\n",
    "        \n",
    "for c, ratio in zip(umass_dwt2d_coefficients_to_keep, required_ratios):\n",
    "    \n",
    "    mse_avg_ = sum(dwt2d_total_losses[c]) / len(dwt2d_total_losses[c])\n",
    "    \n",
    "    print('coeffs: {}, ratio: {}, mse average: {:.6f}'.format(c, ratio, mse_avg_))\n",
    "        "
   ]
  },
  {
   "cell_type": "code",
   "execution_count": 39,
   "id": "d9c52970",
   "metadata": {},
   "outputs": [
    {
     "name": "stdout",
     "output_type": "stream",
     "text": [
      "coeffs: 1800, ratio: 2, mse average: 0.000002\n",
      "coeffs: 1200, ratio: 3, mse average: 0.000088\n",
      "coeffs: 900, ratio: 4, mse average: 0.000385\n",
      "coeffs: 600, ratio: 6, mse average: 0.001394\n",
      "coeffs: 514, ratio: 7, mse average: 0.002045\n",
      "coeffs: 450, ratio: 8, mse average: 0.002785\n",
      "coeffs: 400, ratio: 9, mse average: 0.003569\n",
      "coeffs: 360, ratio: 10, mse average: 0.004372\n",
      "coeffs: 327, ratio: 11, mse average: 0.005167\n",
      "coeffs: 300, ratio: 12, mse average: 0.005949\n",
      "coeffs: 276, ratio: 13, mse average: 0.006740\n",
      "coeffs: 240, ratio: 15, mse average: 0.008106\n",
      "coeffs: 200, ratio: 18, mse average: 0.010002\n",
      "coeffs: 171, ratio: 21, mse average: 0.011762\n",
      "coeffs: 120, ratio: 30, mse average: 0.016171\n",
      "coeffs: 87, ratio: 41, mse average: 0.020801\n"
     ]
    }
   ],
   "source": [
    "pca_dataset = dred_val_fc.dred_data.cpu().numpy()\n",
    "pca_dataset = pca_dataset.reshape(-1, 96)\n",
    "dwt2d_total_losses = {c: [] for c in dred_dwt2d_coefficients_to_keep}\n",
    "no_days = 60\n",
    "\n",
    "for c in dred_dwt2d_coefficients_to_keep:\n",
    "    for record_no in range((pca_dataset.shape[0] // (no_days))):\n",
    "        # run dwt\n",
    "        current_record = pca_dataset[(record_no * no_days):((record_no + 1) * no_days), :]\n",
    "        coeffs = pywt.wavedec2(current_record, my_Wavelet, level = n)\n",
    "        \n",
    "        # sort and remove smallest magnitude\n",
    "        coeff_arr, coeff_slices = pywt.coeffs_to_array(coeffs)\n",
    "        Csort = np.sort(np.abs(coeff_arr.reshape(-1)))[::-1]\n",
    "        thresh = Csort[c]\n",
    "        ind = np.abs(coeff_arr) > thresh\n",
    "        Cfilt = coeff_arr * ind\n",
    "        coeffs_filt = pywt.array_to_coeffs(Cfilt, coeff_slices, output_format='wavedec2')\n",
    "        \n",
    "        # uncompress\n",
    "        uncompressed_dwt2d = np.clip(pywt.waverec2(coeffs_filt, my_Wavelet), 0, 1)\n",
    "        \n",
    "        # work out diff\n",
    "        dwt2d_total_losses[c].append(loss(torch.from_numpy(current_record), \n",
    "                                    torch.from_numpy(uncompressed_dwt2d)).item())\n",
    "        \n",
    "for c, ratio in zip(dred_dwt2d_coefficients_to_keep, required_ratios):\n",
    "    \n",
    "    mse_avg_ = sum(dwt2d_total_losses[c]) / len(dwt2d_total_losses[c])\n",
    "    \n",
    "    print('coeffs: {}, ratio: {}, mse average: {:.6f}'.format(c, ratio, mse_avg_))\n",
    "        "
   ]
  }
 ],
 "metadata": {
  "kernelspec": {
   "display_name": "Python 3 (ipykernel)",
   "language": "python",
   "name": "python3"
  },
  "language_info": {
   "codemirror_mode": {
    "name": "ipython",
    "version": 3
   },
   "file_extension": ".py",
   "mimetype": "text/x-python",
   "name": "python",
   "nbconvert_exporter": "python",
   "pygments_lexer": "ipython3",
   "version": "3.9.12"
  }
 },
 "nbformat": 4,
 "nbformat_minor": 5
}
