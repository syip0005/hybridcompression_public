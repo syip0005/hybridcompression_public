{
 "cells": [
  {
   "cell_type": "markdown",
   "id": "bcda2a1d-4d70-4ec0-864f-7e6f1c591f61",
   "metadata": {},
   "source": [
    "### CR comparisons, input days = 12 (CER and UMASS)"
   ]
  },
  {
   "cell_type": "code",
   "execution_count": 3,
   "id": "075ef829-ceb4-4237-8834-13324ca906ba",
   "metadata": {},
   "outputs": [],
   "source": [
    "test_latent_sizes = [576, 288, 192, 144, 96, 82, 72, 64, 57, 52, 48, 44, 38, 32, 28, 19, 14]"
   ]
  },
  {
   "cell_type": "code",
   "execution_count": 5,
   "id": "1b03cf18-e114-432c-8862-1e8b019c5ae3",
   "metadata": {},
   "outputs": [],
   "source": [
    "cern_input_size = 48 * 12\n",
    "umass_input_size = 96 * 12"
   ]
  },
  {
   "cell_type": "code",
   "execution_count": 9,
   "id": "90633f7f-64f5-4368-9d13-b2e8406540f8",
   "metadata": {},
   "outputs": [],
   "source": [
    "cern_cr = [int(cern_input_size / i) for i in test_latent_sizes]\n",
    "umass_cr = [int(umass_input_size / i) for i in test_latent_sizes]"
   ]
  },
  {
   "cell_type": "code",
   "execution_count": 10,
   "id": "422e13b9-dc2c-46b4-86ad-8a6c6cc5d873",
   "metadata": {},
   "outputs": [
    {
     "data": {
      "text/plain": [
       "[1, 2, 3, 4, 6, 7, 8, 9, 10, 11, 12, 13, 15, 18, 20, 30, 41]"
      ]
     },
     "execution_count": 10,
     "metadata": {},
     "output_type": "execute_result"
    }
   ],
   "source": [
    "cern_cr"
   ]
  },
  {
   "cell_type": "code",
   "execution_count": 11,
   "id": "f52d2b3d-76b8-4d71-9697-22d058c7d365",
   "metadata": {},
   "outputs": [
    {
     "data": {
      "text/plain": [
       "[2, 4, 6, 8, 12, 14, 16, 18, 20, 22, 24, 26, 30, 36, 41, 60, 82]"
      ]
     },
     "execution_count": 11,
     "metadata": {},
     "output_type": "execute_result"
    }
   ],
   "source": [
    "umass_cr"
   ]
  },
  {
   "cell_type": "code",
   "execution_count": 13,
   "id": "f31e08a2-7968-4902-8ba8-45d55124bf55",
   "metadata": {},
   "outputs": [
    {
     "data": {
      "text/plain": [
       "{2, 4, 6, 8, 12, 18, 20, 30, 41}"
      ]
     },
     "execution_count": 13,
     "metadata": {},
     "output_type": "execute_result"
    }
   ],
   "source": [
    "set(cern_cr).intersection(set(umass_cr))"
   ]
  },
  {
   "cell_type": "markdown",
   "id": "2aca0b38-9def-49f8-9c58-f482a7e6874f",
   "metadata": {},
   "source": [
    "### CR comparisons, input_rows = 60, freq = 60 (DRED)"
   ]
  },
  {
   "cell_type": "code",
   "execution_count": 14,
   "id": "58fb82f8-2431-4a37-b03f-fe3d48f4a8a7",
   "metadata": {},
   "outputs": [],
   "source": [
    "required_cr = [2, 4, 6, 8, 12, 18, 20, 30, 41]"
   ]
  },
  {
   "cell_type": "code",
   "execution_count": 15,
   "id": "a4812c24-fa69-46a3-980d-c16a96dbe86a",
   "metadata": {},
   "outputs": [],
   "source": [
    "dred_input_size = 60 * 60"
   ]
  },
  {
   "cell_type": "code",
   "execution_count": 19,
   "id": "5cd51114-db43-4979-bfbb-13bd0b1ee4aa",
   "metadata": {},
   "outputs": [],
   "source": [
    "dred_latent_sizes = [int(dred_input_size / i) for i in required_cr]"
   ]
  },
  {
   "cell_type": "code",
   "execution_count": 20,
   "id": "7ae79246-9a4c-4982-93e9-8b7694dfe48c",
   "metadata": {},
   "outputs": [
    {
     "data": {
      "text/plain": [
       "[1800, 900, 600, 450, 300, 200, 180, 120, 87]"
      ]
     },
     "execution_count": 20,
     "metadata": {},
     "output_type": "execute_result"
    }
   ],
   "source": [
    "dred_latent_sizes"
   ]
  },
  {
   "cell_type": "markdown",
   "id": "8aa2e239-59f9-4ceb-aa8f-834542624a24",
   "metadata": {},
   "source": [
    "### Input days experimentation"
   ]
  },
  {
   "cell_type": "markdown",
   "id": "ed3aad18",
   "metadata": {},
   "source": [
    "Need to experiment on input days, but also keep CR the same\n",
    "\n",
    "So what we can do is adjust `inputdays` whilst also simultaneously adjusting `latent_n`\n",
    "\n",
    "Let's say we retain $CR = 12$"
   ]
  },
  {
   "cell_type": "code",
   "execution_count": 2,
   "id": "1c95aea1",
   "metadata": {},
   "outputs": [],
   "source": [
    "cern_freq = 48\n",
    "umass_freq = 96"
   ]
  },
  {
   "cell_type": "code",
   "execution_count": 3,
   "id": "c405780b",
   "metadata": {},
   "outputs": [],
   "source": [
    "input_day_tries = [32, 28, 24, 16, 8, 4]"
   ]
  },
  {
   "cell_type": "code",
   "execution_count": 4,
   "id": "4c91399b",
   "metadata": {},
   "outputs": [],
   "source": [
    "cern_total_input_size = [i * cern_freq for i in input_day_tries]\n",
    "cern_latents = [i / 12 for i in cern_total_input_size]"
   ]
  },
  {
   "cell_type": "code",
   "execution_count": 5,
   "id": "28101bd3",
   "metadata": {},
   "outputs": [],
   "source": [
    "umass_total_input_size = [i * umass_freq for i in input_day_tries]\n",
    "umass_latents = [i / 12 for i in umass_total_input_size]"
   ]
  },
  {
   "cell_type": "markdown",
   "id": "3be66c90",
   "metadata": {},
   "source": [
    "Great, read following as `(inputdays, latent_n)`"
   ]
  },
  {
   "cell_type": "code",
   "execution_count": 6,
   "id": "29e385e2",
   "metadata": {},
   "outputs": [
    {
     "name": "stdout",
     "output_type": "stream",
     "text": [
      "CERN : [(32, 128.0), (28, 112.0), (24, 96.0), (16, 64.0), (8, 32.0), (4, 16.0)]\n",
      "UMASS : [(32, 256.0), (28, 224.0), (24, 192.0), (16, 128.0), (8, 64.0), (4, 32.0)]\n"
     ]
    }
   ],
   "source": [
    "print('CERN :', list(zip(input_day_tries, cern_latents)))\n",
    "print('UMASS :', list(zip(input_day_tries, umass_latents)))"
   ]
  },
  {
   "cell_type": "code",
   "execution_count": 7,
   "id": "b39a2a68",
   "metadata": {},
   "outputs": [
    {
     "name": "stdout",
     "output_type": "stream",
     "text": [
      "CERN : [(15, 60.0), (11, 44.0), (7, 28.0), (3, 12.0)]\n",
      "UMASS : [(15, 120.0), (11, 88.0), (7, 56.0), (3, 24.0)]\n"
     ]
    }
   ],
   "source": [
    "input_day_tries = [15, 11, 7, 3]\n",
    "cern_total_input_size = [i * cern_freq for i in input_day_tries]\n",
    "cern_latents = [i / 12 for i in cern_total_input_size]\n",
    "umass_total_input_size = [i * umass_freq for i in input_day_tries]\n",
    "umass_latents = [i / 12 for i in umass_total_input_size]\n",
    "print('CERN :', list(zip(input_day_tries, cern_latents)))\n",
    "print('UMASS :', list(zip(input_day_tries, umass_latents)))"
   ]
  },
  {
   "cell_type": "markdown",
   "id": "24d9ae0c",
   "metadata": {},
   "source": [
    "And now also for $CR = 18$ for comparison"
   ]
  },
  {
   "cell_type": "code",
   "execution_count": 37,
   "id": "61100e14",
   "metadata": {},
   "outputs": [
    {
     "name": "stdout",
     "output_type": "stream",
     "text": [
      "CERN : [(32, 85.33333333333333), (28, 74.66666666666667), (24, 64.0), (16, 42.666666666666664), (8, 21.333333333333332), (4, 10.666666666666666)]\n",
      "UMASS : [(32, 170.66666666666666), (28, 149.33333333333334), (24, 128.0), (16, 85.33333333333333), (8, 42.666666666666664), (4, 21.333333333333332)]\n"
     ]
    }
   ],
   "source": [
    "cern_total_input_size = [i * cern_freq for i in input_day_tries]\n",
    "cern_latents = [i / 18 for i in cern_total_input_size]\n",
    "umass_total_input_size = [i * umass_freq for i in input_day_tries]\n",
    "umass_latents = [i / 18 for i in umass_total_input_size]\n",
    "print('CERN :', list(zip(input_day_tries, cern_latents)))\n",
    "print('UMASS :', list(zip(input_day_tries, umass_latents)))"
   ]
  },
  {
   "cell_type": "code",
   "execution_count": 40,
   "id": "23cf441b",
   "metadata": {},
   "outputs": [
    {
     "data": {
      "text/plain": [
       "96.0"
      ]
     },
     "execution_count": 40,
     "metadata": {},
     "output_type": "execute_result"
    }
   ],
   "source": [
    "(12 * umass_freq) /12"
   ]
  },
  {
   "cell_type": "markdown",
   "id": "73d6f2ba",
   "metadata": {},
   "source": [
    "Nb: We already have the default for 12 days so no need to specially do this."
   ]
  },
  {
   "cell_type": "markdown",
   "id": "a0880f18-65bb-4814-9921-1e77f3ba6b7d",
   "metadata": {},
   "source": [
    "DRED is harder. We want to experiment with different `dred_freq` as well as `input_days`. We still wish to maintain `CR` = 12.\n",
    "\n",
    "revised: no `dred_freq` testing. Too much rework. Just test 6 different row numbers."
   ]
  },
  {
   "cell_type": "code",
   "execution_count": 1,
   "id": "23f83747-d9dc-4837-84c2-fc68a7a65f4e",
   "metadata": {},
   "outputs": [],
   "source": [
    "from itertools import product"
   ]
  },
  {
   "cell_type": "code",
   "execution_count": 21,
   "id": "e932eb52-6b1a-45be-bad7-af2aacb163ee",
   "metadata": {},
   "outputs": [
    {
     "data": {
      "text/plain": [
       "[(60, 20, 100),\n",
       " (60, 40, 200),\n",
       " (60, 80, 400),\n",
       " (60, 120, 600),\n",
       " (60, 160, 800),\n",
       " (60, 240, 1200)]"
      ]
     },
     "execution_count": 21,
     "metadata": {},
     "output_type": "execute_result"
    }
   ],
   "source": [
    "dred_freq = [60]\n",
    "input_day_tries = [20, 40, 80, 120, 160, 240]\n",
    "dred_combos = list(product(dred_freq, input_day_tries))\n",
    "dred_combos = [(c, r, int(c*r / 12)) for c, r in dred_combos]\n",
    "dred_combos"
   ]
  },
  {
   "cell_type": "code",
   "execution_count": null,
   "id": "da54598e-d4bb-4960-8f08-01cb22223005",
   "metadata": {},
   "outputs": [],
   "source": []
  }
 ],
 "metadata": {
  "kernelspec": {
   "display_name": "Python 3 (ipykernel)",
   "language": "python",
   "name": "python3"
  },
  "language_info": {
   "codemirror_mode": {
    "name": "ipython",
    "version": 3
   },
   "file_extension": ".py",
   "mimetype": "text/x-python",
   "name": "python",
   "nbconvert_exporter": "python",
   "pygments_lexer": "ipython3",
   "version": "3.9.12"
  }
 },
 "nbformat": 4,
 "nbformat_minor": 5
}
