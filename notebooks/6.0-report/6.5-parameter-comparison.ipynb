{
 "cells": [
  {
   "cell_type": "code",
   "execution_count": 1,
   "id": "63615d2b-6409-4e57-b15c-fae536fa12b9",
   "metadata": {},
   "outputs": [],
   "source": [
    "from __future__ import absolute_import\n",
    "from __future__ import division\n",
    "from __future__ import print_function\n",
    "\n",
    "import os.path as osp\n",
    "import sys\n",
    "\n",
    "\n",
    "def add_path(path):\n",
    "    if path not in sys.path:\n",
    "        sys.path.insert(0, path)\n",
    "\n",
    "\n",
    "this_dir = osp.dirname('../../train.py')\n",
    "\n",
    "lib_path = osp.join(this_dir, 'lib')\n",
    "add_path(lib_path)"
   ]
  },
  {
   "cell_type": "code",
   "execution_count": 2,
   "id": "f5d041e1-f5b3-451d-a445-06f76ac450df",
   "metadata": {},
   "outputs": [],
   "source": [
    "import seaborn as sns\n",
    "import numpy as np\n",
    "import matplotlib.pyplot as plt\n",
    "from matplotlib import image\n",
    "import pandas as pd\n",
    "import time"
   ]
  },
  {
   "cell_type": "code",
   "execution_count": 3,
   "id": "8aeec2fa-fc6b-4e6c-bcbe-bff6ce28f11d",
   "metadata": {},
   "outputs": [],
   "source": [
    "from torch.profiler import profile, record_function, ProfilerActivity\n"
   ]
  },
  {
   "cell_type": "code",
   "execution_count": 4,
   "id": "266f82ec-33b9-4fb7-b6af-fed8599bd9d7",
   "metadata": {},
   "outputs": [],
   "source": [
    "import torch\n",
    "from torch import nn\n",
    "from utils.dataloader import CERN_Dataset_V3, UMASS_Dataset_V2, DRED_Dataset\n",
    "from torch.utils.data import DataLoader\n",
    "from models.models import HAE, AE, SCSAE, HAE_V2\n",
    "from models import gdn"
   ]
  },
  {
   "cell_type": "markdown",
   "id": "6dd0f673-f929-45ee-9757-2b620d4d7ce5",
   "metadata": {},
   "source": [
    "#### CER"
   ]
  },
  {
   "cell_type": "code",
   "execution_count": 5,
   "id": "f81f3209-2cf1-41b2-9afa-ff7386c1de32",
   "metadata": {},
   "outputs": [
    {
     "name": "stdout",
     "output_type": "stream",
     "text": [
      "loaded\n"
     ]
    }
   ],
   "source": [
    "hae_48_cern = \"../../model_param/state_7218799.pt\"\n",
    "scsae_48_cern = \"../../model_param/state_6603495.pt\"\n",
    "\n",
    "hae_model = HAE_V2(latent_n = 48, input_days = 12, wide_freq = 48, reshape_factor = 1, device = 'cpu')\n",
    "hae_model.load_state_dict(torch.load(hae_48_cern)['state_dict'])\n",
    "hae_model.eval()\n",
    "scsae_model = SCSAE(latent_n = 48, input_days = 12, wide_freq = 48, reshape_factor = 2)\n",
    "scsae_model.load_state_dict(torch.load(scsae_48_cern)['state_dict'])\n",
    "scsae_model.eval()\n",
    "print('loaded')"
   ]
  },
  {
   "cell_type": "code",
   "execution_count": 6,
   "id": "09e609bc-b2aa-4d15-bc55-d2a0364f7ed5",
   "metadata": {},
   "outputs": [
    {
     "name": "stderr",
     "output_type": "stream",
     "text": [
      "100%|██████████| 200/200 [00:00<00:00, 324.33it/s]\n",
      "100%|██████████| 200/200 [00:00<00:00, 2890.34it/s]\n"
     ]
    }
   ],
   "source": [
    "hae_test_set = CERN_Dataset_V3(train = False, no_days = 12, reshape_factor = 1, mode = 'cnn')\n",
    "scsae_test_set = CERN_Dataset_V3(train = False, no_days = 12, reshape_factor = 2, mode = 'cnn')\n",
    "hae_loader = DataLoader(hae_test_set, batch_size = 1)\n",
    "scsae_loader = DataLoader(scsae_test_set, batch_size = 1)"
   ]
  },
  {
   "cell_type": "markdown",
   "id": "394b59b1-ed79-45fe-96a8-de6b21f52eff",
   "metadata": {},
   "source": [
    "SCSAE"
   ]
  },
  {
   "cell_type": "code",
   "execution_count": 16,
   "id": "b94b24b7-8b61-4944-ac0a-7e4cf2745b0c",
   "metadata": {},
   "outputs": [],
   "source": [
    "times = []\n",
    "\n",
    "for i in range(50):\n",
    "    with profile(activities=[ProfilerActivity.CPU], record_shapes=True, profile_memory = True) as prof:\n",
    "        with record_function(\"model_inference\"):\n",
    "            scsae_model.encoder(scsae_test_set.cern_data[i].unsqueeze(0))\n",
    "    times.append(prof.key_averages().total_average().self_cpu_time_total / 1000)"
   ]
  },
  {
   "cell_type": "code",
   "execution_count": 17,
   "id": "02f42b24-6c63-45fa-b06d-966dc147bb4e",
   "metadata": {},
   "outputs": [
    {
     "data": {
      "text/plain": [
       "4.7964400000000005"
      ]
     },
     "execution_count": 17,
     "metadata": {},
     "output_type": "execute_result"
    }
   ],
   "source": [
    "np.array(times).mean()"
   ]
  },
  {
   "cell_type": "code",
   "execution_count": 18,
   "id": "c4bbfa02-d75b-47c8-83d8-143cd01e47cb",
   "metadata": {},
   "outputs": [
    {
     "data": {
      "text/plain": [
       "1.4566078286210051"
      ]
     },
     "execution_count": 18,
     "metadata": {},
     "output_type": "execute_result"
    }
   ],
   "source": [
    "np.array(times).std()"
   ]
  },
  {
   "cell_type": "code",
   "execution_count": 19,
   "id": "9cb91157-358e-421f-a0dc-7c08d6015d6f",
   "metadata": {},
   "outputs": [
    {
     "name": "stdout",
     "output_type": "stream",
     "text": [
      "---------------------------------  ------------  ------------  ------------  ------------  ------------  ------------  ------------  ------------  \n",
      "                             Name    Self CPU %      Self CPU   CPU total %     CPU total  CPU time avg       CPU Mem  Self CPU Mem    # of Calls  \n",
      "---------------------------------  ------------  ------------  ------------  ------------  ------------  ------------  ------------  ------------  \n",
      "                      aten::zeros         1.59%      38.000us         2.39%      57.000us      57.000us           4 b           0 b             1  \n",
      "                      aten::empty         3.64%      87.000us         3.64%      87.000us       2.900us      50.39 Kb      50.39 Kb            30  \n",
      "                      aten::zero_         0.17%       4.000us         0.17%       4.000us       4.000us           0 b           0 b             1  \n",
      "                  model_inference        21.47%     513.000us        97.61%       2.332ms       2.332ms          -4 b    -104.27 Kb             1  \n",
      "                     aten::select         2.85%      68.000us         3.35%      80.000us       8.000us           0 b           0 b            10  \n",
      "                 aten::as_strided         0.96%      23.000us         0.96%      23.000us       1.045us           0 b           0 b            22  \n",
      "                  aten::unsqueeze         2.39%      57.000us         2.76%      66.000us       6.600us           0 b           0 b            10  \n",
      "                     aten::conv2d         1.38%      33.000us        52.83%       1.262ms     315.500us      52.31 Kb           0 b             4  \n",
      "                aten::convolution         1.30%      31.000us        51.44%       1.229ms     307.250us      52.31 Kb           0 b             4  \n",
      "               aten::_convolution         2.68%      64.000us        50.15%       1.198ms     299.500us      52.31 Kb           0 b             4  \n",
      "       aten::_convolution_nogroup         1.21%      29.000us        31.39%     750.000us     250.000us      47.81 Kb           0 b             3  \n",
      "          aten::_nnpack_available         0.17%       4.000us         0.17%       4.000us       1.333us           0 b           0 b             3  \n",
      "                aten::thnn_conv2d         1.38%      33.000us        30.01%     717.000us     239.000us      47.81 Kb           0 b             3  \n",
      "        aten::thnn_conv2d_forward        16.79%     401.000us        28.63%     684.000us     228.000us      47.81 Kb           0 b             3  \n",
      "                       aten::view         1.17%      28.000us         1.17%      28.000us       2.800us           0 b           0 b            10  \n",
      "                    aten::resize_         0.92%      22.000us         0.92%      22.000us       3.143us      54.56 Kb      54.56 Kb             7  \n",
      "                    aten::reshape         0.54%      13.000us         0.75%      18.000us       6.000us           0 b           0 b             3  \n",
      "                      aten::copy_         2.26%      54.000us         2.26%      54.000us      13.500us           0 b           0 b             4  \n",
      "                     aten::addmm_         2.89%      69.000us         2.89%      69.000us      23.000us           0 b           0 b             3  \n",
      "                 aten::batch_norm         0.71%      17.000us         9.29%     222.000us      74.000us      22.50 Kb           0 b             3  \n",
      "     aten::_batch_norm_impl_index         1.38%      33.000us         8.58%     205.000us      68.333us      22.50 Kb           0 b             3  \n",
      "          aten::native_batch_norm         4.23%     101.000us         6.99%     167.000us      55.667us      22.50 Kb        -896 b             3  \n",
      "                 aten::empty_like         1.72%      41.000us         2.76%      66.000us       7.333us      23.38 Kb           0 b             9  \n",
      "                       aten::relu         1.63%      39.000us         3.26%      78.000us      26.000us      22.50 Kb           0 b             3  \n",
      "                  aten::threshold         1.34%      32.000us         1.63%      39.000us      13.000us      22.50 Kb           0 b             3  \n",
      "---------------------------------  ------------  ------------  ------------  ------------  ------------  ------------  ------------  ------------  \n",
      "Self CPU time total: 2.389ms\n",
      "\n"
     ]
    }
   ],
   "source": [
    "print(prof.key_averages().table(row_limit=25))"
   ]
  },
  {
   "cell_type": "markdown",
   "id": "ee0df8f0-d95b-43d8-b779-111c04ec5fcc",
   "metadata": {},
   "source": [
    "HAE"
   ]
  },
  {
   "cell_type": "code",
   "execution_count": 20,
   "id": "c6cb93a4-7e1b-4821-9b5c-8e839cbdc69b",
   "metadata": {},
   "outputs": [],
   "source": [
    "times = []\n",
    "\n",
    "for i in range(50):\n",
    "    with profile(activities=[ProfilerActivity.CPU], record_shapes=True, profile_memory = True) as prof:\n",
    "        with record_function(\"model_inference\"):\n",
    "            hae_model.encoder(hae_test_set.cern_data[i].unsqueeze(0))\n",
    "    times.append(prof.key_averages().total_average().self_cpu_time_total / 1000)"
   ]
  },
  {
   "cell_type": "code",
   "execution_count": 21,
   "id": "2d8aa5b1-39d5-4eee-960b-4686775f9b44",
   "metadata": {},
   "outputs": [
    {
     "data": {
      "text/plain": [
       "9.71248"
      ]
     },
     "execution_count": 21,
     "metadata": {},
     "output_type": "execute_result"
    }
   ],
   "source": [
    "np.array(times).mean()"
   ]
  },
  {
   "cell_type": "code",
   "execution_count": 22,
   "id": "0efb39e1-9810-4097-9723-e53a25e23876",
   "metadata": {},
   "outputs": [
    {
     "data": {
      "text/plain": [
       "0.7575105607184628"
      ]
     },
     "execution_count": 22,
     "metadata": {},
     "output_type": "execute_result"
    }
   ],
   "source": [
    "np.array(times).std()"
   ]
  },
  {
   "cell_type": "code",
   "execution_count": 23,
   "id": "ddc42bb8-1da3-4a35-98f2-f80a168b52df",
   "metadata": {},
   "outputs": [
    {
     "name": "stdout",
     "output_type": "stream",
     "text": [
      "---------------------------------  ------------  ------------  ------------  ------------  ------------  ------------  ------------  ------------  \n",
      "                             Name    Self CPU %      Self CPU   CPU total %     CPU total  CPU time avg       CPU Mem  Self CPU Mem    # of Calls  \n",
      "---------------------------------  ------------  ------------  ------------  ------------  ------------  ------------  ------------  ------------  \n",
      "                      aten::zeros         1.14%     102.000us         1.38%     123.000us      41.000us         388 b           0 b             3  \n",
      "                      aten::empty         2.49%     222.000us         2.49%     222.000us       1.337us     124.64 Kb     124.64 Kb           166  \n",
      "                      aten::zero_         0.06%       5.000us         0.06%       5.000us       1.667us           0 b           0 b             3  \n",
      "                  model_inference         9.46%     843.000us        98.81%       8.806ms       8.806ms          -4 b    -170.49 Kb             1  \n",
      "                     aten::select         1.86%     166.000us         2.18%     194.000us       4.732us           0 b           0 b            41  \n",
      "                 aten::as_strided         1.66%     148.000us         1.66%     148.000us       0.632us           0 b           0 b           234  \n",
      "                  aten::unsqueeze         1.60%     143.000us         1.87%     167.000us       3.976us           0 b           0 b            42  \n",
      "                    aten::squeeze         0.12%      11.000us         0.12%      11.000us      11.000us           0 b           0 b             1  \n",
      "                       aten::lstm         7.20%     642.000us        64.39%       5.738ms       5.738ms      18.38 Kb     -11.25 Kb             1  \n",
      "        aten::cudnn_is_acceptable         0.02%       2.000us         0.02%       2.000us       2.000us           0 b           0 b             1  \n",
      "                  aten::transpose         1.08%      96.000us         1.36%     121.000us       4.172us           0 b           0 b            29  \n",
      "                     aten::unbind         1.07%      95.000us         2.27%     202.000us      50.500us           0 b           0 b             4  \n",
      "                     aten::linear         2.19%     195.000us        16.00%       1.426ms      52.815us      18.19 Kb           0 b            27  \n",
      "                          aten::t         2.06%     184.000us         3.24%     289.000us      10.704us           0 b           0 b            27  \n",
      "                     aten::matmul         0.33%      29.000us         2.09%     186.000us      93.000us       9.00 Kb           0 b             2  \n",
      "                       aten::view         0.71%      63.000us         0.71%      63.000us       2.625us           0 b           0 b            24  \n",
      "                         aten::mm         1.37%     122.000us         1.40%     125.000us      62.500us       9.00 Kb           0 b             2  \n",
      "               aten::_unsafe_view         0.18%      16.000us         0.20%      18.000us       9.000us           0 b           0 b             2  \n",
      "                       aten::add_         4.26%     380.000us         4.26%     380.000us       7.600us           0 b           0 b            50  \n",
      "                      aten::addmm         5.95%     530.000us         7.99%     712.000us      28.480us       9.19 Kb       8.44 Kb            25  \n",
      "                     aten::expand         0.86%      77.000us         1.08%      96.000us       3.840us           0 b           0 b            25  \n",
      "                      aten::copy_         1.29%     115.000us         1.29%     115.000us       3.966us         768 b         768 b            29  \n",
      "               aten::unsafe_chunk         0.59%      53.000us        10.32%     920.000us      38.333us           0 b           0 b            24  \n",
      "               aten::unsafe_split         3.34%     298.000us         9.73%     867.000us      36.125us           0 b           0 b            24  \n",
      "                     aten::narrow         2.51%     224.000us         6.38%     569.000us       5.927us           0 b           0 b            96  \n",
      "---------------------------------  ------------  ------------  ------------  ------------  ------------  ------------  ------------  ------------  \n",
      "Self CPU time total: 8.912ms\n",
      "\n"
     ]
    }
   ],
   "source": [
    "print(prof.key_averages().table(row_limit=25))"
   ]
  },
  {
   "cell_type": "markdown",
   "id": "e608e6e5-6d07-4c2d-a49d-98cba4b35c47",
   "metadata": {},
   "source": [
    "#### UMASS"
   ]
  },
  {
   "cell_type": "markdown",
   "id": "528e1bf1-aa60-490a-87b0-76624e7f77bd",
   "metadata": {},
   "source": [
    "SCSAE"
   ]
  },
  {
   "cell_type": "code",
   "execution_count": 52,
   "id": "7cf865da-a25b-4824-8bd5-dd753563c92f",
   "metadata": {},
   "outputs": [
    {
     "name": "stdout",
     "output_type": "stream",
     "text": [
      "loaded\n"
     ]
    }
   ],
   "source": [
    "hae_96_umass = \"../../model_param/state_3995498.pt\"\n",
    "scsae_96_umass = \"../../model_param/state_5734868.pt\"\n",
    "hae_model = HAE_V2(latent_n = 96, input_days = 12, wide_freq = 96, reshape_factor = 1, device = 'cpu')\n",
    "hae_model.load_state_dict(torch.load(hae_96_umass)['state_dict'])\n",
    "hae_model.eval()\n",
    "scsae_model = SCSAE(latent_n = 96, input_days = 12, wide_freq = 96, reshape_factor = 2)\n",
    "scsae_model.load_state_dict(torch.load(scsae_96_umass)['state_dict'])\n",
    "scsae_model.eval()\n",
    "print('loaded')"
   ]
  },
  {
   "cell_type": "code",
   "execution_count": 53,
   "id": "52a63708-2cf8-44ee-9ea5-4e21385e6e31",
   "metadata": {},
   "outputs": [
    {
     "name": "stderr",
     "output_type": "stream",
     "text": [
      "100%|██████████| 10/10 [00:00<00:00, 1349.48it/s]\n",
      "100%|██████████| 10/10 [00:00<00:00, 1639.94it/s]\n"
     ]
    }
   ],
   "source": [
    "hae_test_set = UMASS_Dataset_V2(train = False, no_days = 12, reshape_factor = 1, mode = 'cnn')\n",
    "scsae_test_set = UMASS_Dataset_V2(train = False, no_days = 12, reshape_factor = 2, mode = 'cnn')\n",
    "hae_loader = DataLoader(hae_test_set, batch_size = 1)\n",
    "scsae_loader = DataLoader(scsae_test_set, batch_size = 1)"
   ]
  },
  {
   "cell_type": "code",
   "execution_count": 54,
   "id": "54ca1609-1c5a-4874-906b-80d4393af1a6",
   "metadata": {},
   "outputs": [],
   "source": [
    "times = []\n",
    "\n",
    "for i in range(1):\n",
    "    with profile(activities=[ProfilerActivity.CPU], record_shapes=True, profile_memory = True) as prof:\n",
    "        with record_function(\"model_inference\"):\n",
    "            scsae_model.encoder(scsae_test_set.umass_data[i].unsqueeze(0))\n",
    "    times.append(prof.key_averages().total_average().self_cpu_time_total / 1000)"
   ]
  },
  {
   "cell_type": "code",
   "execution_count": 55,
   "id": "4c27186a-e24f-4853-b7c0-8c34adff7e4f",
   "metadata": {},
   "outputs": [
    {
     "data": {
      "text/plain": [
       "5.949"
      ]
     },
     "execution_count": 55,
     "metadata": {},
     "output_type": "execute_result"
    }
   ],
   "source": [
    "np.array(times).mean()"
   ]
  },
  {
   "cell_type": "code",
   "execution_count": 56,
   "id": "e1fcaace-e595-436f-8c1c-1689fc076164",
   "metadata": {},
   "outputs": [
    {
     "data": {
      "text/plain": [
       "0.0"
      ]
     },
     "execution_count": 56,
     "metadata": {},
     "output_type": "execute_result"
    }
   ],
   "source": [
    "np.array(times).std()"
   ]
  },
  {
   "cell_type": "code",
   "execution_count": 59,
   "id": "104995c7-3dcc-4973-b97e-9142c02b96e3",
   "metadata": {},
   "outputs": [
    {
     "name": "stdout",
     "output_type": "stream",
     "text": [
      "---------------------------------  ------------  ------------  ------------  ------------  ------------  ------------  ------------  ------------  \n",
      "                             Name    Self CPU %      Self CPU   CPU total %     CPU total  CPU time avg       CPU Mem  Self CPU Mem    # of Calls  \n",
      "---------------------------------  ------------  ------------  ------------  ------------  ------------  ------------  ------------  ------------  \n",
      "                      aten::zeros         0.42%      25.000us         0.74%      44.000us      44.000us           4 b           0 b             1  \n",
      "                      aten::empty         1.51%      90.000us         1.51%      90.000us       3.000us      99.89 Kb      99.89 Kb            30  \n",
      "                      aten::zero_         0.05%       3.000us         0.05%       3.000us       3.000us           0 b           0 b             1  \n",
      "                  model_inference        16.39%     975.000us        99.26%       5.905ms       5.905ms          -4 b    -208.52 Kb             1  \n",
      "                     aten::select         1.61%      96.000us         1.83%     109.000us      10.900us           0 b           0 b            10  \n",
      "                 aten::as_strided         0.42%      25.000us         0.42%      25.000us       1.136us           0 b           0 b            22  \n",
      "                  aten::unsqueeze         1.03%      61.000us         1.18%      70.000us       7.000us           0 b           0 b            10  \n",
      "                     aten::conv2d         1.04%      62.000us        66.16%       3.936ms     984.000us     104.62 Kb           0 b             4  \n",
      "                aten::convolution         0.92%      55.000us        65.12%       3.874ms     968.500us     104.62 Kb           0 b             4  \n",
      "               aten::_convolution         1.98%     118.000us        64.20%       3.819ms     954.750us     104.62 Kb           0 b             4  \n",
      "       aten::_convolution_nogroup         0.92%      55.000us        23.53%       1.400ms     466.667us      95.62 Kb           0 b             3  \n",
      "          aten::_nnpack_available         0.07%       4.000us         0.07%       4.000us       1.333us           0 b           0 b             3  \n",
      "                aten::thnn_conv2d         0.52%      31.000us        22.54%       1.341ms     447.000us      95.62 Kb           0 b             3  \n",
      "        aten::thnn_conv2d_forward        15.16%     902.000us        22.02%       1.310ms     436.667us      95.62 Kb           0 b             3  \n",
      "                       aten::view         0.54%      32.000us         0.54%      32.000us       3.200us           0 b           0 b            10  \n",
      "                    aten::resize_         0.47%      28.000us         0.47%      28.000us       4.000us     109.12 Kb     109.12 Kb             7  \n",
      "                    aten::reshape         0.22%      13.000us         0.29%      17.000us       5.667us           0 b           0 b             3  \n",
      "                      aten::copy_         1.34%      80.000us         1.34%      80.000us      20.000us           0 b           0 b             4  \n",
      "                     aten::addmm_         2.77%     165.000us         2.77%     165.000us      55.000us           0 b           0 b             3  \n",
      "                 aten::batch_norm         0.44%      26.000us         5.51%     328.000us     109.333us      45.00 Kb           0 b             3  \n",
      "     aten::_batch_norm_impl_index         0.69%      41.000us         5.08%     302.000us     100.667us      45.00 Kb           0 b             3  \n",
      "          aten::native_batch_norm         2.84%     169.000us         4.30%     256.000us      85.333us      45.00 Kb        -896 b             3  \n",
      "                 aten::empty_like         0.87%      52.000us         1.46%      87.000us       9.667us      45.88 Kb           0 b             9  \n",
      "                       aten::relu         1.06%      63.000us         2.22%     132.000us      44.000us      45.00 Kb           0 b             3  \n",
      "                  aten::threshold         0.97%      58.000us         1.16%      69.000us      23.000us      45.00 Kb           0 b             3  \n",
      "         aten::mkldnn_convolution        38.53%       2.292ms        38.68%       2.301ms       2.301ms       9.00 Kb           0 b             1  \n",
      "                aten::as_strided_         0.05%       3.000us         0.05%       3.000us       3.000us           0 b           0 b             1  \n",
      "                     aten::detach         0.02%       1.000us         0.02%       1.000us       1.000us           0 b           0 b             1  \n",
      "                 aten::max_pool2d         0.25%      15.000us         2.74%     163.000us     163.000us      13.50 Kb           0 b             1  \n",
      "    aten::max_pool2d_with_indices         2.35%     140.000us         2.49%     148.000us     148.000us      13.50 Kb           0 b             1  \n",
      "                    aten::flatten         0.13%       8.000us         0.35%      21.000us      21.000us           0 b           0 b             1  \n",
      "                     aten::linear         0.22%      13.000us         4.94%     294.000us     294.000us         384 b           0 b             1  \n",
      "                          aten::t         0.27%      16.000us         0.44%      26.000us      26.000us           0 b           0 b             1  \n",
      "                  aten::transpose         0.13%       8.000us         0.17%      10.000us      10.000us           0 b           0 b             1  \n",
      "                      aten::addmm         3.65%     217.000us         4.29%     255.000us     255.000us         384 b         384 b             1  \n",
      "                     aten::expand         0.12%       7.000us         0.13%       8.000us       8.000us           0 b           0 b             1  \n",
      "---------------------------------  ------------  ------------  ------------  ------------  ------------  ------------  ------------  ------------  \n",
      "Self CPU time total: 5.949ms\n",
      "\n"
     ]
    }
   ],
   "source": [
    "print(prof.key_averages().table(row_limit=1000))"
   ]
  },
  {
   "cell_type": "markdown",
   "id": "96dd060a-ad95-4063-8b5e-d3353d4340c1",
   "metadata": {},
   "source": [
    "HAE"
   ]
  },
  {
   "cell_type": "code",
   "execution_count": 60,
   "id": "8c5b888c-80ef-494a-92cc-a5fac41ecbfc",
   "metadata": {},
   "outputs": [],
   "source": [
    "times = []\n",
    "\n",
    "for i in range(1):\n",
    "    with profile(activities=[ProfilerActivity.CPU], record_shapes=True, profile_memory = True) as prof:\n",
    "        with record_function(\"model_inference\"):\n",
    "            hae_model.encoder(hae_test_set.umass_data[i].unsqueeze(0))\n",
    "    times.append(prof.key_averages().total_average().self_cpu_time_total / 1000)"
   ]
  },
  {
   "cell_type": "code",
   "execution_count": 61,
   "id": "7f361183-dabc-4489-8dc5-293d3076db02",
   "metadata": {},
   "outputs": [
    {
     "data": {
      "text/plain": [
       "11.119"
      ]
     },
     "execution_count": 61,
     "metadata": {},
     "output_type": "execute_result"
    }
   ],
   "source": [
    "np.array(times).mean()"
   ]
  },
  {
   "cell_type": "code",
   "execution_count": 62,
   "id": "0bba5a13-83dd-4bcc-b1ca-79b1b883386a",
   "metadata": {},
   "outputs": [
    {
     "data": {
      "text/plain": [
       "0.0"
      ]
     },
     "execution_count": 62,
     "metadata": {},
     "output_type": "execute_result"
    }
   ],
   "source": [
    "np.array(times).std()"
   ]
  },
  {
   "cell_type": "code",
   "execution_count": 63,
   "id": "31957c78-d244-4aec-9b30-b0274f66339e",
   "metadata": {},
   "outputs": [
    {
     "name": "stdout",
     "output_type": "stream",
     "text": [
      "---------------------------------  ------------  ------------  ------------  ------------  ------------  ------------  ------------  ------------  \n",
      "                             Name    Self CPU %      Self CPU   CPU total %     CPU total  CPU time avg       CPU Mem  Self CPU Mem    # of Calls  \n",
      "---------------------------------  ------------  ------------  ------------  ------------  ------------  ------------  ------------  ------------  \n",
      "                      aten::zeros         0.40%      44.000us         0.62%      69.000us      23.000us         388 b           0 b             3  \n",
      "                      aten::empty         2.68%     298.000us         2.68%     298.000us       1.795us     124.64 Kb     124.64 Kb           166  \n",
      "                      aten::zero_         0.04%       4.000us         0.04%       4.000us       1.333us           0 b           0 b             3  \n",
      "                  model_inference        12.42%       1.381ms        99.65%      11.080ms      11.080ms          -4 b    -170.68 Kb             1  \n",
      "                     aten::select         2.80%     311.000us         3.10%     345.000us       8.415us           0 b           0 b            41  \n",
      "                 aten::as_strided         1.74%     193.000us         1.74%     193.000us       0.825us           0 b           0 b           234  \n",
      "                  aten::unsqueeze         1.43%     159.000us         1.69%     188.000us       4.476us           0 b           0 b            42  \n",
      "                    aten::squeeze         0.12%      13.000us         0.13%      14.000us      14.000us           0 b           0 b             1  \n",
      "                       aten::lstm         7.55%     839.000us        62.87%       6.991ms       6.991ms      18.38 Kb     -11.25 Kb             1  \n",
      "        aten::cudnn_is_acceptable         0.02%       2.000us         0.02%       2.000us       2.000us           0 b           0 b             1  \n",
      "                  aten::transpose         1.14%     127.000us         1.41%     157.000us       5.414us           0 b           0 b            29  \n",
      "                     aten::unbind         1.37%     152.000us         2.64%     294.000us      73.500us           0 b           0 b             4  \n",
      "                     aten::linear         1.83%     203.000us        15.60%       1.735ms      64.259us      18.38 Kb           0 b            27  \n",
      "                          aten::t         1.84%     205.000us         3.05%     339.000us      12.556us           0 b           0 b            27  \n",
      "                     aten::matmul         0.40%      45.000us         2.83%     315.000us     157.500us       9.00 Kb           0 b             2  \n",
      "                       aten::view         0.62%      69.000us         0.62%      69.000us       2.875us           0 b           0 b            24  \n",
      "                         aten::mm         1.99%     221.000us         2.05%     228.000us     114.000us       9.00 Kb           0 b             2  \n",
      "               aten::_unsafe_view         0.21%      23.000us         0.23%      26.000us      13.000us           0 b           0 b             2  \n",
      "                       aten::add_         3.94%     438.000us         3.94%     438.000us       8.760us           0 b           0 b            50  \n",
      "                      aten::addmm         5.56%     618.000us         7.46%     830.000us      33.200us       9.38 Kb       9.38 Kb            25  \n",
      "                     aten::expand         0.86%      96.000us         1.03%     114.000us       4.560us           0 b           0 b            25  \n",
      "                      aten::copy_         1.02%     113.000us         1.02%     113.000us       3.897us           0 b           0 b            29  \n",
      "               aten::unsafe_chunk         0.58%      64.000us        10.61%       1.180ms      49.167us           0 b           0 b            24  \n",
      "               aten::unsafe_split         3.66%     407.000us        10.04%       1.116ms      46.500us           0 b           0 b            24  \n",
      "                     aten::narrow         2.38%     265.000us         6.38%     709.000us       7.385us           0 b           0 b            96  \n",
      "                      aten::slice         3.26%     363.000us         3.99%     444.000us       4.625us           0 b           0 b            96  \n",
      "                   aten::sigmoid_         5.69%     633.000us         6.70%     745.000us      10.347us           0 b           0 b            72  \n",
      "                    aten::sigmoid         1.01%     112.000us         1.01%     112.000us       1.556us           0 b           0 b            72  \n",
      "                      aten::tanh_         2.10%     234.000us         2.79%     310.000us      12.917us           0 b           0 b            24  \n",
      "                       aten::tanh         2.91%     324.000us         3.23%     359.000us       7.479us       2.25 Kb           0 b            48  \n",
      "                        aten::mul         8.42%     936.000us         9.79%       1.088ms      14.316us      27.12 Kb           0 b            76  \n",
      "                      aten::stack         1.18%     131.000us         2.66%     296.000us      74.000us       2.62 Kb           0 b             4  \n",
      "                        aten::cat         0.13%      15.000us         0.58%      64.000us      16.000us       2.62 Kb           0 b             4  \n",
      "                       aten::_cat         0.35%      39.000us         0.44%      49.000us      12.250us       2.62 Kb           0 b             4  \n",
      "                    aten::resize_         0.24%      27.000us         0.24%      27.000us       2.455us      36.66 Kb      36.66 Kb            11  \n",
      "                     aten::conv2d         0.26%      29.000us        12.82%       1.425ms     285.000us      29.53 Kb           0 b             5  \n",
      "                aten::convolution         0.28%      31.000us        12.56%       1.396ms     279.200us      29.53 Kb           0 b             5  \n",
      "               aten::_convolution         0.65%      72.000us        12.28%       1.365ms     273.000us      29.53 Kb           0 b             5  \n",
      "       aten::_convolution_nogroup         0.35%      39.000us         8.63%     960.000us     240.000us      27.28 Kb           0 b             4  \n",
      "          aten::_nnpack_available         0.04%       5.000us         0.04%       5.000us       1.250us           0 b           0 b             4  \n",
      "                aten::thnn_conv2d         0.39%      43.000us         8.24%     916.000us     229.000us      27.28 Kb           0 b             4  \n",
      "        aten::thnn_conv2d_forward         5.35%     595.000us         7.85%     873.000us     218.250us      27.28 Kb           0 b             4  \n",
      "                    aten::reshape         0.13%      14.000us         0.17%      19.000us       4.750us           0 b           0 b             4  \n",
      "                     aten::addmm_         0.53%      59.000us         0.53%      59.000us      14.750us           0 b           0 b             4  \n",
      "                       LowerBound         1.98%     220.000us         3.95%     439.000us     109.750us      40.75 Kb     -20.38 Kb             4  \n",
      "                       aten::ones         0.30%      33.000us         0.60%      67.000us      16.750us      20.38 Kb           0 b             4  \n",
      "                      aten::fill_         0.18%      20.000us         0.18%      20.000us       5.000us           0 b           0 b             4  \n",
      "                         aten::to         0.10%      11.000us         0.10%      11.000us       1.100us           0 b           0 b            10  \n",
      "                        aten::max         0.15%      17.000us         0.64%      71.000us      17.750us      20.38 Kb           0 b             4  \n",
      "                    aten::maximum         0.42%      47.000us         0.49%      54.000us      13.500us      20.38 Kb           0 b             4  \n",
      "                        aten::pow         1.43%     159.000us         2.27%     252.000us      42.000us      31.62 Kb           0 b             6  \n",
      "                aten::result_type         0.32%      36.000us         0.32%      36.000us       3.000us           0 b           0 b            12  \n",
      "                 aten::empty_like         0.31%      35.000us         0.46%      51.000us       8.500us      31.62 Kb           0 b             6  \n",
      "              aten::empty_strided         0.14%      16.000us         0.14%      16.000us       2.667us      31.62 Kb      31.62 Kb             6  \n",
      "                   aten::can_cast         0.01%       1.000us         0.01%       1.000us       0.167us           0 b           0 b             6  \n",
      "                        aten::sub         0.51%      57.000us         0.59%      66.000us      16.500us      20.38 Kb           0 b             4  \n",
      "                     aten::detach         0.03%       3.000us         0.03%       3.000us       1.000us           0 b           0 b             3  \n",
      "                       aten::sqrt         0.35%      39.000us         0.41%      46.000us      23.000us      11.25 Kb           0 b             2  \n",
      "                        aten::div         0.28%      31.000us         0.31%      35.000us      17.500us      11.25 Kb           0 b             2  \n",
      "         aten::mkldnn_convolution         2.94%     327.000us         2.99%     333.000us     333.000us       2.25 Kb           0 b             1  \n",
      "                aten::as_strided_         0.01%       1.000us         0.01%       1.000us       1.000us           0 b           0 b             1  \n",
      "                 aten::max_pool2d         0.06%       7.000us         0.69%      77.000us      77.000us       6.75 Kb           0 b             1  \n",
      "    aten::max_pool2d_with_indices         0.57%      63.000us         0.63%      70.000us      70.000us       6.75 Kb           0 b             1  \n",
      "                    aten::flatten         0.04%       5.000us         0.11%      12.000us      12.000us           0 b           0 b             1  \n",
      "---------------------------------  ------------  ------------  ------------  ------------  ------------  ------------  ------------  ------------  \n",
      "Self CPU time total: 11.119ms\n",
      "\n"
     ]
    }
   ],
   "source": [
    "print(prof.key_averages().table(row_limit=500))"
   ]
  },
  {
   "cell_type": "markdown",
   "id": "2f2dd365-e1c7-46de-9b5b-330531f31052",
   "metadata": {},
   "source": [
    "#### DRED"
   ]
  },
  {
   "cell_type": "markdown",
   "id": "e97ef194-9ff0-45da-bbb2-c8679b448ae5",
   "metadata": {},
   "source": [
    "SCSAE"
   ]
  },
  {
   "cell_type": "code",
   "execution_count": 64,
   "id": "2b73e370-558c-4856-b147-e26e4e4128a7",
   "metadata": {},
   "outputs": [
    {
     "name": "stdout",
     "output_type": "stream",
     "text": [
      "loaded\n"
     ]
    }
   ],
   "source": [
    "hae_300_dred = \"../../model_param/state_7437386.pt\"\n",
    "scsae_300_dred = \"../../model_param/state_4128850.pt\"\n",
    "hae_model = HAE_V2(latent_n = 300, input_days = 60, wide_freq = 60, reshape_factor = 1, device = 'cpu')\n",
    "hae_model.load_state_dict(torch.load(hae_300_dred)['state_dict'])\n",
    "hae_model.eval()\n",
    "scsae_model = SCSAE(latent_n = 300, input_days = 60, wide_freq = 60, reshape_factor = 1)\n",
    "scsae_model.load_state_dict(torch.load(scsae_300_dred)['state_dict'])\n",
    "scsae_model.eval()\n",
    "print('loaded')"
   ]
  },
  {
   "cell_type": "code",
   "execution_count": 65,
   "id": "d1f06a4a-531a-4a5a-8af1-64d5efb83bb2",
   "metadata": {},
   "outputs": [
    {
     "name": "stdout",
     "output_type": "stream",
     "text": [
      "DRED processed.\n",
      "DRED processed.\n"
     ]
    }
   ],
   "source": [
    "hae_test_set = DRED_Dataset(train = False, no_rows = 60, reshape_factor = 1, mode = 'cnn')\n",
    "scsae_test_set = DRED_Dataset(train = False, no_rows = 60, reshape_factor = 1, mode = 'cnn')\n",
    "hae_loader = DataLoader(hae_test_set, batch_size = 1)\n",
    "scsae_loader = DataLoader(scsae_test_set, batch_size = 1)"
   ]
  },
  {
   "cell_type": "code",
   "execution_count": 67,
   "id": "82662fb8-512d-465a-b65d-f99d56d66fd1",
   "metadata": {},
   "outputs": [],
   "source": [
    "times = []\n",
    "\n",
    "for i in range(1):\n",
    "    with profile(activities=[ProfilerActivity.CPU], record_shapes=True, profile_memory = True) as prof:\n",
    "        with record_function(\"model_inference\"):\n",
    "            scsae_model.encoder(scsae_test_set.dred_data[i].unsqueeze(0))\n",
    "    times.append(prof.key_averages().total_average().self_cpu_time_total / 1000)"
   ]
  },
  {
   "cell_type": "code",
   "execution_count": 68,
   "id": "f1c7c790-0c5d-4b9b-96b9-e6e366c38a10",
   "metadata": {},
   "outputs": [
    {
     "data": {
      "text/plain": [
       "3.194"
      ]
     },
     "execution_count": 68,
     "metadata": {},
     "output_type": "execute_result"
    }
   ],
   "source": [
    "np.array(times).mean()"
   ]
  },
  {
   "cell_type": "code",
   "execution_count": 69,
   "id": "2750aab5-e6f3-49a4-ab48-79a1d1b5e644",
   "metadata": {},
   "outputs": [
    {
     "data": {
      "text/plain": [
       "0.0"
      ]
     },
     "execution_count": 69,
     "metadata": {},
     "output_type": "execute_result"
    }
   ],
   "source": [
    "np.array(times).std()"
   ]
  },
  {
   "cell_type": "code",
   "execution_count": 71,
   "id": "d5c61264-a16e-4177-9c83-4cd3b6acdc3b",
   "metadata": {},
   "outputs": [
    {
     "name": "stdout",
     "output_type": "stream",
     "text": [
      "---------------------------------  ------------  ------------  ------------  ------------  ------------  ------------  ------------  ------------  \n",
      "                             Name    Self CPU %      Self CPU   CPU total %     CPU total  CPU time avg       CPU Mem  Self CPU Mem    # of Calls  \n",
      "---------------------------------  ------------  ------------  ------------  ------------  ------------  ------------  ------------  ------------  \n",
      "                      aten::zeros         0.72%      23.000us         1.25%      40.000us      40.000us           4 b           0 b             1  \n",
      "                      aten::empty         3.85%     123.000us         3.85%     123.000us       4.100us     310.27 Kb     310.27 Kb            30  \n",
      "                      aten::zero_         0.09%       3.000us         0.09%       3.000us       3.000us           0 b           0 b             1  \n",
      "                  model_inference        20.29%     648.000us        98.75%       3.154ms       3.154ms          -4 b    -646.14 Kb             1  \n",
      "                     aten::select         2.94%      94.000us         3.29%     105.000us      10.500us           0 b           0 b            10  \n",
      "                 aten::as_strided         0.66%      21.000us         0.66%      21.000us       0.955us           0 b           0 b            22  \n",
      "                  aten::unsqueeze         1.63%      52.000us         1.85%      59.000us       5.900us           0 b           0 b            10  \n",
      "                     aten::conv2d         1.00%      32.000us        50.19%       1.603ms     400.750us     326.95 Kb           0 b             4  \n",
      "                aten::convolution         0.94%      30.000us        49.19%       1.571ms     392.750us     326.95 Kb           0 b             4  \n",
      "               aten::_convolution         1.75%      56.000us        48.25%       1.541ms     385.250us     326.95 Kb           0 b             4  \n",
      "       aten::_convolution_nogroup         0.97%      31.000us        34.91%       1.115ms     371.667us     298.83 Kb           0 b             3  \n",
      "          aten::_nnpack_available         0.06%       2.000us         0.06%       2.000us       0.667us           0 b           0 b             3  \n",
      "                aten::thnn_conv2d         0.69%      22.000us        33.88%       1.082ms     360.667us     298.83 Kb           0 b             3  \n",
      "        aten::thnn_conv2d_forward        22.73%     726.000us        33.19%       1.060ms     353.333us     298.83 Kb      28.12 Kb             3  \n",
      "                       aten::view         0.78%      25.000us         0.78%      25.000us       2.500us           0 b           0 b            10  \n",
      "                    aten::resize_         0.78%      25.000us         0.78%      25.000us       3.571us     307.45 Kb     307.45 Kb             7  \n",
      "                    aten::reshape         0.44%      14.000us         0.53%      17.000us       5.667us           0 b           0 b             3  \n",
      "                      aten::copy_         2.32%      74.000us         2.32%      74.000us      18.500us           0 b           0 b             4  \n",
      "                     aten::addmm_         3.76%     120.000us         3.76%     120.000us      40.000us           0 b           0 b             3  \n",
      "                 aten::batch_norm         0.63%      20.000us         7.98%     255.000us      85.000us     140.62 Kb           0 b             3  \n",
      "     aten::_batch_norm_impl_index         1.10%      35.000us         7.36%     235.000us      78.333us     140.62 Kb           0 b             3  \n",
      "          aten::native_batch_norm         3.98%     127.000us         6.14%     196.000us      65.333us     140.62 Kb        -896 b             3  \n",
      "                 aten::empty_like         1.25%      40.000us         2.16%      69.000us       7.667us     141.50 Kb           0 b             9  \n",
      "                       aten::relu         1.31%      42.000us         3.66%     117.000us      39.000us     140.62 Kb           0 b             3  \n",
      "                  aten::threshold         2.04%      65.000us         2.35%      75.000us      25.000us     140.62 Kb           0 b             3  \n",
      "         aten::mkldnn_convolution        11.43%     365.000us        11.58%     370.000us     370.000us      28.12 Kb           0 b             1  \n",
      "                aten::as_strided_         0.03%       1.000us         0.03%       1.000us       1.000us           0 b           0 b             1  \n",
      "                     aten::detach         0.03%       1.000us         0.03%       1.000us       1.000us           0 b           0 b             1  \n",
      "                 aten::max_pool2d         0.25%       8.000us         4.98%     159.000us     159.000us      36.75 Kb           0 b             1  \n",
      "    aten::max_pool2d_with_indices         4.51%     144.000us         4.73%     151.000us     151.000us      36.75 Kb           0 b             1  \n",
      "                    aten::flatten         0.22%       7.000us         0.56%      18.000us      18.000us           0 b           0 b             1  \n",
      "                     aten::linear         0.34%      11.000us         7.20%     230.000us     230.000us       1.17 Kb           0 b             1  \n",
      "                          aten::t         0.44%      14.000us         0.66%      21.000us      21.000us           0 b           0 b             1  \n",
      "                  aten::transpose         0.16%       5.000us         0.22%       7.000us       7.000us           0 b           0 b             1  \n",
      "                      aten::addmm         5.70%     182.000us         6.20%     198.000us     198.000us       1.17 Kb       1.17 Kb             1  \n",
      "                     aten::expand         0.19%       6.000us         0.22%       7.000us       7.000us           0 b           0 b             1  \n",
      "---------------------------------  ------------  ------------  ------------  ------------  ------------  ------------  ------------  ------------  \n",
      "Self CPU time total: 3.194ms\n",
      "\n"
     ]
    }
   ],
   "source": [
    "print(prof.key_averages().table(row_limit=500))"
   ]
  },
  {
   "cell_type": "markdown",
   "id": "ca1d0d53-e974-4579-aca4-869a23ff2d4b",
   "metadata": {},
   "source": [
    "HAE"
   ]
  },
  {
   "cell_type": "code",
   "execution_count": 72,
   "id": "f3b9c942-4ad6-477a-8b7e-a9d7c57137f0",
   "metadata": {},
   "outputs": [],
   "source": [
    "times = []\n",
    "\n",
    "for i in range(1):\n",
    "    with profile(activities=[ProfilerActivity.CPU], record_shapes=True, profile_memory = True) as prof:\n",
    "        with record_function(\"model_inference\"):\n",
    "            hae_model.encoder(hae_test_set.dred_data[i].unsqueeze(0))\n",
    "    times.append(prof.key_averages().total_average().self_cpu_time_total / 1000)"
   ]
  },
  {
   "cell_type": "code",
   "execution_count": 73,
   "id": "d40260b6-7a1c-46cd-ac8a-6c5177ed817b",
   "metadata": {},
   "outputs": [
    {
     "data": {
      "text/plain": [
       "40.663"
      ]
     },
     "execution_count": 73,
     "metadata": {},
     "output_type": "execute_result"
    }
   ],
   "source": [
    "np.array(times).mean()"
   ]
  },
  {
   "cell_type": "code",
   "execution_count": 74,
   "id": "a67a423d-f61f-455c-84d3-1da5b7207b7d",
   "metadata": {},
   "outputs": [
    {
     "data": {
      "text/plain": [
       "0.0"
      ]
     },
     "execution_count": 74,
     "metadata": {},
     "output_type": "execute_result"
    }
   ],
   "source": [
    "np.array(times).std()"
   ]
  },
  {
   "cell_type": "code",
   "execution_count": 76,
   "id": "1c784a6e-c143-459b-9fa5-1ae51eb3086c",
   "metadata": {},
   "outputs": [
    {
     "name": "stdout",
     "output_type": "stream",
     "text": [
      "---------------------------------  ------------  ------------  ------------  ------------  ------------  ------------  ------------  ------------  \n",
      "                             Name    Self CPU %      Self CPU   CPU total %     CPU total  CPU time avg       CPU Mem  Self CPU Mem    # of Calls  \n",
      "---------------------------------  ------------  ------------  ------------  ------------  ------------  ------------  ------------  ------------  \n",
      "                      aten::zeros         0.14%      58.000us         0.22%      91.000us      30.333us         388 b           0 b             3  \n",
      "                      aten::empty         3.01%       1.224ms         3.01%       1.224ms       1.895us     295.11 Kb     295.11 Kb           646  \n",
      "                      aten::zero_         0.02%       7.000us         0.02%       7.000us       2.333us           0 b           0 b             3  \n",
      "                  model_inference         8.64%       3.513ms        99.86%      40.606ms      40.606ms          -4 b    -523.60 Kb             1  \n",
      "                     aten::select         1.63%     662.000us         1.90%     774.000us       5.650us           0 b           0 b           137  \n",
      "                 aten::as_strided         2.00%     815.000us         2.00%     815.000us       0.813us           0 b           0 b          1002  \n",
      "                  aten::unsqueeze         1.03%     419.000us         1.28%     520.000us       3.768us           0 b           0 b           138  \n",
      "                    aten::squeeze         0.04%      15.000us         0.04%      16.000us      16.000us           0 b           0 b             1  \n",
      "                       aten::lstm         8.62%       3.507ms        83.97%      34.144ms      34.144ms      90.38 Kb     -56.16 Kb             1  \n",
      "        aten::cudnn_is_acceptable         0.01%       3.000us         0.01%       3.000us       3.000us           0 b           0 b             1  \n",
      "                  aten::transpose         1.22%     495.000us         1.49%     604.000us       4.832us           0 b           0 b           125  \n",
      "                     aten::unbind         1.34%     545.000us         2.90%       1.178ms     294.500us           0 b           0 b             4  \n",
      "                     aten::linear         1.74%     707.000us        22.08%       8.978ms      72.992us      91.17 Kb           0 b           123  \n",
      "                          aten::t         2.13%     868.000us         3.55%       1.444ms      11.740us           0 b           0 b           123  \n",
      "                     aten::matmul         0.11%      46.000us         6.97%       2.836ms       1.418ms      45.00 Kb           0 b             2  \n",
      "                       aten::view         0.18%      74.000us         0.18%      74.000us       3.083us           0 b           0 b            24  \n",
      "                         aten::mm         6.70%       2.725ms         6.73%       2.738ms       1.369ms      45.00 Kb           0 b             2  \n",
      "               aten::_unsafe_view         0.07%      28.000us         0.08%      33.000us      16.500us           0 b           0 b             2  \n",
      "                       aten::add_         4.05%       1.647ms         4.05%       1.647ms       6.806us           0 b           0 b           242  \n",
      "                      aten::addmm         7.08%       2.880ms         9.67%       3.931ms      32.488us      46.17 Kb      43.55 Kb           121  \n",
      "                     aten::expand         1.15%     466.000us         1.39%     564.000us       4.661us           0 b           0 b           121  \n",
      "                      aten::copy_         1.13%     459.000us         1.13%     459.000us       3.672us       2.62 Kb       2.62 Kb           125  \n",
      "               aten::unsafe_chunk         0.80%     325.000us        13.79%       5.609ms      46.742us           0 b           0 b           120  \n",
      "               aten::unsafe_split         4.62%       1.878ms        12.99%       5.284ms      44.033us           0 b           0 b           120  \n",
      "                     aten::narrow         2.85%       1.158ms         8.38%       3.406ms       7.096us           0 b           0 b           480  \n",
      "                      aten::slice         4.56%       1.854ms         5.54%       2.252ms       4.692us           0 b           0 b           480  \n",
      "                   aten::sigmoid_         7.75%       3.153ms         9.04%       3.676ms      10.211us           0 b           0 b           360  \n",
      "                    aten::sigmoid         1.29%     523.000us         1.29%     523.000us       1.453us           0 b           0 b           360  \n",
      "                      aten::tanh_         2.84%       1.154ms         3.43%       1.395ms      11.625us           0 b           0 b           120  \n",
      "                       aten::tanh         3.84%       1.562ms         4.37%       1.777ms       7.404us      11.16 Kb           0 b           240  \n",
      "                        aten::mul        12.65%       5.142ms        14.37%       5.844ms      16.055us      54.12 Kb         192 b           364  \n",
      "                      aten::stack         1.23%     501.000us         2.53%       1.030ms     257.500us      11.62 Kb           0 b             4  \n",
      "                        aten::cat         0.06%      23.000us         0.22%      89.000us      22.250us      11.62 Kb           0 b             4  \n",
      "                       aten::_cat         0.12%      50.000us         0.16%      66.000us      16.500us      11.62 Kb           0 b             4  \n",
      "                    aten::resize_         0.09%      38.000us         0.09%      38.000us       3.455us     181.78 Kb     181.78 Kb            11  \n",
      "                     aten::conv2d         0.08%      33.000us         3.61%       1.468ms     293.600us     147.66 Kb           0 b             5  \n",
      "                aten::convolution         0.09%      35.000us         3.53%       1.435ms     287.000us     147.66 Kb           0 b             5  \n",
      "               aten::_convolution         0.19%      78.000us         3.44%       1.400ms     280.000us     147.66 Kb           0 b             5  \n",
      "       aten::_convolution_nogroup         0.12%      48.000us         2.38%     967.000us     241.750us     136.41 Kb           0 b             4  \n",
      "          aten::_nnpack_available         0.01%       4.000us         0.01%       4.000us       1.000us           0 b           0 b             4  \n",
      "                aten::thnn_conv2d         0.06%      23.000us         2.25%     915.000us     228.750us     136.41 Kb           0 b             4  \n",
      "        aten::thnn_conv2d_forward         1.31%     531.000us         2.19%     892.000us     223.000us     136.41 Kb           0 b             4  \n",
      "                    aten::reshape         0.05%      19.000us         0.06%      25.000us       6.250us           0 b           0 b             4  \n",
      "                     aten::addmm_         0.27%     110.000us         0.27%     110.000us      27.500us           0 b           0 b             4  \n",
      "                       LowerBound         0.65%     265.000us         1.20%     486.000us     121.500us      40.75 Kb     -20.38 Kb             4  \n",
      "                       aten::ones         0.09%      37.000us         0.19%      76.000us      19.000us      20.38 Kb           0 b             4  \n",
      "                      aten::fill_         0.05%      22.000us         0.05%      22.000us       5.500us           0 b           0 b             4  \n",
      "                         aten::to         0.02%       9.000us         0.02%       9.000us       0.900us           0 b           0 b            10  \n",
      "                        aten::max         0.04%      18.000us         0.19%      76.000us      19.000us      20.38 Kb           0 b             4  \n",
      "                    aten::maximum         0.12%      48.000us         0.14%      58.000us      14.500us      20.38 Kb           0 b             4  \n",
      "                        aten::pow         0.41%     167.000us         0.65%     265.000us      44.167us      76.62 Kb           0 b             6  \n",
      "                aten::result_type         0.10%      40.000us         0.10%      40.000us       3.333us           0 b           0 b            12  \n",
      "                 aten::empty_like         0.08%      34.000us         0.13%      53.000us       8.833us      76.62 Kb           0 b             6  \n",
      "              aten::empty_strided         0.05%      19.000us         0.05%      19.000us       3.167us      76.62 Kb      76.62 Kb             6  \n",
      "                   aten::can_cast         0.00%       1.000us         0.00%       1.000us       0.167us           0 b           0 b             6  \n",
      "                        aten::sub         0.14%      57.000us         0.16%      67.000us      16.750us      20.38 Kb         256 b             4  \n",
      "                     aten::detach         0.00%       2.000us         0.00%       2.000us       0.667us           0 b           0 b             3  \n",
      "                       aten::sqrt         0.13%      53.000us         0.15%      62.000us      31.000us      56.25 Kb           0 b             2  \n",
      "                        aten::div         0.10%      40.000us         0.11%      45.000us      22.500us      56.25 Kb           0 b             2  \n",
      "         aten::mkldnn_convolution         0.85%     347.000us         0.87%     355.000us     355.000us      11.25 Kb           0 b             1  \n",
      "                aten::as_strided_         0.01%       3.000us         0.01%       3.000us       3.000us           0 b           0 b             1  \n",
      "                 aten::max_pool2d         0.02%       8.000us         0.25%     101.000us     101.000us      33.75 Kb           0 b             1  \n",
      "    aten::max_pool2d_with_indices         0.21%      84.000us         0.23%      93.000us      93.000us      33.75 Kb           0 b             1  \n",
      "                    aten::flatten         0.01%       4.000us         0.03%      11.000us      11.000us           0 b           0 b             1  \n",
      "---------------------------------  ------------  ------------  ------------  ------------  ------------  ------------  ------------  ------------  \n",
      "Self CPU time total: 40.663ms\n",
      "\n"
     ]
    }
   ],
   "source": [
    "print(prof.key_averages().table(row_limit=5000))"
   ]
  },
  {
   "cell_type": "code",
   "execution_count": null,
   "id": "ad8cc476-cde0-4911-9a46-fdc7904d9150",
   "metadata": {},
   "outputs": [],
   "source": []
  }
 ],
 "metadata": {
  "kernelspec": {
   "display_name": "Python 3 (ipykernel)",
   "language": "python",
   "name": "python3"
  },
  "language_info": {
   "codemirror_mode": {
    "name": "ipython",
    "version": 3
   },
   "file_extension": ".py",
   "mimetype": "text/x-python",
   "name": "python",
   "nbconvert_exporter": "python",
   "pygments_lexer": "ipython3",
   "version": "3.9.12"
  }
 },
 "nbformat": 4,
 "nbformat_minor": 5
}
