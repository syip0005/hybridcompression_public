{
 "cells": [
  {
   "cell_type": "code",
   "execution_count": 1,
   "id": "c06ac9c7",
   "metadata": {},
   "outputs": [],
   "source": [
    "from doctest import Example\n",
    "import torch\n",
    "from torch.utils.data import Dataset, DataLoader\n",
    "import pandas as pd\n",
    "import numpy as np\n",
    "import logging, sys\n",
    "from tqdm import tqdm"
   ]
  },
  {
   "cell_type": "code",
   "execution_count": 6,
   "id": "79cc4bf0",
   "metadata": {},
   "outputs": [],
   "source": [
    "class DRED_Dataset(Dataset):\n",
    "\n",
    "    \"\"\"\n",
    "    DRED PyTorch Dataset Class\n",
    "    Allows selection of \"wide_freq\" - unlike other datasets which are fixed at daily.\n",
    "    Required as due to 1 second interval is too large.\n",
    "    ...\n",
    "\n",
    "    Attributes\n",
    "    ----------\n",
    "    dred_data : Tensor\n",
    "        processed dred data\n",
    "    dred_data_noisy : Tensor\n",
    "        noise-added dred data\n",
    "    mode : str\n",
    "        method for which the dred dataset has been processed ('fc' or 'cnn)\n",
    "\n",
    "    Methods\n",
    "    -------\n",
    "    preprocess_dred_fc()\n",
    "        Initialization process of dataset for 'fc' fully-connected mode\n",
    "    preprocess_dred_cnn()\n",
    "        Initialization process of dataset for 'cnn' convolutional neural network mode\n",
    "    \"\"\"\n",
    "\n",
    "    def __init__(self, folder_path: str ='../../dataset/interim/', mode: str = 'cnn', # Required arguments\n",
    "                 train: bool = True, no_rows: int = 12, reshape_factor: int = 2, # CNN arguments\n",
    "                 N: int = None, seed: int = 0, eps: float = 1e-12, wide_freq = 60, # Other arguments\n",
    "                 noise_type: str = 'none', noise_pct: float = 0.9): # Noise arguments\n",
    "\n",
    "        \"\"\"\n",
    "        Parameters\n",
    "        ----------\n",
    "        folder_path : string\n",
    "                Directory with all the files (processed)\n",
    "        mode: string \n",
    "                Either 'cnn' for convolutional usage or 'fc' for basic AE usage.\n",
    "        train : bool\n",
    "                Determines whether training or test dataset to be used (already preprocessed to save time)\n",
    "        no_rows : int (optional) \n",
    "                Number of rows (i.e., rows in the matrix example)\n",
    "        reshape_factor : int (optional) \n",
    "                Used by the original authors to achieve a square tensor\n",
    "        N : int (optional) \n",
    "                Select subset of examples, AFTER reshaping.\n",
    "        seed : int (optional) \n",
    "                Set seed, mainly for shuffling\n",
    "        eps : float (optional) \n",
    "                For numerical stability in min-max normalization.\n",
    "        noise_type: bool (optional) ('gauss', 'speckle', None)\n",
    "                If, and what type, of noise to be added to dataset\n",
    "        noise_pct: float (optional)\n",
    "                Parameter controlling how much noise to add\n",
    "        \"\"\"\n",
    "        \n",
    "        # Set seed\n",
    "        torch.manual_seed(seed)\n",
    "        \n",
    "        # Activate tqdm for pandas and remember object variables\n",
    "        tqdm.pandas()\n",
    "        self.eps = eps\n",
    "        self.mode = mode\n",
    "        \n",
    "        # Within all available frequencies\n",
    "        self.wide_freq = wide_freq\n",
    "        \n",
    "        if train:\n",
    "            file_path = folder_path + 'dred_train.csv'\n",
    "        else:\n",
    "            file_path = folder_path + 'dred_test.csv'\n",
    "\n",
    "        df = pd.read_csv(file_path)\n",
    "        \n",
    "        if mode == 'cnn':\n",
    "        \n",
    "            # Perform first reshape into Tensor of shape (no_examples, no_rows, 48)\n",
    "            self.dred_data = self.preprocess_dred_cnn(df, no_rows)\n",
    "\n",
    "\n",
    "            # Perform second reshape into Tensor of shape (no_examples, no_rows * reshape_factor, 48 / reshape_factor)        \n",
    "            self.dred_data = self.dred_data.reshape(self.dred_data.size(0), self.dred_data.size(1) * reshape_factor,\n",
    "                                                    self.dred_data.size(2) // reshape_factor)\n",
    "\n",
    "            # Unsqueeze channel 1 back out (1 filter)\n",
    "            self.dred_data = self.dred_data.unsqueeze(1)\n",
    "            \n",
    "        elif mode == 'fc':\n",
    "            \n",
    "            self.dred_data = self.preprocess_dred_fc(df, no_rows)\n",
    "            \n",
    "        else:\n",
    "            \n",
    "            raise ValueError(\"Mode must be 'cnn' or 'fc'.\")\n",
    "            \n",
    "        # If N is selected, pick random list\n",
    "        if N is not None:\n",
    "            if N > self.dred_data.shape[0]:\n",
    "                raise ValueError(\"Cannot exceed dataset size of {}\".format(self.dred_data.size(0)))\n",
    "            else:\n",
    "                # Permutation\n",
    "                # perm = torch.randperm(self.dred_data.size(0))[:N]\n",
    "                # self.dred_data = self.dred_data[perm, :, :]\n",
    "\n",
    "                self.dred_data = self.dred_data[:N] # for debug purposes # TODO: remove this\n",
    "\n",
    "        # Add noise to dataset\n",
    "        if noise_type == 'gauss':\n",
    "            # Add Gaussian noise\n",
    "            noise = torch.randn(self.dred_data.size()) * noise_pct\n",
    "            self.dred_data_noisy = self.dred_data + noise\n",
    "            # Clamp between 0 and 1 (same as real life)\n",
    "            self.dred_data_noisy = torch.clamp(self.dred_data_noisy, min = 0, max = 1)\n",
    "        elif noise_type == 'speckle':\n",
    "            raise NotImplementedError('Speckle noise not yet implemented')\n",
    "        elif noise_type == 'none':\n",
    "            self.dred_data_noisy = self.dred_data\n",
    "        else:\n",
    "            raise NotImplementedError('Noise selection has not been implemented.')\n",
    "            \n",
    "        if mode == 'cnn':\n",
    "            min_meter_day = torch.amin(self.dred_data, dim = (-1, -2), keepdim=True)\n",
    "            max_meter_day = torch.amax(self.dred_data, dim = (-1, -2), keepdim=True)\n",
    "            self.dred_data = (self.dred_data - min_meter_day) / (max_meter_day - min_meter_day) # numerica stability\n",
    "            min_meter_day = torch.amin(self.dred_data_noisy, dim = (-1, -2), keepdim=True)\n",
    "            max_meter_day = torch.amax(self.dred_data_noisy, dim = (-1, -2), keepdim=True)\n",
    "            self.dred_data_noisy = (self.dred_data_noisy - min_meter_day) / (max_meter_day - min_meter_day) # numerica stability\n",
    "        elif mode == 'fc':\n",
    "            min_meter_day = torch.amin(self.dred_data, dim = (-1), keepdim=True)\n",
    "            max_meter_day = torch.amax(self.dred_data, dim = (-1), keepdim=True)\n",
    "            self.dred_data = (self.dred_data - min_meter_day) / (max_meter_day - min_meter_day) # numerica stability\n",
    "            min_meter_day = torch.amin(self.dred_data_noisy, dim = (-1), keepdim=True)\n",
    "            max_meter_day = torch.amax(self.dred_data_noisy, dim = (-1), keepdim=True)\n",
    "            self.dred_data_noisy = (self.dred_data_noisy - min_meter_day) / (max_meter_day - min_meter_day) # numerica stability\n",
    "        else:\n",
    "            raise NotImplementedError('mode not implemented')        \n",
    "\n",
    "\n",
    "    def __len__(self):\n",
    "        return self.dred_data.size(0)\n",
    "    \n",
    "    def preprocess_dred_fc(self, df, no_rows):\n",
    "        \n",
    "        return_torch = torch.zeros(1, no_rows * self.wide_freq)\n",
    "        \n",
    "        def extract_dred_examples(subset_df, no_rows):\n",
    "            \n",
    "            \"\"\"\n",
    "            Nested function; group-by to modify nonlocal variable self.return_torch and attaches all modified examples.\n",
    "            \"\"\"\n",
    "    \n",
    "            meter_torch = torch.from_numpy(subset_df.kwh.to_numpy()).float() # convert to Tnesor\n",
    "            meter_torch = meter_torch.reshape(-1, self.wide_freq) # reshape into days\n",
    "\n",
    "            assert meter_torch.shape[0] // (no_rows) != 0, \"not enough data for required shape\"\n",
    "            meter_torch = meter_torch[:(meter_torch.shape[0] // (no_rows)) * (no_rows), :] # drop extra rows (cannot be used)\n",
    "\n",
    "            meter_torch = meter_torch.reshape(-1, no_rows * self.wide_freq) # reshape to daily form\n",
    "\n",
    "            nonlocal return_torch # binds to non-global variable, which will be in non-nested function\n",
    "            return_torch = torch.cat((return_torch, meter_torch))\n",
    "        \n",
    "        # nb: Below function does not need to be assigned, as effectively modifies return_torch inplace.\n",
    "        extract_dred_examples(df, no_rows = no_rows)\n",
    "        print('DRED processed.')\n",
    "        \n",
    "        return return_torch[1:, :] # Removes first row of 0s\n",
    "    \n",
    "    def preprocess_dred_cnn(self, df, no_rows):\n",
    "        \n",
    "        return_torch = torch.zeros(1, no_rows, self.wide_freq)\n",
    "        \n",
    "        def extract_dred_examples(subset_df, no_rows):\n",
    "            \n",
    "            \"\"\"\n",
    "            Nested function; group-by to modify nonlocal variable self.return_torch and attaches all modified examples.\n",
    "            \"\"\"\n",
    "    \n",
    "            meter_torch = torch.from_numpy(subset_df.kwh.to_numpy()).float() # conver to Tnesor\n",
    "            meter_torch = meter_torch.reshape(-1, 1, self.wide_freq) # reshape to 12 day form\n",
    "\n",
    "            assert meter_torch.shape[0] // no_rows, \"not enough data for required shape\"\n",
    "            meter_torch = meter_torch[:(meter_torch.shape[0] // no_rows) * no_rows, :, :] # drop extra rows (cannot be used)\n",
    "\n",
    "            meter_torch = meter_torch.reshape(-1, no_rows, self.wide_freq)\n",
    "\n",
    "            nonlocal return_torch # binds to non-global variable, which will be in non-nested function\n",
    "            return_torch = torch.cat((return_torch, meter_torch))\n",
    "        \n",
    "        # nb: Below function does not need to be assigned, as effectively modifies return_torch inplace.\n",
    "        extract_dred_examples(df, no_rows = no_rows)\n",
    "        print('DRED processed.')\n",
    "        \n",
    "        return return_torch[1:, :, :] # Removes first row of 0s\n",
    "\n",
    "    def __getitem__(self, idx):\n",
    "        \n",
    "        example = self.dred_data[idx]\n",
    "        noisy_example = self.dred_data_noisy[idx]\n",
    "\n",
    "        return example, noisy_example"
   ]
  },
  {
   "cell_type": "markdown",
   "id": "18e5ff61",
   "metadata": {},
   "source": [
    "Remember - 60 days for train, 6 for test."
   ]
  },
  {
   "cell_type": "code",
   "execution_count": 18,
   "id": "244bd37d",
   "metadata": {},
   "outputs": [
    {
     "name": "stdout",
     "output_type": "stream",
     "text": [
      "DRED processed.\n"
     ]
    }
   ],
   "source": [
    "train_set = DRED_Dataset(mode = 'cnn', train = False, no_rows = 60, reshape_factor = 1,\n",
    "                        wide_freq = 60)"
   ]
  },
  {
   "cell_type": "code",
   "execution_count": 19,
   "id": "75bee955",
   "metadata": {},
   "outputs": [
    {
     "data": {
      "text/plain": [
       "1440"
      ]
     },
     "execution_count": 19,
     "metadata": {},
     "output_type": "execute_result"
    }
   ],
   "source": [
    "60*24"
   ]
  },
  {
   "cell_type": "code",
   "execution_count": 20,
   "id": "2c646eec",
   "metadata": {},
   "outputs": [
    {
     "data": {
      "text/plain": [
       "torch.Size([144, 1, 60, 60])"
      ]
     },
     "execution_count": 20,
     "metadata": {},
     "output_type": "execute_result"
    }
   ],
   "source": [
    "train_set.dred_data.shape"
   ]
  },
  {
   "cell_type": "code",
   "execution_count": 14,
   "id": "02cb0ea6",
   "metadata": {},
   "outputs": [
    {
     "data": {
      "text/plain": [
       "torch.Size([144, 1, 60, 60])"
      ]
     },
     "execution_count": 14,
     "metadata": {},
     "output_type": "execute_result"
    }
   ],
   "source": [
    "train_set.dred_data.shape"
   ]
  },
  {
   "cell_type": "code",
   "execution_count": null,
   "id": "4b808d45",
   "metadata": {},
   "outputs": [],
   "source": []
  }
 ],
 "metadata": {
  "kernelspec": {
   "display_name": "Python 3 (ipykernel)",
   "language": "python",
   "name": "python3"
  },
  "language_info": {
   "codemirror_mode": {
    "name": "ipython",
    "version": 3
   },
   "file_extension": ".py",
   "mimetype": "text/x-python",
   "name": "python",
   "nbconvert_exporter": "python",
   "pygments_lexer": "ipython3",
   "version": "3.7.11"
  }
 },
 "nbformat": 4,
 "nbformat_minor": 5
}
