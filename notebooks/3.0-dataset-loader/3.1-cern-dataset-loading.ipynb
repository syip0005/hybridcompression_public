{
 "cells": [
  {
   "cell_type": "code",
   "execution_count": 1,
   "id": "1965daa6",
   "metadata": {},
   "outputs": [],
   "source": [
    "from torch.utils.data import Dataset\n",
    "import pandas as pd\n",
    "import os\n",
    "from random import shuffle\n",
    "import json\n",
    "import csv\n",
    "import torch\n",
    "import datetime\n",
    "import numpy as np\n",
    "import matplotlib.pyplot as plt\n",
    "from tqdm import tqdm"
   ]
  },
  {
   "cell_type": "markdown",
   "id": "f5b64f58-3f3d-4b45-b43d-f8eeff4e9ad3",
   "metadata": {},
   "source": [
    "### Wang et al. (2020) recreation\n",
    "\n",
    "Okay, so let's at least try and recreate a dataset which loads into use for a convolutional neural network first.\n",
    "\n",
    "So based on the paper by Wang et al. (2020) accessed [here](https://www.sciencedirect.com/science/article/pii/S0142061519318502), it would appear that datapoints are ordered into first daily (i.e., 48 points) and then from there resampled.\n",
    "\n",
    "Let's try with 1 meter (meter 1000) to start our code:"
   ]
  },
  {
   "cell_type": "code",
   "execution_count": 2,
   "id": "9ea4389f-9db0-4405-8eab-aa4a42d13d58",
   "metadata": {},
   "outputs": [],
   "source": [
    "df = pd.read_csv('../../dataset/interim/cern_train.csv', parse_dates=['timestamp']) # Okay to read direct to memory as only 4gb, in future consider pyspark or dask for distributed processing."
   ]
  },
  {
   "cell_type": "code",
   "execution_count": 3,
   "id": "3fc0083f-89bc-4030-9b21-336f5e621a04",
   "metadata": {},
   "outputs": [],
   "source": [
    "meter_1000 = df[df['metre_id'] == 1000].kwh.to_numpy()"
   ]
  },
  {
   "cell_type": "code",
   "execution_count": 4,
   "id": "063046f8-d64a-4e6b-9b23-c9b363f32360",
   "metadata": {},
   "outputs": [
    {
     "data": {
      "text/plain": [
       "(24384,)"
      ]
     },
     "execution_count": 4,
     "metadata": {},
     "output_type": "execute_result"
    }
   ],
   "source": [
    "meter_1000.shape"
   ]
  },
  {
   "cell_type": "code",
   "execution_count": 5,
   "id": "49a65d1a-db7c-4a3d-b426-5c5974d6a188",
   "metadata": {},
   "outputs": [],
   "source": [
    "meter_1000_reshaped = meter_1000.reshape(-1, 1, 48)"
   ]
  },
  {
   "cell_type": "markdown",
   "id": "dba5bbd0-d36e-44ef-8cce-88ec4c8eae17",
   "metadata": {},
   "source": [
    "Visually check"
   ]
  },
  {
   "cell_type": "code",
   "execution_count": 6,
   "id": "e53eaff4-08a1-482c-b478-b38fd73725e0",
   "metadata": {},
   "outputs": [
    {
     "data": {
      "text/plain": [
       "[<matplotlib.lines.Line2D at 0x7fa0700b5220>]"
      ]
     },
     "execution_count": 6,
     "metadata": {},
     "output_type": "execute_result"
    },
    {
     "data": {
      "image/png": "[encoded data removed]",
      "text/plain": [
       "<Figure size 432x288 with 1 Axes>"
      ]
     },
     "metadata": {
      "needs_background": "light"
     },
     "output_type": "display_data"
    }
   ],
   "source": [
    "plt.plot(meter_1000_reshaped[0,0,:])"
   ]
  },
  {
   "cell_type": "code",
   "execution_count": 7,
   "id": "4bb50c6e-f049-4e52-aea4-bff508d91c01",
   "metadata": {},
   "outputs": [
    {
     "data": {
      "text/html": [
       "<div>\n",
       "<style scoped>\n",
       "    .dataframe tbody tr th:only-of-type {\n",
       "        vertical-align: middle;\n",
       "    }\n",
       "\n",
       "    .dataframe tbody tr th {\n",
       "        vertical-align: top;\n",
       "    }\n",
       "\n",
       "    .dataframe thead th {\n",
       "        text-align: right;\n",
       "    }\n",
       "</style>\n",
       "<table border=\"1\" class=\"dataframe\">\n",
       "  <thead>\n",
       "    <tr style=\"text-align: right;\">\n",
       "      <th></th>\n",
       "      <th>metre_id</th>\n",
       "      <th>timestamp</th>\n",
       "      <th>kwh</th>\n",
       "    </tr>\n",
       "  </thead>\n",
       "  <tbody>\n",
       "    <tr>\n",
       "      <th>0</th>\n",
       "      <td>1000.0</td>\n",
       "      <td>2009-07-14 00:29:59</td>\n",
       "      <td>0.117</td>\n",
       "    </tr>\n",
       "    <tr>\n",
       "      <th>1</th>\n",
       "      <td>1000.0</td>\n",
       "      <td>2009-07-14 00:59:59</td>\n",
       "      <td>0.050</td>\n",
       "    </tr>\n",
       "    <tr>\n",
       "      <th>2</th>\n",
       "      <td>1000.0</td>\n",
       "      <td>2009-07-14 01:29:59</td>\n",
       "      <td>0.025</td>\n",
       "    </tr>\n",
       "    <tr>\n",
       "      <th>3</th>\n",
       "      <td>1000.0</td>\n",
       "      <td>2009-07-14 01:59:59</td>\n",
       "      <td>0.025</td>\n",
       "    </tr>\n",
       "    <tr>\n",
       "      <th>4</th>\n",
       "      <td>1000.0</td>\n",
       "      <td>2009-07-14 02:29:59</td>\n",
       "      <td>0.049</td>\n",
       "    </tr>\n",
       "  </tbody>\n",
       "</table>\n",
       "</div>"
      ],
      "text/plain": [
       "   metre_id           timestamp    kwh\n",
       "0    1000.0 2009-07-14 00:29:59  0.117\n",
       "1    1000.0 2009-07-14 00:59:59  0.050\n",
       "2    1000.0 2009-07-14 01:29:59  0.025\n",
       "3    1000.0 2009-07-14 01:59:59  0.025\n",
       "4    1000.0 2009-07-14 02:29:59  0.049"
      ]
     },
     "execution_count": 7,
     "metadata": {},
     "output_type": "execute_result"
    }
   ],
   "source": [
    "df[df['metre_id'] == 1000].iloc[:5]"
   ]
  },
  {
   "cell_type": "markdown",
   "id": "79de536c-199b-4558-a1f0-f894ddca0803",
   "metadata": {},
   "source": [
    "Looks great, the next part is to actually vectorize the whole operation. Unfortunately as not all households are equally represented, we can't do a simple reshape. We'll have to use pandas groupby and then stack it?\n",
    "\n",
    "Actually, becuase of the way I preprocessed it - it's simple! I'm overcomplicating it now. All I have to do is just divide the whole thing into 48 blocks."
   ]
  },
  {
   "cell_type": "markdown",
   "id": "101fd25e-b01f-4142-b449-13621213ce89",
   "metadata": {},
   "source": [
    "Quickly check that all are \"days\""
   ]
  },
  {
   "cell_type": "code",
   "execution_count": 8,
   "id": "f2e1d53f-1846-4c55-b431-b1137d61d9b0",
   "metadata": {},
   "outputs": [],
   "source": [
    "one_full_day_timedelta = pd.to_timedelta('0 days 23:30:00')\n",
    "\n",
    "def check_all_are_days(df):\n",
    "    \n",
    "    max_check = df.timestamp.max().time() == datetime.time(23, 59, 59)\n",
    "    min_check = df.timestamp.min().time() == datetime.time(0, 29, 59)\n",
    "    period_check = (df.timestamp.max() - df.timestamp.min()) == one_full_day_timedelta\n",
    "    \n",
    "    return max_check and min_check and period_check"
   ]
  },
  {
   "cell_type": "code",
   "execution_count": 9,
   "id": "08a5b803-4be4-4967-9b0d-485273b23a52",
   "metadata": {},
   "outputs": [
    {
     "data": {
      "text/html": [
       "<div>\n",
       "<style scoped>\n",
       "    .dataframe tbody tr th:only-of-type {\n",
       "        vertical-align: middle;\n",
       "    }\n",
       "\n",
       "    .dataframe tbody tr th {\n",
       "        vertical-align: top;\n",
       "    }\n",
       "\n",
       "    .dataframe thead th {\n",
       "        text-align: right;\n",
       "    }\n",
       "</style>\n",
       "<table border=\"1\" class=\"dataframe\">\n",
       "  <thead>\n",
       "    <tr style=\"text-align: right;\">\n",
       "      <th></th>\n",
       "      <th>metre_id</th>\n",
       "      <th>timestamp</th>\n",
       "      <th>kwh</th>\n",
       "    </tr>\n",
       "  </thead>\n",
       "  <tbody>\n",
       "    <tr>\n",
       "      <th>0</th>\n",
       "      <td>1000.0</td>\n",
       "      <td>2009-07-14 00:29:59</td>\n",
       "      <td>0.117</td>\n",
       "    </tr>\n",
       "    <tr>\n",
       "      <th>1</th>\n",
       "      <td>1000.0</td>\n",
       "      <td>2009-07-14 00:59:59</td>\n",
       "      <td>0.050</td>\n",
       "    </tr>\n",
       "    <tr>\n",
       "      <th>2</th>\n",
       "      <td>1000.0</td>\n",
       "      <td>2009-07-14 01:29:59</td>\n",
       "      <td>0.025</td>\n",
       "    </tr>\n",
       "    <tr>\n",
       "      <th>3</th>\n",
       "      <td>1000.0</td>\n",
       "      <td>2009-07-14 01:59:59</td>\n",
       "      <td>0.025</td>\n",
       "    </tr>\n",
       "    <tr>\n",
       "      <th>4</th>\n",
       "      <td>1000.0</td>\n",
       "      <td>2009-07-14 02:29:59</td>\n",
       "      <td>0.049</td>\n",
       "    </tr>\n",
       "    <tr>\n",
       "      <th>...</th>\n",
       "      <td>...</td>\n",
       "      <td>...</td>\n",
       "      <td>...</td>\n",
       "    </tr>\n",
       "    <tr>\n",
       "      <th>91</th>\n",
       "      <td>1000.0</td>\n",
       "      <td>2009-07-15 21:59:59</td>\n",
       "      <td>0.353</td>\n",
       "    </tr>\n",
       "    <tr>\n",
       "      <th>92</th>\n",
       "      <td>1000.0</td>\n",
       "      <td>2009-07-15 22:29:59</td>\n",
       "      <td>0.322</td>\n",
       "    </tr>\n",
       "    <tr>\n",
       "      <th>93</th>\n",
       "      <td>1000.0</td>\n",
       "      <td>2009-07-15 22:59:59</td>\n",
       "      <td>0.210</td>\n",
       "    </tr>\n",
       "    <tr>\n",
       "      <th>94</th>\n",
       "      <td>1000.0</td>\n",
       "      <td>2009-07-15 23:29:59</td>\n",
       "      <td>0.184</td>\n",
       "    </tr>\n",
       "    <tr>\n",
       "      <th>95</th>\n",
       "      <td>1000.0</td>\n",
       "      <td>2009-07-15 23:59:59</td>\n",
       "      <td>0.135</td>\n",
       "    </tr>\n",
       "  </tbody>\n",
       "</table>\n",
       "<p>96 rows × 3 columns</p>\n",
       "</div>"
      ],
      "text/plain": [
       "    metre_id           timestamp    kwh\n",
       "0     1000.0 2009-07-14 00:29:59  0.117\n",
       "1     1000.0 2009-07-14 00:59:59  0.050\n",
       "2     1000.0 2009-07-14 01:29:59  0.025\n",
       "3     1000.0 2009-07-14 01:59:59  0.025\n",
       "4     1000.0 2009-07-14 02:29:59  0.049\n",
       "..       ...                 ...    ...\n",
       "91    1000.0 2009-07-15 21:59:59  0.353\n",
       "92    1000.0 2009-07-15 22:29:59  0.322\n",
       "93    1000.0 2009-07-15 22:59:59  0.210\n",
       "94    1000.0 2009-07-15 23:29:59  0.184\n",
       "95    1000.0 2009-07-15 23:59:59  0.135\n",
       "\n",
       "[96 rows x 3 columns]"
      ]
     },
     "execution_count": 9,
     "metadata": {},
     "output_type": "execute_result"
    }
   ],
   "source": [
    "df.iloc[:48*2,]"
   ]
  },
  {
   "cell_type": "code",
   "execution_count": 10,
   "id": "627591bf-b031-46c3-9844-ea5efb5102c3",
   "metadata": {},
   "outputs": [
    {
     "data": {
      "text/plain": [
       "10000"
      ]
     },
     "execution_count": 10,
     "metadata": {},
     "output_type": "execute_result"
    }
   ],
   "source": [
    "df['dayindex'] = df.index // 48\n",
    "g = df.groupby('dayindex')\n",
    "\n",
    "# Randomly test groups\n",
    "a = np.arange(g.ngroups)\n",
    "np.random.shuffle(a)\n",
    "\n",
    "sum(df[g.ngroup().isin(a[:10000])].groupby('dayindex').apply(check_all_are_days))"
   ]
  },
  {
   "cell_type": "markdown",
   "id": "850bcf3d-4f51-4e58-954a-1fe12051fce6",
   "metadata": {},
   "source": [
    "Great, so we randomly test 10000 day groups and they're all good!\n",
    "\n",
    "Now all we have to do is just split evenly into groups of 48!"
   ]
  },
  {
   "cell_type": "code",
   "execution_count": 11,
   "id": "956d885d-8822-41fd-8ba2-e3cb5ce88212",
   "metadata": {},
   "outputs": [],
   "source": [
    "cern_tensor = torch.from_numpy(df.kwh.to_numpy())"
   ]
  },
  {
   "cell_type": "code",
   "execution_count": 12,
   "id": "3a9fd607-a5d6-4357-b4b5-2beefa81206c",
   "metadata": {},
   "outputs": [],
   "source": [
    "cern_tensor = cern_tensor.reshape(-1, 1, 48)"
   ]
  },
  {
   "cell_type": "code",
   "execution_count": 13,
   "id": "7dbf8dea-11e4-44fe-8fbf-a839a8de4be8",
   "metadata": {},
   "outputs": [],
   "source": [
    "cern_tensor = cern_tensor[:(cern_tensor.shape[0] // 12) * 12, :, :] # Force correct reshape by dropping last"
   ]
  },
  {
   "cell_type": "code",
   "execution_count": 14,
   "id": "e2d19c1c-8e19-4f3f-924c-10ec9a1c016e",
   "metadata": {},
   "outputs": [],
   "source": [
    "cern_tensor = cern_tensor.reshape(-1, 12, 48)"
   ]
  },
  {
   "cell_type": "code",
   "execution_count": 15,
   "id": "3ea87d69-b7ed-4ce3-9971-d37b7bae1037",
   "metadata": {},
   "outputs": [
    {
     "data": {
      "text/plain": [
       "torch.Size([208402, 12, 48])"
      ]
     },
     "execution_count": 15,
     "metadata": {},
     "output_type": "execute_result"
    }
   ],
   "source": [
    "cern_tensor.shape"
   ]
  },
  {
   "cell_type": "code",
   "execution_count": 16,
   "id": "98112608-0d70-4341-81cf-36ecadfffe60",
   "metadata": {},
   "outputs": [
    {
     "data": {
      "text/plain": [
       "24.0"
      ]
     },
     "execution_count": 16,
     "metadata": {},
     "output_type": "execute_result"
    }
   ],
   "source": [
    "cern_tensor.shape[2] / 2"
   ]
  },
  {
   "cell_type": "code",
   "execution_count": 17,
   "id": "9efcf9ba-3f30-4907-9836-1b77c5b28d5f",
   "metadata": {},
   "outputs": [],
   "source": [
    "cern_tensor = cern_tensor.reshape(cern_tensor.shape[0], cern_tensor.shape[1] * 2, cern_tensor.shape[2] // 2)"
   ]
  },
  {
   "cell_type": "code",
   "execution_count": 18,
   "id": "88ca53fb-2463-4a9e-8ed8-23720b33bbf2",
   "metadata": {},
   "outputs": [
    {
     "data": {
      "text/html": [
       "<div>\n",
       "<style scoped>\n",
       "    .dataframe tbody tr th:only-of-type {\n",
       "        vertical-align: middle;\n",
       "    }\n",
       "\n",
       "    .dataframe tbody tr th {\n",
       "        vertical-align: top;\n",
       "    }\n",
       "\n",
       "    .dataframe thead th {\n",
       "        text-align: right;\n",
       "    }\n",
       "</style>\n",
       "<table border=\"1\" class=\"dataframe\">\n",
       "  <thead>\n",
       "    <tr style=\"text-align: right;\">\n",
       "      <th></th>\n",
       "      <th>metre_id</th>\n",
       "      <th>timestamp</th>\n",
       "      <th>kwh</th>\n",
       "      <th>dayindex</th>\n",
       "    </tr>\n",
       "  </thead>\n",
       "  <tbody>\n",
       "    <tr>\n",
       "      <th>24</th>\n",
       "      <td>1000.0</td>\n",
       "      <td>2009-07-14 12:29:59</td>\n",
       "      <td>0.111</td>\n",
       "      <td>0</td>\n",
       "    </tr>\n",
       "    <tr>\n",
       "      <th>25</th>\n",
       "      <td>1000.0</td>\n",
       "      <td>2009-07-14 12:59:59</td>\n",
       "      <td>0.030</td>\n",
       "      <td>0</td>\n",
       "    </tr>\n",
       "    <tr>\n",
       "      <th>26</th>\n",
       "      <td>1000.0</td>\n",
       "      <td>2009-07-14 13:29:59</td>\n",
       "      <td>0.029</td>\n",
       "      <td>0</td>\n",
       "    </tr>\n",
       "    <tr>\n",
       "      <th>27</th>\n",
       "      <td>1000.0</td>\n",
       "      <td>2009-07-14 13:59:59</td>\n",
       "      <td>0.029</td>\n",
       "      <td>0</td>\n",
       "    </tr>\n",
       "    <tr>\n",
       "      <th>28</th>\n",
       "      <td>1000.0</td>\n",
       "      <td>2009-07-14 14:29:59</td>\n",
       "      <td>0.079</td>\n",
       "      <td>0</td>\n",
       "    </tr>\n",
       "    <tr>\n",
       "      <th>29</th>\n",
       "      <td>1000.0</td>\n",
       "      <td>2009-07-14 14:59:59</td>\n",
       "      <td>0.119</td>\n",
       "      <td>0</td>\n",
       "    </tr>\n",
       "  </tbody>\n",
       "</table>\n",
       "</div>"
      ],
      "text/plain": [
       "    metre_id           timestamp    kwh  dayindex\n",
       "24    1000.0 2009-07-14 12:29:59  0.111         0\n",
       "25    1000.0 2009-07-14 12:59:59  0.030         0\n",
       "26    1000.0 2009-07-14 13:29:59  0.029         0\n",
       "27    1000.0 2009-07-14 13:59:59  0.029         0\n",
       "28    1000.0 2009-07-14 14:29:59  0.079         0\n",
       "29    1000.0 2009-07-14 14:59:59  0.119         0"
      ]
     },
     "execution_count": 18,
     "metadata": {},
     "output_type": "execute_result"
    }
   ],
   "source": [
    "df.iloc[24:30]"
   ]
  },
  {
   "cell_type": "markdown",
   "id": "0b5219f4-af5d-4732-a045-08dc5a2d3831",
   "metadata": {},
   "source": [
    "Borrow randomiser from https://discuss.pytorch.org/t/torch-equivalent-of-numpy-random-choice/16146"
   ]
  },
  {
   "cell_type": "code",
   "execution_count": 19,
   "id": "70cd3305-20d8-481e-8214-28a8d5940120",
   "metadata": {},
   "outputs": [],
   "source": [
    "# perm = torch.randperm(cern_tensor.size(0))\n",
    "# idx = perm[:5]\n",
    "# samples = tensor[idx]"
   ]
  },
  {
   "cell_type": "markdown",
   "id": "91722a08-c0ef-42eb-bb5c-d49c4c250325",
   "metadata": {},
   "source": [
    "**OKAY 25 AUGUST 2022**\n",
    "\n",
    "So...turns out I don't think we can have hybrid matricies. I believe that's what's resulting in our terrible training. Remove hybrid datasets."
   ]
  },
  {
   "cell_type": "code",
   "execution_count": null,
   "id": "0b153fb5-6edd-4ff8-bfa4-169c0df45401",
   "metadata": {},
   "outputs": [],
   "source": [
    "df.metre_id.unique()"
   ]
  },
  {
   "cell_type": "code",
   "execution_count": null,
   "id": "61f32b6f-4f42-4983-8e15-810b99a3ab72",
   "metadata": {},
   "outputs": [],
   "source": [
    "test_single = df[df['metre_id'] == 1210]"
   ]
  },
  {
   "cell_type": "code",
   "execution_count": null,
   "id": "8f25ecd3-05b9-4ef4-b1f6-ace625160722",
   "metadata": {},
   "outputs": [],
   "source": [
    "test_single_torch = torch.from_numpy(test_single.kwh.to_numpy())\n",
    "test_single_torch = test_single_torch.reshape(-1, 1, 48) # reshape into days"
   ]
  },
  {
   "cell_type": "code",
   "execution_count": null,
   "id": "65ef3ab8-978d-4d5b-bf9e-4213f1dd287d",
   "metadata": {},
   "outputs": [],
   "source": [
    "test_single_torch.shape"
   ]
  },
  {
   "cell_type": "code",
   "execution_count": null,
   "id": "d43880e5-bd9f-4b56-a26f-206bf0dcaa64",
   "metadata": {},
   "outputs": [],
   "source": [
    "min_test, _ = torch.min(test_single_torch, dim = 2, keepdim=True)\n",
    "max_test, _ = torch.max(test_single_torch, dim = 2, keepdim=True)"
   ]
  },
  {
   "cell_type": "code",
   "execution_count": null,
   "id": "7ca5fc0b-1fb9-42ef-9273-5aa4ccf4f27b",
   "metadata": {},
   "outputs": [],
   "source": [
    "min_test.shape"
   ]
  },
  {
   "cell_type": "code",
   "execution_count": null,
   "id": "c7653ce2-8d38-4c33-8325-2abb1d1970cd",
   "metadata": {},
   "outputs": [],
   "source": [
    "test_single_torch = (test_single_torch - min_test) / (max_test - min_test)"
   ]
  },
  {
   "cell_type": "code",
   "execution_count": null,
   "id": "c2f79b29-dbea-4caf-8013-5948fedac2ec",
   "metadata": {},
   "outputs": [],
   "source": [
    "test_single_torch = test_single_torch[:(test_single_torch.shape[0] // 12) * 12, :, :] # drop extra rows (cannot be used)\n",
    "test_single_torch = test_single_torch.reshape(-1, 12, 48)"
   ]
  },
  {
   "cell_type": "code",
   "execution_count": null,
   "id": "ff2dc6b7-ef87-4ee1-a52a-defeebcc5ac7",
   "metadata": {},
   "outputs": [],
   "source": [
    "test_single_torch.max()"
   ]
  },
  {
   "cell_type": "code",
   "execution_count": null,
   "id": "ab908aeb-d343-434e-804a-e4dbfa2d97e2",
   "metadata": {},
   "outputs": [],
   "source": [
    "test_single_torch.min()"
   ]
  },
  {
   "cell_type": "code",
   "execution_count": null,
   "id": "c3ffbc42-09a2-423c-9ba7-9a73d4dd0455",
   "metadata": {},
   "outputs": [],
   "source": [
    "test_multiple = df.copy()"
   ]
  },
  {
   "cell_type": "code",
   "execution_count": null,
   "id": "96874727-5419-472d-866a-6d5aaf79820f",
   "metadata": {},
   "outputs": [],
   "source": [
    "all_examples = torch.zeros(1, 12, 48)\n",
    "\n",
    "def extract_cern_examples(df, no_days = 12):\n",
    "    \n",
    "    meter_torch = torch.from_numpy(df.kwh.to_numpy())\n",
    "    meter_torch = meter_torch.reshape(-1, 1, 48) # reshape into days\n",
    "    \n",
    "    # min max normalize\n",
    "    min_meter_day, _ = torch.min(meter_torch, dim = 2, keepdim=True)\n",
    "    max_meter_day, _ = torch.max(meter_torch, dim = 2, keepdim=True)\n",
    "    meter_torch = (meter_torch - min_meter_day) / (max_meter_day - min_meter_day + 1e-12)\n",
    "    \n",
    "    meter_torch = meter_torch[:(meter_torch.shape[0] // no_days) * no_days, :, :] # drop extra rows (cannot be used)\n",
    "    meter_torch = meter_torch.reshape(-1, 12, 48)\n",
    "    \n",
    "    global all_examples\n",
    "    all_examples = torch.cat((all_examples, meter_torch))\n",
    "    \n",
    "    return None"
   ]
  },
  {
   "cell_type": "markdown",
   "id": "a5609510-9864-4867-9057-5e7ebdca659f",
   "metadata": {},
   "source": [
    "Must be more efficient non-Pandas (numpy or torch) way of doing this...\n",
    "\n",
    "TODO: get someone to check and revise this, this doesn't feel Pythonic nor does it feel efficient."
   ]
  },
  {
   "cell_type": "code",
   "execution_count": null,
   "id": "105c3f23-549f-4594-a2ca-d81dd2672502",
   "metadata": {},
   "outputs": [],
   "source": [
    "tqdm.pandas()\n",
    "test_multiple.groupby('metre_id').progress_apply(extract_cern_examples)"
   ]
  },
  {
   "cell_type": "code",
   "execution_count": null,
   "id": "b5f4d87e-7688-42b9-a436-918ea95d454a",
   "metadata": {},
   "outputs": [],
   "source": [
    "all_examples = all_examples[1:, :, :]"
   ]
  },
  {
   "cell_type": "code",
   "execution_count": null,
   "id": "b7a97f57-a1a6-425e-9c64-2fb80daa8898",
   "metadata": {},
   "outputs": [],
   "source": [
    "all_examples.shape"
   ]
  },
  {
   "cell_type": "code",
   "execution_count": null,
   "id": "3028c28a-0225-4328-90f2-4308fd3ee83f",
   "metadata": {},
   "outputs": [],
   "source": [
    "all_examples.reshape(-1, 48)[83686]"
   ]
  },
  {
   "cell_type": "code",
   "execution_count": null,
   "id": "c8afa725-4ce2-4a5b-a755-b07a7062d102",
   "metadata": {},
   "outputs": [],
   "source": [
    "all_examples.reshape(-1, 48)[83685]"
   ]
  },
  {
   "cell_type": "markdown",
   "id": "10b80ff0-0c0e-4f1b-adf3-7bc207466795",
   "metadata": {},
   "source": [
    "Now let's also create inputs for basic AE:"
   ]
  },
  {
   "cell_type": "code",
   "execution_count": null,
   "id": "87926035-ba10-4a00-bf38-9c68edc79c6f",
   "metadata": {},
   "outputs": [],
   "source": []
  },
  {
   "cell_type": "code",
   "execution_count": null,
   "id": "feb22eeb-0786-45b5-810e-93e5a40d564b",
   "metadata": {},
   "outputs": [],
   "source": [
    "test_fc = torch.from_numpy(df.kwh.to_numpy())\n",
    "\n",
    "test_fc = test_fc.reshape(-1, 48)\n",
    "\n",
    "min_meter_day, _ = torch.min(test_fc, dim = 1, keepdim=True)\n",
    "max_meter_day, _ = torch.max(test_fc, dim = 1, keepdim=True)\n",
    "test_fc = (test_fc - min_meter_day) / (max_meter_day - min_meter_day + 1e-12) # numerica stabilit\n",
    "\n",
    "test_fc.reshape()"
   ]
  },
  {
   "cell_type": "code",
   "execution_count": null,
   "id": "382d4b3d-780e-4560-9241-e70f33381f4d",
   "metadata": {},
   "outputs": [],
   "source": [
    "test_fc"
   ]
  },
  {
   "cell_type": "code",
   "execution_count": 24,
   "id": "44cdfcb4",
   "metadata": {},
   "outputs": [],
   "source": [
    "class CERN_Dataset_CNN(Dataset):\n",
    "\n",
    "    def __init__(self, folder_path: str ='../../dataset/interim/', mode: str = 'cnn', # Required arguments\n",
    "                 train: bool = True, no_days: int = 12, reshape_factor: int = 2, # CNN arguments\n",
    "                 fc_days = 1, # FC arguments\n",
    "                 N: int = None, seed: int = 0, eps: float = 1e-12): # Other arguments\n",
    "\n",
    "        \"\"\"\n",
    "        Custom dataset for CERN (Irish Dataset, 30 minute freq)\n",
    "        All Tensor operations performed on CPU as minor operations only\n",
    "        \n",
    "        Args:\n",
    "            folder_path (string): Directory with all the files (processed)\n",
    "            mode (string): Either 'cnn' for convolutional usage or 'fc' for basic AE usage.\n",
    "            train (bool): Determines whether training or test dataset to be used (already preprocessed to save time)\n",
    "            no_days (int, optional): Number of days (i.e., rows in the matrix example)\n",
    "            reshape_factor (int, optional): Used by the original authors to achieve a square tensor\n",
    "            N (int, optional): Select subset of examples\n",
    "            seed (int, optional): Set seed, mainly for shuffling\n",
    "            eps (float, optional): For numerical stability in min-max normalization.\n",
    "        \"\"\"\n",
    "        \n",
    "        # Set seed\n",
    "        torch.manual_seed(seed)\n",
    "        \n",
    "        # Activate tqdm for pandas and remember object variables\n",
    "        tqdm.pandas()\n",
    "        self.eps = eps\n",
    "        self.mode = mode\n",
    "        \n",
    "        if train:\n",
    "            file_path = folder_path + 'cern_train.csv'\n",
    "        else:\n",
    "            file_path = folder_path + 'cern_test.csv' # Note that this has all been directly preprocessed to reduce time spent reprocessing.\n",
    "\n",
    "        df = pd.read_csv(file_path)\n",
    "        \n",
    "        if mode == 'cnn':\n",
    "        \n",
    "            # Perform first reshape into Tensor of shape (no_examples, no_days, 48)\n",
    "            self.cern_data = self.preprocess_cern_cnn(df, no_days)\n",
    "\n",
    "\n",
    "            # Perform second reshape into Tensor of shape (no_examples, no_days * reshape_factor, 48 / reshape_factor)        \n",
    "            self.cern_data = self.cern_data.reshape(self.cern_data.size(0), self.cern_data.size(1) * reshape_factor,\n",
    "                                                    self.cern_data.size(2) // reshape_factor)\n",
    "\n",
    "            # If N is selected, pick random list\n",
    "            if N is not None:\n",
    "                if N > self.cern_data.shape[0]:\n",
    "                    raise ValueError(\"Cannot exceed dataset size of {}\".format(self.cern_data.size(0)))\n",
    "                else:\n",
    "                    # Permutation\n",
    "                    # perm = torch.randperm(self.cern_data.size(0))[:N]\n",
    "                    # self.cern_data = self.cern_data[perm, :, :]\n",
    "\n",
    "                    self.cern_data = self.cern_data[:N, :, :] # for debug purposes\n",
    "\n",
    "            # Unsqueeze channel 1 back out (1 filter)\n",
    "            self.cern_data = self.cern_data.unsqueeze(1)\n",
    "            \n",
    "        elif mode == 'fc':\n",
    "            \n",
    "            self.cern_data = self.preprocess_cern_fc(df, fc_days)\n",
    "            \n",
    "        else:\n",
    "            \n",
    "            raise ValueError(\"Mode must be 'cnn' or 'fc'.\")\n",
    "        \n",
    "    def __len__(self):\n",
    "        return self.cern_data.size(0)\n",
    "    \n",
    "    def preprocess_cern_fc(self, df, fc_days):\n",
    "        \n",
    "        return_torch = torch.zeros(1, fc_days * 48)\n",
    "        \n",
    "        def extract_cern_examples(subset_df, fc_days):\n",
    "            \n",
    "            \"\"\"\n",
    "            Nested function; group-by to modify nonlocal variable self.return_torch and attaches all modified examples.\n",
    "            \"\"\"\n",
    "    \n",
    "            meter_torch = torch.from_numpy(subset_df.kwh.to_numpy()).float() # conver to Tnesor\n",
    "            meter_torch = meter_torch.reshape(-1, 48) # reshape into days\n",
    "            \n",
    "            # Min max normalizes all tensors (will need to save these values realistically)\n",
    "            min_meter_day, _ = torch.min(meter_torch, dim = 1, keepdim=True)\n",
    "            max_meter_day, _ = torch.max(meter_torch, dim = 1, keepdim=True)\n",
    "            meter_torch = (meter_torch - min_meter_day) / (max_meter_day - min_meter_day + self.eps) # numerica stability\n",
    "            \n",
    "            meter_torch = meter_torch[:(meter_torch.shape[0] // fc_days) * fc_days, :] # drop extra rows (cannot be used)\n",
    "            meter_torch = meter_torch.reshape(-1, fc_days * 48) # reshape to daily form\n",
    "\n",
    "            nonlocal return_torch # binds to non-global variable, which will be in non-nested function\n",
    "            return_torch = torch.cat((return_torch, meter_torch))\n",
    "        \n",
    "        # nb: Below function does not need to be assigned, as effectively modifies return_torch inplace.\n",
    "        df.groupby('metre_id').progress_apply(extract_cern_examples, fc_days = fc_days)\n",
    "        \n",
    "        return return_torch[1:, :] # Removes first row of 0s\n",
    "    \n",
    "    def preprocess_cern_cnn(self, df, no_days):\n",
    "        \n",
    "        return_torch = torch.zeros(1, 12, 48)\n",
    "        \n",
    "        def extract_cern_examples(subset_df, no_days):\n",
    "            \n",
    "            \"\"\"\n",
    "            Nested function; group-by to modify nonlocal variable self.return_torch and attaches all modified examples.\n",
    "            \"\"\"\n",
    "    \n",
    "            meter_torch = torch.from_numpy(subset_df.kwh.to_numpy()).float() # conver to Tnesor\n",
    "            meter_torch = meter_torch.reshape(-1, 1, 48) # reshape into days\n",
    "            \n",
    "            # Min max normalizes all tensors (will need to save these values realistically)\n",
    "            min_meter_day, _ = torch.min(meter_torch, dim = 2, keepdim=True)\n",
    "            max_meter_day, _ = torch.max(meter_torch, dim = 2, keepdim=True)\n",
    "            meter_torch = (meter_torch - min_meter_day) / (max_meter_day - min_meter_day + self.eps) # numerica stability\n",
    "            \n",
    "            meter_torch = meter_torch[:(meter_torch.shape[0] // no_days) * no_days, :, :] # drop extra rows (cannot be used)\n",
    "            meter_torch = meter_torch.reshape(-1, no_days, 48) # reshape to 12 day form\n",
    "\n",
    "            nonlocal return_torch # binds to non-global variable, which will be in non-nested function\n",
    "            return_torch = torch.cat((return_torch, meter_torch))\n",
    "        \n",
    "        # nb: Below function does not need to be assigned, as effectively modifies return_torch inplace.\n",
    "        df.groupby('metre_id').progress_apply(extract_cern_examples, no_days = no_days)\n",
    "        \n",
    "        return return_torch[1:, :, :] # Removes first row of 0s\n",
    "\n",
    "    def __getitem__(self, idx):\n",
    "        \n",
    "        example = self.cern_data[idx]\n",
    "\n",
    "        return example"
   ]
  },
  {
   "cell_type": "markdown",
   "id": "74555bee-bad9-4bad-95ac-99b3c4ca32c5",
   "metadata": {},
   "source": [
    "Let's test the class"
   ]
  },
  {
   "cell_type": "code",
   "execution_count": 25,
   "id": "d561d687-7ba5-412f-ae74-94193173096b",
   "metadata": {},
   "outputs": [
    {
     "name": "stderr",
     "output_type": "stream",
     "text": [
      "100%|██████████| 4926/4926 [02:32<00:00, 32.29it/s]\n"
     ]
    }
   ],
   "source": [
    "my_dataset = CERN_Dataset_CNN(mode = 'fc', fc_days = 2)"
   ]
  },
  {
   "cell_type": "code",
   "execution_count": 26,
   "id": "b40e1960-b96d-4880-ba65-ecc590329027",
   "metadata": {},
   "outputs": [
    {
     "data": {
      "text/plain": [
       "1250400"
      ]
     },
     "execution_count": 26,
     "metadata": {},
     "output_type": "execute_result"
    }
   ],
   "source": [
    "len(my_dataset)"
   ]
  },
  {
   "cell_type": "code",
   "execution_count": 28,
   "id": "2f3f6622-5a45-4ca3-834b-d7199b382535",
   "metadata": {},
   "outputs": [
    {
     "data": {
      "text/plain": [
       "torch.Size([96])"
      ]
     },
     "execution_count": 28,
     "metadata": {},
     "output_type": "execute_result"
    }
   ],
   "source": [
    "my_dataset[4].shape"
   ]
  },
  {
   "cell_type": "markdown",
   "id": "31f58fb8-c8f1-4e74-b559-5040cd406b42",
   "metadata": {},
   "source": [
    "Let's test it in a dataloader"
   ]
  },
  {
   "cell_type": "code",
   "execution_count": null,
   "id": "480130d9-c9a8-4763-8c41-e74751503219",
   "metadata": {},
   "outputs": [],
   "source": [
    "from torch.utils.data import DataLoader"
   ]
  },
  {
   "cell_type": "code",
   "execution_count": null,
   "id": "69abf60a-d668-4d6b-8014-eb6288bbba1a",
   "metadata": {},
   "outputs": [],
   "source": [
    "my_dataloader = DataLoader(my_dataset, batch_size = 64)"
   ]
  },
  {
   "cell_type": "code",
   "execution_count": null,
   "id": "d3aa7f90-4b32-4300-b577-b2575c87d10b",
   "metadata": {},
   "outputs": [],
   "source": [
    "next(iter(my_dataloader)).shape"
   ]
  },
  {
   "cell_type": "markdown",
   "id": "e0e74207-d129-46d8-a637-e7d8560688f9",
   "metadata": {},
   "source": [
    "Let's visualise these for autocorrelations"
   ]
  },
  {
   "cell_type": "code",
   "execution_count": null,
   "id": "099a0f2c-9db2-4f02-abac-17b7f20b3f05",
   "metadata": {},
   "outputs": [],
   "source": [
    "import seaborn as sns"
   ]
  },
  {
   "cell_type": "code",
   "execution_count": null,
   "id": "034efda1-7333-48cd-9c29-a5e33962379e",
   "metadata": {},
   "outputs": [],
   "source": [
    "import random"
   ]
  },
  {
   "cell_type": "code",
   "execution_count": null,
   "id": "5142cd3a-c21a-4d1f-b843-3dcd940d4382",
   "metadata": {},
   "outputs": [],
   "source": [
    "random.randint(0, len(my_dataset))"
   ]
  },
  {
   "cell_type": "code",
   "execution_count": null,
   "id": "a738ca54-77bb-4841-879b-b6ebcdb5a918",
   "metadata": {},
   "outputs": [],
   "source": [
    "len(my_dataset)"
   ]
  },
  {
   "cell_type": "code",
   "execution_count": null,
   "id": "a7a2c97d-94fe-44c4-bbe1-45ff4819efa1",
   "metadata": {},
   "outputs": [],
   "source": [
    "df.loc[66*48*12:66*48*12+20]"
   ]
  },
  {
   "cell_type": "code",
   "execution_count": null,
   "id": "2aa2cb1a-f22d-4c73-ae6c-60acd7e4349e",
   "metadata": {},
   "outputs": [],
   "source": [
    "df.timestamp.min()"
   ]
  },
  {
   "cell_type": "code",
   "execution_count": null,
   "id": "dac690ff-8ac9-4f75-88b1-f50a031977ad",
   "metadata": {},
   "outputs": [],
   "source": [
    "df.timestamp.max()"
   ]
  },
  {
   "cell_type": "code",
   "execution_count": null,
   "id": "06d55019-3b0d-4115-ab6f-08aa043be03f",
   "metadata": {},
   "outputs": [],
   "source": [
    "1188026 / len(df)"
   ]
  },
  {
   "cell_type": "code",
   "execution_count": null,
   "id": "d66ba8df-4ea0-4a10-b854-0994511d165e",
   "metadata": {},
   "outputs": [],
   "source": [
    "fig, axes = plt.subplots(2, 2, figsize=(14,10))\n",
    "\n",
    "for i, ax in zip([64, 65, 66, 67], axes.reshape(-1)):\n",
    "    \n",
    "    sns.heatmap(my_dataset[i], ax=ax)\n",
    "    ax.set_title('id: {}'.format(i))\n",
    "    \n",
    "plt.show()"
   ]
  },
  {
   "cell_type": "code",
   "execution_count": null,
   "id": "ae051916-bd29-4156-ab2a-1a6f40bdb90b",
   "metadata": {},
   "outputs": [],
   "source": [
    "fig, axes = plt.subplots(2, 2, figsize=(14,10))\n",
    "\n",
    "for i, ax in zip([random.randint(0, len(my_dataset)) for i in range(4)], axes.reshape(-1)):\n",
    "    \n",
    "    sns.heatmap(my_dataset[i], ax=ax)\n",
    "    ax.set_title('id: {}'.format(i))\n",
    "    \n",
    "plt.show()"
   ]
  },
  {
   "cell_type": "markdown",
   "id": "8f4c957f-3364-45e5-bd11-8a2d198689b8",
   "metadata": {},
   "source": [
    "OKAY, experiment with this for now, but we **have to** come back and think about how we're stacking the days.\n",
    "\n",
    "Effectively right now, it's just meter id first, and then half days or whatever second, this is not the best way to do it."
   ]
  }
 ],
 "metadata": {
  "kernelspec": {
   "display_name": "Python 3 (ipykernel)",
   "language": "python",
   "name": "python3"
  },
  "language_info": {
   "codemirror_mode": {
    "name": "ipython",
    "version": 3
   },
   "file_extension": ".py",
   "mimetype": "text/x-python",
   "name": "python",
   "nbconvert_exporter": "python",
   "pygments_lexer": "ipython3",
   "version": "3.7.11"
  }
 },
 "nbformat": 4,
 "nbformat_minor": 5
}
