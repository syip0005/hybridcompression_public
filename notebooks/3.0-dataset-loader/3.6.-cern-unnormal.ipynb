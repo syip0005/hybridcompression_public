{
 "cells": [
  {
   "cell_type": "code",
   "execution_count": 2,
   "id": "455b6c13",
   "metadata": {},
   "outputs": [],
   "source": [
    "from doctest import Example\n",
    "import torch\n",
    "from torch.utils.data import Dataset\n",
    "import pandas as pd\n",
    "import numpy as np\n",
    "import logging, sys\n",
    "from tqdm import tqdm\n"
   ]
  },
  {
   "cell_type": "code",
   "execution_count": 82,
   "id": "c7c8ad86",
   "metadata": {},
   "outputs": [],
   "source": [
    "class CERN_Dataset_V3(Dataset):\n",
    "\n",
    "    \"\"\"\n",
    "    CERN PyTorch Dataset Class V3\n",
    "    Smaller dataset, and better cleaning. Consecutive days only.\n",
    "    No normalisation in preprocessing.\n",
    "\n",
    "    ...\n",
    "\n",
    "    Attributes\n",
    "    ----------\n",
    "    cern_data : Tensor\n",
    "        processed CERN data\n",
    "    cern_data_noisy : Tensor\n",
    "        noise-added CERN data\n",
    "    mode : str\n",
    "        method for which the CERN dataset has been processed ('fc' or 'cnn)\n",
    "\n",
    "    Methods\n",
    "    -------\n",
    "    preprocess_cern_fc()\n",
    "        Initialization process of dataset for 'fc' fully-connected mode\n",
    "    preprocess_cern_cnn()\n",
    "        Initialization process of dataset for 'cnn' convolutional neural network mode\n",
    "    \"\"\"\n",
    "\n",
    "    def __init__(self, folder_path: str ='../../dataset/interim/', mode: str = 'cnn', # Required arguments\n",
    "                 train: bool = True, no_days: int = 12, reshape_factor: int = 2, # CNN arguments\n",
    "                 N: int = None, seed: int = 0, eps: float = 1e-12,  # Other arguments\n",
    "                 noise_type: str = 'none', noise_pct: float = 0.9): # Noise arguments\n",
    "\n",
    "        \"\"\"\n",
    "        Parameters\n",
    "        ----------\n",
    "        folder_path : string\n",
    "                Directory with all the files (processed)\n",
    "        mode: string \n",
    "                Either 'cnn' for convolutional usage or 'fc' for basic AE usage.\n",
    "        train : bool\n",
    "                Determines whether training or test dataset to be used (already preprocessed to save time)\n",
    "        no_days : int (optional) \n",
    "                Number of days (i.e., rows in the matrix example)\n",
    "        reshape_factor : int (optional) \n",
    "                Used by the original authors to achieve a square tensor\n",
    "        N : int (optional) \n",
    "                Select subset of examples, AFTER reshaping.\n",
    "        seed : int (optional) \n",
    "                Set seed, mainly for shuffling\n",
    "        eps : float (optional) \n",
    "                For numerical stability in min-max normalization.\n",
    "        noise_type: bool (optional) ('gauss', 'speckle', None)\n",
    "                If, and what type, of noise to be added to dataset\n",
    "        noise_pct: float (optional)\n",
    "                Parameter controlling how much noise to add\n",
    "        \"\"\"\n",
    "        \n",
    "        # Set seed\n",
    "        torch.manual_seed(seed)\n",
    "        \n",
    "        # Activate tqdm for pandas and remember object variables\n",
    "        tqdm.pandas()\n",
    "        self.eps = eps\n",
    "        self.mode = mode\n",
    "        \n",
    "        if train:\n",
    "            file_path = folder_path + 'cern_train_unnormal.csv'\n",
    "        else:\n",
    "            file_path = folder_path + 'cern_test_unnormal.csv'\n",
    "\n",
    "        df = pd.read_csv(file_path)\n",
    "        \n",
    "        if mode == 'cnn':\n",
    "        \n",
    "            # Perform first reshape into Tensor of shape (no_examples, no_days, 48)\n",
    "            self.cern_data = self.preprocess_cern_cnn(df, no_days)\n",
    "\n",
    "\n",
    "            # Perform second reshape into Tensor of shape (no_examples, no_days * reshape_factor, 48 / reshape_factor)        \n",
    "            self.cern_data = self.cern_data.reshape(self.cern_data.size(0), self.cern_data.size(1) * reshape_factor,\n",
    "                                                    self.cern_data.size(2) // reshape_factor)\n",
    "\n",
    "            # Unsqueeze channel 1 back out (1 filter)\n",
    "            self.cern_data = self.cern_data.unsqueeze(1)\n",
    "            \n",
    "        elif mode == 'fc':\n",
    "            \n",
    "            self.cern_data = self.preprocess_cern_fc(df, no_days)\n",
    "            \n",
    "        else:\n",
    "            \n",
    "            raise ValueError(\"Mode must be 'cnn' or 'fc'.\")\n",
    "            \n",
    "        # If N is selected, pick random list\n",
    "        if N is not None:\n",
    "            if N > self.cern_data.shape[0]:\n",
    "                raise ValueError(\"Cannot exceed dataset size of {}\".format(self.cern_data.size(0)))\n",
    "            else:\n",
    "                # Permutation\n",
    "                # perm = torch.randperm(self.cern_data.size(0))[:N]\n",
    "                # self.cern_data = self.cern_data[perm, :, :]\n",
    "\n",
    "                self.cern_data = self.cern_data[:N] # for debug purposes # TODO: remove this\n",
    "\n",
    "        # Add noise to dataset\n",
    "        if noise_type == 'gauss':\n",
    "            # Add Gaussian noise\n",
    "            noise = torch.randn(self.cern_data.size()) * noise_pct\n",
    "            self.cern_data_noisy = self.cern_data + noise\n",
    "            # Clamp between 0 and 1 (same as real life)\n",
    "            self.cern_data_noisy = torch.clamp(self.cern_data_noisy, min = 0, max = 1)\n",
    "        elif noise_type == 'speckle':\n",
    "            raise NotImplementedError('Speckle noise not yet implemented')\n",
    "        elif noise_type == 'none':\n",
    "            self.cern_data_noisy = self.cern_data\n",
    "        else:\n",
    "            raise NotImplementedError('Noise selection has not been implemented.')\n",
    "            \n",
    "        # Min max normalise\n",
    "        if mode == 'cnn':\n",
    "            min_meter_day = torch.amin(self.cern_data, dim = (-1, -2), keepdim=True)\n",
    "            max_meter_day = torch.amax(self.cern_data, dim = (-1, -2), keepdim=True)\n",
    "            self.cern_data = (self.cern_data - min_meter_day) / (max_meter_day - min_meter_day) # numerica stability\n",
    "            min_meter_day = torch.amin(self.cern_data_noisy, dim = (-1, -2), keepdim=True)\n",
    "            max_meter_day = torch.amax(self.cern_data_noisy, dim = (-1, -2), keepdim=True)\n",
    "            self.cern_data_noisy = (self.cern_data_noisy - min_meter_day) / (max_meter_day - min_meter_day) # numerica stability\n",
    "        elif mode == 'fc':\n",
    "            min_meter_day = torch.amin(self.cern_data, dim = (-1), keepdim=True)\n",
    "            max_meter_day = torch.amax(self.cern_data, dim = (-1), keepdim=True)\n",
    "            self.cern_data = (self.cern_data - min_meter_day) / (max_meter_day - min_meter_day) # numerica stability\n",
    "            min_meter_day = torch.amin(self.cern_data_noisy, dim = (-1), keepdim=True)\n",
    "            max_meter_day = torch.amax(self.cern_data_noisy, dim = (-1), keepdim=True)\n",
    "            self.cern_data_noisy = (self.cern_data_noisy - min_meter_day) / (max_meter_day - min_meter_day) # numerica stability\n",
    "        else:\n",
    "            raise NotImplementedError('mode not implemented')\n",
    "\n",
    "    def __len__(self):\n",
    "        return self.cern_data.size(0)\n",
    "    \n",
    "    def preprocess_cern_fc(self, df, fc_days):\n",
    "        \n",
    "        return_torch = torch.zeros(1, fc_days * 48)\n",
    "        \n",
    "        def extract_cern_examples(subset_df, fc_days):\n",
    "            \n",
    "            \"\"\"\n",
    "            Nested function; group-by to modify nonlocal variable self.return_torch and attaches all modified examples.\n",
    "            \"\"\"\n",
    "    \n",
    "            meter_torch = torch.from_numpy(subset_df.kwh.to_numpy()).float() # conver to Tnesor\n",
    "            meter_torch = meter_torch.reshape(-1, 48) # reshape into days\n",
    "\n",
    "            assert meter_torch.shape[0] // (fc_days) != 0, \"not enough data for required shape\"\n",
    "            meter_torch = meter_torch[:(meter_torch.shape[0] // (fc_days)) * (fc_days), :] # drop extra rows (cannot be used)\n",
    "\n",
    "            meter_torch = meter_torch.reshape(-1, fc_days * 48) # reshape to daily form\n",
    "\n",
    "            nonlocal return_torch # binds to non-global variable, which will be in non-nested function\n",
    "            return_torch = torch.cat((return_torch, meter_torch))\n",
    "        \n",
    "        # nb: Below function does not need to be assigned, as effectively modifies return_torch inplace.\n",
    "        df.groupby('metre_id').progress_apply(extract_cern_examples, fc_days = fc_days)\n",
    "        \n",
    "        return return_torch[1:, :] # Removes first row of 0s\n",
    "    \n",
    "    def preprocess_cern_cnn(self, df, no_days):\n",
    "        \n",
    "        return_torch = torch.zeros(1, no_days, 48)\n",
    "        \n",
    "        def extract_cern_examples(subset_df, no_days):\n",
    "            \n",
    "            \"\"\"\n",
    "            Nested function; group-by to modify nonlocal variable self.return_torch and attaches all modified examples.\n",
    "            \"\"\"\n",
    "    \n",
    "            meter_torch = torch.from_numpy(subset_df.kwh.to_numpy()).float() # conver to Tnesor\n",
    "            meter_torch = meter_torch.reshape(-1, 1, 48) # reshape to 12 day form\n",
    "\n",
    "            assert meter_torch.shape[0] // no_days, \"not enough data for required shape\"\n",
    "            meter_torch = meter_torch[:(meter_torch.shape[0] // no_days) * no_days, :, :] # drop extra rows (cannot be used)\n",
    "\n",
    "            meter_torch = meter_torch.reshape(-1, no_days, 48)\n",
    "\n",
    "            nonlocal return_torch # binds to non-global variable, which will be in non-nested function\n",
    "            return_torch = torch.cat((return_torch, meter_torch))\n",
    "        \n",
    "        # nb: Below function does not need to be assigned, as effectively modifies return_torch inplace.\n",
    "        df.groupby('metre_id').progress_apply(extract_cern_examples, no_days = no_days)\n",
    "        \n",
    "        return return_torch[1:, :, :] # Removes first row of 0s\n",
    "    \n",
    "    def __getitem__(self, idx):\n",
    "        \n",
    "        example = self.cern_data[idx]\n",
    "        noisy_example = self.cern_data_noisy[idx]\n",
    "\n",
    "        return example, noisy_example"
   ]
  },
  {
   "cell_type": "code",
   "execution_count": 93,
   "id": "4ee07a8c",
   "metadata": {},
   "outputs": [
    {
     "name": "stderr",
     "output_type": "stream",
     "text": [
      "100%|███████████████████████████████████████| 200/200 [00:00<00:00, 4551.21it/s]\n",
      "100%|██████████████████████████████████████| 1800/1800 [00:02<00:00, 775.86it/s]\n"
     ]
    }
   ],
   "source": [
    "test_set = CERN_Dataset_V3(train=False, reshape_factor = 1, mode='cnn')\n",
    "train_set = CERN_Dataset_V3(train=True, reshape_factor = 1, mode='cnn')"
   ]
  },
  {
   "cell_type": "code",
   "execution_count": 94,
   "id": "f0a77cd4",
   "metadata": {},
   "outputs": [
    {
     "data": {
      "text/plain": [
       "torch.Size([9000, 1, 12, 48])"
      ]
     },
     "execution_count": 94,
     "metadata": {},
     "output_type": "execute_result"
    }
   ],
   "source": [
    "train_set.cern_data.shape"
   ]
  },
  {
   "cell_type": "code",
   "execution_count": 101,
   "id": "6be5942c",
   "metadata": {},
   "outputs": [
    {
     "data": {
      "text/plain": [
       "tensor(0.)"
      ]
     },
     "execution_count": 101,
     "metadata": {},
     "output_type": "execute_result"
    }
   ],
   "source": [
    "train_set[0][0].min()"
   ]
  },
  {
   "cell_type": "code",
   "execution_count": 95,
   "id": "0e7d9c85",
   "metadata": {},
   "outputs": [
    {
     "data": {
      "text/plain": [
       "tensor(0)"
      ]
     },
     "execution_count": 95,
     "metadata": {},
     "output_type": "execute_result"
    }
   ],
   "source": [
    "test_set.cern_data.isnan().sum()"
   ]
  },
  {
   "cell_type": "code",
   "execution_count": 96,
   "id": "714a692c",
   "metadata": {},
   "outputs": [
    {
     "data": {
      "text/plain": [
       "tensor(0)"
      ]
     },
     "execution_count": 96,
     "metadata": {},
     "output_type": "execute_result"
    }
   ],
   "source": [
    "train_set.cern_data.isnan().sum()"
   ]
  },
  {
   "cell_type": "code",
   "execution_count": null,
   "id": "63d100bb",
   "metadata": {},
   "outputs": [],
   "source": []
  }
 ],
 "metadata": {
  "kernelspec": {
   "display_name": "Python 3 (ipykernel)",
   "language": "python",
   "name": "python3"
  },
  "language_info": {
   "codemirror_mode": {
    "name": "ipython",
    "version": 3
   },
   "file_extension": ".py",
   "mimetype": "text/x-python",
   "name": "python",
   "nbconvert_exporter": "python",
   "pygments_lexer": "ipython3",
   "version": "3.7.11"
  }
 },
 "nbformat": 4,
 "nbformat_minor": 5
}
