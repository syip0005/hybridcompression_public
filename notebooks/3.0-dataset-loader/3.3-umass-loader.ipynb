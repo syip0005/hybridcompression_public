{
 "cells": [
  {
   "cell_type": "code",
   "execution_count": 2,
   "id": "3d30dac7",
   "metadata": {},
   "outputs": [],
   "source": [
    "from doctest import Example\n",
    "import torch\n",
    "from torch.utils.data import Dataset\n",
    "import pandas as pd\n",
    "import numpy as np\n",
    "import logging, sys\n",
    "from tqdm import tqdm"
   ]
  },
  {
   "cell_type": "code",
   "execution_count": 27,
   "id": "070d3bda",
   "metadata": {},
   "outputs": [],
   "source": [
    "class UMASS_Dataset_V2(Dataset):\n",
    "\n",
    "    \"\"\"\n",
    "    UMASS PyTorch Dataset Class\n",
    "    Unnormalised at preprocessing. Normalise here.\n",
    "\n",
    "    ...\n",
    "\n",
    "    Attributes\n",
    "    ----------\n",
    "    umass_data : Tensor\n",
    "        processed umass data\n",
    "    umass_data_noisy : Tensor\n",
    "        noise-added umass data\n",
    "    mode : str\n",
    "        method for which the umass dataset has been processed ('fc' or 'cnn)\n",
    "\n",
    "    Methods\n",
    "    -------\n",
    "    preprocess_umass_fc()\n",
    "        Initialization process of dataset for 'fc' fully-connected mode\n",
    "    preprocess_umass_cnn()\n",
    "        Initialization process of dataset for 'cnn' convolutional neural network mode\n",
    "    \"\"\"\n",
    "\n",
    "    def __init__(self, folder_path: str ='../../dataset/interim/', mode: str = 'cnn', # Required arguments\n",
    "                 train: bool = True, no_days: int = 12, reshape_factor: int = 2, # CNN arguments\n",
    "                 N: int = None, seed: int = 0, eps: float = 1e-12,  # Other arguments\n",
    "                 noise_type: str = 'none', noise_pct: float = 0.9): # Noise arguments\n",
    "\n",
    "        \"\"\"\n",
    "        Parameters\n",
    "        ----------\n",
    "        folder_path : string\n",
    "                Directory with all the files (processed)\n",
    "        mode: string \n",
    "                Either 'cnn' for convolutional usage or 'fc' for basic AE usage.\n",
    "        train : bool\n",
    "                Determines whether training or test dataset to be used (already preprocessed to save time)\n",
    "        no_days : int (optional) \n",
    "                Number of days (i.e., rows in the matrix example)\n",
    "        reshape_factor : int (optional) \n",
    "                Used by the original authors to achieve a square tensor\n",
    "        N : int (optional) \n",
    "                Select subset of examples, AFTER reshaping.\n",
    "        seed : int (optional) \n",
    "                Set seed, mainly for shuffling\n",
    "        eps : float (optional) \n",
    "                For numerical stability in min-max normalization.\n",
    "        noise_type: bool (optional) ('gauss', 'speckle', None)\n",
    "                If, and what type, of noise to be added to dataset\n",
    "        noise_pct: float (optional)\n",
    "                Parameter controlling how much noise to add\n",
    "        \"\"\"\n",
    "        \n",
    "        # Set seed\n",
    "        torch.manual_seed(seed)\n",
    "        \n",
    "        # Activate tqdm for pandas and remember object variables\n",
    "        tqdm.pandas()\n",
    "        self.eps = eps\n",
    "        self.mode = mode\n",
    "        \n",
    "        if train:\n",
    "            file_path = folder_path + 'umass_train_unnormal.csv'\n",
    "        else:\n",
    "            file_path = folder_path + 'umass_test_unnormal.csv' # Note that this has all been directly preprocessed to reduce time spent reprocessing.\n",
    "\n",
    "        df = pd.read_csv(file_path)\n",
    "        \n",
    "        if mode == 'cnn':\n",
    "        \n",
    "            # Perform first reshape into Tensor of shape (no_examples, no_days, 48)\n",
    "            self.umass_data = self.preprocess_umass_cnn(df, no_days)\n",
    "\n",
    "\n",
    "            # Perform second reshape into Tensor of shape (no_examples, no_days * reshape_factor, 48 / reshape_factor)        \n",
    "            self.umass_data = self.umass_data.reshape(self.umass_data.size(0), self.umass_data.size(1) * reshape_factor,\n",
    "                                                    self.umass_data.size(2) // reshape_factor)\n",
    "\n",
    "            # Unsqueeze channel 1 back out (1 filter)\n",
    "            self.umass_data = self.umass_data.unsqueeze(1)\n",
    "            \n",
    "        elif mode == 'fc':\n",
    "            \n",
    "            self.umass_data = self.preprocess_umass_fc(df, no_days)\n",
    "            \n",
    "        else:\n",
    "            \n",
    "            raise ValueError(\"Mode must be 'cnn' or 'fc'.\")\n",
    "            \n",
    "        # If N is selected, pick random list\n",
    "        if N is not None:\n",
    "            if N > self.umass_data.shape[0]:\n",
    "                raise ValueError(\"Cannot exceed dataset size of {}\".format(self.umass_data.size(0)))\n",
    "            else:\n",
    "                # Permutation\n",
    "                # perm = torch.randperm(self.umass_data.size(0))[:N]\n",
    "                # self.umass_data = self.umass_data[perm, :, :]\n",
    "\n",
    "                self.umass_data = self.umass_data[:N] # for debug purposes # TODO: remove this\n",
    "                \n",
    "        # Add noise to dataset\n",
    "        if noise_type == 'gauss':\n",
    "            # Add Gaussian noise\n",
    "            noise = torch.randn(self.umass_data.size()) * noise_pct\n",
    "            self.umass_data_noisy = self.umass_data + noise\n",
    "            # Clamp between 0 and 1 (same as real life)\n",
    "            self.umass_data_noisy = torch.clamp(self.umass_data_noisy, min = 0, max = 1)\n",
    "        elif noise_type == 'speckle':\n",
    "            raise NotImplementedError('Speckle noise not yet implemented')\n",
    "        elif noise_type == 'none':\n",
    "            self.umass_data_noisy = self.umass_data\n",
    "        else:\n",
    "            raise NotImplementedError('Noise selection has not been implemented.')\n",
    "            \n",
    "        # Min max normalise\n",
    "        if mode == 'cnn':\n",
    "            min_meter_day = torch.amin(self.umass_data, dim = (-1, -2), keepdim=True)\n",
    "            max_meter_day = torch.amax(self.umass_data, dim = (-1, -2), keepdim=True)\n",
    "            self.umass_data = (self.umass_data - min_meter_day) / (max_meter_day - min_meter_day) # numerica stability\n",
    "            min_meter_day = torch.amin(self.umass_data_noisy, dim = (-1, -2), keepdim=True)\n",
    "            max_meter_day = torch.amax(self.umass_data_noisy, dim = (-1, -2), keepdim=True)\n",
    "            self.umass_data_noisy = (self.umass_data_noisy - min_meter_day) / (max_meter_day - min_meter_day) # numerica stability\n",
    "        elif mode == 'fc':\n",
    "            min_meter_day = torch.amin(self.umass_data, dim = (-1), keepdim=True)\n",
    "            max_meter_day = torch.amax(self.umass_data, dim = (-1), keepdim=True)\n",
    "            self.umass_data = (self.umass_data - min_meter_day) / (max_meter_day - min_meter_day) # numerica stability\n",
    "            min_meter_day = torch.amin(self.umass_data_noisy, dim = (-1), keepdim=True)\n",
    "            max_meter_day = torch.amax(self.umass_data_noisy, dim = (-1), keepdim=True)\n",
    "            self.umass_data_noisy = (self.umass_data_noisy - min_meter_day) / (max_meter_day - min_meter_day) # numerica stability\n",
    "        else:\n",
    "            raise NotImplementedError('mode not implemented')\n",
    "\n",
    "\n",
    "    def __len__(self):\n",
    "        return self.umass_data.size(0)\n",
    "    \n",
    "    def preprocess_umass_fc(self, df, fc_days):\n",
    "        \n",
    "        return_torch = torch.zeros(1, fc_days * 96)\n",
    "        \n",
    "        def extract_umass_examples(subset_df, fc_days):\n",
    "            \n",
    "            \"\"\"\n",
    "            Nested function; group-by to modify nonlocal variable self.return_torch and attaches all modified examples.\n",
    "            \"\"\"\n",
    "    \n",
    "            meter_torch = torch.from_numpy(subset_df.kwh.to_numpy()).float() # conver to Tnesor\n",
    "            meter_torch = meter_torch.reshape(-1, 96) # reshape into days\n",
    "            \n",
    "            assert meter_torch.shape[0] // (fc_days) != 0, \"not enough data for required shape\"\n",
    "            meter_torch = meter_torch[:(meter_torch.shape[0] // (fc_days)) * (fc_days), :] # drop extra rows (cannot be used)\n",
    "\n",
    "            meter_torch = meter_torch.reshape(-1, fc_days * 96) # reshape to daily form\n",
    "\n",
    "            nonlocal return_torch # binds to non-global variable, which will be in non-nested function\n",
    "            return_torch = torch.cat((return_torch, meter_torch))\n",
    "        \n",
    "        # nb: Below function does not need to be assigned, as effectively modifies return_torch inplace.\n",
    "        df.groupby('house').progress_apply(extract_umass_examples, fc_days = fc_days)\n",
    "        \n",
    "        return return_torch[1:, :] # Removes first row of 0s\n",
    "    \n",
    "    def preprocess_umass_cnn(self, df, no_days):\n",
    "        \n",
    "        return_torch = torch.zeros(1, no_days, 96)\n",
    "        \n",
    "        def extract_umass_examples(subset_df, no_days):\n",
    "            \n",
    "            \"\"\"\n",
    "            Nested function; group-by to modify nonlocal variable self.return_torch and attaches all modified examples.\n",
    "            \"\"\"\n",
    "    \n",
    "            meter_torch = torch.from_numpy(subset_df.kwh.to_numpy()).float() # conver to Tnesor\n",
    "            meter_torch = meter_torch.reshape(-1, 1, 96) # reshape into days\n",
    "            \n",
    "            assert meter_torch.shape[0] // no_days != 0, \"not enough data for required shape\"\n",
    "            meter_torch = meter_torch[:(meter_torch.shape[0] // no_days) * no_days, :, :] # drop extra rows (cannot be used)\n",
    "\n",
    "            meter_torch = meter_torch.reshape(-1, no_days, 96) # reshape to 12 day form\n",
    "\n",
    "            nonlocal return_torch # binds to non-global variable, which will be in non-nested function\n",
    "            return_torch = torch.cat((return_torch, meter_torch))\n",
    "        \n",
    "        # nb: Below function does not need to be assigned, as effectively modifies return_torch inplace.\n",
    "        df.groupby('house').progress_apply(extract_umass_examples, no_days = no_days)\n",
    "        \n",
    "        return return_torch[1:, :, :] # Removes first row of 0s\n",
    "    \n",
    "\n",
    "    def __getitem__(self, idx):\n",
    "        \n",
    "        example = self.umass_data[idx]\n",
    "        noisy_example = self.umass_data_noisy[idx]\n",
    "\n",
    "        return example, noisy_example"
   ]
  },
  {
   "cell_type": "code",
   "execution_count": 28,
   "id": "577c26ad",
   "metadata": {},
   "outputs": [
    {
     "name": "stderr",
     "output_type": "stream",
     "text": [
      "100%|█████████████████████████████████████████| 10/10 [00:00<00:00, 1975.56it/s]\n",
      "100%|█████████████████████████████████████████| 90/90 [00:00<00:00, 2585.90it/s]\n"
     ]
    }
   ],
   "source": [
    "test_set = UMASS_Dataset_V2(train=False, reshape_factor = 1)\n",
    "train_set = UMASS_Dataset_V2(train=True, reshape_factor = 1)"
   ]
  },
  {
   "cell_type": "code",
   "execution_count": 32,
   "id": "797fdb3e",
   "metadata": {},
   "outputs": [
    {
     "data": {
      "text/plain": [
       "tensor(1.)"
      ]
     },
     "execution_count": 32,
     "metadata": {},
     "output_type": "execute_result"
    }
   ],
   "source": [
    "train_set[2][0].max()"
   ]
  },
  {
   "cell_type": "code",
   "execution_count": 29,
   "id": "fc0d99e6",
   "metadata": {},
   "outputs": [
    {
     "data": {
      "text/plain": [
       "tensor(0)"
      ]
     },
     "execution_count": 29,
     "metadata": {},
     "output_type": "execute_result"
    }
   ],
   "source": [
    "train_set.umass_data.isnan().sum()"
   ]
  },
  {
   "cell_type": "code",
   "execution_count": 30,
   "id": "1ccb7e01",
   "metadata": {},
   "outputs": [
    {
     "data": {
      "text/plain": [
       "tensor(0)"
      ]
     },
     "execution_count": 30,
     "metadata": {},
     "output_type": "execute_result"
    }
   ],
   "source": [
    "test_set.umass_data.isnan().sum()"
   ]
  },
  {
   "cell_type": "code",
   "execution_count": null,
   "id": "a049d4cb",
   "metadata": {},
   "outputs": [],
   "source": []
  }
 ],
 "metadata": {
  "kernelspec": {
   "display_name": "Python 3 (ipykernel)",
   "language": "python",
   "name": "python3"
  },
  "language_info": {
   "codemirror_mode": {
    "name": "ipython",
    "version": 3
   },
   "file_extension": ".py",
   "mimetype": "text/x-python",
   "name": "python",
   "nbconvert_exporter": "python",
   "pygments_lexer": "ipython3",
   "version": "3.7.11"
  },
  "vscode": {
   "interpreter": {
    "hash": "57c75e9c7f6dc0ec97b4ebaf3e72614bda6597de5028317b9279de4cc952c9b6"
   }
  }
 },
 "nbformat": 4,
 "nbformat_minor": 5
}
